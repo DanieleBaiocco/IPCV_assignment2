{
  "cells": [
    {
      "cell_type": "markdown",
      "metadata": {
        "id": "view-in-github"
      },
      "source": [
        "<a href=\"https://colab.research.google.com/github/DanieleBaiocco/IPCV_assignment2/blob/main/assignment_2.ipynb\" target=\"_parent\"><img src=\"https://colab.research.google.com/assets/colab-badge.svg\" alt=\"Open In Colab\"/></a>"
      ]
    },
    {
      "cell_type": "markdown",
      "metadata": {
        "id": "MNBgGYg_lpVN"
      },
      "source": [
        "# Assignment Module 2: Product Classification\n",
        "\n",
        "The goal of this assignment is to implement a neural network that classifies smartphone pictures of products found in grocery stores. The assignment will be divided into two parts: first, you will be asked to implement from scratch your own neural network for image classification; then, you will fine-tune a pretrained network provided by PyTorch.\n"
      ]
    },
    {
      "cell_type": "markdown",
      "metadata": {
        "id": "dVTQUJ4uYH1w"
      },
      "source": [
        "## Preliminaries: the dataset\n",
        "\n",
        "The dataset you will be using contains natural images of products taken with a smartphone camera in different grocery stores:\n",
        "\n",
        "<p align=\"center\">\n",
        "  <img src=\"https://github.com/marcusklasson/GroceryStoreDataset/raw/master/sample_images/natural/Granny-Smith.jpg\" width=\"150\">\n",
        "  <img src=\"https://github.com/marcusklasson/GroceryStoreDataset/raw/master/sample_images/natural/Pink-Lady.jpg\" width=\"150\">\n",
        "  <img src=\"https://github.com/marcusklasson/GroceryStoreDataset/raw/master/sample_images/natural/Lemon.jpg\" width=\"150\">\n",
        "  <img src=\"https://github.com/marcusklasson/GroceryStoreDataset/raw/master/sample_images/natural/Banana.jpg\" width=\"150\">\n",
        "  <img src=\"https://github.com/marcusklasson/GroceryStoreDataset/raw/master/sample_images/natural/Vine-Tomato.jpg\" width=\"150\">\n",
        "</p>\n",
        "<p align=\"center\">\n",
        "  <img src=\"https://github.com/marcusklasson/GroceryStoreDataset/raw/master/sample_images/natural/Yellow-Onion.jpg\" width=\"150\">\n",
        "  <img src=\"https://github.com/marcusklasson/GroceryStoreDataset/raw/master/sample_images/natural/Green-Bell-Pepper.jpg\" width=\"150\">\n",
        "  <img src=\"https://github.com/marcusklasson/GroceryStoreDataset/raw/master/sample_images/natural/Arla-Standard-Milk.jpg\" width=\"150\">\n",
        "  <img src=\"https://github.com/marcusklasson/GroceryStoreDataset/raw/master/sample_images/natural/Oatly-Natural-Oatghurt.jpg\" width=\"150\">\n",
        "  <img src=\"https://github.com/marcusklasson/GroceryStoreDataset/raw/master/sample_images/natural/Alpro-Fresh-Soy-Milk.jpg\" width=\"150\">\n",
        "</p>\n",
        "\n",
        "The products belong to the following 43 classes:\n",
        "```\n",
        "0.  Apple\n",
        "1.  Avocado\n",
        "2.  Banana\n",
        "3.  Kiwi\n",
        "4.  Lemon\n",
        "5.  Lime\n",
        "6.  Mango\n",
        "7.  Melon\n",
        "8.  Nectarine\n",
        "9.  Orange\n",
        "10. Papaya\n",
        "11. Passion-Fruit\n",
        "12. Peach\n",
        "13. Pear\n",
        "14. Pineapple\n",
        "15. Plum\n",
        "16. Pomegranate\n",
        "17. Red-Grapefruit\n",
        "18. Satsumas\n",
        "19. Juice\n",
        "20. Milk\n",
        "21. Oatghurt\n",
        "22. Oat-Milk\n",
        "23. Sour-Cream\n",
        "24. Sour-Milk\n",
        "25. Soyghurt\n",
        "26. Soy-Milk\n",
        "27. Yoghurt\n",
        "28. Asparagus\n",
        "29. Aubergine\n",
        "30. Cabbage\n",
        "31. Carrots\n",
        "32. Cucumber\n",
        "33. Garlic\n",
        "34. Ginger\n",
        "35. Leek\n",
        "36. Mushroom\n",
        "37. Onion\n",
        "38. Pepper\n",
        "39. Potato\n",
        "40. Red-Beet\n",
        "41. Tomato\n",
        "42. Zucchini\n",
        "```\n",
        "\n",
        "The dataset is split into training (`train`), validation (`val`), and test (`test`) set."
      ]
    },
    {
      "cell_type": "markdown",
      "metadata": {
        "id": "1pdrmJRnJPd8"
      },
      "source": [
        "The following code cells download the dataset and define a `torch.utils.data.Dataset` class to access it. This `Dataset` class will be the starting point of your assignment: use it in your own code and build everything else around it."
      ]
    },
    {
      "cell_type": "code",
      "execution_count": 1,
      "metadata": {
        "id": "POMX_3x-_bZI",
        "colab": {
          "base_uri": "https://localhost:8080/"
        },
        "outputId": "94dbc529-b49d-48f6-eb4d-4c1ae4553644"
      },
      "outputs": [
        {
          "output_type": "stream",
          "name": "stdout",
          "text": [
            "Cloning into 'GroceryStoreDataset'...\n",
            "remote: Enumerating objects: 6559, done.\u001b[K\n",
            "remote: Counting objects: 100% (266/266), done.\u001b[K\n",
            "remote: Compressing objects: 100% (231/231), done.\u001b[K\n",
            "remote: Total 6559 (delta 45), reused 35 (delta 35), pack-reused 6293\u001b[K\n",
            "Receiving objects: 100% (6559/6559), 116.26 MiB | 16.44 MiB/s, done.\n",
            "Resolving deltas: 100% (275/275), done.\n",
            "Updating files: 100% (5717/5717), done.\n"
          ]
        }
      ],
      "source": [
        "!git clone https://github.com/marcusklasson/GroceryStoreDataset.git"
      ]
    },
    {
      "cell_type": "code",
      "source": [
        "!pip install torchmetrics"
      ],
      "metadata": {
        "colab": {
          "base_uri": "https://localhost:8080/"
        },
        "id": "Q27WUuDiQCmn",
        "outputId": "45af35b8-5a67-4450-dc5e-ad2703d01981"
      },
      "execution_count": 2,
      "outputs": [
        {
          "output_type": "stream",
          "name": "stdout",
          "text": [
            "Collecting torchmetrics\n",
            "  Downloading torchmetrics-1.4.0.post0-py3-none-any.whl (868 kB)\n",
            "\u001b[2K     \u001b[90m━━━━━━━━━━━━━━━━━━━━━━━━━━━━━━━━━━━━━━━━\u001b[0m \u001b[32m868.8/868.8 kB\u001b[0m \u001b[31m7.9 MB/s\u001b[0m eta \u001b[36m0:00:00\u001b[0m\n",
            "\u001b[?25hRequirement already satisfied: numpy>1.20.0 in /usr/local/lib/python3.10/dist-packages (from torchmetrics) (1.25.2)\n",
            "Requirement already satisfied: packaging>17.1 in /usr/local/lib/python3.10/dist-packages (from torchmetrics) (24.1)\n",
            "Requirement already satisfied: torch>=1.10.0 in /usr/local/lib/python3.10/dist-packages (from torchmetrics) (2.3.0+cu121)\n",
            "Collecting lightning-utilities>=0.8.0 (from torchmetrics)\n",
            "  Downloading lightning_utilities-0.11.3.post0-py3-none-any.whl (26 kB)\n",
            "Requirement already satisfied: setuptools in /usr/local/lib/python3.10/dist-packages (from lightning-utilities>=0.8.0->torchmetrics) (67.7.2)\n",
            "Requirement already satisfied: typing-extensions in /usr/local/lib/python3.10/dist-packages (from lightning-utilities>=0.8.0->torchmetrics) (4.12.2)\n",
            "Requirement already satisfied: filelock in /usr/local/lib/python3.10/dist-packages (from torch>=1.10.0->torchmetrics) (3.15.4)\n",
            "Requirement already satisfied: sympy in /usr/local/lib/python3.10/dist-packages (from torch>=1.10.0->torchmetrics) (1.12.1)\n",
            "Requirement already satisfied: networkx in /usr/local/lib/python3.10/dist-packages (from torch>=1.10.0->torchmetrics) (3.3)\n",
            "Requirement already satisfied: jinja2 in /usr/local/lib/python3.10/dist-packages (from torch>=1.10.0->torchmetrics) (3.1.4)\n",
            "Requirement already satisfied: fsspec in /usr/local/lib/python3.10/dist-packages (from torch>=1.10.0->torchmetrics) (2023.6.0)\n",
            "Collecting nvidia-cuda-nvrtc-cu12==12.1.105 (from torch>=1.10.0->torchmetrics)\n",
            "  Using cached nvidia_cuda_nvrtc_cu12-12.1.105-py3-none-manylinux1_x86_64.whl (23.7 MB)\n",
            "Collecting nvidia-cuda-runtime-cu12==12.1.105 (from torch>=1.10.0->torchmetrics)\n",
            "  Using cached nvidia_cuda_runtime_cu12-12.1.105-py3-none-manylinux1_x86_64.whl (823 kB)\n",
            "Collecting nvidia-cuda-cupti-cu12==12.1.105 (from torch>=1.10.0->torchmetrics)\n",
            "  Using cached nvidia_cuda_cupti_cu12-12.1.105-py3-none-manylinux1_x86_64.whl (14.1 MB)\n",
            "Collecting nvidia-cudnn-cu12==8.9.2.26 (from torch>=1.10.0->torchmetrics)\n",
            "  Using cached nvidia_cudnn_cu12-8.9.2.26-py3-none-manylinux1_x86_64.whl (731.7 MB)\n",
            "Collecting nvidia-cublas-cu12==12.1.3.1 (from torch>=1.10.0->torchmetrics)\n",
            "  Using cached nvidia_cublas_cu12-12.1.3.1-py3-none-manylinux1_x86_64.whl (410.6 MB)\n",
            "Collecting nvidia-cufft-cu12==11.0.2.54 (from torch>=1.10.0->torchmetrics)\n",
            "  Using cached nvidia_cufft_cu12-11.0.2.54-py3-none-manylinux1_x86_64.whl (121.6 MB)\n",
            "Collecting nvidia-curand-cu12==10.3.2.106 (from torch>=1.10.0->torchmetrics)\n",
            "  Using cached nvidia_curand_cu12-10.3.2.106-py3-none-manylinux1_x86_64.whl (56.5 MB)\n",
            "Collecting nvidia-cusolver-cu12==11.4.5.107 (from torch>=1.10.0->torchmetrics)\n",
            "  Using cached nvidia_cusolver_cu12-11.4.5.107-py3-none-manylinux1_x86_64.whl (124.2 MB)\n",
            "Collecting nvidia-cusparse-cu12==12.1.0.106 (from torch>=1.10.0->torchmetrics)\n",
            "  Using cached nvidia_cusparse_cu12-12.1.0.106-py3-none-manylinux1_x86_64.whl (196.0 MB)\n",
            "Collecting nvidia-nccl-cu12==2.20.5 (from torch>=1.10.0->torchmetrics)\n",
            "  Using cached nvidia_nccl_cu12-2.20.5-py3-none-manylinux2014_x86_64.whl (176.2 MB)\n",
            "Collecting nvidia-nvtx-cu12==12.1.105 (from torch>=1.10.0->torchmetrics)\n",
            "  Using cached nvidia_nvtx_cu12-12.1.105-py3-none-manylinux1_x86_64.whl (99 kB)\n",
            "Requirement already satisfied: triton==2.3.0 in /usr/local/lib/python3.10/dist-packages (from torch>=1.10.0->torchmetrics) (2.3.0)\n",
            "Collecting nvidia-nvjitlink-cu12 (from nvidia-cusolver-cu12==11.4.5.107->torch>=1.10.0->torchmetrics)\n",
            "  Downloading nvidia_nvjitlink_cu12-12.5.82-py3-none-manylinux2014_x86_64.whl (21.3 MB)\n",
            "\u001b[2K     \u001b[90m━━━━━━━━━━━━━━━━━━━━━━━━━━━━━━━━━━━━━━━━\u001b[0m \u001b[32m21.3/21.3 MB\u001b[0m \u001b[31m57.9 MB/s\u001b[0m eta \u001b[36m0:00:00\u001b[0m\n",
            "\u001b[?25hRequirement already satisfied: MarkupSafe>=2.0 in /usr/local/lib/python3.10/dist-packages (from jinja2->torch>=1.10.0->torchmetrics) (2.1.5)\n",
            "Requirement already satisfied: mpmath<1.4.0,>=1.1.0 in /usr/local/lib/python3.10/dist-packages (from sympy->torch>=1.10.0->torchmetrics) (1.3.0)\n",
            "Installing collected packages: nvidia-nvtx-cu12, nvidia-nvjitlink-cu12, nvidia-nccl-cu12, nvidia-curand-cu12, nvidia-cufft-cu12, nvidia-cuda-runtime-cu12, nvidia-cuda-nvrtc-cu12, nvidia-cuda-cupti-cu12, nvidia-cublas-cu12, lightning-utilities, nvidia-cusparse-cu12, nvidia-cudnn-cu12, nvidia-cusolver-cu12, torchmetrics\n",
            "Successfully installed lightning-utilities-0.11.3.post0 nvidia-cublas-cu12-12.1.3.1 nvidia-cuda-cupti-cu12-12.1.105 nvidia-cuda-nvrtc-cu12-12.1.105 nvidia-cuda-runtime-cu12-12.1.105 nvidia-cudnn-cu12-8.9.2.26 nvidia-cufft-cu12-11.0.2.54 nvidia-curand-cu12-10.3.2.106 nvidia-cusolver-cu12-11.4.5.107 nvidia-cusparse-cu12-12.1.0.106 nvidia-nccl-cu12-2.20.5 nvidia-nvjitlink-cu12-12.5.82 nvidia-nvtx-cu12-12.1.105 torchmetrics-1.4.0.post0\n"
          ]
        }
      ]
    },
    {
      "cell_type": "code",
      "execution_count": 190,
      "metadata": {
        "id": "hiF8xGEYlsu8"
      },
      "outputs": [],
      "source": [
        "from pathlib import Path\n",
        "from PIL import Image\n",
        "import PIL\n",
        "import torch\n",
        "from torch import Tensor\n",
        "from torch.utils.data import Dataset, DataLoader\n",
        "from typing import List, Tuple, Callable, Optional\n",
        "import torchvision.transforms as transforms\n",
        "import torch.optim as optim\n",
        "from tqdm import tqdm\n",
        "import torchmetrics\n",
        "from torchsummary import summary\n",
        "import numpy as np\n",
        "import random\n",
        "import torchvision"
      ]
    },
    {
      "cell_type": "code",
      "execution_count": 101,
      "metadata": {
        "id": "jROSO2qVDxdD"
      },
      "outputs": [],
      "source": [
        "class GroceryStoreDataset(Dataset):\n",
        "\n",
        "    def __init__(self, split: str, transform: Callable[[PIL.Image.Image], Tensor]) -> None:\n",
        "        super().__init__()\n",
        "        self.root = Path(\"GroceryStoreDataset/dataset\")\n",
        "        self.split = split\n",
        "        self.paths, self.labels = self.read_file()\n",
        "        self.transform = transform\n",
        "\n",
        "    def __len__(self) -> int:\n",
        "        return len(self.labels)\n",
        "\n",
        "    def __getitem__(self, idx) -> Tuple[Tensor, int]:\n",
        "        img = Image.open(self.root / self.paths[idx])\n",
        "        label = self.labels[idx]\n",
        "        tensor_img = self.transform(img).float()\n",
        "        return tensor_img, label\n",
        "\n",
        "    def read_file(self) -> Tuple[List[str], List[int]]:\n",
        "        paths = []\n",
        "        labels = []\n",
        "        with open(self.root / f\"{self.split}.txt\") as f:\n",
        "            for line in f:\n",
        "                # path, fine-grained class, coarse-grained class\n",
        "                path, _, label = line.replace(\"\\n\", \"\").split(\", \")\n",
        "                paths.append(path)\n",
        "                labels.append(int(label))\n",
        "        return paths, labels\n",
        "\n",
        "    def get_num_classes(self) -> int:\n",
        "        return max(self.labels) + 1"
      ]
    },
    {
      "cell_type": "markdown",
      "metadata": {
        "id": "yBch3dpwNSsW"
      },
      "source": [
        "## Part 1: design your own network\n",
        "\n",
        "Your goal is to implement a convolutional neural network for image classification and train it on `GroceryStoreDataset`. You should consider yourselves satisfied once you obtain a classification accuracy on the **validation** split of **around 60%**. You are free to achieve that however you want, except for a few rules you must follow:\n",
        "\n",
        "- You **cannot** simply instantiate an off-the-self PyTorch network. Instead, you must construct your network as a composition of existing PyTorch layers. In more concrete terms, you can use e.g. `torch.nn.Linear`, but you **cannot** use e.g. `torchvision.models.alexnet`.\n",
        "\n",
        "- Justify every *design choice* you make. Design choices include network architecture, training hyperparameters, and, possibly, dataset preprocessing steps. You can either (i) start from the simplest convolutional network you can think of and add complexity one step at a time, while showing how each step gets you closer to the target ~60%, or (ii) start from a model that is already able to achieve the desired accuracy and show how, by removing some of its components, its performance drops (i.e. an *ablation study*). You can *show* your results/improvements however you want: training plots, console-printed values or tables, or whatever else your heart desires: the clearer, the better.\n",
        "\n",
        "Don't be too concerned with your network performance: the ~60% is just to give you an idea of when to stop. Keep in mind that a thoroughly justified model with lower accuracy will be rewarded **more** points than a poorly experimentally validated model with higher accuracy."
      ]
    },
    {
      "cell_type": "code",
      "source": [
        "random_state = 42\n",
        "np.random.seed(random_state)\n",
        "random.seed(random_state)\n",
        "torch.manual_seed(random_state)\n",
        "if torch.cuda.is_available():\n",
        "    torch.cuda.manual_seed_all(random_state)\n",
        "torch.backends.cudnn.deterministic = True\n",
        "torch.backends.cudnn.benchmark = False"
      ],
      "metadata": {
        "id": "SHeK2-3hakiI"
      },
      "execution_count": 192,
      "outputs": []
    },
    {
      "cell_type": "markdown",
      "source": [
        "PENSO CHE LA COSA MIGLIORE DA FARE SIA INIZIARE CON UN MODELLO MOLTO COMPLICATO CHE OVERFITTI SUL TRAINING DATA. A QUEL PUNTO INSERIRE DELLE REGULARIZATION TECNIQUES CHE MI FACCIANO ARRIVARE A UNA EFFECTIVE CAPACITY OTTIMALE."
      ],
      "metadata": {
        "id": "3jMo0SqDq1EU"
      }
    },
    {
      "cell_type": "code",
      "source": [
        "!pip install mypy\n",
        "# Simple mypy cell magic for Colab\n",
        "from IPython.core.magic import register_cell_magic\n",
        "from IPython import get_ipython\n",
        "from mypy import api\n",
        "\n",
        "@register_cell_magic\n",
        "def mypy(line, cell):\n",
        "    for output in api.run(['-c', '\\n' + cell] + line.split()):\n",
        "        if output and not output.startswith('Success'):\n",
        "            raise TypeError(output)\n",
        "    get_ipython().run_cell(cell)"
      ],
      "metadata": {
        "id": "zmBr-o8PuLSo",
        "colab": {
          "base_uri": "https://localhost:8080/"
        },
        "outputId": "b6cb232c-38c4-403c-fa1d-049e9d21f145"
      },
      "execution_count": 77,
      "outputs": [
        {
          "output_type": "stream",
          "name": "stdout",
          "text": [
            "Requirement already satisfied: mypy in /usr/local/lib/python3.10/dist-packages (1.10.1)\n",
            "Requirement already satisfied: typing-extensions>=4.1.0 in /usr/local/lib/python3.10/dist-packages (from mypy) (4.12.2)\n",
            "Requirement already satisfied: mypy-extensions>=1.0.0 in /usr/local/lib/python3.10/dist-packages (from mypy) (1.0.0)\n",
            "Requirement already satisfied: tomli>=1.1.0 in /usr/local/lib/python3.10/dist-packages (from mypy) (2.0.1)\n"
          ]
        }
      ]
    },
    {
      "cell_type": "code",
      "source": [
        "resize_size = 300\n",
        "crop_size = 256"
      ],
      "metadata": {
        "id": "XXMfMZkZ3xQv"
      },
      "execution_count": 193,
      "outputs": []
    },
    {
      "cell_type": "code",
      "source": [
        "#%%mypy --ignore-missing-imports\n",
        "def create_dataloader(split: str,\n",
        "                      transform: Callable[[PIL.Image.Image],Tensor],\n",
        "                      dataset_creation: Callable[[str, Callable[[PIL.Image.Image],Tensor]], Dataset],\n",
        "                      batch_size: int,\n",
        "                      shuffle: bool,\n",
        "                      num_workers: int) -> DataLoader:\n",
        "      dataset = dataset_creation(split, transform)\n",
        "      return DataLoader(dataset, batch_size = batch_size, shuffle = shuffle, num_workers = num_workers)"
      ],
      "metadata": {
        "id": "w6KdSkr_jqgQ"
      },
      "execution_count": 194,
      "outputs": []
    },
    {
      "cell_type": "code",
      "source": [
        "def starting_transform(resize_size, crop_size):\n",
        "    return transforms.Compose([transforms.Resize(resize_size),\n",
        "                               transforms.CenterCrop(crop_size),\n",
        "                               transforms.ToTensor()])"
      ],
      "metadata": {
        "id": "7iZAmI-O1VY0"
      },
      "execution_count": 195,
      "outputs": []
    },
    {
      "cell_type": "code",
      "source": [
        "starting_trainloader =  create_dataloader('train', starting_transform(resize_size, crop_size), GroceryStoreDataset, batch_size = 64, shuffle = False, num_workers = 2)\n",
        "def get_mean_and_std(loader):\n",
        "    sum_red = 0.0\n",
        "    sum_green = 0.0\n",
        "    sum_blue = 0.0\n",
        "    num_pixels = 0\n",
        "\n",
        "    for images, _ in loader:\n",
        "      sum_red += images[:, 0, :, :].sum().item()\n",
        "      sum_green += images[:, 1, :, :].sum().item()\n",
        "      sum_blue += images[:, 2, :, :].sum().item()\n",
        "\n",
        "      # Count the number of pixels per channel\n",
        "      num_pixels += images[:, 0, :, :].numel()\n",
        "\n",
        "    mean_red = sum_red / num_pixels\n",
        "    mean_green = sum_green / num_pixels\n",
        "    mean_blue = sum_blue / num_pixels\n",
        "        # Initialize variables to accumulate the squared difference from the mean\n",
        "    sum_red_diff_sq = 0.0\n",
        "    sum_green_diff_sq = 0.0\n",
        "    sum_blue_diff_sq = 0.0\n",
        "\n",
        "    for images, _ in loader:\n",
        "\n",
        "        # Compute squared difference from mean for each channel\n",
        "        sum_red_diff_sq += ((images[:, 0, :, :] - mean_red) ** 2).sum().item()\n",
        "        sum_green_diff_sq += ((images[:, 1, :, :] - mean_green) ** 2).sum().item()\n",
        "        sum_blue_diff_sq += ((images[:, 2, :, :] - mean_blue) ** 2).sum().item()\n",
        "\n",
        "    # Calculate the standard deviation for each channel\n",
        "    std_red = (sum_red_diff_sq / num_pixels) ** 0.5\n",
        "    std_green = (sum_green_diff_sq / num_pixels) ** 0.5\n",
        "    std_blue = (sum_blue_diff_sq / num_pixels) ** 0.5\n",
        "\n",
        "    return [mean_red, mean_green, mean_blue], [std_red, std_green, std_blue]\n",
        "mean_train, std_train = get_mean_and_std(starting_trainloader)"
      ],
      "metadata": {
        "collapsed": true,
        "id": "FYBkckOUwiAI"
      },
      "execution_count": 196,
      "outputs": []
    },
    {
      "cell_type": "code",
      "source": [
        "mean_train, std_train"
      ],
      "metadata": {
        "colab": {
          "base_uri": "https://localhost:8080/"
        },
        "id": "T5OXvhVf09oU",
        "outputId": "78195f9f-23b0-4019-cd87-0c4c2a29ae06"
      },
      "execution_count": 115,
      "outputs": [
        {
          "output_type": "execute_result",
          "data": {
            "text/plain": [
              "([0.5414799105037342, 0.40250897678461944, 0.2514115906122959],\n",
              " [0.24257967399333805, 0.22068066844616727, 0.20375057548463663])"
            ]
          },
          "metadata": {},
          "execution_count": 115
        }
      ]
    },
    {
      "cell_type": "code",
      "source": [
        "def data_augmentation_transform(crop_size, mean, std):\n",
        "    return transforms.Compose([transforms.RandomResizedCrop(crop_size),\n",
        "                               transforms.RandomHorizontalFlip(),\n",
        "                               transforms.ToTensor(),\n",
        "                               transforms.Normalize(mean=mean, std=std)])\n",
        "def base_transform(resize_size, crop_size, mean, std):\n",
        "    return transforms.Compose([transforms.Resize(resize_size),\n",
        "                               transforms.CenterCrop(crop_size),\n",
        "                               transforms.ToTensor(),\n",
        "                               transforms.Normalize(mean=mean, std=std)])"
      ],
      "metadata": {
        "id": "_VlQqHLzzygR"
      },
      "execution_count": 116,
      "outputs": []
    },
    {
      "cell_type": "code",
      "source": [
        "basecnf = {'train_transform': data_augmentation_transform(crop_size, mean_train, std_train),\n",
        "           'test_transform': base_transform(resize_size, crop_size, mean_train, std_train),\n",
        "                      'batch_size': 64,\n",
        "                      'num_workers': 2}"
      ],
      "metadata": {
        "id": "hRrsLDEYomDC"
      },
      "execution_count": 117,
      "outputs": []
    },
    {
      "cell_type": "code",
      "source": [
        "train_dataloader = create_dataloader('train', basecnf['train_transform'], GroceryStoreDataset, basecnf['batch_size'], True, basecnf['num_workers'])\n",
        "val_dataloader = create_dataloader('val', basecnf['test_transform'], GroceryStoreDataset, basecnf['batch_size'], False, basecnf['num_workers'])\n",
        "test_dataloader = create_dataloader('test', basecnf['test_transform'], GroceryStoreDataset, basecnf['batch_size'], False, basecnf['num_workers'])"
      ],
      "metadata": {
        "id": "lzVa1EvTz--C"
      },
      "execution_count": 118,
      "outputs": []
    },
    {
      "cell_type": "code",
      "source": [
        "import  matplotlib.pyplot as plt"
      ],
      "metadata": {
        "id": "EzatzuXAfkAO"
      },
      "execution_count": 72,
      "outputs": []
    },
    {
      "cell_type": "code",
      "source": [
        "food_dict = {\n",
        "    0: \"Apple\",\n",
        "    1: \"Avocado\",\n",
        "    2: \"Banana\",\n",
        "    3: \"Kiwi\",\n",
        "    4: \"Lemon\",\n",
        "    5: \"Lime\",\n",
        "    6: \"Mango\",\n",
        "    7: \"Melon\",\n",
        "    8: \"Nectarine\",\n",
        "    9: \"Orange\",\n",
        "    10: \"Papaya\",\n",
        "    11: \"Passion-Fruit\",\n",
        "    12: \"Peach\",\n",
        "    13: \"Pear\",\n",
        "    14: \"Pineapple\",\n",
        "    15: \"Plum\",\n",
        "    16: \"Pomegranate\",\n",
        "    17: \"Red-Grapefruit\",\n",
        "    18: \"Satsumas\",\n",
        "    19: \"Juice\",\n",
        "    20: \"Milk\",\n",
        "    21: \"Oatghurt\",\n",
        "    22: \"Oat-Milk\",\n",
        "    23: \"Sour-Cream\",\n",
        "    24: \"Sour-Milk\",\n",
        "    25: \"Soyghurt\",\n",
        "    26: \"Soy-Milk\",\n",
        "    27: \"Yoghurt\",\n",
        "    28: \"Asparagus\",\n",
        "    29: \"Aubergine\",\n",
        "    30: \"Cabbage\",\n",
        "    31: \"Carrots\",\n",
        "    32: \"Cucumber\",\n",
        "    33: \"Garlic\",\n",
        "    34: \"Ginger\",\n",
        "    35: \"Leek\",\n",
        "    36: \"Mushroom\",\n",
        "    37: \"Onion\",\n",
        "    38: \"Pepper\",\n",
        "    39: \"Potato\",\n",
        "    40: \"Red-Beet\",\n",
        "    41: \"Tomato\",\n",
        "    42: \"Zucchini\"\n",
        "}"
      ],
      "metadata": {
        "id": "L0wjeQF0lLJQ"
      },
      "execution_count": 73,
      "outputs": []
    },
    {
      "cell_type": "code",
      "source": [
        "for train_data, target in train_dataloader:\n",
        "  for img, label in zip(train_data, target):\n",
        "        print(f'Label of the image: {food_dict[label.item()]}')\n",
        "        img = img * 255.0  # Convert to byte to ensure the values are in the range [0, 255]\n",
        "        # Change dimensions from (C, H, W) to (H, W, C) if necessary\n",
        "        img = img.permute(1, 2, 0)\n",
        "        plt.imshow(img)\n",
        "        plt.show()\n",
        "  break"
      ],
      "metadata": {
        "colab": {
          "base_uri": "https://localhost:8080/",
          "height": 240
        },
        "collapsed": true,
        "id": "Q9h_5DbvfTbB",
        "outputId": "3e0164d0-6caa-4895-e1e7-a6e4e67c219d"
      },
      "execution_count": 123,
      "outputs": [
        {
          "output_type": "stream",
          "name": "stdout",
          "text": [
            "Label of the image: Melon\n"
          ]
        },
        {
          "output_type": "error",
          "ename": "TypeError",
          "evalue": "only integer tensors of a single element can be converted to an index",
          "traceback": [
            "\u001b[0;31m---------------------------------------------------------------------------\u001b[0m",
            "\u001b[0;31mTypeError\u001b[0m                                 Traceback (most recent call last)",
            "\u001b[0;32m<ipython-input-123-b16155d67e93>\u001b[0m in \u001b[0;36m<cell line: 1>\u001b[0;34m()\u001b[0m\n\u001b[1;32m      2\u001b[0m   \u001b[0;32mfor\u001b[0m \u001b[0mimg\u001b[0m\u001b[0;34m,\u001b[0m \u001b[0mlabel\u001b[0m \u001b[0;32min\u001b[0m \u001b[0mzip\u001b[0m\u001b[0;34m(\u001b[0m\u001b[0mtrain_data\u001b[0m\u001b[0;34m,\u001b[0m \u001b[0mtarget\u001b[0m\u001b[0;34m)\u001b[0m\u001b[0;34m:\u001b[0m\u001b[0;34m\u001b[0m\u001b[0;34m\u001b[0m\u001b[0m\n\u001b[1;32m      3\u001b[0m         \u001b[0mprint\u001b[0m\u001b[0;34m(\u001b[0m\u001b[0;34mf'Label of the image: {food_dict[label.item()]}'\u001b[0m\u001b[0;34m)\u001b[0m\u001b[0;34m\u001b[0m\u001b[0;34m\u001b[0m\u001b[0m\n\u001b[0;32m----> 4\u001b[0;31m         \u001b[0mprint\u001b[0m\u001b[0;34m(\u001b[0m\u001b[0mimg\u001b[0m \u001b[0;34m*\u001b[0m \u001b[0mstd_train\u001b[0m\u001b[0;34m)\u001b[0m\u001b[0;34m\u001b[0m\u001b[0;34m\u001b[0m\u001b[0m\n\u001b[0m\u001b[1;32m      5\u001b[0m         \u001b[0mimg\u001b[0m \u001b[0;34m=\u001b[0m \u001b[0mimg\u001b[0m \u001b[0;34m*\u001b[0m \u001b[0mstd_train\u001b[0m \u001b[0;34m+\u001b[0m \u001b[0mmean_train\u001b[0m  \u001b[0;31m# Convert to byte to ensure the values are in the range [0, 255]\u001b[0m\u001b[0;34m\u001b[0m\u001b[0;34m\u001b[0m\u001b[0m\n\u001b[1;32m      6\u001b[0m         \u001b[0;31m# Change dimensions from (C, H, W) to (H, W, C) if necessary\u001b[0m\u001b[0;34m\u001b[0m\u001b[0;34m\u001b[0m\u001b[0m\n",
            "\u001b[0;31mTypeError\u001b[0m: only integer tensors of a single element can be converted to an index"
          ]
        }
      ]
    },
    {
      "cell_type": "code",
      "source": [
        "class SqueezeDims(torch.nn.Module):\n",
        "    def forward(self, x):\n",
        "        return x.squeeze()\n",
        "\n",
        "class GroceryStoreModel(torch.nn.Module):\n",
        "    def __init__(self, nonlin_fn: Callable[[], torch.nn.Module],\n",
        "                 nor_fn: Callable[[int], torch.nn.Module],\n",
        "                 dropout_head,\n",
        "                 dropout_fe,\n",
        "                 stem_convs_fn: Callable[[int, Callable[[], torch.nn.Module], Callable[[int], torch.nn.Module]], torch.nn.Sequential],\n",
        "                 stem_output_channels: int,\n",
        "                 num_stages: int,\n",
        "                 stage_fn: Callable[[int, Callable[[], torch.nn.Module], Callable[[int], torch.nn.Module]], torch.nn.Sequential],\n",
        "                 num_classes: int):\n",
        "        super(GroceryStoreModel, self).__init__()\n",
        "        self.stem = torch.nn.Sequential(\n",
        "            stem_convs_fn(stem_output_channels, nonlin_fn, nor_fn, dropout_fe),\n",
        "            torch.nn.MaxPool2d(kernel_size=3, stride=2, padding=1)\n",
        "        )\n",
        "        self.stages = torch.nn.ModuleList()\n",
        "        in_channels = stem_output_channels\n",
        "        for _ in range(num_stages):\n",
        "            stage = stage_fn(in_channels, nonlin_fn, nor_fn, dropout_fe)\n",
        "            self.stages.append(stage)\n",
        "            in_channels *= 2\n",
        "        self.head = torch.nn.Sequential(\n",
        "          torch.nn.AdaptiveAvgPool2d((1, 1)),\n",
        "          SqueezeDims(),\n",
        "          torch.nn.Dropout(dropout_head),\n",
        "          torch.nn.Linear(in_channels, num_classes)\n",
        "        )\n",
        "\n",
        "    def forward(self, x: torch.Tensor) -> torch.Tensor:\n",
        "        x = self.stem(x)\n",
        "        for stage in self.stages:\n",
        "            x = stage(x)\n",
        "        x = self.head(x)\n",
        "        return x"
      ],
      "metadata": {
        "id": "wGSSm1u5TE7l"
      },
      "execution_count": 124,
      "outputs": []
    },
    {
      "cell_type": "code",
      "source": [
        "class ConvBlock(torch.nn.Module):\n",
        "    def __init__(self, in_channels , out_channels , kernel_size , stride , padding, normalization_layer: torch.nn.Module, activation_layer: torch.nn.Module, dropout_rate: int):\n",
        "        super(ConvBlock,self).__init__()\n",
        "\n",
        "        # 2d convolution\n",
        "        self.conv2d = torch.nn.Conv2d(in_channels = in_channels, out_channels = out_channels, kernel_size = kernel_size, stride = stride, padding = padding  )\n",
        "\n",
        "        # batchnorm\n",
        "        self.batchnorm2d = normalization_layer\n",
        "\n",
        "        # relu layer\n",
        "        self.relu = activation_layer\n",
        "\n",
        "        self.dropout_rate = dropout_rate\n",
        "\n",
        "    def forward(self,x):\n",
        "        x = self.conv2d(x)\n",
        "        x = self.batchnorm2d(x)\n",
        "        x = self.relu(x)\n",
        "        if self.dropout_rate>0:\n",
        "          x = torch.nn.Dropout(self.dropout_rate)(x)\n",
        "        return x"
      ],
      "metadata": {
        "id": "m-5nXcq5-PUU"
      },
      "execution_count": 125,
      "outputs": []
    },
    {
      "cell_type": "code",
      "source": [
        "class InceptionBlock(torch.nn.Module):\n",
        "    '''\n",
        "\n",
        "    building block of inception-v1 architecture. creates following 4 branches and concatenate them\n",
        "    (a) branch1: 1x1 conv\n",
        "    (b) branch2: 1x1 conv followed by 3x3 conv\n",
        "    (c) branch3: 1x1 conv followed by 5x5 conv\n",
        "    (d) branch4: Maxpool2d followed by 1x1 conv\n",
        "\n",
        "        Note:\n",
        "            1. output and input feature map height and width should remain the same. Only the channel output should change. eg. 28x28x192 -> 28x28x256\n",
        "            2. To generate same height and width of output feature map as the input feature map, following should be padding for\n",
        "                * 1x1 conv : p=0\n",
        "                * 3x3 conv : p=1\n",
        "                * 5x5 conv : p=2\n",
        "\n",
        "\n",
        "    Args:\n",
        "       in_channels (int) : # of input channels\n",
        "       out_1x1 (int) : number of output channels for branch 1\n",
        "       red_3x3 (int) : reduced 3x3 referring to output channels of 1x1 conv just before 3x3 in branch2\n",
        "       out_3x3 (int) : number of output channels for branch 2\n",
        "       red_5x5 (int) : reduced 5x5 referring to output channels of 1x1 conv just before 5x5 in branch3\n",
        "       out_5x5 (int) : number of output channels for branch 3\n",
        "       out_1x1_pooling (int) : number of output channels for branch 4\n",
        "\n",
        "    Attributes:\n",
        "        concatenated feature maps from all 4 branches constituiting output of Inception module.\n",
        "\n",
        "    '''\n",
        "    def __init__(self , in_channels, out_channels, normalization_fn, activation_fn, dropout_rate):\n",
        "        super(InceptionBlock,self).__init__()\n",
        "        out_1x1 = out_channels // 4\n",
        "        red_3x3 = out_1x1 // 2\n",
        "        out_3x3 = out_1x1\n",
        "        red_5x5 = out_1x1 // 2\n",
        "        out_5x5 = out_1x1\n",
        "        out_1x1_pooling = out_1x1\n",
        "\n",
        "        # branch1 : k=1,s=1,p=0\n",
        "        self.branch1 = ConvBlock(in_channels,out_1x1,1,1,0, normalization_fn(out_1x1), activation_fn(), dropout_rate)\n",
        "\n",
        "        # branch2 : k=1,s=1,p=0 -> k=3,s=1,p=1\n",
        "        self.branch2 = torch.nn.Sequential(ConvBlock(in_channels,red_3x3,1,1,0, normalization_fn(red_3x3), activation_fn(), dropout_rate),ConvBlock(red_3x3,out_3x3,3,1,1,normalization_fn(out_3x3), activation_fn(), dropout_rate))\n",
        "\n",
        "        # branch3 : k=1,s=1,p=0 -> k=5,s=1,p=2\n",
        "        self.branch3 = torch.nn.Sequential(ConvBlock(in_channels,red_5x5,1,1,0,normalization_fn(red_5x5), activation_fn(), dropout_rate),ConvBlock(red_5x5,out_5x5,5,1,2,normalization_fn(out_5x5), activation_fn(), dropout_rate))\n",
        "\n",
        "        # branch4 : pool(k=3,s=1,p=1) -> k=1,s=1,p=0\n",
        "        self.branch4 = torch.nn.Sequential(torch.nn.MaxPool2d(kernel_size=3,stride=1,padding=1),ConvBlock(in_channels,out_1x1_pooling,1,1,0,normalization_fn(out_1x1_pooling), activation_fn(), dropout_rate))\n",
        "\n",
        "\n",
        "    def forward(self,x):\n",
        "\n",
        "        # concatenation from dim=1 as dim=0 represents batchsize\n",
        "        return torch.cat([self.branch1(x),self.branch2(x),self.branch3(x),self.branch4(x)],dim=1)\n"
      ],
      "metadata": {
        "id": "B7EpEUe7-Iis"
      },
      "execution_count": 126,
      "outputs": []
    },
    {
      "cell_type": "code",
      "source": [
        "def inception_stage(in_channels: int, activation_fn: Callable[[], torch.nn.Module], normalization_fn: Callable[[int], torch.nn.Module], dropout_rate:float = 0.0) -> torch.nn.Sequential:\n",
        "    out_channels = in_channels * 2\n",
        "    return torch.nn.Sequential(\n",
        "        InceptionBlock(in_channels, out_channels, normalization_fn, activation_fn,dropout_rate),\n",
        "        InceptionBlock(out_channels, out_channels, normalization_fn, activation_fn,dropout_rate),\n",
        "        torch.nn.MaxPool2d(kernel_size=2, stride=2)\n",
        "    )"
      ],
      "metadata": {
        "id": "bnNbXY8S97Un"
      },
      "execution_count": 127,
      "outputs": []
    },
    {
      "cell_type": "code",
      "source": [
        "# vorrei fare anche un paragone col numero di parametri risultanti dalla rete e salvare tutto in una tabella.\n",
        "# tipo comparando il risultato delle performance tra modello con fclayers e modello con global avg poooling INSIEME anche a  una comparazione sul numero di parametri\n",
        "# usati.\n",
        "#from thop import profile\n",
        "#flops, params = profile(model, inputs=(inputs,))\n",
        "def block(in_channels: int, out_channels: int, kernel_size: int, stride: int, padding: int,\n",
        "          normalization_layer: torch.nn.Module, activation_layer: torch.nn.Module, dropout_rate: int) -> torch.nn.Sequential:\n",
        "    layers = [\n",
        "        torch.nn.Conv2d(in_channels=in_channels, out_channels=out_channels, kernel_size=kernel_size, stride=stride, padding=padding),\n",
        "        normalization_layer,\n",
        "        activation_layer\n",
        "    ]\n",
        "    if dropout_rate > 0:\n",
        "        layers.append(torch.nn.Dropout(dropout_rate))\n",
        "    return torch.nn.Sequential(*layers)\n",
        "\n",
        "def stem_convs1(out_channels: int, activation_fn: Callable[[], torch.nn.Module], normalization_fn: Callable[[int], torch.nn.Module], dropout_rate:float = 0.0) -> torch.nn.Sequential:\n",
        "    return torch.nn.Sequential(\n",
        "        block(3, out_channels, 3, 2, 1, normalization_fn(out_channels), activation_fn(),dropout_rate),\n",
        "        block(out_channels, out_channels, 3, 1, 1, normalization_fn(out_channels), activation_fn(),dropout_rate),\n",
        "        block(out_channels, out_channels, 3, 1, 1, normalization_fn(out_channels), activation_fn(),dropout_rate)\n",
        "    )\n",
        "\n",
        "def stem_convs2(out_channels: int, activation_fn: Callable[[], torch.nn.Module], normalization_fn: Callable[[int], torch.nn.Module], dropout_rate:float = 0.0) -> torch.nn.Sequential:\n",
        "    return block(3, out_channels, 7, 2, 1, normalization_fn(out_channels), activation_fn(),dropout_rate)\n",
        "\n",
        "def stage_fn1(in_channels: int, activation_fn: Callable[[], torch.nn.Module], normalization_fn: Callable[[int], torch.nn.Module], dropout_rate:float = 0.0) -> torch.nn.Sequential:\n",
        "    out_channels = in_channels * 2\n",
        "    return torch.nn.Sequential(\n",
        "        block(in_channels, out_channels, 3, 1, 1, normalization_fn(out_channels), activation_fn(),dropout_rate),\n",
        "        block(out_channels, out_channels, 3, 1, 1, normalization_fn(out_channels), activation_fn() ,dropout_rate),\n",
        "        torch.nn.MaxPool2d(kernel_size=2, stride=2)\n",
        "    )\n",
        "\n",
        "def stage_fn2(in_channels: int, activation_fn: Callable[[], torch.nn.Module], normalization_fn: Callable[[int], torch.nn.Module], dropout_rate:float = 0.0) -> torch.nn.Sequential:\n",
        "    out_channels = in_channels * 2\n",
        "    return torch.nn.Sequential(\n",
        "        block(in_channels, out_channels, 5, 1, 2, normalization_fn(out_channels), activation_fn(),dropout_rate),\n",
        "        torch.nn.MaxPool2d(kernel_size=2, stride=2)\n",
        "    )"
      ],
      "metadata": {
        "id": "IJKkAbDxpaNm"
      },
      "execution_count": 128,
      "outputs": []
    },
    {
      "cell_type": "code",
      "source": [
        "model = GroceryStoreModel(\n",
        "    nonlin_fn=lambda: torch.nn.LeakyReLU(),\n",
        "    nor_fn=lambda channels: torch.nn.BatchNorm2d(channels),\n",
        "    dropout_head = 0.3,\n",
        "    dropout_fe = 0.1,\n",
        "    stem_convs_fn=stem_convs1,\n",
        "    stem_output_channels=64,\n",
        "    num_stages=4,\n",
        "    stage_fn=inception_stage,\n",
        "    num_classes=43\n",
        ")"
      ],
      "metadata": {
        "id": "b93-GOHdVI4_"
      },
      "execution_count": 169,
      "outputs": []
    },
    {
      "cell_type": "code",
      "source": [
        "device = torch.device('cuda' if torch.cuda.is_available() else 'cpu')\n",
        "model.to(device)"
      ],
      "metadata": {
        "collapsed": true,
        "id": "1NAQO64Bvasz",
        "colab": {
          "base_uri": "https://localhost:8080/"
        },
        "outputId": "0ab9202e-29f8-4bf5-f612-e6a2eb8aa1b0"
      },
      "execution_count": 170,
      "outputs": [
        {
          "output_type": "execute_result",
          "data": {
            "text/plain": [
              "GroceryStoreModel(\n",
              "  (stem): Sequential(\n",
              "    (0): Sequential(\n",
              "      (0): Sequential(\n",
              "        (0): Conv2d(3, 64, kernel_size=(3, 3), stride=(2, 2), padding=(1, 1))\n",
              "        (1): BatchNorm2d(64, eps=1e-05, momentum=0.1, affine=True, track_running_stats=True)\n",
              "        (2): LeakyReLU(negative_slope=0.01)\n",
              "        (3): Dropout(p=0.1, inplace=False)\n",
              "      )\n",
              "      (1): Sequential(\n",
              "        (0): Conv2d(64, 64, kernel_size=(3, 3), stride=(1, 1), padding=(1, 1))\n",
              "        (1): BatchNorm2d(64, eps=1e-05, momentum=0.1, affine=True, track_running_stats=True)\n",
              "        (2): LeakyReLU(negative_slope=0.01)\n",
              "        (3): Dropout(p=0.1, inplace=False)\n",
              "      )\n",
              "      (2): Sequential(\n",
              "        (0): Conv2d(64, 64, kernel_size=(3, 3), stride=(1, 1), padding=(1, 1))\n",
              "        (1): BatchNorm2d(64, eps=1e-05, momentum=0.1, affine=True, track_running_stats=True)\n",
              "        (2): LeakyReLU(negative_slope=0.01)\n",
              "        (3): Dropout(p=0.1, inplace=False)\n",
              "      )\n",
              "    )\n",
              "    (1): MaxPool2d(kernel_size=3, stride=2, padding=1, dilation=1, ceil_mode=False)\n",
              "  )\n",
              "  (stages): ModuleList(\n",
              "    (0): Sequential(\n",
              "      (0): InceptionBlock(\n",
              "        (branch1): ConvBlock(\n",
              "          (conv2d): Conv2d(64, 32, kernel_size=(1, 1), stride=(1, 1))\n",
              "          (batchnorm2d): BatchNorm2d(32, eps=1e-05, momentum=0.1, affine=True, track_running_stats=True)\n",
              "          (relu): LeakyReLU(negative_slope=0.01)\n",
              "        )\n",
              "        (branch2): Sequential(\n",
              "          (0): ConvBlock(\n",
              "            (conv2d): Conv2d(64, 16, kernel_size=(1, 1), stride=(1, 1))\n",
              "            (batchnorm2d): BatchNorm2d(16, eps=1e-05, momentum=0.1, affine=True, track_running_stats=True)\n",
              "            (relu): LeakyReLU(negative_slope=0.01)\n",
              "          )\n",
              "          (1): ConvBlock(\n",
              "            (conv2d): Conv2d(16, 32, kernel_size=(3, 3), stride=(1, 1), padding=(1, 1))\n",
              "            (batchnorm2d): BatchNorm2d(32, eps=1e-05, momentum=0.1, affine=True, track_running_stats=True)\n",
              "            (relu): LeakyReLU(negative_slope=0.01)\n",
              "          )\n",
              "        )\n",
              "        (branch3): Sequential(\n",
              "          (0): ConvBlock(\n",
              "            (conv2d): Conv2d(64, 16, kernel_size=(1, 1), stride=(1, 1))\n",
              "            (batchnorm2d): BatchNorm2d(16, eps=1e-05, momentum=0.1, affine=True, track_running_stats=True)\n",
              "            (relu): LeakyReLU(negative_slope=0.01)\n",
              "          )\n",
              "          (1): ConvBlock(\n",
              "            (conv2d): Conv2d(16, 32, kernel_size=(5, 5), stride=(1, 1), padding=(2, 2))\n",
              "            (batchnorm2d): BatchNorm2d(32, eps=1e-05, momentum=0.1, affine=True, track_running_stats=True)\n",
              "            (relu): LeakyReLU(negative_slope=0.01)\n",
              "          )\n",
              "        )\n",
              "        (branch4): Sequential(\n",
              "          (0): MaxPool2d(kernel_size=3, stride=1, padding=1, dilation=1, ceil_mode=False)\n",
              "          (1): ConvBlock(\n",
              "            (conv2d): Conv2d(64, 32, kernel_size=(1, 1), stride=(1, 1))\n",
              "            (batchnorm2d): BatchNorm2d(32, eps=1e-05, momentum=0.1, affine=True, track_running_stats=True)\n",
              "            (relu): LeakyReLU(negative_slope=0.01)\n",
              "          )\n",
              "        )\n",
              "      )\n",
              "      (1): InceptionBlock(\n",
              "        (branch1): ConvBlock(\n",
              "          (conv2d): Conv2d(128, 32, kernel_size=(1, 1), stride=(1, 1))\n",
              "          (batchnorm2d): BatchNorm2d(32, eps=1e-05, momentum=0.1, affine=True, track_running_stats=True)\n",
              "          (relu): LeakyReLU(negative_slope=0.01)\n",
              "        )\n",
              "        (branch2): Sequential(\n",
              "          (0): ConvBlock(\n",
              "            (conv2d): Conv2d(128, 16, kernel_size=(1, 1), stride=(1, 1))\n",
              "            (batchnorm2d): BatchNorm2d(16, eps=1e-05, momentum=0.1, affine=True, track_running_stats=True)\n",
              "            (relu): LeakyReLU(negative_slope=0.01)\n",
              "          )\n",
              "          (1): ConvBlock(\n",
              "            (conv2d): Conv2d(16, 32, kernel_size=(3, 3), stride=(1, 1), padding=(1, 1))\n",
              "            (batchnorm2d): BatchNorm2d(32, eps=1e-05, momentum=0.1, affine=True, track_running_stats=True)\n",
              "            (relu): LeakyReLU(negative_slope=0.01)\n",
              "          )\n",
              "        )\n",
              "        (branch3): Sequential(\n",
              "          (0): ConvBlock(\n",
              "            (conv2d): Conv2d(128, 16, kernel_size=(1, 1), stride=(1, 1))\n",
              "            (batchnorm2d): BatchNorm2d(16, eps=1e-05, momentum=0.1, affine=True, track_running_stats=True)\n",
              "            (relu): LeakyReLU(negative_slope=0.01)\n",
              "          )\n",
              "          (1): ConvBlock(\n",
              "            (conv2d): Conv2d(16, 32, kernel_size=(5, 5), stride=(1, 1), padding=(2, 2))\n",
              "            (batchnorm2d): BatchNorm2d(32, eps=1e-05, momentum=0.1, affine=True, track_running_stats=True)\n",
              "            (relu): LeakyReLU(negative_slope=0.01)\n",
              "          )\n",
              "        )\n",
              "        (branch4): Sequential(\n",
              "          (0): MaxPool2d(kernel_size=3, stride=1, padding=1, dilation=1, ceil_mode=False)\n",
              "          (1): ConvBlock(\n",
              "            (conv2d): Conv2d(128, 32, kernel_size=(1, 1), stride=(1, 1))\n",
              "            (batchnorm2d): BatchNorm2d(32, eps=1e-05, momentum=0.1, affine=True, track_running_stats=True)\n",
              "            (relu): LeakyReLU(negative_slope=0.01)\n",
              "          )\n",
              "        )\n",
              "      )\n",
              "      (2): MaxPool2d(kernel_size=2, stride=2, padding=0, dilation=1, ceil_mode=False)\n",
              "    )\n",
              "    (1): Sequential(\n",
              "      (0): InceptionBlock(\n",
              "        (branch1): ConvBlock(\n",
              "          (conv2d): Conv2d(128, 64, kernel_size=(1, 1), stride=(1, 1))\n",
              "          (batchnorm2d): BatchNorm2d(64, eps=1e-05, momentum=0.1, affine=True, track_running_stats=True)\n",
              "          (relu): LeakyReLU(negative_slope=0.01)\n",
              "        )\n",
              "        (branch2): Sequential(\n",
              "          (0): ConvBlock(\n",
              "            (conv2d): Conv2d(128, 32, kernel_size=(1, 1), stride=(1, 1))\n",
              "            (batchnorm2d): BatchNorm2d(32, eps=1e-05, momentum=0.1, affine=True, track_running_stats=True)\n",
              "            (relu): LeakyReLU(negative_slope=0.01)\n",
              "          )\n",
              "          (1): ConvBlock(\n",
              "            (conv2d): Conv2d(32, 64, kernel_size=(3, 3), stride=(1, 1), padding=(1, 1))\n",
              "            (batchnorm2d): BatchNorm2d(64, eps=1e-05, momentum=0.1, affine=True, track_running_stats=True)\n",
              "            (relu): LeakyReLU(negative_slope=0.01)\n",
              "          )\n",
              "        )\n",
              "        (branch3): Sequential(\n",
              "          (0): ConvBlock(\n",
              "            (conv2d): Conv2d(128, 32, kernel_size=(1, 1), stride=(1, 1))\n",
              "            (batchnorm2d): BatchNorm2d(32, eps=1e-05, momentum=0.1, affine=True, track_running_stats=True)\n",
              "            (relu): LeakyReLU(negative_slope=0.01)\n",
              "          )\n",
              "          (1): ConvBlock(\n",
              "            (conv2d): Conv2d(32, 64, kernel_size=(5, 5), stride=(1, 1), padding=(2, 2))\n",
              "            (batchnorm2d): BatchNorm2d(64, eps=1e-05, momentum=0.1, affine=True, track_running_stats=True)\n",
              "            (relu): LeakyReLU(negative_slope=0.01)\n",
              "          )\n",
              "        )\n",
              "        (branch4): Sequential(\n",
              "          (0): MaxPool2d(kernel_size=3, stride=1, padding=1, dilation=1, ceil_mode=False)\n",
              "          (1): ConvBlock(\n",
              "            (conv2d): Conv2d(128, 64, kernel_size=(1, 1), stride=(1, 1))\n",
              "            (batchnorm2d): BatchNorm2d(64, eps=1e-05, momentum=0.1, affine=True, track_running_stats=True)\n",
              "            (relu): LeakyReLU(negative_slope=0.01)\n",
              "          )\n",
              "        )\n",
              "      )\n",
              "      (1): InceptionBlock(\n",
              "        (branch1): ConvBlock(\n",
              "          (conv2d): Conv2d(256, 64, kernel_size=(1, 1), stride=(1, 1))\n",
              "          (batchnorm2d): BatchNorm2d(64, eps=1e-05, momentum=0.1, affine=True, track_running_stats=True)\n",
              "          (relu): LeakyReLU(negative_slope=0.01)\n",
              "        )\n",
              "        (branch2): Sequential(\n",
              "          (0): ConvBlock(\n",
              "            (conv2d): Conv2d(256, 32, kernel_size=(1, 1), stride=(1, 1))\n",
              "            (batchnorm2d): BatchNorm2d(32, eps=1e-05, momentum=0.1, affine=True, track_running_stats=True)\n",
              "            (relu): LeakyReLU(negative_slope=0.01)\n",
              "          )\n",
              "          (1): ConvBlock(\n",
              "            (conv2d): Conv2d(32, 64, kernel_size=(3, 3), stride=(1, 1), padding=(1, 1))\n",
              "            (batchnorm2d): BatchNorm2d(64, eps=1e-05, momentum=0.1, affine=True, track_running_stats=True)\n",
              "            (relu): LeakyReLU(negative_slope=0.01)\n",
              "          )\n",
              "        )\n",
              "        (branch3): Sequential(\n",
              "          (0): ConvBlock(\n",
              "            (conv2d): Conv2d(256, 32, kernel_size=(1, 1), stride=(1, 1))\n",
              "            (batchnorm2d): BatchNorm2d(32, eps=1e-05, momentum=0.1, affine=True, track_running_stats=True)\n",
              "            (relu): LeakyReLU(negative_slope=0.01)\n",
              "          )\n",
              "          (1): ConvBlock(\n",
              "            (conv2d): Conv2d(32, 64, kernel_size=(5, 5), stride=(1, 1), padding=(2, 2))\n",
              "            (batchnorm2d): BatchNorm2d(64, eps=1e-05, momentum=0.1, affine=True, track_running_stats=True)\n",
              "            (relu): LeakyReLU(negative_slope=0.01)\n",
              "          )\n",
              "        )\n",
              "        (branch4): Sequential(\n",
              "          (0): MaxPool2d(kernel_size=3, stride=1, padding=1, dilation=1, ceil_mode=False)\n",
              "          (1): ConvBlock(\n",
              "            (conv2d): Conv2d(256, 64, kernel_size=(1, 1), stride=(1, 1))\n",
              "            (batchnorm2d): BatchNorm2d(64, eps=1e-05, momentum=0.1, affine=True, track_running_stats=True)\n",
              "            (relu): LeakyReLU(negative_slope=0.01)\n",
              "          )\n",
              "        )\n",
              "      )\n",
              "      (2): MaxPool2d(kernel_size=2, stride=2, padding=0, dilation=1, ceil_mode=False)\n",
              "    )\n",
              "    (2): Sequential(\n",
              "      (0): InceptionBlock(\n",
              "        (branch1): ConvBlock(\n",
              "          (conv2d): Conv2d(256, 128, kernel_size=(1, 1), stride=(1, 1))\n",
              "          (batchnorm2d): BatchNorm2d(128, eps=1e-05, momentum=0.1, affine=True, track_running_stats=True)\n",
              "          (relu): LeakyReLU(negative_slope=0.01)\n",
              "        )\n",
              "        (branch2): Sequential(\n",
              "          (0): ConvBlock(\n",
              "            (conv2d): Conv2d(256, 64, kernel_size=(1, 1), stride=(1, 1))\n",
              "            (batchnorm2d): BatchNorm2d(64, eps=1e-05, momentum=0.1, affine=True, track_running_stats=True)\n",
              "            (relu): LeakyReLU(negative_slope=0.01)\n",
              "          )\n",
              "          (1): ConvBlock(\n",
              "            (conv2d): Conv2d(64, 128, kernel_size=(3, 3), stride=(1, 1), padding=(1, 1))\n",
              "            (batchnorm2d): BatchNorm2d(128, eps=1e-05, momentum=0.1, affine=True, track_running_stats=True)\n",
              "            (relu): LeakyReLU(negative_slope=0.01)\n",
              "          )\n",
              "        )\n",
              "        (branch3): Sequential(\n",
              "          (0): ConvBlock(\n",
              "            (conv2d): Conv2d(256, 64, kernel_size=(1, 1), stride=(1, 1))\n",
              "            (batchnorm2d): BatchNorm2d(64, eps=1e-05, momentum=0.1, affine=True, track_running_stats=True)\n",
              "            (relu): LeakyReLU(negative_slope=0.01)\n",
              "          )\n",
              "          (1): ConvBlock(\n",
              "            (conv2d): Conv2d(64, 128, kernel_size=(5, 5), stride=(1, 1), padding=(2, 2))\n",
              "            (batchnorm2d): BatchNorm2d(128, eps=1e-05, momentum=0.1, affine=True, track_running_stats=True)\n",
              "            (relu): LeakyReLU(negative_slope=0.01)\n",
              "          )\n",
              "        )\n",
              "        (branch4): Sequential(\n",
              "          (0): MaxPool2d(kernel_size=3, stride=1, padding=1, dilation=1, ceil_mode=False)\n",
              "          (1): ConvBlock(\n",
              "            (conv2d): Conv2d(256, 128, kernel_size=(1, 1), stride=(1, 1))\n",
              "            (batchnorm2d): BatchNorm2d(128, eps=1e-05, momentum=0.1, affine=True, track_running_stats=True)\n",
              "            (relu): LeakyReLU(negative_slope=0.01)\n",
              "          )\n",
              "        )\n",
              "      )\n",
              "      (1): InceptionBlock(\n",
              "        (branch1): ConvBlock(\n",
              "          (conv2d): Conv2d(512, 128, kernel_size=(1, 1), stride=(1, 1))\n",
              "          (batchnorm2d): BatchNorm2d(128, eps=1e-05, momentum=0.1, affine=True, track_running_stats=True)\n",
              "          (relu): LeakyReLU(negative_slope=0.01)\n",
              "        )\n",
              "        (branch2): Sequential(\n",
              "          (0): ConvBlock(\n",
              "            (conv2d): Conv2d(512, 64, kernel_size=(1, 1), stride=(1, 1))\n",
              "            (batchnorm2d): BatchNorm2d(64, eps=1e-05, momentum=0.1, affine=True, track_running_stats=True)\n",
              "            (relu): LeakyReLU(negative_slope=0.01)\n",
              "          )\n",
              "          (1): ConvBlock(\n",
              "            (conv2d): Conv2d(64, 128, kernel_size=(3, 3), stride=(1, 1), padding=(1, 1))\n",
              "            (batchnorm2d): BatchNorm2d(128, eps=1e-05, momentum=0.1, affine=True, track_running_stats=True)\n",
              "            (relu): LeakyReLU(negative_slope=0.01)\n",
              "          )\n",
              "        )\n",
              "        (branch3): Sequential(\n",
              "          (0): ConvBlock(\n",
              "            (conv2d): Conv2d(512, 64, kernel_size=(1, 1), stride=(1, 1))\n",
              "            (batchnorm2d): BatchNorm2d(64, eps=1e-05, momentum=0.1, affine=True, track_running_stats=True)\n",
              "            (relu): LeakyReLU(negative_slope=0.01)\n",
              "          )\n",
              "          (1): ConvBlock(\n",
              "            (conv2d): Conv2d(64, 128, kernel_size=(5, 5), stride=(1, 1), padding=(2, 2))\n",
              "            (batchnorm2d): BatchNorm2d(128, eps=1e-05, momentum=0.1, affine=True, track_running_stats=True)\n",
              "            (relu): LeakyReLU(negative_slope=0.01)\n",
              "          )\n",
              "        )\n",
              "        (branch4): Sequential(\n",
              "          (0): MaxPool2d(kernel_size=3, stride=1, padding=1, dilation=1, ceil_mode=False)\n",
              "          (1): ConvBlock(\n",
              "            (conv2d): Conv2d(512, 128, kernel_size=(1, 1), stride=(1, 1))\n",
              "            (batchnorm2d): BatchNorm2d(128, eps=1e-05, momentum=0.1, affine=True, track_running_stats=True)\n",
              "            (relu): LeakyReLU(negative_slope=0.01)\n",
              "          )\n",
              "        )\n",
              "      )\n",
              "      (2): MaxPool2d(kernel_size=2, stride=2, padding=0, dilation=1, ceil_mode=False)\n",
              "    )\n",
              "    (3): Sequential(\n",
              "      (0): InceptionBlock(\n",
              "        (branch1): ConvBlock(\n",
              "          (conv2d): Conv2d(512, 256, kernel_size=(1, 1), stride=(1, 1))\n",
              "          (batchnorm2d): BatchNorm2d(256, eps=1e-05, momentum=0.1, affine=True, track_running_stats=True)\n",
              "          (relu): LeakyReLU(negative_slope=0.01)\n",
              "        )\n",
              "        (branch2): Sequential(\n",
              "          (0): ConvBlock(\n",
              "            (conv2d): Conv2d(512, 128, kernel_size=(1, 1), stride=(1, 1))\n",
              "            (batchnorm2d): BatchNorm2d(128, eps=1e-05, momentum=0.1, affine=True, track_running_stats=True)\n",
              "            (relu): LeakyReLU(negative_slope=0.01)\n",
              "          )\n",
              "          (1): ConvBlock(\n",
              "            (conv2d): Conv2d(128, 256, kernel_size=(3, 3), stride=(1, 1), padding=(1, 1))\n",
              "            (batchnorm2d): BatchNorm2d(256, eps=1e-05, momentum=0.1, affine=True, track_running_stats=True)\n",
              "            (relu): LeakyReLU(negative_slope=0.01)\n",
              "          )\n",
              "        )\n",
              "        (branch3): Sequential(\n",
              "          (0): ConvBlock(\n",
              "            (conv2d): Conv2d(512, 128, kernel_size=(1, 1), stride=(1, 1))\n",
              "            (batchnorm2d): BatchNorm2d(128, eps=1e-05, momentum=0.1, affine=True, track_running_stats=True)\n",
              "            (relu): LeakyReLU(negative_slope=0.01)\n",
              "          )\n",
              "          (1): ConvBlock(\n",
              "            (conv2d): Conv2d(128, 256, kernel_size=(5, 5), stride=(1, 1), padding=(2, 2))\n",
              "            (batchnorm2d): BatchNorm2d(256, eps=1e-05, momentum=0.1, affine=True, track_running_stats=True)\n",
              "            (relu): LeakyReLU(negative_slope=0.01)\n",
              "          )\n",
              "        )\n",
              "        (branch4): Sequential(\n",
              "          (0): MaxPool2d(kernel_size=3, stride=1, padding=1, dilation=1, ceil_mode=False)\n",
              "          (1): ConvBlock(\n",
              "            (conv2d): Conv2d(512, 256, kernel_size=(1, 1), stride=(1, 1))\n",
              "            (batchnorm2d): BatchNorm2d(256, eps=1e-05, momentum=0.1, affine=True, track_running_stats=True)\n",
              "            (relu): LeakyReLU(negative_slope=0.01)\n",
              "          )\n",
              "        )\n",
              "      )\n",
              "      (1): InceptionBlock(\n",
              "        (branch1): ConvBlock(\n",
              "          (conv2d): Conv2d(1024, 256, kernel_size=(1, 1), stride=(1, 1))\n",
              "          (batchnorm2d): BatchNorm2d(256, eps=1e-05, momentum=0.1, affine=True, track_running_stats=True)\n",
              "          (relu): LeakyReLU(negative_slope=0.01)\n",
              "        )\n",
              "        (branch2): Sequential(\n",
              "          (0): ConvBlock(\n",
              "            (conv2d): Conv2d(1024, 128, kernel_size=(1, 1), stride=(1, 1))\n",
              "            (batchnorm2d): BatchNorm2d(128, eps=1e-05, momentum=0.1, affine=True, track_running_stats=True)\n",
              "            (relu): LeakyReLU(negative_slope=0.01)\n",
              "          )\n",
              "          (1): ConvBlock(\n",
              "            (conv2d): Conv2d(128, 256, kernel_size=(3, 3), stride=(1, 1), padding=(1, 1))\n",
              "            (batchnorm2d): BatchNorm2d(256, eps=1e-05, momentum=0.1, affine=True, track_running_stats=True)\n",
              "            (relu): LeakyReLU(negative_slope=0.01)\n",
              "          )\n",
              "        )\n",
              "        (branch3): Sequential(\n",
              "          (0): ConvBlock(\n",
              "            (conv2d): Conv2d(1024, 128, kernel_size=(1, 1), stride=(1, 1))\n",
              "            (batchnorm2d): BatchNorm2d(128, eps=1e-05, momentum=0.1, affine=True, track_running_stats=True)\n",
              "            (relu): LeakyReLU(negative_slope=0.01)\n",
              "          )\n",
              "          (1): ConvBlock(\n",
              "            (conv2d): Conv2d(128, 256, kernel_size=(5, 5), stride=(1, 1), padding=(2, 2))\n",
              "            (batchnorm2d): BatchNorm2d(256, eps=1e-05, momentum=0.1, affine=True, track_running_stats=True)\n",
              "            (relu): LeakyReLU(negative_slope=0.01)\n",
              "          )\n",
              "        )\n",
              "        (branch4): Sequential(\n",
              "          (0): MaxPool2d(kernel_size=3, stride=1, padding=1, dilation=1, ceil_mode=False)\n",
              "          (1): ConvBlock(\n",
              "            (conv2d): Conv2d(1024, 256, kernel_size=(1, 1), stride=(1, 1))\n",
              "            (batchnorm2d): BatchNorm2d(256, eps=1e-05, momentum=0.1, affine=True, track_running_stats=True)\n",
              "            (relu): LeakyReLU(negative_slope=0.01)\n",
              "          )\n",
              "        )\n",
              "      )\n",
              "      (2): MaxPool2d(kernel_size=2, stride=2, padding=0, dilation=1, ceil_mode=False)\n",
              "    )\n",
              "  )\n",
              "  (head): Sequential(\n",
              "    (0): AdaptiveAvgPool2d(output_size=(1, 1))\n",
              "    (1): SqueezeDims()\n",
              "    (2): Dropout(p=0.3, inplace=False)\n",
              "    (3): Linear(in_features=1024, out_features=43, bias=True)\n",
              "  )\n",
              ")"
            ]
          },
          "metadata": {},
          "execution_count": 170
        }
      ]
    },
    {
      "cell_type": "code",
      "source": [
        "summary(model, input_size=(3, 256, 256))"
      ],
      "metadata": {
        "colab": {
          "base_uri": "https://localhost:8080/"
        },
        "id": "b1QeJAyzCD9u",
        "outputId": "3d07a0c2-fd69-4a24-dbab-1c3451dbd22e",
        "collapsed": true
      },
      "execution_count": 171,
      "outputs": [
        {
          "output_type": "stream",
          "name": "stdout",
          "text": [
            "----------------------------------------------------------------\n",
            "        Layer (type)               Output Shape         Param #\n",
            "================================================================\n",
            "            Conv2d-1         [-1, 64, 128, 128]           1,792\n",
            "       BatchNorm2d-2         [-1, 64, 128, 128]             128\n",
            "         LeakyReLU-3         [-1, 64, 128, 128]               0\n",
            "           Dropout-4         [-1, 64, 128, 128]               0\n",
            "            Conv2d-5         [-1, 64, 128, 128]          36,928\n",
            "       BatchNorm2d-6         [-1, 64, 128, 128]             128\n",
            "         LeakyReLU-7         [-1, 64, 128, 128]               0\n",
            "           Dropout-8         [-1, 64, 128, 128]               0\n",
            "            Conv2d-9         [-1, 64, 128, 128]          36,928\n",
            "      BatchNorm2d-10         [-1, 64, 128, 128]             128\n",
            "        LeakyReLU-11         [-1, 64, 128, 128]               0\n",
            "          Dropout-12         [-1, 64, 128, 128]               0\n",
            "        MaxPool2d-13           [-1, 64, 64, 64]               0\n",
            "           Conv2d-14           [-1, 32, 64, 64]           2,080\n",
            "      BatchNorm2d-15           [-1, 32, 64, 64]              64\n",
            "        LeakyReLU-16           [-1, 32, 64, 64]               0\n",
            "        ConvBlock-17           [-1, 32, 64, 64]               0\n",
            "           Conv2d-18           [-1, 16, 64, 64]           1,040\n",
            "      BatchNorm2d-19           [-1, 16, 64, 64]              32\n",
            "        LeakyReLU-20           [-1, 16, 64, 64]               0\n",
            "        ConvBlock-21           [-1, 16, 64, 64]               0\n",
            "           Conv2d-22           [-1, 32, 64, 64]           4,640\n",
            "      BatchNorm2d-23           [-1, 32, 64, 64]              64\n",
            "        LeakyReLU-24           [-1, 32, 64, 64]               0\n",
            "        ConvBlock-25           [-1, 32, 64, 64]               0\n",
            "           Conv2d-26           [-1, 16, 64, 64]           1,040\n",
            "      BatchNorm2d-27           [-1, 16, 64, 64]              32\n",
            "        LeakyReLU-28           [-1, 16, 64, 64]               0\n",
            "        ConvBlock-29           [-1, 16, 64, 64]               0\n",
            "           Conv2d-30           [-1, 32, 64, 64]          12,832\n",
            "      BatchNorm2d-31           [-1, 32, 64, 64]              64\n",
            "        LeakyReLU-32           [-1, 32, 64, 64]               0\n",
            "        ConvBlock-33           [-1, 32, 64, 64]               0\n",
            "        MaxPool2d-34           [-1, 64, 64, 64]               0\n",
            "           Conv2d-35           [-1, 32, 64, 64]           2,080\n",
            "      BatchNorm2d-36           [-1, 32, 64, 64]              64\n",
            "        LeakyReLU-37           [-1, 32, 64, 64]               0\n",
            "        ConvBlock-38           [-1, 32, 64, 64]               0\n",
            "   InceptionBlock-39          [-1, 128, 64, 64]               0\n",
            "           Conv2d-40           [-1, 32, 64, 64]           4,128\n",
            "      BatchNorm2d-41           [-1, 32, 64, 64]              64\n",
            "        LeakyReLU-42           [-1, 32, 64, 64]               0\n",
            "        ConvBlock-43           [-1, 32, 64, 64]               0\n",
            "           Conv2d-44           [-1, 16, 64, 64]           2,064\n",
            "      BatchNorm2d-45           [-1, 16, 64, 64]              32\n",
            "        LeakyReLU-46           [-1, 16, 64, 64]               0\n",
            "        ConvBlock-47           [-1, 16, 64, 64]               0\n",
            "           Conv2d-48           [-1, 32, 64, 64]           4,640\n",
            "      BatchNorm2d-49           [-1, 32, 64, 64]              64\n",
            "        LeakyReLU-50           [-1, 32, 64, 64]               0\n",
            "        ConvBlock-51           [-1, 32, 64, 64]               0\n",
            "           Conv2d-52           [-1, 16, 64, 64]           2,064\n",
            "      BatchNorm2d-53           [-1, 16, 64, 64]              32\n",
            "        LeakyReLU-54           [-1, 16, 64, 64]               0\n",
            "        ConvBlock-55           [-1, 16, 64, 64]               0\n",
            "           Conv2d-56           [-1, 32, 64, 64]          12,832\n",
            "      BatchNorm2d-57           [-1, 32, 64, 64]              64\n",
            "        LeakyReLU-58           [-1, 32, 64, 64]               0\n",
            "        ConvBlock-59           [-1, 32, 64, 64]               0\n",
            "        MaxPool2d-60          [-1, 128, 64, 64]               0\n",
            "           Conv2d-61           [-1, 32, 64, 64]           4,128\n",
            "      BatchNorm2d-62           [-1, 32, 64, 64]              64\n",
            "        LeakyReLU-63           [-1, 32, 64, 64]               0\n",
            "        ConvBlock-64           [-1, 32, 64, 64]               0\n",
            "   InceptionBlock-65          [-1, 128, 64, 64]               0\n",
            "        MaxPool2d-66          [-1, 128, 32, 32]               0\n",
            "           Conv2d-67           [-1, 64, 32, 32]           8,256\n",
            "      BatchNorm2d-68           [-1, 64, 32, 32]             128\n",
            "        LeakyReLU-69           [-1, 64, 32, 32]               0\n",
            "        ConvBlock-70           [-1, 64, 32, 32]               0\n",
            "           Conv2d-71           [-1, 32, 32, 32]           4,128\n",
            "      BatchNorm2d-72           [-1, 32, 32, 32]              64\n",
            "        LeakyReLU-73           [-1, 32, 32, 32]               0\n",
            "        ConvBlock-74           [-1, 32, 32, 32]               0\n",
            "           Conv2d-75           [-1, 64, 32, 32]          18,496\n",
            "      BatchNorm2d-76           [-1, 64, 32, 32]             128\n",
            "        LeakyReLU-77           [-1, 64, 32, 32]               0\n",
            "        ConvBlock-78           [-1, 64, 32, 32]               0\n",
            "           Conv2d-79           [-1, 32, 32, 32]           4,128\n",
            "      BatchNorm2d-80           [-1, 32, 32, 32]              64\n",
            "        LeakyReLU-81           [-1, 32, 32, 32]               0\n",
            "        ConvBlock-82           [-1, 32, 32, 32]               0\n",
            "           Conv2d-83           [-1, 64, 32, 32]          51,264\n",
            "      BatchNorm2d-84           [-1, 64, 32, 32]             128\n",
            "        LeakyReLU-85           [-1, 64, 32, 32]               0\n",
            "        ConvBlock-86           [-1, 64, 32, 32]               0\n",
            "        MaxPool2d-87          [-1, 128, 32, 32]               0\n",
            "           Conv2d-88           [-1, 64, 32, 32]           8,256\n",
            "      BatchNorm2d-89           [-1, 64, 32, 32]             128\n",
            "        LeakyReLU-90           [-1, 64, 32, 32]               0\n",
            "        ConvBlock-91           [-1, 64, 32, 32]               0\n",
            "   InceptionBlock-92          [-1, 256, 32, 32]               0\n",
            "           Conv2d-93           [-1, 64, 32, 32]          16,448\n",
            "      BatchNorm2d-94           [-1, 64, 32, 32]             128\n",
            "        LeakyReLU-95           [-1, 64, 32, 32]               0\n",
            "        ConvBlock-96           [-1, 64, 32, 32]               0\n",
            "           Conv2d-97           [-1, 32, 32, 32]           8,224\n",
            "      BatchNorm2d-98           [-1, 32, 32, 32]              64\n",
            "        LeakyReLU-99           [-1, 32, 32, 32]               0\n",
            "       ConvBlock-100           [-1, 32, 32, 32]               0\n",
            "          Conv2d-101           [-1, 64, 32, 32]          18,496\n",
            "     BatchNorm2d-102           [-1, 64, 32, 32]             128\n",
            "       LeakyReLU-103           [-1, 64, 32, 32]               0\n",
            "       ConvBlock-104           [-1, 64, 32, 32]               0\n",
            "          Conv2d-105           [-1, 32, 32, 32]           8,224\n",
            "     BatchNorm2d-106           [-1, 32, 32, 32]              64\n",
            "       LeakyReLU-107           [-1, 32, 32, 32]               0\n",
            "       ConvBlock-108           [-1, 32, 32, 32]               0\n",
            "          Conv2d-109           [-1, 64, 32, 32]          51,264\n",
            "     BatchNorm2d-110           [-1, 64, 32, 32]             128\n",
            "       LeakyReLU-111           [-1, 64, 32, 32]               0\n",
            "       ConvBlock-112           [-1, 64, 32, 32]               0\n",
            "       MaxPool2d-113          [-1, 256, 32, 32]               0\n",
            "          Conv2d-114           [-1, 64, 32, 32]          16,448\n",
            "     BatchNorm2d-115           [-1, 64, 32, 32]             128\n",
            "       LeakyReLU-116           [-1, 64, 32, 32]               0\n",
            "       ConvBlock-117           [-1, 64, 32, 32]               0\n",
            "  InceptionBlock-118          [-1, 256, 32, 32]               0\n",
            "       MaxPool2d-119          [-1, 256, 16, 16]               0\n",
            "          Conv2d-120          [-1, 128, 16, 16]          32,896\n",
            "     BatchNorm2d-121          [-1, 128, 16, 16]             256\n",
            "       LeakyReLU-122          [-1, 128, 16, 16]               0\n",
            "       ConvBlock-123          [-1, 128, 16, 16]               0\n",
            "          Conv2d-124           [-1, 64, 16, 16]          16,448\n",
            "     BatchNorm2d-125           [-1, 64, 16, 16]             128\n",
            "       LeakyReLU-126           [-1, 64, 16, 16]               0\n",
            "       ConvBlock-127           [-1, 64, 16, 16]               0\n",
            "          Conv2d-128          [-1, 128, 16, 16]          73,856\n",
            "     BatchNorm2d-129          [-1, 128, 16, 16]             256\n",
            "       LeakyReLU-130          [-1, 128, 16, 16]               0\n",
            "       ConvBlock-131          [-1, 128, 16, 16]               0\n",
            "          Conv2d-132           [-1, 64, 16, 16]          16,448\n",
            "     BatchNorm2d-133           [-1, 64, 16, 16]             128\n",
            "       LeakyReLU-134           [-1, 64, 16, 16]               0\n",
            "       ConvBlock-135           [-1, 64, 16, 16]               0\n",
            "          Conv2d-136          [-1, 128, 16, 16]         204,928\n",
            "     BatchNorm2d-137          [-1, 128, 16, 16]             256\n",
            "       LeakyReLU-138          [-1, 128, 16, 16]               0\n",
            "       ConvBlock-139          [-1, 128, 16, 16]               0\n",
            "       MaxPool2d-140          [-1, 256, 16, 16]               0\n",
            "          Conv2d-141          [-1, 128, 16, 16]          32,896\n",
            "     BatchNorm2d-142          [-1, 128, 16, 16]             256\n",
            "       LeakyReLU-143          [-1, 128, 16, 16]               0\n",
            "       ConvBlock-144          [-1, 128, 16, 16]               0\n",
            "  InceptionBlock-145          [-1, 512, 16, 16]               0\n",
            "          Conv2d-146          [-1, 128, 16, 16]          65,664\n",
            "     BatchNorm2d-147          [-1, 128, 16, 16]             256\n",
            "       LeakyReLU-148          [-1, 128, 16, 16]               0\n",
            "       ConvBlock-149          [-1, 128, 16, 16]               0\n",
            "          Conv2d-150           [-1, 64, 16, 16]          32,832\n",
            "     BatchNorm2d-151           [-1, 64, 16, 16]             128\n",
            "       LeakyReLU-152           [-1, 64, 16, 16]               0\n",
            "       ConvBlock-153           [-1, 64, 16, 16]               0\n",
            "          Conv2d-154          [-1, 128, 16, 16]          73,856\n",
            "     BatchNorm2d-155          [-1, 128, 16, 16]             256\n",
            "       LeakyReLU-156          [-1, 128, 16, 16]               0\n",
            "       ConvBlock-157          [-1, 128, 16, 16]               0\n",
            "          Conv2d-158           [-1, 64, 16, 16]          32,832\n",
            "     BatchNorm2d-159           [-1, 64, 16, 16]             128\n",
            "       LeakyReLU-160           [-1, 64, 16, 16]               0\n",
            "       ConvBlock-161           [-1, 64, 16, 16]               0\n",
            "          Conv2d-162          [-1, 128, 16, 16]         204,928\n",
            "     BatchNorm2d-163          [-1, 128, 16, 16]             256\n",
            "       LeakyReLU-164          [-1, 128, 16, 16]               0\n",
            "       ConvBlock-165          [-1, 128, 16, 16]               0\n",
            "       MaxPool2d-166          [-1, 512, 16, 16]               0\n",
            "          Conv2d-167          [-1, 128, 16, 16]          65,664\n",
            "     BatchNorm2d-168          [-1, 128, 16, 16]             256\n",
            "       LeakyReLU-169          [-1, 128, 16, 16]               0\n",
            "       ConvBlock-170          [-1, 128, 16, 16]               0\n",
            "  InceptionBlock-171          [-1, 512, 16, 16]               0\n",
            "       MaxPool2d-172            [-1, 512, 8, 8]               0\n",
            "          Conv2d-173            [-1, 256, 8, 8]         131,328\n",
            "     BatchNorm2d-174            [-1, 256, 8, 8]             512\n",
            "       LeakyReLU-175            [-1, 256, 8, 8]               0\n",
            "       ConvBlock-176            [-1, 256, 8, 8]               0\n",
            "          Conv2d-177            [-1, 128, 8, 8]          65,664\n",
            "     BatchNorm2d-178            [-1, 128, 8, 8]             256\n",
            "       LeakyReLU-179            [-1, 128, 8, 8]               0\n",
            "       ConvBlock-180            [-1, 128, 8, 8]               0\n",
            "          Conv2d-181            [-1, 256, 8, 8]         295,168\n",
            "     BatchNorm2d-182            [-1, 256, 8, 8]             512\n",
            "       LeakyReLU-183            [-1, 256, 8, 8]               0\n",
            "       ConvBlock-184            [-1, 256, 8, 8]               0\n",
            "          Conv2d-185            [-1, 128, 8, 8]          65,664\n",
            "     BatchNorm2d-186            [-1, 128, 8, 8]             256\n",
            "       LeakyReLU-187            [-1, 128, 8, 8]               0\n",
            "       ConvBlock-188            [-1, 128, 8, 8]               0\n",
            "          Conv2d-189            [-1, 256, 8, 8]         819,456\n",
            "     BatchNorm2d-190            [-1, 256, 8, 8]             512\n",
            "       LeakyReLU-191            [-1, 256, 8, 8]               0\n",
            "       ConvBlock-192            [-1, 256, 8, 8]               0\n",
            "       MaxPool2d-193            [-1, 512, 8, 8]               0\n",
            "          Conv2d-194            [-1, 256, 8, 8]         131,328\n",
            "     BatchNorm2d-195            [-1, 256, 8, 8]             512\n",
            "       LeakyReLU-196            [-1, 256, 8, 8]               0\n",
            "       ConvBlock-197            [-1, 256, 8, 8]               0\n",
            "  InceptionBlock-198           [-1, 1024, 8, 8]               0\n",
            "          Conv2d-199            [-1, 256, 8, 8]         262,400\n",
            "     BatchNorm2d-200            [-1, 256, 8, 8]             512\n",
            "       LeakyReLU-201            [-1, 256, 8, 8]               0\n",
            "       ConvBlock-202            [-1, 256, 8, 8]               0\n",
            "          Conv2d-203            [-1, 128, 8, 8]         131,200\n",
            "     BatchNorm2d-204            [-1, 128, 8, 8]             256\n",
            "       LeakyReLU-205            [-1, 128, 8, 8]               0\n",
            "       ConvBlock-206            [-1, 128, 8, 8]               0\n",
            "          Conv2d-207            [-1, 256, 8, 8]         295,168\n",
            "     BatchNorm2d-208            [-1, 256, 8, 8]             512\n",
            "       LeakyReLU-209            [-1, 256, 8, 8]               0\n",
            "       ConvBlock-210            [-1, 256, 8, 8]               0\n",
            "          Conv2d-211            [-1, 128, 8, 8]         131,200\n",
            "     BatchNorm2d-212            [-1, 128, 8, 8]             256\n",
            "       LeakyReLU-213            [-1, 128, 8, 8]               0\n",
            "       ConvBlock-214            [-1, 128, 8, 8]               0\n",
            "          Conv2d-215            [-1, 256, 8, 8]         819,456\n",
            "     BatchNorm2d-216            [-1, 256, 8, 8]             512\n",
            "       LeakyReLU-217            [-1, 256, 8, 8]               0\n",
            "       ConvBlock-218            [-1, 256, 8, 8]               0\n",
            "       MaxPool2d-219           [-1, 1024, 8, 8]               0\n",
            "          Conv2d-220            [-1, 256, 8, 8]         262,400\n",
            "     BatchNorm2d-221            [-1, 256, 8, 8]             512\n",
            "       LeakyReLU-222            [-1, 256, 8, 8]               0\n",
            "       ConvBlock-223            [-1, 256, 8, 8]               0\n",
            "  InceptionBlock-224           [-1, 1024, 8, 8]               0\n",
            "       MaxPool2d-225           [-1, 1024, 4, 4]               0\n",
            "AdaptiveAvgPool2d-226           [-1, 1024, 1, 1]               0\n",
            "     SqueezeDims-227                 [-1, 1024]               0\n",
            "         Dropout-228                 [-1, 1024]               0\n",
            "          Linear-229                   [-1, 43]          44,075\n",
            "================================================================\n",
            "Total params: 4,660,587\n",
            "Trainable params: 4,660,587\n",
            "Non-trainable params: 0\n",
            "----------------------------------------------------------------\n",
            "Input size (MB): 0.75\n",
            "Forward/backward pass size (MB): 201.15\n",
            "Params size (MB): 17.78\n",
            "Estimated Total Size (MB): 219.68\n",
            "----------------------------------------------------------------\n"
          ]
        }
      ]
    },
    {
      "cell_type": "code",
      "source": [
        "def perform_epoch(dataloader, epoch, num_epochs, metric, device, is_train = False, optimizer=None, scheduler=None):\n",
        "    running_loss = 0.0\n",
        "    for inputs, targets in tqdm(dataloader, desc=f\"Epoch {epoch+1}/{num_epochs}\"):\n",
        "        if is_train:\n",
        "            optimizer.zero_grad()\n",
        "        outputs = model(inputs.to(device))\n",
        "        loss = criterion(outputs, targets.to(device))\n",
        "        if is_train:\n",
        "          loss.backward()\n",
        "          optimizer.step()\n",
        "          scheduler.step()\n",
        "        running_loss += loss.item()\n",
        "        preds = torch.argmax(outputs, dim=1)\n",
        "        metric.update(preds, targets.to(device))\n",
        "    epoch_loss = running_loss / len(dataloader)\n",
        "    metric_value = metric.compute().item()\n",
        "    return epoch_loss, metric_value"
      ],
      "metadata": {
        "id": "3tTohudyrwxR"
      },
      "execution_count": 172,
      "outputs": []
    },
    {
      "cell_type": "code",
      "source": [
        "def train(model, num_epochs, criterion, opt, train_dl, val_dl, num_classes, earlystop_patience, weights_path, device):\n",
        "    scheduler = torch.optim.lr_scheduler.OneCycleLR(opt, max_lr=0.001, steps_per_epoch=len(train_dl), epochs=num_epochs)\n",
        "    train_acc_fn = torchmetrics.Accuracy(task='multiclass', num_classes=num_classes).to(device)\n",
        "    val_acc_fn = torchmetrics.Accuracy(task='multiclass', num_classes=num_classes).to(device)\n",
        "    best_val_acc = 0.0\n",
        "    epochs_without_improvement = 0\n",
        "\n",
        "    train_losses = []\n",
        "    train_accuracies = []\n",
        "    val_losses = []\n",
        "    val_accuracies = []\n",
        "    for epoch in range(num_epochs):\n",
        "         model.train()\n",
        "         train_acc_fn.reset()\n",
        "         loss, acc = perform_epoch(train_dl, epoch, num_epochs, train_acc_fn, device, is_train=True, optimizer = opt, scheduler = scheduler)\n",
        "         train_losses.append(loss)\n",
        "         train_accuracies.append(acc)\n",
        "         model.eval()\n",
        "         val_acc_fn.reset()\n",
        "         with torch.no_grad():\n",
        "            val_loss, val_acc= perform_epoch(val_dl, epoch, num_epochs, val_acc_fn, device)\n",
        "         val_losses.append(val_loss)\n",
        "         val_accuracies.append(val_acc.item())\n",
        "         print(f\"Epoch {epoch+1}/{num_epochs}\")\n",
        "         print(f\"Train Loss: {loss:.4f} Train Accuracy: {acc:.4f}\")\n",
        "         print(f\"Val Loss: {val_loss:.4f} Val Accuracy: {val_acc:.4f}\")\n",
        "         if val_acc > best_val_acc:\n",
        "            best_val_acc = val_acc\n",
        "            epochs_without_improvement = 0\n",
        "            torch.save(model.state_dict(), f\"{weights_path}/model{best_val_acc:3f}.pt\")\n",
        "            print(f\"Saved best model weights with validation accuracy: {best_val_acc:.4f}\")\n",
        "         else:\n",
        "              epochs_without_improvement += 1\n",
        "              if epochs_without_improvement >= earlystop_patience:\n",
        "                  print(f\"Early stopping triggered after {epoch+1} epochs without improvement.\")\n",
        "                  break\n",
        "    history = {\n",
        "      'train_losses': train_losses,\n",
        "      'train_accuracies': train_accuracies,\n",
        "      'val_losses': val_losses,\n",
        "      'val_accuracies': val_accuracies\n",
        "    }\n",
        "    return history"
      ],
      "metadata": {
        "id": "ulSqv3Hwo8Nw"
      },
      "execution_count": 180,
      "outputs": []
    },
    {
      "cell_type": "code",
      "source": [
        "import os\n",
        "\n",
        "# Define the path of the directory you want to create\n",
        "directory = 'saved_weights/'\n",
        "\n",
        "# Use os.makedirs() to create the directory and any necessary parent directories\n",
        "os.makedirs(directory, exist_ok=True)\n",
        "\n",
        "# Check if the directory was created\n",
        "if os.path.exists(directory):\n",
        "    print(f\"Directory '{directory}' created successfully.\")\n",
        "else:\n",
        "    print(f\"Failed to create directory '{directory}'.\")"
      ],
      "metadata": {
        "id": "CnIg620TljeT",
        "outputId": "5fa9aae8-4e61-42b8-d13e-e6c1e2a02c98",
        "colab": {
          "base_uri": "https://localhost:8080/"
        }
      },
      "execution_count": 137,
      "outputs": [
        {
          "output_type": "stream",
          "name": "stdout",
          "text": [
            "Directory 'saved_weights/' created successfully.\n"
          ]
        }
      ]
    },
    {
      "cell_type": "code",
      "source": [
        "checkpoint = torch.load('saved_weights/best_model.pt')\n",
        "\n",
        "# Load state_dict into model\n",
        "model.load_state_dict(checkpoint)\n"
      ],
      "metadata": {
        "id": "bxpgCNrOmRM1",
        "outputId": "a429b625-46ae-4110-9e7c-91d1ea11a612",
        "colab": {
          "base_uri": "https://localhost:8080/"
        }
      },
      "execution_count": 174,
      "outputs": [
        {
          "output_type": "execute_result",
          "data": {
            "text/plain": [
              "<All keys matched successfully>"
            ]
          },
          "metadata": {},
          "execution_count": 174
        }
      ]
    },
    {
      "cell_type": "markdown",
      "metadata": {
        "id": "gkWEqSPoUIL3"
      },
      "source": [
        "## Part 2: fine-tune an existing network\n",
        "\n",
        "Your goal is to fine-tune a pretrained **ResNet-18** model on `GroceryStoreDataset`. Use the implementation provided by PyTorch, do not implement it yourselves! (i.e. exactly what you **could not** do in the first part of the assignment). Specifically, you must use the PyTorch ResNet-18 model pretrained on ImageNet-1K (V1). Divide your fine-tuning into two parts:\n",
        "\n",
        "1. First, fine-tune the Resnet-18 with the same training hyperparameters you used for your best model in the first part of the assignment.\n",
        "1. Then, tweak the training hyperparameters in order to increase the accuracy on the validation split of `GroceryStoreDataset`. Justify your choices by analyzing the training plots and/or citing sources that guided you in your decisions (papers, blog posts, YouTube videos, or whatever else you find enlightening). You should consider yourselves satisfied once you obtain a classification accuracy on the **validation** split **between 80 and 90%**."
      ]
    },
    {
      "cell_type": "code",
      "source": [
        "criterion = torch.nn.CrossEntropyLoss()\n",
        "optimizer = optim.Adam(model.parameters(), lr=0.0001, weight_decay=0.0005)\n",
        "num_epochs = 100\n",
        "history = train(model,\n",
        "      num_epochs = num_epochs,\n",
        "      criterion = criterion,\n",
        "      opt = optimizer,\n",
        "      train_dl = train_dataloader,\n",
        "      val_dl = val_dataloader,\n",
        "      num_classes = 43,\n",
        "      earlystop_patience = 40,\n",
        "      weights_path = 'saved_weights',\n",
        "      device=device)"
      ],
      "metadata": {
        "colab": {
          "base_uri": "https://localhost:8080/"
        },
        "id": "YlOyp6BfvJy-",
        "outputId": "bf6ca399-8f64-44c0-eb78-508f7bed4f82",
        "collapsed": true
      },
      "execution_count": 175,
      "outputs": [
        {
          "output_type": "stream",
          "name": "stderr",
          "text": [
            "Epoch 1/100: 100%|██████████| 42/42 [00:20<00:00,  2.06it/s]\n",
            "Epoch 1/100: 100%|██████████| 5/5 [00:01<00:00,  3.15it/s]\n"
          ]
        },
        {
          "output_type": "stream",
          "name": "stdout",
          "text": [
            "Epoch 1/100\n",
            "Train Loss: 1.5348 Train Accuracy: 0.5545\n",
            "Val Loss: 2.1152 Val Accuracy: 0.4020\n",
            "Saved best model weights with validation accuracy: 0.4020\n"
          ]
        },
        {
          "output_type": "stream",
          "name": "stderr",
          "text": [
            "Epoch 2/100: 100%|██████████| 42/42 [00:19<00:00,  2.14it/s]\n",
            "Epoch 2/100: 100%|██████████| 5/5 [00:01<00:00,  2.55it/s]\n"
          ]
        },
        {
          "output_type": "stream",
          "name": "stdout",
          "text": [
            "Epoch 2/100\n",
            "Train Loss: 1.4489 Train Accuracy: 0.5799\n",
            "Val Loss: 2.0430 Val Accuracy: 0.3986\n"
          ]
        },
        {
          "output_type": "stream",
          "name": "stderr",
          "text": [
            "Epoch 3/100: 100%|██████████| 42/42 [00:20<00:00,  2.06it/s]\n",
            "Epoch 3/100: 100%|██████████| 5/5 [00:01<00:00,  3.21it/s]\n"
          ]
        },
        {
          "output_type": "stream",
          "name": "stdout",
          "text": [
            "Epoch 3/100\n",
            "Train Loss: 1.4202 Train Accuracy: 0.5852\n",
            "Val Loss: 2.0539 Val Accuracy: 0.3885\n"
          ]
        },
        {
          "output_type": "stream",
          "name": "stderr",
          "text": [
            "Epoch 4/100: 100%|██████████| 42/42 [00:18<00:00,  2.21it/s]\n",
            "Epoch 4/100: 100%|██████████| 5/5 [00:01<00:00,  2.51it/s]\n"
          ]
        },
        {
          "output_type": "stream",
          "name": "stdout",
          "text": [
            "Epoch 4/100\n",
            "Train Loss: 1.3923 Train Accuracy: 0.6008\n",
            "Val Loss: 2.0438 Val Accuracy: 0.3986\n"
          ]
        },
        {
          "output_type": "stream",
          "name": "stderr",
          "text": [
            "Epoch 5/100: 100%|██████████| 42/42 [00:19<00:00,  2.14it/s]\n",
            "Epoch 5/100: 100%|██████████| 5/5 [00:01<00:00,  3.21it/s]\n"
          ]
        },
        {
          "output_type": "stream",
          "name": "stdout",
          "text": [
            "Epoch 5/100\n",
            "Train Loss: 1.3665 Train Accuracy: 0.6068\n",
            "Val Loss: 1.9410 Val Accuracy: 0.4257\n",
            "Saved best model weights with validation accuracy: 0.4257\n"
          ]
        },
        {
          "output_type": "stream",
          "name": "stderr",
          "text": [
            "Epoch 6/100: 100%|██████████| 42/42 [00:19<00:00,  2.20it/s]\n",
            "Epoch 6/100: 100%|██████████| 5/5 [00:02<00:00,  2.35it/s]\n"
          ]
        },
        {
          "output_type": "stream",
          "name": "stdout",
          "text": [
            "Epoch 6/100\n",
            "Train Loss: 1.2931 Train Accuracy: 0.6133\n",
            "Val Loss: 2.0026 Val Accuracy: 0.3986\n"
          ]
        },
        {
          "output_type": "stream",
          "name": "stderr",
          "text": [
            "Epoch 7/100: 100%|██████████| 42/42 [00:19<00:00,  2.15it/s]\n",
            "Epoch 7/100: 100%|██████████| 5/5 [00:01<00:00,  3.23it/s]\n"
          ]
        },
        {
          "output_type": "stream",
          "name": "stdout",
          "text": [
            "Epoch 7/100\n",
            "Train Loss: 1.2823 Train Accuracy: 0.6106\n",
            "Val Loss: 2.0397 Val Accuracy: 0.3986\n"
          ]
        },
        {
          "output_type": "stream",
          "name": "stderr",
          "text": [
            "Epoch 8/100: 100%|██████████| 42/42 [00:18<00:00,  2.21it/s]\n",
            "Epoch 8/100: 100%|██████████| 5/5 [00:02<00:00,  2.11it/s]\n"
          ]
        },
        {
          "output_type": "stream",
          "name": "stdout",
          "text": [
            "Epoch 8/100\n",
            "Train Loss: 1.2399 Train Accuracy: 0.6178\n",
            "Val Loss: 1.9309 Val Accuracy: 0.4257\n"
          ]
        },
        {
          "output_type": "stream",
          "name": "stderr",
          "text": [
            "Epoch 9/100: 100%|██████████| 42/42 [00:19<00:00,  2.18it/s]\n",
            "Epoch 9/100: 100%|██████████| 5/5 [00:01<00:00,  3.12it/s]\n"
          ]
        },
        {
          "output_type": "stream",
          "name": "stdout",
          "text": [
            "Epoch 9/100\n",
            "Train Loss: 1.2022 Train Accuracy: 0.6292\n",
            "Val Loss: 1.9938 Val Accuracy: 0.4054\n"
          ]
        },
        {
          "output_type": "stream",
          "name": "stderr",
          "text": [
            "Epoch 10/100: 100%|██████████| 42/42 [00:19<00:00,  2.19it/s]\n",
            "Epoch 10/100: 100%|██████████| 5/5 [00:02<00:00,  2.08it/s]\n"
          ]
        },
        {
          "output_type": "stream",
          "name": "stdout",
          "text": [
            "Epoch 10/100\n",
            "Train Loss: 1.1572 Train Accuracy: 0.6265\n",
            "Val Loss: 1.9297 Val Accuracy: 0.4054\n"
          ]
        },
        {
          "output_type": "stream",
          "name": "stderr",
          "text": [
            "Epoch 11/100: 100%|██████████| 42/42 [00:19<00:00,  2.19it/s]\n",
            "Epoch 11/100: 100%|██████████| 5/5 [00:01<00:00,  3.13it/s]\n"
          ]
        },
        {
          "output_type": "stream",
          "name": "stdout",
          "text": [
            "Epoch 11/100\n",
            "Train Loss: 1.1162 Train Accuracy: 0.6500\n",
            "Val Loss: 1.8907 Val Accuracy: 0.4054\n"
          ]
        },
        {
          "output_type": "stream",
          "name": "stderr",
          "text": [
            "Epoch 12/100: 100%|██████████| 42/42 [00:19<00:00,  2.19it/s]\n",
            "Epoch 12/100: 100%|██████████| 5/5 [00:01<00:00,  2.81it/s]\n"
          ]
        },
        {
          "output_type": "stream",
          "name": "stdout",
          "text": [
            "Epoch 12/100\n",
            "Train Loss: 1.1255 Train Accuracy: 0.6473\n",
            "Val Loss: 1.9962 Val Accuracy: 0.4155\n"
          ]
        },
        {
          "output_type": "stream",
          "name": "stderr",
          "text": [
            "Epoch 13/100: 100%|██████████| 42/42 [00:19<00:00,  2.20it/s]\n",
            "Epoch 13/100: 100%|██████████| 5/5 [00:01<00:00,  3.17it/s]\n"
          ]
        },
        {
          "output_type": "stream",
          "name": "stdout",
          "text": [
            "Epoch 13/100\n",
            "Train Loss: 1.0639 Train Accuracy: 0.6708\n",
            "Val Loss: 1.8637 Val Accuracy: 0.4392\n",
            "Saved best model weights with validation accuracy: 0.4392\n"
          ]
        },
        {
          "output_type": "stream",
          "name": "stderr",
          "text": [
            "Epoch 14/100: 100%|██████████| 42/42 [00:19<00:00,  2.17it/s]\n",
            "Epoch 14/100: 100%|██████████| 5/5 [00:01<00:00,  3.04it/s]\n"
          ]
        },
        {
          "output_type": "stream",
          "name": "stdout",
          "text": [
            "Epoch 14/100\n",
            "Train Loss: 1.0575 Train Accuracy: 0.6682\n",
            "Val Loss: 1.8587 Val Accuracy: 0.4257\n"
          ]
        },
        {
          "output_type": "stream",
          "name": "stderr",
          "text": [
            "Epoch 15/100: 100%|██████████| 42/42 [00:19<00:00,  2.19it/s]\n",
            "Epoch 15/100: 100%|██████████| 5/5 [00:01<00:00,  3.17it/s]\n"
          ]
        },
        {
          "output_type": "stream",
          "name": "stdout",
          "text": [
            "Epoch 15/100\n",
            "Train Loss: 1.0244 Train Accuracy: 0.6807\n",
            "Val Loss: 2.0054 Val Accuracy: 0.3750\n"
          ]
        },
        {
          "output_type": "stream",
          "name": "stderr",
          "text": [
            "Epoch 16/100: 100%|██████████| 42/42 [00:19<00:00,  2.17it/s]\n",
            "Epoch 16/100: 100%|██████████| 5/5 [00:01<00:00,  2.94it/s]\n"
          ]
        },
        {
          "output_type": "stream",
          "name": "stdout",
          "text": [
            "Epoch 16/100\n",
            "Train Loss: 1.0006 Train Accuracy: 0.6780\n",
            "Val Loss: 1.8987 Val Accuracy: 0.4358\n"
          ]
        },
        {
          "output_type": "stream",
          "name": "stderr",
          "text": [
            "Epoch 17/100: 100%|██████████| 42/42 [00:19<00:00,  2.18it/s]\n",
            "Epoch 17/100: 100%|██████████| 5/5 [00:01<00:00,  3.08it/s]\n"
          ]
        },
        {
          "output_type": "stream",
          "name": "stdout",
          "text": [
            "Epoch 17/100\n",
            "Train Loss: 0.9939 Train Accuracy: 0.6830\n",
            "Val Loss: 1.9075 Val Accuracy: 0.4358\n"
          ]
        },
        {
          "output_type": "stream",
          "name": "stderr",
          "text": [
            "Epoch 18/100: 100%|██████████| 42/42 [00:19<00:00,  2.13it/s]\n",
            "Epoch 18/100: 100%|██████████| 5/5 [00:01<00:00,  2.77it/s]\n"
          ]
        },
        {
          "output_type": "stream",
          "name": "stdout",
          "text": [
            "Epoch 18/100\n",
            "Train Loss: 0.9133 Train Accuracy: 0.7189\n",
            "Val Loss: 1.8590 Val Accuracy: 0.4358\n"
          ]
        },
        {
          "output_type": "stream",
          "name": "stderr",
          "text": [
            "Epoch 19/100: 100%|██████████| 42/42 [00:19<00:00,  2.17it/s]\n",
            "Epoch 19/100: 100%|██████████| 5/5 [00:01<00:00,  3.14it/s]\n"
          ]
        },
        {
          "output_type": "stream",
          "name": "stdout",
          "text": [
            "Epoch 19/100\n",
            "Train Loss: 0.8825 Train Accuracy: 0.7182\n",
            "Val Loss: 2.1397 Val Accuracy: 0.3784\n"
          ]
        },
        {
          "output_type": "stream",
          "name": "stderr",
          "text": [
            "Epoch 20/100: 100%|██████████| 42/42 [00:19<00:00,  2.16it/s]\n",
            "Epoch 20/100: 100%|██████████| 5/5 [00:01<00:00,  3.11it/s]\n"
          ]
        },
        {
          "output_type": "stream",
          "name": "stdout",
          "text": [
            "Epoch 20/100\n",
            "Train Loss: 0.8924 Train Accuracy: 0.7182\n",
            "Val Loss: 2.0302 Val Accuracy: 0.4392\n"
          ]
        },
        {
          "output_type": "stream",
          "name": "stderr",
          "text": [
            "Epoch 21/100: 100%|██████████| 42/42 [00:18<00:00,  2.22it/s]\n",
            "Epoch 21/100: 100%|██████████| 5/5 [00:01<00:00,  3.18it/s]\n"
          ]
        },
        {
          "output_type": "stream",
          "name": "stdout",
          "text": [
            "Epoch 21/100\n",
            "Train Loss: 0.8390 Train Accuracy: 0.7303\n",
            "Val Loss: 2.0097 Val Accuracy: 0.3818\n"
          ]
        },
        {
          "output_type": "stream",
          "name": "stderr",
          "text": [
            "Epoch 22/100: 100%|██████████| 42/42 [00:19<00:00,  2.17it/s]\n",
            "Epoch 22/100: 100%|██████████| 5/5 [00:01<00:00,  3.03it/s]\n"
          ]
        },
        {
          "output_type": "stream",
          "name": "stdout",
          "text": [
            "Epoch 22/100\n",
            "Train Loss: 0.8396 Train Accuracy: 0.7367\n",
            "Val Loss: 2.2484 Val Accuracy: 0.4088\n"
          ]
        },
        {
          "output_type": "stream",
          "name": "stderr",
          "text": [
            "Epoch 23/100: 100%|██████████| 42/42 [00:19<00:00,  2.19it/s]\n",
            "Epoch 23/100: 100%|██████████| 5/5 [00:01<00:00,  3.27it/s]\n"
          ]
        },
        {
          "output_type": "stream",
          "name": "stdout",
          "text": [
            "Epoch 23/100\n",
            "Train Loss: 0.8769 Train Accuracy: 0.7208\n",
            "Val Loss: 2.0664 Val Accuracy: 0.4054\n"
          ]
        },
        {
          "output_type": "stream",
          "name": "stderr",
          "text": [
            "Epoch 24/100: 100%|██████████| 42/42 [00:19<00:00,  2.16it/s]\n",
            "Epoch 24/100: 100%|██████████| 5/5 [00:01<00:00,  3.03it/s]\n"
          ]
        },
        {
          "output_type": "stream",
          "name": "stdout",
          "text": [
            "Epoch 24/100\n",
            "Train Loss: 0.8748 Train Accuracy: 0.7231\n",
            "Val Loss: 2.2032 Val Accuracy: 0.3750\n"
          ]
        },
        {
          "output_type": "stream",
          "name": "stderr",
          "text": [
            "Epoch 25/100: 100%|██████████| 42/42 [00:19<00:00,  2.17it/s]\n",
            "Epoch 25/100: 100%|██████████| 5/5 [00:01<00:00,  3.00it/s]\n"
          ]
        },
        {
          "output_type": "stream",
          "name": "stdout",
          "text": [
            "Epoch 25/100\n",
            "Train Loss: 0.8187 Train Accuracy: 0.7280\n",
            "Val Loss: 1.9410 Val Accuracy: 0.4291\n"
          ]
        },
        {
          "output_type": "stream",
          "name": "stderr",
          "text": [
            "Epoch 26/100: 100%|██████████| 42/42 [00:19<00:00,  2.16it/s]\n",
            "Epoch 26/100: 100%|██████████| 5/5 [00:01<00:00,  3.07it/s]\n"
          ]
        },
        {
          "output_type": "stream",
          "name": "stdout",
          "text": [
            "Epoch 26/100\n",
            "Train Loss: 0.7748 Train Accuracy: 0.7473\n",
            "Val Loss: 1.9606 Val Accuracy: 0.4054\n"
          ]
        },
        {
          "output_type": "stream",
          "name": "stderr",
          "text": [
            "Epoch 27/100: 100%|██████████| 42/42 [00:19<00:00,  2.19it/s]\n",
            "Epoch 27/100: 100%|██████████| 5/5 [00:01<00:00,  3.15it/s]\n"
          ]
        },
        {
          "output_type": "stream",
          "name": "stdout",
          "text": [
            "Epoch 27/100\n",
            "Train Loss: 0.7858 Train Accuracy: 0.7530\n",
            "Val Loss: 1.8787 Val Accuracy: 0.4595\n",
            "Saved best model weights with validation accuracy: 0.4595\n"
          ]
        },
        {
          "output_type": "stream",
          "name": "stderr",
          "text": [
            "Epoch 28/100: 100%|██████████| 42/42 [00:19<00:00,  2.16it/s]\n",
            "Epoch 28/100: 100%|██████████| 5/5 [00:01<00:00,  3.02it/s]\n"
          ]
        },
        {
          "output_type": "stream",
          "name": "stdout",
          "text": [
            "Epoch 28/100\n",
            "Train Loss: 0.7887 Train Accuracy: 0.7553\n",
            "Val Loss: 2.1665 Val Accuracy: 0.4426\n"
          ]
        },
        {
          "output_type": "stream",
          "name": "stderr",
          "text": [
            "Epoch 29/100: 100%|██████████| 42/42 [00:19<00:00,  2.20it/s]\n",
            "Epoch 29/100: 100%|██████████| 5/5 [00:01<00:00,  3.14it/s]\n"
          ]
        },
        {
          "output_type": "stream",
          "name": "stdout",
          "text": [
            "Epoch 29/100\n",
            "Train Loss: 0.7595 Train Accuracy: 0.7576\n",
            "Val Loss: 2.0465 Val Accuracy: 0.4054\n"
          ]
        },
        {
          "output_type": "stream",
          "name": "stderr",
          "text": [
            "Epoch 30/100: 100%|██████████| 42/42 [00:19<00:00,  2.15it/s]\n",
            "Epoch 30/100: 100%|██████████| 5/5 [00:01<00:00,  3.03it/s]\n"
          ]
        },
        {
          "output_type": "stream",
          "name": "stdout",
          "text": [
            "Epoch 30/100\n",
            "Train Loss: 0.7121 Train Accuracy: 0.7561\n",
            "Val Loss: 1.9191 Val Accuracy: 0.4459\n"
          ]
        },
        {
          "output_type": "stream",
          "name": "stderr",
          "text": [
            "Epoch 31/100: 100%|██████████| 42/42 [00:19<00:00,  2.21it/s]\n",
            "Epoch 31/100: 100%|██████████| 5/5 [00:01<00:00,  3.16it/s]\n"
          ]
        },
        {
          "output_type": "stream",
          "name": "stdout",
          "text": [
            "Epoch 31/100\n",
            "Train Loss: 0.6929 Train Accuracy: 0.7875\n",
            "Val Loss: 1.9800 Val Accuracy: 0.4392\n"
          ]
        },
        {
          "output_type": "stream",
          "name": "stderr",
          "text": [
            "Epoch 32/100: 100%|██████████| 42/42 [00:19<00:00,  2.18it/s]\n",
            "Epoch 32/100: 100%|██████████| 5/5 [00:01<00:00,  3.00it/s]\n"
          ]
        },
        {
          "output_type": "stream",
          "name": "stdout",
          "text": [
            "Epoch 32/100\n",
            "Train Loss: 0.7634 Train Accuracy: 0.7598\n",
            "Val Loss: 2.0815 Val Accuracy: 0.4223\n"
          ]
        },
        {
          "output_type": "stream",
          "name": "stderr",
          "text": [
            "Epoch 33/100: 100%|██████████| 42/42 [00:19<00:00,  2.20it/s]\n",
            "Epoch 33/100: 100%|██████████| 5/5 [00:01<00:00,  3.08it/s]\n"
          ]
        },
        {
          "output_type": "stream",
          "name": "stdout",
          "text": [
            "Epoch 33/100\n",
            "Train Loss: 0.6868 Train Accuracy: 0.7814\n",
            "Val Loss: 1.9954 Val Accuracy: 0.4797\n",
            "Saved best model weights with validation accuracy: 0.4797\n"
          ]
        },
        {
          "output_type": "stream",
          "name": "stderr",
          "text": [
            "Epoch 34/100: 100%|██████████| 42/42 [00:19<00:00,  2.18it/s]\n",
            "Epoch 34/100: 100%|██████████| 5/5 [00:01<00:00,  2.92it/s]\n"
          ]
        },
        {
          "output_type": "stream",
          "name": "stdout",
          "text": [
            "Epoch 34/100\n",
            "Train Loss: 0.6667 Train Accuracy: 0.7879\n",
            "Val Loss: 2.0981 Val Accuracy: 0.4459\n"
          ]
        },
        {
          "output_type": "stream",
          "name": "stderr",
          "text": [
            "Epoch 35/100: 100%|██████████| 42/42 [00:19<00:00,  2.18it/s]\n",
            "Epoch 35/100: 100%|██████████| 5/5 [00:01<00:00,  3.14it/s]\n"
          ]
        },
        {
          "output_type": "stream",
          "name": "stdout",
          "text": [
            "Epoch 35/100\n",
            "Train Loss: 0.7067 Train Accuracy: 0.7867\n",
            "Val Loss: 2.0640 Val Accuracy: 0.4595\n"
          ]
        },
        {
          "output_type": "stream",
          "name": "stderr",
          "text": [
            "Epoch 36/100: 100%|██████████| 42/42 [00:19<00:00,  2.14it/s]\n",
            "Epoch 36/100: 100%|██████████| 5/5 [00:01<00:00,  2.87it/s]\n"
          ]
        },
        {
          "output_type": "stream",
          "name": "stdout",
          "text": [
            "Epoch 36/100\n",
            "Train Loss: 0.6499 Train Accuracy: 0.8008\n",
            "Val Loss: 1.6937 Val Accuracy: 0.4730\n"
          ]
        },
        {
          "output_type": "stream",
          "name": "stderr",
          "text": [
            "Epoch 37/100: 100%|██████████| 42/42 [00:19<00:00,  2.13it/s]\n",
            "Epoch 37/100: 100%|██████████| 5/5 [00:01<00:00,  3.17it/s]\n"
          ]
        },
        {
          "output_type": "stream",
          "name": "stdout",
          "text": [
            "Epoch 37/100\n",
            "Train Loss: 0.5720 Train Accuracy: 0.8167\n",
            "Val Loss: 2.0321 Val Accuracy: 0.4730\n"
          ]
        },
        {
          "output_type": "stream",
          "name": "stderr",
          "text": [
            "Epoch 38/100: 100%|██████████| 42/42 [00:19<00:00,  2.18it/s]\n",
            "Epoch 38/100: 100%|██████████| 5/5 [00:01<00:00,  2.80it/s]\n"
          ]
        },
        {
          "output_type": "stream",
          "name": "stdout",
          "text": [
            "Epoch 38/100\n",
            "Train Loss: 0.5318 Train Accuracy: 0.8337\n",
            "Val Loss: 2.0587 Val Accuracy: 0.4291\n"
          ]
        },
        {
          "output_type": "stream",
          "name": "stderr",
          "text": [
            "Epoch 39/100: 100%|██████████| 42/42 [00:19<00:00,  2.19it/s]\n",
            "Epoch 39/100: 100%|██████████| 5/5 [00:01<00:00,  3.17it/s]\n"
          ]
        },
        {
          "output_type": "stream",
          "name": "stdout",
          "text": [
            "Epoch 39/100\n",
            "Train Loss: 0.6094 Train Accuracy: 0.8030\n",
            "Val Loss: 1.8292 Val Accuracy: 0.4966\n",
            "Saved best model weights with validation accuracy: 0.4966\n"
          ]
        },
        {
          "output_type": "stream",
          "name": "stderr",
          "text": [
            "Epoch 40/100: 100%|██████████| 42/42 [00:19<00:00,  2.15it/s]\n",
            "Epoch 40/100: 100%|██████████| 5/5 [00:01<00:00,  3.02it/s]\n"
          ]
        },
        {
          "output_type": "stream",
          "name": "stdout",
          "text": [
            "Epoch 40/100\n",
            "Train Loss: 0.6054 Train Accuracy: 0.8178\n",
            "Val Loss: 1.7819 Val Accuracy: 0.5439\n",
            "Saved best model weights with validation accuracy: 0.5439\n"
          ]
        },
        {
          "output_type": "stream",
          "name": "stderr",
          "text": [
            "Epoch 41/100: 100%|██████████| 42/42 [00:19<00:00,  2.19it/s]\n",
            "Epoch 41/100: 100%|██████████| 5/5 [00:01<00:00,  3.20it/s]\n"
          ]
        },
        {
          "output_type": "stream",
          "name": "stdout",
          "text": [
            "Epoch 41/100\n",
            "Train Loss: 0.5708 Train Accuracy: 0.8182\n",
            "Val Loss: 1.8311 Val Accuracy: 0.4966\n"
          ]
        },
        {
          "output_type": "stream",
          "name": "stderr",
          "text": [
            "Epoch 42/100: 100%|██████████| 42/42 [00:19<00:00,  2.18it/s]\n",
            "Epoch 42/100: 100%|██████████| 5/5 [00:01<00:00,  3.06it/s]\n"
          ]
        },
        {
          "output_type": "stream",
          "name": "stdout",
          "text": [
            "Epoch 42/100\n",
            "Train Loss: 0.5505 Train Accuracy: 0.8216\n",
            "Val Loss: 1.9378 Val Accuracy: 0.4932\n"
          ]
        },
        {
          "output_type": "stream",
          "name": "stderr",
          "text": [
            "Epoch 43/100: 100%|██████████| 42/42 [00:19<00:00,  2.19it/s]\n",
            "Epoch 43/100: 100%|██████████| 5/5 [00:01<00:00,  3.28it/s]\n"
          ]
        },
        {
          "output_type": "stream",
          "name": "stdout",
          "text": [
            "Epoch 43/100\n",
            "Train Loss: 0.5462 Train Accuracy: 0.8364\n",
            "Val Loss: 2.0962 Val Accuracy: 0.4696\n"
          ]
        },
        {
          "output_type": "stream",
          "name": "stderr",
          "text": [
            "Epoch 44/100: 100%|██████████| 42/42 [00:19<00:00,  2.16it/s]\n",
            "Epoch 44/100: 100%|██████████| 5/5 [00:01<00:00,  3.16it/s]\n"
          ]
        },
        {
          "output_type": "stream",
          "name": "stdout",
          "text": [
            "Epoch 44/100\n",
            "Train Loss: 0.5119 Train Accuracy: 0.8337\n",
            "Val Loss: 1.7980 Val Accuracy: 0.5372\n"
          ]
        },
        {
          "output_type": "stream",
          "name": "stderr",
          "text": [
            "Epoch 45/100: 100%|██████████| 42/42 [00:19<00:00,  2.19it/s]\n",
            "Epoch 45/100: 100%|██████████| 5/5 [00:01<00:00,  3.15it/s]\n"
          ]
        },
        {
          "output_type": "stream",
          "name": "stdout",
          "text": [
            "Epoch 45/100\n",
            "Train Loss: 0.5007 Train Accuracy: 0.8492\n",
            "Val Loss: 2.1690 Val Accuracy: 0.4189\n"
          ]
        },
        {
          "output_type": "stream",
          "name": "stderr",
          "text": [
            "Epoch 46/100: 100%|██████████| 42/42 [00:19<00:00,  2.16it/s]\n",
            "Epoch 46/100: 100%|██████████| 5/5 [00:01<00:00,  3.07it/s]\n"
          ]
        },
        {
          "output_type": "stream",
          "name": "stdout",
          "text": [
            "Epoch 46/100\n",
            "Train Loss: 0.5879 Train Accuracy: 0.8314\n",
            "Val Loss: 2.0818 Val Accuracy: 0.4662\n"
          ]
        },
        {
          "output_type": "stream",
          "name": "stderr",
          "text": [
            "Epoch 47/100: 100%|██████████| 42/42 [00:19<00:00,  2.18it/s]\n",
            "Epoch 47/100: 100%|██████████| 5/5 [00:01<00:00,  3.21it/s]\n"
          ]
        },
        {
          "output_type": "stream",
          "name": "stdout",
          "text": [
            "Epoch 47/100\n",
            "Train Loss: 0.4997 Train Accuracy: 0.8477\n",
            "Val Loss: 2.0757 Val Accuracy: 0.4899\n"
          ]
        },
        {
          "output_type": "stream",
          "name": "stderr",
          "text": [
            "Epoch 48/100: 100%|██████████| 42/42 [00:19<00:00,  2.17it/s]\n",
            "Epoch 48/100: 100%|██████████| 5/5 [00:01<00:00,  3.20it/s]\n"
          ]
        },
        {
          "output_type": "stream",
          "name": "stdout",
          "text": [
            "Epoch 48/100\n",
            "Train Loss: 0.4652 Train Accuracy: 0.8534\n",
            "Val Loss: 1.9496 Val Accuracy: 0.4899\n"
          ]
        },
        {
          "output_type": "stream",
          "name": "stderr",
          "text": [
            "Epoch 49/100: 100%|██████████| 42/42 [00:19<00:00,  2.20it/s]\n",
            "Epoch 49/100: 100%|██████████| 5/5 [00:01<00:00,  3.12it/s]\n"
          ]
        },
        {
          "output_type": "stream",
          "name": "stdout",
          "text": [
            "Epoch 49/100\n",
            "Train Loss: 0.4995 Train Accuracy: 0.8439\n",
            "Val Loss: 2.1364 Val Accuracy: 0.4426\n"
          ]
        },
        {
          "output_type": "stream",
          "name": "stderr",
          "text": [
            "Epoch 50/100: 100%|██████████| 42/42 [00:19<00:00,  2.17it/s]\n",
            "Epoch 50/100: 100%|██████████| 5/5 [00:01<00:00,  3.29it/s]\n"
          ]
        },
        {
          "output_type": "stream",
          "name": "stdout",
          "text": [
            "Epoch 50/100\n",
            "Train Loss: 0.4731 Train Accuracy: 0.8508\n",
            "Val Loss: 2.0186 Val Accuracy: 0.4662\n"
          ]
        },
        {
          "output_type": "stream",
          "name": "stderr",
          "text": [
            "Epoch 51/100: 100%|██████████| 42/42 [00:19<00:00,  2.20it/s]\n",
            "Epoch 51/100: 100%|██████████| 5/5 [00:01<00:00,  3.14it/s]\n"
          ]
        },
        {
          "output_type": "stream",
          "name": "stdout",
          "text": [
            "Epoch 51/100\n",
            "Train Loss: 0.4832 Train Accuracy: 0.8545\n",
            "Val Loss: 1.9113 Val Accuracy: 0.4966\n"
          ]
        },
        {
          "output_type": "stream",
          "name": "stderr",
          "text": [
            "Epoch 52/100: 100%|██████████| 42/42 [00:19<00:00,  2.16it/s]\n",
            "Epoch 52/100: 100%|██████████| 5/5 [00:01<00:00,  3.13it/s]\n"
          ]
        },
        {
          "output_type": "stream",
          "name": "stdout",
          "text": [
            "Epoch 52/100\n",
            "Train Loss: 0.4271 Train Accuracy: 0.8720\n",
            "Val Loss: 1.8019 Val Accuracy: 0.5236\n"
          ]
        },
        {
          "output_type": "stream",
          "name": "stderr",
          "text": [
            "Epoch 53/100: 100%|██████████| 42/42 [00:19<00:00,  2.17it/s]\n",
            "Epoch 53/100: 100%|██████████| 5/5 [00:01<00:00,  3.04it/s]\n"
          ]
        },
        {
          "output_type": "stream",
          "name": "stdout",
          "text": [
            "Epoch 53/100\n",
            "Train Loss: 0.4614 Train Accuracy: 0.8636\n",
            "Val Loss: 1.8159 Val Accuracy: 0.5135\n"
          ]
        },
        {
          "output_type": "stream",
          "name": "stderr",
          "text": [
            "Epoch 54/100: 100%|██████████| 42/42 [00:19<00:00,  2.14it/s]\n",
            "Epoch 54/100: 100%|██████████| 5/5 [00:01<00:00,  2.94it/s]\n"
          ]
        },
        {
          "output_type": "stream",
          "name": "stdout",
          "text": [
            "Epoch 54/100\n",
            "Train Loss: 0.4297 Train Accuracy: 0.8697\n",
            "Val Loss: 1.7326 Val Accuracy: 0.5068\n"
          ]
        },
        {
          "output_type": "stream",
          "name": "stderr",
          "text": [
            "Epoch 55/100: 100%|██████████| 42/42 [00:19<00:00,  2.14it/s]\n",
            "Epoch 55/100: 100%|██████████| 5/5 [00:01<00:00,  3.20it/s]\n"
          ]
        },
        {
          "output_type": "stream",
          "name": "stdout",
          "text": [
            "Epoch 55/100\n",
            "Train Loss: 0.4342 Train Accuracy: 0.8686\n",
            "Val Loss: 1.7486 Val Accuracy: 0.5405\n"
          ]
        },
        {
          "output_type": "stream",
          "name": "stderr",
          "text": [
            "Epoch 56/100: 100%|██████████| 42/42 [00:19<00:00,  2.16it/s]\n",
            "Epoch 56/100: 100%|██████████| 5/5 [00:01<00:00,  3.02it/s]\n"
          ]
        },
        {
          "output_type": "stream",
          "name": "stdout",
          "text": [
            "Epoch 56/100\n",
            "Train Loss: 0.3958 Train Accuracy: 0.8754\n",
            "Val Loss: 1.8989 Val Accuracy: 0.5135\n"
          ]
        },
        {
          "output_type": "stream",
          "name": "stderr",
          "text": [
            "Epoch 57/100: 100%|██████████| 42/42 [00:19<00:00,  2.21it/s]\n",
            "Epoch 57/100: 100%|██████████| 5/5 [00:01<00:00,  3.18it/s]\n"
          ]
        },
        {
          "output_type": "stream",
          "name": "stdout",
          "text": [
            "Epoch 57/100\n",
            "Train Loss: 0.3720 Train Accuracy: 0.8943\n",
            "Val Loss: 1.7944 Val Accuracy: 0.5101\n"
          ]
        },
        {
          "output_type": "stream",
          "name": "stderr",
          "text": [
            "Epoch 58/100: 100%|██████████| 42/42 [00:19<00:00,  2.17it/s]\n",
            "Epoch 58/100: 100%|██████████| 5/5 [00:01<00:00,  3.18it/s]\n"
          ]
        },
        {
          "output_type": "stream",
          "name": "stdout",
          "text": [
            "Epoch 58/100\n",
            "Train Loss: 0.4508 Train Accuracy: 0.8629\n",
            "Val Loss: 1.8071 Val Accuracy: 0.5236\n"
          ]
        },
        {
          "output_type": "stream",
          "name": "stderr",
          "text": [
            "Epoch 59/100: 100%|██████████| 42/42 [00:19<00:00,  2.19it/s]\n",
            "Epoch 59/100: 100%|██████████| 5/5 [00:01<00:00,  3.18it/s]\n"
          ]
        },
        {
          "output_type": "stream",
          "name": "stdout",
          "text": [
            "Epoch 59/100\n",
            "Train Loss: 0.3711 Train Accuracy: 0.8875\n",
            "Val Loss: 1.7905 Val Accuracy: 0.5439\n"
          ]
        },
        {
          "output_type": "stream",
          "name": "stderr",
          "text": [
            "Epoch 60/100: 100%|██████████| 42/42 [00:19<00:00,  2.15it/s]\n",
            "Epoch 60/100: 100%|██████████| 5/5 [00:01<00:00,  3.25it/s]\n"
          ]
        },
        {
          "output_type": "stream",
          "name": "stdout",
          "text": [
            "Epoch 60/100\n",
            "Train Loss: 0.3760 Train Accuracy: 0.8848\n",
            "Val Loss: 1.6993 Val Accuracy: 0.5507\n",
            "Saved best model weights with validation accuracy: 0.5507\n"
          ]
        },
        {
          "output_type": "stream",
          "name": "stderr",
          "text": [
            "Epoch 61/100: 100%|██████████| 42/42 [00:19<00:00,  2.20it/s]\n",
            "Epoch 61/100: 100%|██████████| 5/5 [00:01<00:00,  3.14it/s]\n"
          ]
        },
        {
          "output_type": "stream",
          "name": "stdout",
          "text": [
            "Epoch 61/100\n",
            "Train Loss: 0.3570 Train Accuracy: 0.8909\n",
            "Val Loss: 1.7274 Val Accuracy: 0.5203\n"
          ]
        },
        {
          "output_type": "stream",
          "name": "stderr",
          "text": [
            "Epoch 62/100: 100%|██████████| 42/42 [00:19<00:00,  2.16it/s]\n",
            "Epoch 62/100: 100%|██████████| 5/5 [00:01<00:00,  3.11it/s]\n"
          ]
        },
        {
          "output_type": "stream",
          "name": "stdout",
          "text": [
            "Epoch 62/100\n",
            "Train Loss: 0.3428 Train Accuracy: 0.8890\n",
            "Val Loss: 1.8364 Val Accuracy: 0.5338\n"
          ]
        },
        {
          "output_type": "stream",
          "name": "stderr",
          "text": [
            "Epoch 63/100: 100%|██████████| 42/42 [00:19<00:00,  2.18it/s]\n",
            "Epoch 63/100: 100%|██████████| 5/5 [00:01<00:00,  3.18it/s]\n"
          ]
        },
        {
          "output_type": "stream",
          "name": "stdout",
          "text": [
            "Epoch 63/100\n",
            "Train Loss: 0.3429 Train Accuracy: 0.8996\n",
            "Val Loss: 1.7950 Val Accuracy: 0.5270\n"
          ]
        },
        {
          "output_type": "stream",
          "name": "stderr",
          "text": [
            "Epoch 64/100: 100%|██████████| 42/42 [00:19<00:00,  2.17it/s]\n",
            "Epoch 64/100: 100%|██████████| 5/5 [00:01<00:00,  3.22it/s]\n"
          ]
        },
        {
          "output_type": "stream",
          "name": "stdout",
          "text": [
            "Epoch 64/100\n",
            "Train Loss: 0.3457 Train Accuracy: 0.9034\n",
            "Val Loss: 1.6464 Val Accuracy: 0.5541\n",
            "Saved best model weights with validation accuracy: 0.5541\n"
          ]
        },
        {
          "output_type": "stream",
          "name": "stderr",
          "text": [
            "Epoch 65/100: 100%|██████████| 42/42 [00:19<00:00,  2.20it/s]\n",
            "Epoch 65/100: 100%|██████████| 5/5 [00:01<00:00,  3.28it/s]\n"
          ]
        },
        {
          "output_type": "stream",
          "name": "stdout",
          "text": [
            "Epoch 65/100\n",
            "Train Loss: 0.3567 Train Accuracy: 0.8890\n",
            "Val Loss: 1.8509 Val Accuracy: 0.4966\n"
          ]
        },
        {
          "output_type": "stream",
          "name": "stderr",
          "text": [
            "Epoch 66/100: 100%|██████████| 42/42 [00:19<00:00,  2.16it/s]\n",
            "Epoch 66/100: 100%|██████████| 5/5 [00:01<00:00,  3.15it/s]\n"
          ]
        },
        {
          "output_type": "stream",
          "name": "stdout",
          "text": [
            "Epoch 66/100\n",
            "Train Loss: 0.3376 Train Accuracy: 0.8989\n",
            "Val Loss: 1.8338 Val Accuracy: 0.5270\n"
          ]
        },
        {
          "output_type": "stream",
          "name": "stderr",
          "text": [
            "Epoch 67/100: 100%|██████████| 42/42 [00:19<00:00,  2.21it/s]\n",
            "Epoch 67/100: 100%|██████████| 5/5 [00:01<00:00,  3.12it/s]\n"
          ]
        },
        {
          "output_type": "stream",
          "name": "stdout",
          "text": [
            "Epoch 67/100\n",
            "Train Loss: 0.3341 Train Accuracy: 0.8973\n",
            "Val Loss: 1.9213 Val Accuracy: 0.5101\n"
          ]
        },
        {
          "output_type": "stream",
          "name": "stderr",
          "text": [
            "Epoch 68/100: 100%|██████████| 42/42 [00:19<00:00,  2.17it/s]\n",
            "Epoch 68/100: 100%|██████████| 5/5 [00:01<00:00,  3.09it/s]\n"
          ]
        },
        {
          "output_type": "stream",
          "name": "stdout",
          "text": [
            "Epoch 68/100\n",
            "Train Loss: 0.2903 Train Accuracy: 0.9178\n",
            "Val Loss: 1.7824 Val Accuracy: 0.5236\n"
          ]
        },
        {
          "output_type": "stream",
          "name": "stderr",
          "text": [
            "Epoch 69/100: 100%|██████████| 42/42 [00:19<00:00,  2.19it/s]\n",
            "Epoch 69/100: 100%|██████████| 5/5 [00:01<00:00,  3.18it/s]\n"
          ]
        },
        {
          "output_type": "stream",
          "name": "stdout",
          "text": [
            "Epoch 69/100\n",
            "Train Loss: 0.3164 Train Accuracy: 0.9049\n",
            "Val Loss: 1.8515 Val Accuracy: 0.5101\n"
          ]
        },
        {
          "output_type": "stream",
          "name": "stderr",
          "text": [
            "Epoch 70/100: 100%|██████████| 42/42 [00:19<00:00,  2.16it/s]\n",
            "Epoch 70/100: 100%|██████████| 5/5 [00:01<00:00,  3.12it/s]\n"
          ]
        },
        {
          "output_type": "stream",
          "name": "stdout",
          "text": [
            "Epoch 70/100\n",
            "Train Loss: 0.3036 Train Accuracy: 0.9136\n",
            "Val Loss: 1.8244 Val Accuracy: 0.5169\n"
          ]
        },
        {
          "output_type": "stream",
          "name": "stderr",
          "text": [
            "Epoch 71/100: 100%|██████████| 42/42 [00:19<00:00,  2.18it/s]\n",
            "Epoch 71/100: 100%|██████████| 5/5 [00:01<00:00,  3.07it/s]\n"
          ]
        },
        {
          "output_type": "stream",
          "name": "stdout",
          "text": [
            "Epoch 71/100\n",
            "Train Loss: 0.3275 Train Accuracy: 0.9038\n",
            "Val Loss: 1.8353 Val Accuracy: 0.5135\n"
          ]
        },
        {
          "output_type": "stream",
          "name": "stderr",
          "text": [
            "Epoch 72/100: 100%|██████████| 42/42 [00:19<00:00,  2.15it/s]\n",
            "Epoch 72/100: 100%|██████████| 5/5 [00:01<00:00,  3.18it/s]\n"
          ]
        },
        {
          "output_type": "stream",
          "name": "stdout",
          "text": [
            "Epoch 72/100\n",
            "Train Loss: 0.3002 Train Accuracy: 0.9129\n",
            "Val Loss: 1.7964 Val Accuracy: 0.5270\n"
          ]
        },
        {
          "output_type": "stream",
          "name": "stderr",
          "text": [
            "Epoch 73/100: 100%|██████████| 42/42 [00:19<00:00,  2.15it/s]\n",
            "Epoch 73/100: 100%|██████████| 5/5 [00:01<00:00,  2.80it/s]\n"
          ]
        },
        {
          "output_type": "stream",
          "name": "stdout",
          "text": [
            "Epoch 73/100\n",
            "Train Loss: 0.3041 Train Accuracy: 0.9174\n",
            "Val Loss: 1.6926 Val Accuracy: 0.5541\n"
          ]
        },
        {
          "output_type": "stream",
          "name": "stderr",
          "text": [
            "Epoch 74/100: 100%|██████████| 42/42 [00:19<00:00,  2.14it/s]\n",
            "Epoch 74/100: 100%|██████████| 5/5 [00:01<00:00,  3.12it/s]\n"
          ]
        },
        {
          "output_type": "stream",
          "name": "stdout",
          "text": [
            "Epoch 74/100\n",
            "Train Loss: 0.2945 Train Accuracy: 0.9152\n",
            "Val Loss: 1.7289 Val Accuracy: 0.5574\n",
            "Saved best model weights with validation accuracy: 0.5574\n"
          ]
        },
        {
          "output_type": "stream",
          "name": "stderr",
          "text": [
            "Epoch 75/100: 100%|██████████| 42/42 [00:19<00:00,  2.19it/s]\n",
            "Epoch 75/100: 100%|██████████| 5/5 [00:01<00:00,  3.12it/s]\n"
          ]
        },
        {
          "output_type": "stream",
          "name": "stdout",
          "text": [
            "Epoch 75/100\n",
            "Train Loss: 0.2558 Train Accuracy: 0.9299\n",
            "Val Loss: 1.7088 Val Accuracy: 0.5642\n",
            "Saved best model weights with validation accuracy: 0.5642\n"
          ]
        },
        {
          "output_type": "stream",
          "name": "stderr",
          "text": [
            "Epoch 76/100: 100%|██████████| 42/42 [00:19<00:00,  2.17it/s]\n",
            "Epoch 76/100: 100%|██████████| 5/5 [00:01<00:00,  3.10it/s]\n"
          ]
        },
        {
          "output_type": "stream",
          "name": "stdout",
          "text": [
            "Epoch 76/100\n",
            "Train Loss: 0.2555 Train Accuracy: 0.9288\n",
            "Val Loss: 1.7825 Val Accuracy: 0.5372\n"
          ]
        },
        {
          "output_type": "stream",
          "name": "stderr",
          "text": [
            "Epoch 77/100: 100%|██████████| 42/42 [00:19<00:00,  2.19it/s]\n",
            "Epoch 77/100: 100%|██████████| 5/5 [00:01<00:00,  3.10it/s]\n"
          ]
        },
        {
          "output_type": "stream",
          "name": "stdout",
          "text": [
            "Epoch 77/100\n",
            "Train Loss: 0.2677 Train Accuracy: 0.9348\n",
            "Val Loss: 1.6756 Val Accuracy: 0.5845\n",
            "Saved best model weights with validation accuracy: 0.5845\n"
          ]
        },
        {
          "output_type": "stream",
          "name": "stderr",
          "text": [
            "Epoch 78/100: 100%|██████████| 42/42 [00:19<00:00,  2.15it/s]\n",
            "Epoch 78/100: 100%|██████████| 5/5 [00:01<00:00,  3.13it/s]\n"
          ]
        },
        {
          "output_type": "stream",
          "name": "stdout",
          "text": [
            "Epoch 78/100\n",
            "Train Loss: 0.2520 Train Accuracy: 0.9250\n",
            "Val Loss: 1.7707 Val Accuracy: 0.5541\n"
          ]
        },
        {
          "output_type": "stream",
          "name": "stderr",
          "text": [
            "Epoch 79/100: 100%|██████████| 42/42 [00:19<00:00,  2.19it/s]\n",
            "Epoch 79/100: 100%|██████████| 5/5 [00:01<00:00,  3.11it/s]\n"
          ]
        },
        {
          "output_type": "stream",
          "name": "stdout",
          "text": [
            "Epoch 79/100\n",
            "Train Loss: 0.2760 Train Accuracy: 0.9269\n",
            "Val Loss: 1.6498 Val Accuracy: 0.5811\n"
          ]
        },
        {
          "output_type": "stream",
          "name": "stderr",
          "text": [
            "Epoch 80/100: 100%|██████████| 42/42 [00:19<00:00,  2.16it/s]\n",
            "Epoch 80/100: 100%|██████████| 5/5 [00:01<00:00,  3.14it/s]\n"
          ]
        },
        {
          "output_type": "stream",
          "name": "stdout",
          "text": [
            "Epoch 80/100\n",
            "Train Loss: 0.2652 Train Accuracy: 0.9250\n",
            "Val Loss: 1.7291 Val Accuracy: 0.5236\n"
          ]
        },
        {
          "output_type": "stream",
          "name": "stderr",
          "text": [
            "Epoch 81/100: 100%|██████████| 42/42 [00:19<00:00,  2.21it/s]\n",
            "Epoch 81/100: 100%|██████████| 5/5 [00:01<00:00,  3.21it/s]\n"
          ]
        },
        {
          "output_type": "stream",
          "name": "stdout",
          "text": [
            "Epoch 81/100\n",
            "Train Loss: 0.2630 Train Accuracy: 0.9326\n",
            "Val Loss: 1.6460 Val Accuracy: 0.5507\n"
          ]
        },
        {
          "output_type": "stream",
          "name": "stderr",
          "text": [
            "Epoch 82/100: 100%|██████████| 42/42 [00:19<00:00,  2.16it/s]\n",
            "Epoch 82/100: 100%|██████████| 5/5 [00:01<00:00,  3.29it/s]\n"
          ]
        },
        {
          "output_type": "stream",
          "name": "stdout",
          "text": [
            "Epoch 82/100\n",
            "Train Loss: 0.2295 Train Accuracy: 0.9337\n",
            "Val Loss: 1.8372 Val Accuracy: 0.5101\n"
          ]
        },
        {
          "output_type": "stream",
          "name": "stderr",
          "text": [
            "Epoch 83/100: 100%|██████████| 42/42 [00:19<00:00,  2.19it/s]\n",
            "Epoch 83/100: 100%|██████████| 5/5 [00:01<00:00,  3.08it/s]\n"
          ]
        },
        {
          "output_type": "stream",
          "name": "stdout",
          "text": [
            "Epoch 83/100\n",
            "Train Loss: 0.2462 Train Accuracy: 0.9288\n",
            "Val Loss: 1.7935 Val Accuracy: 0.5236\n"
          ]
        },
        {
          "output_type": "stream",
          "name": "stderr",
          "text": [
            "Epoch 84/100: 100%|██████████| 42/42 [00:19<00:00,  2.15it/s]\n",
            "Epoch 84/100: 100%|██████████| 5/5 [00:01<00:00,  3.14it/s]\n"
          ]
        },
        {
          "output_type": "stream",
          "name": "stdout",
          "text": [
            "Epoch 84/100\n",
            "Train Loss: 0.2419 Train Accuracy: 0.9330\n",
            "Val Loss: 1.6739 Val Accuracy: 0.5642\n"
          ]
        },
        {
          "output_type": "stream",
          "name": "stderr",
          "text": [
            "Epoch 85/100: 100%|██████████| 42/42 [00:19<00:00,  2.20it/s]\n",
            "Epoch 85/100: 100%|██████████| 5/5 [00:01<00:00,  3.13it/s]\n"
          ]
        },
        {
          "output_type": "stream",
          "name": "stdout",
          "text": [
            "Epoch 85/100\n",
            "Train Loss: 0.2403 Train Accuracy: 0.9326\n",
            "Val Loss: 1.6211 Val Accuracy: 0.5676\n"
          ]
        },
        {
          "output_type": "stream",
          "name": "stderr",
          "text": [
            "Epoch 86/100: 100%|██████████| 42/42 [00:19<00:00,  2.15it/s]\n",
            "Epoch 86/100: 100%|██████████| 5/5 [00:01<00:00,  3.08it/s]\n"
          ]
        },
        {
          "output_type": "stream",
          "name": "stdout",
          "text": [
            "Epoch 86/100\n",
            "Train Loss: 0.2419 Train Accuracy: 0.9330\n",
            "Val Loss: 1.6152 Val Accuracy: 0.5507\n"
          ]
        },
        {
          "output_type": "stream",
          "name": "stderr",
          "text": [
            "Epoch 87/100: 100%|██████████| 42/42 [00:19<00:00,  2.20it/s]\n",
            "Epoch 87/100: 100%|██████████| 5/5 [00:01<00:00,  3.22it/s]\n"
          ]
        },
        {
          "output_type": "stream",
          "name": "stdout",
          "text": [
            "Epoch 87/100\n",
            "Train Loss: 0.2351 Train Accuracy: 0.9307\n",
            "Val Loss: 1.7668 Val Accuracy: 0.5372\n"
          ]
        },
        {
          "output_type": "stream",
          "name": "stderr",
          "text": [
            "Epoch 88/100: 100%|██████████| 42/42 [00:19<00:00,  2.15it/s]\n",
            "Epoch 88/100: 100%|██████████| 5/5 [00:01<00:00,  3.17it/s]\n"
          ]
        },
        {
          "output_type": "stream",
          "name": "stdout",
          "text": [
            "Epoch 88/100\n",
            "Train Loss: 0.2028 Train Accuracy: 0.9424\n",
            "Val Loss: 1.7908 Val Accuracy: 0.5304\n"
          ]
        },
        {
          "output_type": "stream",
          "name": "stderr",
          "text": [
            "Epoch 89/100: 100%|██████████| 42/42 [00:19<00:00,  2.18it/s]\n",
            "Epoch 89/100: 100%|██████████| 5/5 [00:01<00:00,  3.18it/s]\n"
          ]
        },
        {
          "output_type": "stream",
          "name": "stdout",
          "text": [
            "Epoch 89/100\n",
            "Train Loss: 0.2206 Train Accuracy: 0.9398\n",
            "Val Loss: 1.6793 Val Accuracy: 0.5642\n"
          ]
        },
        {
          "output_type": "stream",
          "name": "stderr",
          "text": [
            "Epoch 90/100: 100%|██████████| 42/42 [00:19<00:00,  2.14it/s]\n",
            "Epoch 90/100: 100%|██████████| 5/5 [00:01<00:00,  3.12it/s]\n"
          ]
        },
        {
          "output_type": "stream",
          "name": "stdout",
          "text": [
            "Epoch 90/100\n",
            "Train Loss: 0.2246 Train Accuracy: 0.9394\n",
            "Val Loss: 1.6569 Val Accuracy: 0.5405\n"
          ]
        },
        {
          "output_type": "stream",
          "name": "stderr",
          "text": [
            "Epoch 91/100: 100%|██████████| 42/42 [00:19<00:00,  2.15it/s]\n",
            "Epoch 91/100: 100%|██████████| 5/5 [00:01<00:00,  2.91it/s]\n"
          ]
        },
        {
          "output_type": "stream",
          "name": "stdout",
          "text": [
            "Epoch 91/100\n",
            "Train Loss: 0.2074 Train Accuracy: 0.9413\n",
            "Val Loss: 1.7098 Val Accuracy: 0.5574\n"
          ]
        },
        {
          "output_type": "stream",
          "name": "stderr",
          "text": [
            "Epoch 92/100: 100%|██████████| 42/42 [00:20<00:00,  2.09it/s]\n",
            "Epoch 92/100: 100%|██████████| 5/5 [00:01<00:00,  3.03it/s]\n"
          ]
        },
        {
          "output_type": "stream",
          "name": "stdout",
          "text": [
            "Epoch 92/100\n",
            "Train Loss: 0.2351 Train Accuracy: 0.9390\n",
            "Val Loss: 1.6902 Val Accuracy: 0.5642\n"
          ]
        },
        {
          "output_type": "stream",
          "name": "stderr",
          "text": [
            "Epoch 93/100: 100%|██████████| 42/42 [00:19<00:00,  2.18it/s]\n",
            "Epoch 93/100: 100%|██████████| 5/5 [00:01<00:00,  3.11it/s]\n"
          ]
        },
        {
          "output_type": "stream",
          "name": "stdout",
          "text": [
            "Epoch 93/100\n",
            "Train Loss: 0.2331 Train Accuracy: 0.9288\n",
            "Val Loss: 1.7036 Val Accuracy: 0.5338\n"
          ]
        },
        {
          "output_type": "stream",
          "name": "stderr",
          "text": [
            "Epoch 94/100: 100%|██████████| 42/42 [00:19<00:00,  2.16it/s]\n",
            "Epoch 94/100: 100%|██████████| 5/5 [00:01<00:00,  3.15it/s]\n"
          ]
        },
        {
          "output_type": "stream",
          "name": "stdout",
          "text": [
            "Epoch 94/100\n",
            "Train Loss: 0.2072 Train Accuracy: 0.9424\n",
            "Val Loss: 1.7357 Val Accuracy: 0.5541\n"
          ]
        },
        {
          "output_type": "stream",
          "name": "stderr",
          "text": [
            "Epoch 95/100: 100%|██████████| 42/42 [00:19<00:00,  2.19it/s]\n",
            "Epoch 95/100: 100%|██████████| 5/5 [00:01<00:00,  3.13it/s]\n"
          ]
        },
        {
          "output_type": "stream",
          "name": "stdout",
          "text": [
            "Epoch 95/100\n",
            "Train Loss: 0.1831 Train Accuracy: 0.9470\n",
            "Val Loss: 1.7034 Val Accuracy: 0.5405\n"
          ]
        },
        {
          "output_type": "stream",
          "name": "stderr",
          "text": [
            "Epoch 96/100: 100%|██████████| 42/42 [00:19<00:00,  2.16it/s]\n",
            "Epoch 96/100: 100%|██████████| 5/5 [00:01<00:00,  3.17it/s]\n"
          ]
        },
        {
          "output_type": "stream",
          "name": "stdout",
          "text": [
            "Epoch 96/100\n",
            "Train Loss: 0.2119 Train Accuracy: 0.9402\n",
            "Val Loss: 1.6416 Val Accuracy: 0.5608\n"
          ]
        },
        {
          "output_type": "stream",
          "name": "stderr",
          "text": [
            "Epoch 97/100: 100%|██████████| 42/42 [00:18<00:00,  2.21it/s]\n",
            "Epoch 97/100: 100%|██████████| 5/5 [00:01<00:00,  3.19it/s]\n"
          ]
        },
        {
          "output_type": "stream",
          "name": "stdout",
          "text": [
            "Epoch 97/100\n",
            "Train Loss: 0.2083 Train Accuracy: 0.9417\n",
            "Val Loss: 1.6464 Val Accuracy: 0.5507\n"
          ]
        },
        {
          "output_type": "stream",
          "name": "stderr",
          "text": [
            "Epoch 98/100: 100%|██████████| 42/42 [00:19<00:00,  2.16it/s]\n",
            "Epoch 98/100: 100%|██████████| 5/5 [00:01<00:00,  3.12it/s]\n"
          ]
        },
        {
          "output_type": "stream",
          "name": "stdout",
          "text": [
            "Epoch 98/100\n",
            "Train Loss: 0.2190 Train Accuracy: 0.9375\n",
            "Val Loss: 1.7591 Val Accuracy: 0.5473\n"
          ]
        },
        {
          "output_type": "stream",
          "name": "stderr",
          "text": [
            "Epoch 99/100: 100%|██████████| 42/42 [00:19<00:00,  2.20it/s]\n",
            "Epoch 99/100: 100%|██████████| 5/5 [00:01<00:00,  3.17it/s]\n"
          ]
        },
        {
          "output_type": "stream",
          "name": "stdout",
          "text": [
            "Epoch 99/100\n",
            "Train Loss: 0.2379 Train Accuracy: 0.9398\n",
            "Val Loss: 1.7284 Val Accuracy: 0.5338\n"
          ]
        },
        {
          "output_type": "stream",
          "name": "stderr",
          "text": [
            "Epoch 100/100: 100%|██████████| 42/42 [00:19<00:00,  2.17it/s]\n",
            "Epoch 100/100: 100%|██████████| 5/5 [00:01<00:00,  2.58it/s]"
          ]
        },
        {
          "output_type": "stream",
          "name": "stdout",
          "text": [
            "Epoch 100/100\n",
            "Train Loss: 0.1927 Train Accuracy: 0.9527\n",
            "Val Loss: 1.7796 Val Accuracy: 0.5439\n"
          ]
        },
        {
          "output_type": "stream",
          "name": "stderr",
          "text": [
            "\n"
          ]
        }
      ]
    },
    {
      "cell_type": "code",
      "source": [
        "def plot_training_history(history):\n",
        "    train_losses = history['train_losses']\n",
        "    train_accuracies = history['train_accuracies']\n",
        "    val_losses = history['val_losses']\n",
        "    val_accuracies = history['val_accuracies']\n",
        "\n",
        "    epochs = range(1, len(train_losses) + 1)\n",
        "\n",
        "\n",
        "    # Plotting losses\n",
        "    plt.figure(figsize=(12, 6))\n",
        "    plt.subplot(1, 2, 1)\n",
        "    plt.plot(epochs, train_losses, 'b', label='Training loss')\n",
        "    plt.plot(epochs, val_losses, 'r', label='Validation loss')\n",
        "    plt.title('Training and Validation Loss')\n",
        "    plt.xlabel('Epochs')\n",
        "    plt.ylabel('Loss')\n",
        "    plt.legend()\n",
        "\n",
        "    # Plotting accuracies\n",
        "    plt.subplot(1, 2, 2)\n",
        "    train_accuracies = [acc.item() for acc in train_accuracies]\n",
        "    val_accuracies = [acc.item() for acc in val_accuracies]\n",
        "\n",
        "    best_epoch = val_accuracies.index(max(val_accuracies)) + 1\n",
        "    best_val_acc = max(val_accuracies)\n",
        "\n",
        "    plt.plot(epochs, train_accuracies, 'b', label='Training accuracy')\n",
        "    plt.plot(epochs, val_accuracies, 'r', label='Validation accuracy')\n",
        "    plt.title('Training and Validation Accuracy')\n",
        "    plt.xlabel('Epochs')\n",
        "    plt.ylabel('Accuracy')\n",
        "    plt.axvline(x=best_epoch, color='g', linestyle='--', label=f'Best Validation Accuracy ({best_val_acc:.4f})')\n",
        "    plt.text(best_epoch + 1, best_val_acc - 0.02, f'Peak: Epoch {best_epoch}: {best_val_acc:.3f}', color='g', fontsize=10, va='center', ha='left')\n",
        "    plt.scatter(best_epoch, best_val_acc, color='g', zorder=5)\n",
        "\n",
        "    plt.legend()\n",
        "\n",
        "    plt.tight_layout()\n",
        "    plt.show()"
      ],
      "metadata": {
        "id": "k5PvwUNjY-VF"
      },
      "execution_count": 188,
      "outputs": []
    },
    {
      "cell_type": "code",
      "source": [
        "plot_training_history(history)"
      ],
      "metadata": {
        "colab": {
          "base_uri": "https://localhost:8080/",
          "height": 607
        },
        "id": "GVTq8CO8ZBPX",
        "outputId": "5b962b07-e605-447b-c172-15dd6e83b910"
      },
      "execution_count": 189,
      "outputs": [
        {
          "output_type": "display_data",
          "data": {
            "text/plain": [
              "<Figure size 1200x600 with 2 Axes>"
            ],
            "image/png": "[encoded data removed]"
          },
          "metadata": {}
        }
      ]
    }
  ],
  "metadata": {
    "colab": {
      "gpuType": "T4",
      "provenance": []
    },
    "kernelspec": {
      "display_name": "Python 3",
      "name": "python3"
    },
    "language_info": {
      "codemirror_mode": {
        "name": "ipython",
        "version": 3
      },
      "file_extension": ".py",
      "mimetype": "text/x-python",
      "name": "python",
      "nbconvert_exporter": "python",
      "pygments_lexer": "ipython3",
      "version": "3.8.16"
    },
    "accelerator": "GPU"
  },
  "nbformat": 4,
  "nbformat_minor": 0
}