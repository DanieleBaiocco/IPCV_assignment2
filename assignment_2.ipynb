{
  "cells": [
    {
      "cell_type": "markdown",
      "metadata": {
        "id": "view-in-github"
      },
      "source": [
        "<a href=\"https://colab.research.google.com/github/DanieleBaiocco/IPCV_assignment2/blob/main/assignment_2.ipynb\" target=\"_parent\"><img src=\"https://colab.research.google.com/assets/colab-badge.svg\" alt=\"Open In Colab\"/></a>"
      ]
    },
    {
      "cell_type": "markdown",
      "metadata": {
        "id": "MNBgGYg_lpVN"
      },
      "source": [
        "# Assignment Module 2: Product Classification\n",
        "\n",
        "The goal of this assignment is to implement a neural network that classifies smartphone pictures of products found in grocery stores. The assignment will be divided into two parts: first, you will be asked to implement from scratch your own neural network for image classification; then, you will fine-tune a pretrained network provided by PyTorch.\n"
      ]
    },
    {
      "cell_type": "markdown",
      "metadata": {
        "id": "dVTQUJ4uYH1w"
      },
      "source": [
        "## Preliminaries: the dataset\n",
        "\n",
        "The dataset you will be using contains natural images of products taken with a smartphone camera in different grocery stores:\n",
        "\n",
        "<p align=\"center\">\n",
        "  <img src=\"https://github.com/marcusklasson/GroceryStoreDataset/raw/master/sample_images/natural/Granny-Smith.jpg\" width=\"150\">\n",
        "  <img src=\"https://github.com/marcusklasson/GroceryStoreDataset/raw/master/sample_images/natural/Pink-Lady.jpg\" width=\"150\">\n",
        "  <img src=\"https://github.com/marcusklasson/GroceryStoreDataset/raw/master/sample_images/natural/Lemon.jpg\" width=\"150\">\n",
        "  <img src=\"https://github.com/marcusklasson/GroceryStoreDataset/raw/master/sample_images/natural/Banana.jpg\" width=\"150\">\n",
        "  <img src=\"https://github.com/marcusklasson/GroceryStoreDataset/raw/master/sample_images/natural/Vine-Tomato.jpg\" width=\"150\">\n",
        "</p>\n",
        "<p align=\"center\">\n",
        "  <img src=\"https://github.com/marcusklasson/GroceryStoreDataset/raw/master/sample_images/natural/Yellow-Onion.jpg\" width=\"150\">\n",
        "  <img src=\"https://github.com/marcusklasson/GroceryStoreDataset/raw/master/sample_images/natural/Green-Bell-Pepper.jpg\" width=\"150\">\n",
        "  <img src=\"https://github.com/marcusklasson/GroceryStoreDataset/raw/master/sample_images/natural/Arla-Standard-Milk.jpg\" width=\"150\">\n",
        "  <img src=\"https://github.com/marcusklasson/GroceryStoreDataset/raw/master/sample_images/natural/Oatly-Natural-Oatghurt.jpg\" width=\"150\">\n",
        "  <img src=\"https://github.com/marcusklasson/GroceryStoreDataset/raw/master/sample_images/natural/Alpro-Fresh-Soy-Milk.jpg\" width=\"150\">\n",
        "</p>\n",
        "\n",
        "The products belong to the following 43 classes:\n",
        "```\n",
        "0.  Apple\n",
        "1.  Avocado\n",
        "2.  Banana\n",
        "3.  Kiwi\n",
        "4.  Lemon\n",
        "5.  Lime\n",
        "6.  Mango\n",
        "7.  Melon\n",
        "8.  Nectarine\n",
        "9.  Orange\n",
        "10. Papaya\n",
        "11. Passion-Fruit\n",
        "12. Peach\n",
        "13. Pear\n",
        "14. Pineapple\n",
        "15. Plum\n",
        "16. Pomegranate\n",
        "17. Red-Grapefruit\n",
        "18. Satsumas\n",
        "19. Juice\n",
        "20. Milk\n",
        "21. Oatghurt\n",
        "22. Oat-Milk\n",
        "23. Sour-Cream\n",
        "24. Sour-Milk\n",
        "25. Soyghurt\n",
        "26. Soy-Milk\n",
        "27. Yoghurt\n",
        "28. Asparagus\n",
        "29. Aubergine\n",
        "30. Cabbage\n",
        "31. Carrots\n",
        "32. Cucumber\n",
        "33. Garlic\n",
        "34. Ginger\n",
        "35. Leek\n",
        "36. Mushroom\n",
        "37. Onion\n",
        "38. Pepper\n",
        "39. Potato\n",
        "40. Red-Beet\n",
        "41. Tomato\n",
        "42. Zucchini\n",
        "```\n",
        "\n",
        "The dataset is split into training (`train`), validation (`val`), and test (`test`) set."
      ]
    },
    {
      "cell_type": "code",
      "source": [
        "!pip install --upgrade calflops"
      ],
      "metadata": {
        "colab": {
          "base_uri": "https://localhost:8080/"
        },
        "id": "1f8c3fEL6WCT",
        "outputId": "1e1c3bc0-ae67-4bac-d6c7-2f18a3be0857"
      },
      "execution_count": 19,
      "outputs": [
        {
          "output_type": "stream",
          "name": "stdout",
          "text": [
            "Collecting calflops\n",
            "  Downloading calflops-0.3.2-py3-none-any.whl (29 kB)\n",
            "Collecting accelerate>=0.22.0 (from calflops)\n",
            "  Downloading accelerate-0.32.1-py3-none-any.whl (314 kB)\n",
            "\u001b[2K     \u001b[90m━━━━━━━━━━━━━━━━━━━━━━━━━━━━━━━━━━━━━━━━\u001b[0m \u001b[32m314.1/314.1 kB\u001b[0m \u001b[31m6.2 MB/s\u001b[0m eta \u001b[36m0:00:00\u001b[0m\n",
            "\u001b[?25hRequirement already satisfied: huggingface-hub>=0.16.4 in /usr/local/lib/python3.10/dist-packages (from calflops) (0.23.4)\n",
            "Requirement already satisfied: torch>=1.1.0 in /usr/local/lib/python3.10/dist-packages (from calflops) (2.3.0+cu121)\n",
            "Requirement already satisfied: numpy<2.0.0,>=1.17 in /usr/local/lib/python3.10/dist-packages (from accelerate>=0.22.0->calflops) (1.25.2)\n",
            "Requirement already satisfied: packaging>=20.0 in /usr/local/lib/python3.10/dist-packages (from accelerate>=0.22.0->calflops) (24.1)\n",
            "Requirement already satisfied: psutil in /usr/local/lib/python3.10/dist-packages (from accelerate>=0.22.0->calflops) (5.9.5)\n",
            "Requirement already satisfied: pyyaml in /usr/local/lib/python3.10/dist-packages (from accelerate>=0.22.0->calflops) (6.0.1)\n",
            "Requirement already satisfied: safetensors>=0.3.1 in /usr/local/lib/python3.10/dist-packages (from accelerate>=0.22.0->calflops) (0.4.3)\n",
            "Requirement already satisfied: filelock in /usr/local/lib/python3.10/dist-packages (from huggingface-hub>=0.16.4->calflops) (3.15.4)\n",
            "Requirement already satisfied: fsspec>=2023.5.0 in /usr/local/lib/python3.10/dist-packages (from huggingface-hub>=0.16.4->calflops) (2023.6.0)\n",
            "Requirement already satisfied: requests in /usr/local/lib/python3.10/dist-packages (from huggingface-hub>=0.16.4->calflops) (2.31.0)\n",
            "Requirement already satisfied: tqdm>=4.42.1 in /usr/local/lib/python3.10/dist-packages (from huggingface-hub>=0.16.4->calflops) (4.66.4)\n",
            "Requirement already satisfied: typing-extensions>=3.7.4.3 in /usr/local/lib/python3.10/dist-packages (from huggingface-hub>=0.16.4->calflops) (4.12.2)\n",
            "Requirement already satisfied: sympy in /usr/local/lib/python3.10/dist-packages (from torch>=1.1.0->calflops) (1.12.1)\n",
            "Requirement already satisfied: networkx in /usr/local/lib/python3.10/dist-packages (from torch>=1.1.0->calflops) (3.3)\n",
            "Requirement already satisfied: jinja2 in /usr/local/lib/python3.10/dist-packages (from torch>=1.1.0->calflops) (3.1.4)\n",
            "Collecting nvidia-cuda-nvrtc-cu12==12.1.105 (from torch>=1.1.0->calflops)\n",
            "  Using cached nvidia_cuda_nvrtc_cu12-12.1.105-py3-none-manylinux1_x86_64.whl (23.7 MB)\n",
            "Collecting nvidia-cuda-runtime-cu12==12.1.105 (from torch>=1.1.0->calflops)\n",
            "  Using cached nvidia_cuda_runtime_cu12-12.1.105-py3-none-manylinux1_x86_64.whl (823 kB)\n",
            "Collecting nvidia-cuda-cupti-cu12==12.1.105 (from torch>=1.1.0->calflops)\n",
            "  Using cached nvidia_cuda_cupti_cu12-12.1.105-py3-none-manylinux1_x86_64.whl (14.1 MB)\n",
            "Collecting nvidia-cudnn-cu12==8.9.2.26 (from torch>=1.1.0->calflops)\n",
            "  Using cached nvidia_cudnn_cu12-8.9.2.26-py3-none-manylinux1_x86_64.whl (731.7 MB)\n",
            "Collecting nvidia-cublas-cu12==12.1.3.1 (from torch>=1.1.0->calflops)\n",
            "  Using cached nvidia_cublas_cu12-12.1.3.1-py3-none-manylinux1_x86_64.whl (410.6 MB)\n",
            "Collecting nvidia-cufft-cu12==11.0.2.54 (from torch>=1.1.0->calflops)\n",
            "  Using cached nvidia_cufft_cu12-11.0.2.54-py3-none-manylinux1_x86_64.whl (121.6 MB)\n",
            "Collecting nvidia-curand-cu12==10.3.2.106 (from torch>=1.1.0->calflops)\n",
            "  Using cached nvidia_curand_cu12-10.3.2.106-py3-none-manylinux1_x86_64.whl (56.5 MB)\n",
            "Collecting nvidia-cusolver-cu12==11.4.5.107 (from torch>=1.1.0->calflops)\n",
            "  Using cached nvidia_cusolver_cu12-11.4.5.107-py3-none-manylinux1_x86_64.whl (124.2 MB)\n",
            "Collecting nvidia-cusparse-cu12==12.1.0.106 (from torch>=1.1.0->calflops)\n",
            "  Using cached nvidia_cusparse_cu12-12.1.0.106-py3-none-manylinux1_x86_64.whl (196.0 MB)\n",
            "Collecting nvidia-nccl-cu12==2.20.5 (from torch>=1.1.0->calflops)\n",
            "  Using cached nvidia_nccl_cu12-2.20.5-py3-none-manylinux2014_x86_64.whl (176.2 MB)\n",
            "Collecting nvidia-nvtx-cu12==12.1.105 (from torch>=1.1.0->calflops)\n",
            "  Using cached nvidia_nvtx_cu12-12.1.105-py3-none-manylinux1_x86_64.whl (99 kB)\n",
            "Requirement already satisfied: triton==2.3.0 in /usr/local/lib/python3.10/dist-packages (from torch>=1.1.0->calflops) (2.3.0)\n",
            "Collecting nvidia-nvjitlink-cu12 (from nvidia-cusolver-cu12==11.4.5.107->torch>=1.1.0->calflops)\n",
            "  Downloading nvidia_nvjitlink_cu12-12.5.82-py3-none-manylinux2014_x86_64.whl (21.3 MB)\n",
            "\u001b[2K     \u001b[90m━━━━━━━━━━━━━━━━━━━━━━━━━━━━━━━━━━━━━━━━\u001b[0m \u001b[32m21.3/21.3 MB\u001b[0m \u001b[31m53.6 MB/s\u001b[0m eta \u001b[36m0:00:00\u001b[0m\n",
            "\u001b[?25hRequirement already satisfied: MarkupSafe>=2.0 in /usr/local/lib/python3.10/dist-packages (from jinja2->torch>=1.1.0->calflops) (2.1.5)\n",
            "Requirement already satisfied: charset-normalizer<4,>=2 in /usr/local/lib/python3.10/dist-packages (from requests->huggingface-hub>=0.16.4->calflops) (3.3.2)\n",
            "Requirement already satisfied: idna<4,>=2.5 in /usr/local/lib/python3.10/dist-packages (from requests->huggingface-hub>=0.16.4->calflops) (3.7)\n",
            "Requirement already satisfied: urllib3<3,>=1.21.1 in /usr/local/lib/python3.10/dist-packages (from requests->huggingface-hub>=0.16.4->calflops) (2.0.7)\n",
            "Requirement already satisfied: certifi>=2017.4.17 in /usr/local/lib/python3.10/dist-packages (from requests->huggingface-hub>=0.16.4->calflops) (2024.6.2)\n",
            "Requirement already satisfied: mpmath<1.4.0,>=1.1.0 in /usr/local/lib/python3.10/dist-packages (from sympy->torch>=1.1.0->calflops) (1.3.0)\n",
            "Installing collected packages: nvidia-nvtx-cu12, nvidia-nvjitlink-cu12, nvidia-nccl-cu12, nvidia-curand-cu12, nvidia-cufft-cu12, nvidia-cuda-runtime-cu12, nvidia-cuda-nvrtc-cu12, nvidia-cuda-cupti-cu12, nvidia-cublas-cu12, nvidia-cusparse-cu12, nvidia-cudnn-cu12, nvidia-cusolver-cu12, accelerate, calflops\n",
            "Successfully installed accelerate-0.32.1 calflops-0.3.2 nvidia-cublas-cu12-12.1.3.1 nvidia-cuda-cupti-cu12-12.1.105 nvidia-cuda-nvrtc-cu12-12.1.105 nvidia-cuda-runtime-cu12-12.1.105 nvidia-cudnn-cu12-8.9.2.26 nvidia-cufft-cu12-11.0.2.54 nvidia-curand-cu12-10.3.2.106 nvidia-cusolver-cu12-11.4.5.107 nvidia-cusparse-cu12-12.1.0.106 nvidia-nccl-cu12-2.20.5 nvidia-nvjitlink-cu12-12.5.82 nvidia-nvtx-cu12-12.1.105\n"
          ]
        }
      ]
    },
    {
      "cell_type": "code",
      "source": [
        "from calflops import calculate_flops"
      ],
      "metadata": {
        "id": "V_sYhuXi6Qcx"
      },
      "execution_count": 20,
      "outputs": []
    },
    {
      "cell_type": "markdown",
      "metadata": {
        "id": "1pdrmJRnJPd8"
      },
      "source": [
        "The following code cells download the dataset and define a `torch.utils.data.Dataset` class to access it. This `Dataset` class will be the starting point of your assignment: use it in your own code and build everything else around it."
      ]
    },
    {
      "cell_type": "code",
      "execution_count": 21,
      "metadata": {
        "id": "POMX_3x-_bZI",
        "colab": {
          "base_uri": "https://localhost:8080/"
        },
        "outputId": "17ed18ec-3752-42cb-bcfe-8c0d1986a378"
      },
      "outputs": [
        {
          "output_type": "stream",
          "name": "stdout",
          "text": [
            "Cloning into 'GroceryStoreDataset'...\n",
            "remote: Enumerating objects: 6559, done.\u001b[K\n",
            "remote: Counting objects: 100% (266/266), done.\u001b[K\n",
            "remote: Compressing objects: 100% (231/231), done.\u001b[K\n",
            "remote: Total 6559 (delta 45), reused 35 (delta 35), pack-reused 6293\u001b[K\n",
            "Receiving objects: 100% (6559/6559), 116.26 MiB | 20.45 MiB/s, done.\n",
            "Resolving deltas: 100% (275/275), done.\n",
            "Updating files: 100% (5717/5717), done.\n"
          ]
        }
      ],
      "source": [
        "!git clone https://github.com/marcusklasson/GroceryStoreDataset.git"
      ]
    },
    {
      "cell_type": "code",
      "source": [
        "!pip install thop"
      ],
      "metadata": {
        "colab": {
          "base_uri": "https://localhost:8080/"
        },
        "id": "hKzXmc_S3SBD",
        "outputId": "2f721bc9-3ab4-49ca-8b90-e314759107cc"
      },
      "execution_count": 22,
      "outputs": [
        {
          "output_type": "stream",
          "name": "stdout",
          "text": [
            "Collecting thop\n",
            "  Downloading thop-0.1.1.post2209072238-py3-none-any.whl (15 kB)\n",
            "Requirement already satisfied: torch in /usr/local/lib/python3.10/dist-packages (from thop) (2.3.0+cu121)\n",
            "Requirement already satisfied: filelock in /usr/local/lib/python3.10/dist-packages (from torch->thop) (3.15.4)\n",
            "Requirement already satisfied: typing-extensions>=4.8.0 in /usr/local/lib/python3.10/dist-packages (from torch->thop) (4.12.2)\n",
            "Requirement already satisfied: sympy in /usr/local/lib/python3.10/dist-packages (from torch->thop) (1.12.1)\n",
            "Requirement already satisfied: networkx in /usr/local/lib/python3.10/dist-packages (from torch->thop) (3.3)\n",
            "Requirement already satisfied: jinja2 in /usr/local/lib/python3.10/dist-packages (from torch->thop) (3.1.4)\n",
            "Requirement already satisfied: fsspec in /usr/local/lib/python3.10/dist-packages (from torch->thop) (2023.6.0)\n",
            "Requirement already satisfied: nvidia-cuda-nvrtc-cu12==12.1.105 in /usr/local/lib/python3.10/dist-packages (from torch->thop) (12.1.105)\n",
            "Requirement already satisfied: nvidia-cuda-runtime-cu12==12.1.105 in /usr/local/lib/python3.10/dist-packages (from torch->thop) (12.1.105)\n",
            "Requirement already satisfied: nvidia-cuda-cupti-cu12==12.1.105 in /usr/local/lib/python3.10/dist-packages (from torch->thop) (12.1.105)\n",
            "Requirement already satisfied: nvidia-cudnn-cu12==8.9.2.26 in /usr/local/lib/python3.10/dist-packages (from torch->thop) (8.9.2.26)\n",
            "Requirement already satisfied: nvidia-cublas-cu12==12.1.3.1 in /usr/local/lib/python3.10/dist-packages (from torch->thop) (12.1.3.1)\n",
            "Requirement already satisfied: nvidia-cufft-cu12==11.0.2.54 in /usr/local/lib/python3.10/dist-packages (from torch->thop) (11.0.2.54)\n",
            "Requirement already satisfied: nvidia-curand-cu12==10.3.2.106 in /usr/local/lib/python3.10/dist-packages (from torch->thop) (10.3.2.106)\n",
            "Requirement already satisfied: nvidia-cusolver-cu12==11.4.5.107 in /usr/local/lib/python3.10/dist-packages (from torch->thop) (11.4.5.107)\n",
            "Requirement already satisfied: nvidia-cusparse-cu12==12.1.0.106 in /usr/local/lib/python3.10/dist-packages (from torch->thop) (12.1.0.106)\n",
            "Requirement already satisfied: nvidia-nccl-cu12==2.20.5 in /usr/local/lib/python3.10/dist-packages (from torch->thop) (2.20.5)\n",
            "Requirement already satisfied: nvidia-nvtx-cu12==12.1.105 in /usr/local/lib/python3.10/dist-packages (from torch->thop) (12.1.105)\n",
            "Requirement already satisfied: triton==2.3.0 in /usr/local/lib/python3.10/dist-packages (from torch->thop) (2.3.0)\n",
            "Requirement already satisfied: nvidia-nvjitlink-cu12 in /usr/local/lib/python3.10/dist-packages (from nvidia-cusolver-cu12==11.4.5.107->torch->thop) (12.5.82)\n",
            "Requirement already satisfied: MarkupSafe>=2.0 in /usr/local/lib/python3.10/dist-packages (from jinja2->torch->thop) (2.1.5)\n",
            "Requirement already satisfied: mpmath<1.4.0,>=1.1.0 in /usr/local/lib/python3.10/dist-packages (from sympy->torch->thop) (1.3.0)\n",
            "Installing collected packages: thop\n",
            "Successfully installed thop-0.1.1.post2209072238\n"
          ]
        }
      ]
    },
    {
      "cell_type": "code",
      "source": [
        "!pip install torchmetrics"
      ],
      "metadata": {
        "colab": {
          "base_uri": "https://localhost:8080/"
        },
        "id": "Q27WUuDiQCmn",
        "outputId": "0ab138f1-ee34-49d0-8731-48b331b051b3"
      },
      "execution_count": 23,
      "outputs": [
        {
          "output_type": "stream",
          "name": "stdout",
          "text": [
            "Collecting torchmetrics\n",
            "  Downloading torchmetrics-1.4.0.post0-py3-none-any.whl (868 kB)\n",
            "\u001b[2K     \u001b[90m━━━━━━━━━━━━━━━━━━━━━━━━━━━━━━━━━━━━━━━━\u001b[0m \u001b[32m868.8/868.8 kB\u001b[0m \u001b[31m8.4 MB/s\u001b[0m eta \u001b[36m0:00:00\u001b[0m\n",
            "\u001b[?25hRequirement already satisfied: numpy>1.20.0 in /usr/local/lib/python3.10/dist-packages (from torchmetrics) (1.25.2)\n",
            "Requirement already satisfied: packaging>17.1 in /usr/local/lib/python3.10/dist-packages (from torchmetrics) (24.1)\n",
            "Requirement already satisfied: torch>=1.10.0 in /usr/local/lib/python3.10/dist-packages (from torchmetrics) (2.3.0+cu121)\n",
            "Collecting lightning-utilities>=0.8.0 (from torchmetrics)\n",
            "  Downloading lightning_utilities-0.11.3.post0-py3-none-any.whl (26 kB)\n",
            "Requirement already satisfied: setuptools in /usr/local/lib/python3.10/dist-packages (from lightning-utilities>=0.8.0->torchmetrics) (67.7.2)\n",
            "Requirement already satisfied: typing-extensions in /usr/local/lib/python3.10/dist-packages (from lightning-utilities>=0.8.0->torchmetrics) (4.12.2)\n",
            "Requirement already satisfied: filelock in /usr/local/lib/python3.10/dist-packages (from torch>=1.10.0->torchmetrics) (3.15.4)\n",
            "Requirement already satisfied: sympy in /usr/local/lib/python3.10/dist-packages (from torch>=1.10.0->torchmetrics) (1.12.1)\n",
            "Requirement already satisfied: networkx in /usr/local/lib/python3.10/dist-packages (from torch>=1.10.0->torchmetrics) (3.3)\n",
            "Requirement already satisfied: jinja2 in /usr/local/lib/python3.10/dist-packages (from torch>=1.10.0->torchmetrics) (3.1.4)\n",
            "Requirement already satisfied: fsspec in /usr/local/lib/python3.10/dist-packages (from torch>=1.10.0->torchmetrics) (2023.6.0)\n",
            "Requirement already satisfied: nvidia-cuda-nvrtc-cu12==12.1.105 in /usr/local/lib/python3.10/dist-packages (from torch>=1.10.0->torchmetrics) (12.1.105)\n",
            "Requirement already satisfied: nvidia-cuda-runtime-cu12==12.1.105 in /usr/local/lib/python3.10/dist-packages (from torch>=1.10.0->torchmetrics) (12.1.105)\n",
            "Requirement already satisfied: nvidia-cuda-cupti-cu12==12.1.105 in /usr/local/lib/python3.10/dist-packages (from torch>=1.10.0->torchmetrics) (12.1.105)\n",
            "Requirement already satisfied: nvidia-cudnn-cu12==8.9.2.26 in /usr/local/lib/python3.10/dist-packages (from torch>=1.10.0->torchmetrics) (8.9.2.26)\n",
            "Requirement already satisfied: nvidia-cublas-cu12==12.1.3.1 in /usr/local/lib/python3.10/dist-packages (from torch>=1.10.0->torchmetrics) (12.1.3.1)\n",
            "Requirement already satisfied: nvidia-cufft-cu12==11.0.2.54 in /usr/local/lib/python3.10/dist-packages (from torch>=1.10.0->torchmetrics) (11.0.2.54)\n",
            "Requirement already satisfied: nvidia-curand-cu12==10.3.2.106 in /usr/local/lib/python3.10/dist-packages (from torch>=1.10.0->torchmetrics) (10.3.2.106)\n",
            "Requirement already satisfied: nvidia-cusolver-cu12==11.4.5.107 in /usr/local/lib/python3.10/dist-packages (from torch>=1.10.0->torchmetrics) (11.4.5.107)\n",
            "Requirement already satisfied: nvidia-cusparse-cu12==12.1.0.106 in /usr/local/lib/python3.10/dist-packages (from torch>=1.10.0->torchmetrics) (12.1.0.106)\n",
            "Requirement already satisfied: nvidia-nccl-cu12==2.20.5 in /usr/local/lib/python3.10/dist-packages (from torch>=1.10.0->torchmetrics) (2.20.5)\n",
            "Requirement already satisfied: nvidia-nvtx-cu12==12.1.105 in /usr/local/lib/python3.10/dist-packages (from torch>=1.10.0->torchmetrics) (12.1.105)\n",
            "Requirement already satisfied: triton==2.3.0 in /usr/local/lib/python3.10/dist-packages (from torch>=1.10.0->torchmetrics) (2.3.0)\n",
            "Requirement already satisfied: nvidia-nvjitlink-cu12 in /usr/local/lib/python3.10/dist-packages (from nvidia-cusolver-cu12==11.4.5.107->torch>=1.10.0->torchmetrics) (12.5.82)\n",
            "Requirement already satisfied: MarkupSafe>=2.0 in /usr/local/lib/python3.10/dist-packages (from jinja2->torch>=1.10.0->torchmetrics) (2.1.5)\n",
            "Requirement already satisfied: mpmath<1.4.0,>=1.1.0 in /usr/local/lib/python3.10/dist-packages (from sympy->torch>=1.10.0->torchmetrics) (1.3.0)\n",
            "Installing collected packages: lightning-utilities, torchmetrics\n",
            "Successfully installed lightning-utilities-0.11.3.post0 torchmetrics-1.4.0.post0\n"
          ]
        }
      ]
    },
    {
      "cell_type": "code",
      "execution_count": 24,
      "metadata": {
        "id": "hiF8xGEYlsu8"
      },
      "outputs": [],
      "source": [
        "from pathlib import Path\n",
        "from PIL import Image\n",
        "import PIL\n",
        "import torch\n",
        "from torch import Tensor\n",
        "from torch.utils.data import Dataset, DataLoader\n",
        "from typing import List, Tuple, Callable, Optional\n",
        "import torchvision.transforms as transforms\n",
        "import torch.optim as optim\n",
        "from tqdm import tqdm\n",
        "import torchmetrics\n",
        "from torchsummary import summary\n",
        "import numpy as np\n",
        "import random\n",
        "import torchvision\n",
        "import  matplotlib.pyplot as plt\n",
        "import os\n",
        "import copy\n",
        "import pandas as pd"
      ]
    },
    {
      "cell_type": "code",
      "execution_count": 25,
      "metadata": {
        "id": "jROSO2qVDxdD"
      },
      "outputs": [],
      "source": [
        "class GroceryStoreDataset(Dataset):\n",
        "\n",
        "    def __init__(self, split: str, transform: Callable[[PIL.Image.Image], Tensor]) -> None:\n",
        "        super().__init__()\n",
        "        self.root = Path(\"GroceryStoreDataset/dataset\")\n",
        "        self.split = split\n",
        "        self.paths, self.labels = self.read_file()\n",
        "        self.transform = transform\n",
        "\n",
        "    def __len__(self) -> int:\n",
        "        return len(self.labels)\n",
        "\n",
        "    def __getitem__(self, idx) -> Tuple[Tensor, int]:\n",
        "        img = Image.open(self.root / self.paths[idx])\n",
        "        label = self.labels[idx]\n",
        "        tensor_img = self.transform(img).float()\n",
        "        return tensor_img, label\n",
        "\n",
        "    def read_file(self) -> Tuple[List[str], List[int]]:\n",
        "        paths = []\n",
        "        labels = []\n",
        "        with open(self.root / f\"{self.split}.txt\") as f:\n",
        "            for line in f:\n",
        "                # path, fine-grained class, coarse-grained class\n",
        "                path, _, label = line.replace(\"\\n\", \"\").split(\", \")\n",
        "                paths.append(path)\n",
        "                labels.append(int(label))\n",
        "        return paths, labels\n",
        "\n",
        "    def get_num_classes(self) -> int:\n",
        "        return max(self.labels) + 1"
      ]
    },
    {
      "cell_type": "markdown",
      "metadata": {
        "id": "yBch3dpwNSsW"
      },
      "source": [
        "## Part 1: design your own network\n",
        "\n",
        "Your goal is to implement a convolutional neural network for image classification and train it on `GroceryStoreDataset`. You should consider yourselves satisfied once you obtain a classification accuracy on the **validation** split of **around 60%**. You are free to achieve that however you want, except for a few rules you must follow:\n",
        "\n",
        "- You **cannot** simply instantiate an off-the-self PyTorch network. Instead, you must construct your network as a composition of existing PyTorch layers. In more concrete terms, you can use e.g. `torch.nn.Linear`, but you **cannot** use e.g. `torchvision.models.alexnet`.\n",
        "\n",
        "- Justify every *design choice* you make. Design choices include network architecture, training hyperparameters, and, possibly, dataset preprocessing steps. You can either (i) start from the simplest convolutional network you can think of and add complexity one step at a time, while showing how each step gets you closer to the target ~60%, or (ii) start from a model that is already able to achieve the desired accuracy and show how, by removing some of its components, its performance drops (i.e. an *ablation study*). You can *show* your results/improvements however you want: training plots, console-printed values or tables, or whatever else your heart desires: the clearer, the better.\n",
        "\n",
        "Don't be too concerned with your network performance: the ~60% is just to give you an idea of when to stop. Keep in mind that a thoroughly justified model with lower accuracy will be rewarded **more** points than a poorly experimentally validated model with higher accuracy."
      ]
    },
    {
      "cell_type": "code",
      "source": [
        "random_state = 42\n",
        "np.random.seed(random_state)\n",
        "random.seed(random_state)\n",
        "torch.manual_seed(random_state)\n",
        "if torch.cuda.is_available():\n",
        "    torch.cuda.manual_seed(random_state)\n",
        "    torch.cuda.manual_seed_all(random_state)\n",
        "torch.backends.cudnn.deterministic = True\n",
        "torch.backends.cudnn.benchmark = False"
      ],
      "metadata": {
        "id": "SHeK2-3hakiI"
      },
      "execution_count": 26,
      "outputs": []
    },
    {
      "cell_type": "markdown",
      "source": [
        "PENSO CHE LA COSA MIGLIORE DA FARE SIA INIZIARE CON UN MODELLO MOLTO COMPLICATO CHE OVERFITTI SUL TRAINING DATA. A QUEL PUNTO INSERIRE DELLE REGULARIZATION TECNIQUES CHE MI FACCIANO ARRIVARE A UNA EFFECTIVE CAPACITY OTTIMALE."
      ],
      "metadata": {
        "id": "3jMo0SqDq1EU"
      }
    },
    {
      "cell_type": "code",
      "source": [
        "!pip install mypy\n",
        "# Simple mypy cell magic for Colab\n",
        "from IPython.core.magic import register_cell_magic\n",
        "from IPython import get_ipython\n",
        "from mypy import api\n",
        "\n",
        "@register_cell_magic\n",
        "def mypy(line, cell):\n",
        "    for output in api.run(['-c', '\\n' + cell] + line.split()):\n",
        "        if output and not output.startswith('Success'):\n",
        "            raise TypeError(output)\n",
        "    get_ipython().run_cell(cell)"
      ],
      "metadata": {
        "id": "zmBr-o8PuLSo",
        "colab": {
          "base_uri": "https://localhost:8080/"
        },
        "outputId": "54bc1eca-faea-4c1f-f160-5f56e4fe9bbd"
      },
      "execution_count": 27,
      "outputs": [
        {
          "output_type": "stream",
          "name": "stdout",
          "text": [
            "Collecting mypy\n",
            "  Downloading mypy-1.10.1-cp310-cp310-manylinux_2_17_x86_64.manylinux2014_x86_64.whl (12.7 MB)\n",
            "\u001b[2K     \u001b[90m━━━━━━━━━━━━━━━━━━━━━━━━━━━━━━━━━━━━━━━━\u001b[0m \u001b[32m12.7/12.7 MB\u001b[0m \u001b[31m49.8 MB/s\u001b[0m eta \u001b[36m0:00:00\u001b[0m\n",
            "\u001b[?25hRequirement already satisfied: typing-extensions>=4.1.0 in /usr/local/lib/python3.10/dist-packages (from mypy) (4.12.2)\n",
            "Collecting mypy-extensions>=1.0.0 (from mypy)\n",
            "  Downloading mypy_extensions-1.0.0-py3-none-any.whl (4.7 kB)\n",
            "Requirement already satisfied: tomli>=1.1.0 in /usr/local/lib/python3.10/dist-packages (from mypy) (2.0.1)\n",
            "Installing collected packages: mypy-extensions, mypy\n",
            "Successfully installed mypy-1.10.1 mypy-extensions-1.0.0\n"
          ]
        }
      ]
    },
    {
      "cell_type": "code",
      "source": [
        "num_classes = 43\n",
        "resize_size = 300\n",
        "crop_size = 256"
      ],
      "metadata": {
        "id": "XXMfMZkZ3xQv"
      },
      "execution_count": 28,
      "outputs": []
    },
    {
      "cell_type": "code",
      "source": [
        "def base_transform(resize_size, crop_size):\n",
        "    return transforms.Compose([transforms.Resize(resize_size),\n",
        "                               transforms.CenterCrop(crop_size),\n",
        "                               transforms.ToTensor()])\n",
        "def train_transform(crop_size, mean, std):\n",
        "    return transforms.Compose([transforms.RandomResizedCrop(crop_size),\n",
        "                               transforms.RandomHorizontalFlip(),\n",
        "                               transforms.ToTensor(),\n",
        "                               transforms.Normalize(mean=mean, std=std)])\n",
        "def val_transform(resize_size, crop_size, mean, std):\n",
        "    return transforms.Compose([transforms.Resize(resize_size),\n",
        "                               transforms.CenterCrop(crop_size),\n",
        "                               transforms.ToTensor(),\n",
        "                               transforms.Normalize(mean=mean, std=std)])"
      ],
      "metadata": {
        "id": "_VlQqHLzzygR"
      },
      "execution_count": 29,
      "outputs": []
    },
    {
      "cell_type": "code",
      "source": [
        "#%%mypy --ignore-missing-imports\n",
        "def create_dataloader(split: str,\n",
        "                      transform: Callable[[PIL.Image.Image],Tensor],\n",
        "                      dataset_creation: Callable[[str, Callable[[PIL.Image.Image],Tensor]], Dataset],\n",
        "                      batch_size: int,\n",
        "                      shuffle: bool,\n",
        "                      num_workers: int) -> DataLoader:\n",
        "      dataset = dataset_creation(split, transform)\n",
        "      return DataLoader(dataset, batch_size = batch_size, shuffle = shuffle, num_workers = num_workers)"
      ],
      "metadata": {
        "id": "w6KdSkr_jqgQ"
      },
      "execution_count": 30,
      "outputs": []
    },
    {
      "cell_type": "code",
      "source": [
        "def compute_sums(loader):\n",
        "    sum_red = 0.0\n",
        "    sum_green = 0.0\n",
        "    sum_blue = 0.0\n",
        "    num_pixels = 0\n",
        "\n",
        "    for images, _ in loader:\n",
        "        sum_red += images[:, 0, :, :].sum().item()\n",
        "        sum_green += images[:, 1, :, :].sum().item()\n",
        "        sum_blue += images[:, 2, :, :].sum().item()\n",
        "        num_pixels += images[:, 0, :, :].numel()\n",
        "\n",
        "    return sum_red, sum_green, sum_blue, num_pixels\n",
        "\n",
        "def compute_means(sum_red, sum_green, sum_blue, num_pixels):\n",
        "    mean_red = sum_red / num_pixels\n",
        "    mean_green = sum_green / num_pixels\n",
        "    mean_blue = sum_blue / num_pixels\n",
        "    return mean_red, mean_green, mean_blue\n",
        "\n",
        "def compute_sum_of_squared_diff(loader, mean_red, mean_green, mean_blue):\n",
        "    sum_red_diff_sq = 0.0\n",
        "    sum_green_diff_sq = 0.0\n",
        "    sum_blue_diff_sq = 0.0\n",
        "\n",
        "    for images, _ in loader:\n",
        "        sum_red_diff_sq += ((images[:, 0, :, :] - mean_red) ** 2).sum().item()\n",
        "        sum_green_diff_sq += ((images[:, 1, :, :] - mean_green) ** 2).sum().item()\n",
        "        sum_blue_diff_sq += ((images[:, 2, :, :] - mean_blue) ** 2).sum().item()\n",
        "\n",
        "    return sum_red_diff_sq, sum_green_diff_sq, sum_blue_diff_sq\n",
        "\n",
        "def compute_std(sum_red_diff_sq, sum_green_diff_sq, sum_blue_diff_sq, num_pixels):\n",
        "    std_red = (sum_red_diff_sq / num_pixels) ** 0.5\n",
        "    std_green = (sum_green_diff_sq / num_pixels) ** 0.5\n",
        "    std_blue = (sum_blue_diff_sq / num_pixels) ** 0.5\n",
        "    return std_red, std_green, std_blue"
      ],
      "metadata": {
        "id": "-o-zXaC73P9I"
      },
      "execution_count": 31,
      "outputs": []
    },
    {
      "cell_type": "code",
      "source": [
        "def get_mean_and_std(loader):\n",
        "    sum_red, sum_green, sum_blue, num_pixels = compute_sums(loader)\n",
        "    mean_red, mean_green, mean_blue = compute_means(sum_red, sum_green, sum_blue, num_pixels)\n",
        "    sum_red_diff_sq, sum_green_diff_sq, sum_blue_diff_sq = compute_sum_of_squared_diff(loader, mean_red, mean_green, mean_blue)\n",
        "    std_red, std_green, std_blue = compute_std(sum_red_diff_sq, sum_green_diff_sq, sum_blue_diff_sq, num_pixels)\n",
        "    return [mean_red, mean_green, mean_blue], [std_red, std_green, std_blue]"
      ],
      "metadata": {
        "id": "8XMEoO5U3FFi"
      },
      "execution_count": 32,
      "outputs": []
    },
    {
      "cell_type": "code",
      "source": [
        "food_dict = {\n",
        "    0: \"Apple\",\n",
        "    1: \"Avocado\",\n",
        "    2: \"Banana\",\n",
        "    3: \"Kiwi\",\n",
        "    4: \"Lemon\",\n",
        "    5: \"Lime\",\n",
        "    6: \"Mango\",\n",
        "    7: \"Melon\",\n",
        "    8: \"Nectarine\",\n",
        "    9: \"Orange\",\n",
        "    10: \"Papaya\",\n",
        "    11: \"Passion-Fruit\",\n",
        "    12: \"Peach\",\n",
        "    13: \"Pear\",\n",
        "    14: \"Pineapple\",\n",
        "    15: \"Plum\",\n",
        "    16: \"Pomegranate\",\n",
        "    17: \"Red-Grapefruit\",\n",
        "    18: \"Satsumas\",\n",
        "    19: \"Juice\",\n",
        "    20: \"Milk\",\n",
        "    21: \"Oatghurt\",\n",
        "    22: \"Oat-Milk\",\n",
        "    23: \"Sour-Cream\",\n",
        "    24: \"Sour-Milk\",\n",
        "    25: \"Soyghurt\",\n",
        "    26: \"Soy-Milk\",\n",
        "    27: \"Yoghurt\",\n",
        "    28: \"Asparagus\",\n",
        "    29: \"Aubergine\",\n",
        "    30: \"Cabbage\",\n",
        "    31: \"Carrots\",\n",
        "    32: \"Cucumber\",\n",
        "    33: \"Garlic\",\n",
        "    34: \"Ginger\",\n",
        "    35: \"Leek\",\n",
        "    36: \"Mushroom\",\n",
        "    37: \"Onion\",\n",
        "    38: \"Pepper\",\n",
        "    39: \"Potato\",\n",
        "    40: \"Red-Beet\",\n",
        "    41: \"Tomato\",\n",
        "    42: \"Zucchini\"\n",
        "}"
      ],
      "metadata": {
        "id": "L0wjeQF0lLJQ"
      },
      "execution_count": 33,
      "outputs": []
    },
    {
      "cell_type": "code",
      "source": [
        "base_trainloader =  create_dataloader('train', base_transform(resize_size, crop_size), GroceryStoreDataset, batch_size = 64, shuffle = False, num_workers = 2)\n",
        "mean, std = get_mean_and_std(base_trainloader)"
      ],
      "metadata": {
        "id": "1sm32rLx2fAf"
      },
      "execution_count": 34,
      "outputs": []
    },
    {
      "cell_type": "code",
      "source": [
        "class SqueezeDims(torch.nn.Module):\n",
        "    def forward(self, x):\n",
        "        return x.squeeze()\n",
        "\n",
        "class GroceryStoreModel(torch.nn.Module):\n",
        "    def __init__(self, act_layer: Callable[[], torch.nn.Module],\n",
        "                 norm_layer: Callable[[int], torch.nn.Module],\n",
        "                 stem_layer: Callable[[int, Callable, Callable, int], torch.nn.Sequential],\n",
        "                 stage_layer: Callable[[int, Callable, Callable, int], torch.nn.Sequential],\n",
        "                 dropout_head: float,\n",
        "                 dropout_fe: float,\n",
        "                 stem_out_channels: int,\n",
        "                 num_stages: int,\n",
        "                 num_classes: int):\n",
        "        super(GroceryStoreModel, self).__init__()\n",
        "        self.stem = torch.nn.Sequential(\n",
        "            stem_layer(stem_out_channels, act_layer, norm_layer, dropout_fe),\n",
        "            torch.nn.MaxPool2d(kernel_size=3, stride=2, padding=1)\n",
        "        )\n",
        "        self.stages = torch.nn.ModuleList()\n",
        "        in_channels = stem_out_channels\n",
        "        for _ in range(num_stages):\n",
        "            stage = stage_layer(in_channels, act_layer, norm_layer, dropout_fe)\n",
        "            self.stages.append(stage)\n",
        "            in_channels *= 2\n",
        "        self.head = torch.nn.Sequential(\n",
        "          torch.nn.AdaptiveAvgPool2d((1, 1)),\n",
        "          SqueezeDims(),\n",
        "          torch.nn.Dropout(dropout_head),\n",
        "          torch.nn.Linear(in_channels, num_classes)\n",
        "        )\n",
        "\n",
        "    def forward(self, x: torch.Tensor) -> torch.Tensor:\n",
        "        x = self.stem(x)\n",
        "        for stage in self.stages:\n",
        "            x = stage(x)\n",
        "        x = self.head(x)\n",
        "        return x"
      ],
      "metadata": {
        "id": "wGSSm1u5TE7l"
      },
      "execution_count": 35,
      "outputs": []
    },
    {
      "cell_type": "code",
      "source": [
        "class ConvBlock(torch.nn.Module):\n",
        "    def __init__(self, in_channels: int,\n",
        "                 out_channels: int,\n",
        "                 kernel_size: int,\n",
        "                 stride: int,\n",
        "                 padding: int,\n",
        "                 act_layer: Callable[[], torch.nn.Module],\n",
        "                 norm_layer: Callable[[int], torch.nn.Module],\n",
        "                 dropout_rate: float):\n",
        "        super(ConvBlock,self).__init__()\n",
        "        self.conv2d = torch.nn.Conv2d(in_channels=in_channels, out_channels=out_channels, kernel_size=kernel_size, stride=stride, padding=padding)\n",
        "        self.norm_layer = norm_layer(out_channels)\n",
        "        self.act_layer = act_layer()\n",
        "        self.dropout_rate = dropout_rate\n",
        "\n",
        "    def forward(self,x):\n",
        "        x = self.conv2d(x)\n",
        "        x = self.norm_layer(x)\n",
        "        x = self.act_layer(x)\n",
        "        if self.dropout_rate>0:\n",
        "          x = torch.nn.Dropout(self.dropout_rate)(x)\n",
        "        return x"
      ],
      "metadata": {
        "id": "m-5nXcq5-PUU"
      },
      "execution_count": 36,
      "outputs": []
    },
    {
      "cell_type": "code",
      "source": [
        "class InceptionBlock(torch.nn.Module):\n",
        "    def __init__(self, in_channels: int,\n",
        "                 out_channels: int,\n",
        "                 act_layer: Callable[[], torch.nn.Module],\n",
        "                 norm_layer: Callable[[int], torch.nn.Module],\n",
        "                 dropout_rate: float):\n",
        "        super(InceptionBlock,self).__init__()\n",
        "        out_1x1 = out_channels // 4\n",
        "        red_3x3 = out_1x1 // 2\n",
        "        out_3x3 = out_1x1\n",
        "        red_5x5 = out_1x1 // 2\n",
        "        out_5x5 = out_1x1\n",
        "        out_1x1_pooling = out_1x1\n",
        "        # branch1 : k=1,s=1,p=0\n",
        "        self.branch1 = ConvBlock(in_channels = in_channels,out_channels = out_1x1, kernel_size = 1, stride = 1, padding = 0, act_layer = act_layer, norm_layer = norm_layer, dropout_rate = dropout_rate)\n",
        "        # branch2 : k=1,s=1,p=0 -> k=3,s=1,p=1\n",
        "        self.branch2 = torch.nn.Sequential(ConvBlock(in_channels=in_channels, out_channels=red_3x3, kernel_size=1, stride=1,padding=0, act_layer=act_layer, norm_layer=norm_layer, dropout_rate=dropout_rate),\n",
        "                                           ConvBlock(in_channels=red_3x3, out_channels=out_3x3, kernel_size=3, stride=1, padding=1, act_layer=act_layer, norm_layer=norm_layer, dropout_rate=dropout_rate))\n",
        "        # branch3 : k=1,s=1,p=0 -> k=5,s=1,p=2\n",
        "        self.branch3 = torch.nn.Sequential(ConvBlock(in_channels=in_channels, out_channels=red_5x5,kernel_size=1, stride=1, padding=0, act_layer=act_layer, norm_layer=norm_layer, dropout_rate=dropout_rate),\n",
        "                                           ConvBlock(in_channels=red_5x5, out_channels=out_5x5,kernel_size=5, stride=1, padding=2, act_layer=act_layer, norm_layer=norm_layer, dropout_rate=dropout_rate))\n",
        "        # branch4 : pool(k=3,s=1,p=1) -> k=1,s=1,p=0\n",
        "        self.branch4 = torch.nn.Sequential(torch.nn.MaxPool2d(kernel_size=3,stride=1,padding=1),\n",
        "                                           ConvBlock(in_channels=in_channels, out_channels=out_1x1_pooling, kernel_size=1, stride=1, padding=0, act_layer=act_layer, norm_layer=norm_layer, dropout_rate=dropout_rate))\n",
        "\n",
        "    def forward(self,x):\n",
        "        # concatenation from dim=1 as dim=0 represents batchsize\n",
        "        return torch.cat([self.branch1(x),self.branch2(x),self.branch3(x),self.branch4(x)],dim=1)"
      ],
      "metadata": {
        "id": "B7EpEUe7-Iis"
      },
      "execution_count": 37,
      "outputs": []
    },
    {
      "cell_type": "code",
      "source": [
        "def inception_stage(in_channels: int, act_layer: Callable[[], torch.nn.Module], norm_layer: Callable[[int], torch.nn.Module], dropout_rate:float) -> torch.nn.Sequential:\n",
        "    out_channels = in_channels * 2\n",
        "    return torch.nn.Sequential(\n",
        "        InceptionBlock(in_channels, out_channels, act_layer, norm_layer, dropout_rate),\n",
        "        InceptionBlock(out_channels, out_channels, act_layer, norm_layer, dropout_rate),\n",
        "        torch.nn.MaxPool2d(kernel_size=2, stride=2)\n",
        "    )\n",
        "def stem_layer_1(out_channels: int, act_layer: Callable[[], torch.nn.Module], norm_layer: Callable[[int], torch.nn.Module], dropout_rate:float) -> torch.nn.Sequential:\n",
        "    return torch.nn.Sequential(\n",
        "        ConvBlock(3, out_channels, kernel_size = 3, stride = 2, padding = 1, act_layer = act_layer, norm_layer= norm_layer, dropout_rate = dropout_rate),\n",
        "        ConvBlock(out_channels, out_channels, kernel_size = 3, stride= 1, padding = 1,  act_layer = act_layer, norm_layer= norm_layer, dropout_rate = dropout_rate),\n",
        "        ConvBlock(out_channels, out_channels, kernel_size = 3, stride = 1, padding = 1, act_layer = act_layer, norm_layer= norm_layer, dropout_rate = dropout_rate)\n",
        "    )\n",
        "def stem_layer_2(out_channels: int, act_layer: Callable[[], torch.nn.Module], norm_layer: Callable[[int], torch.nn.Module], dropout_rate:float) -> torch.nn.Sequential:\n",
        "    return ConvBlock(3, out_channels, kernel_size = 7, stride = 2, padding = 1, act_layer = act_layer, norm_layer= norm_layer, dropout_rate = dropout_rate)"
      ],
      "metadata": {
        "id": "bnNbXY8S97Un"
      },
      "execution_count": 38,
      "outputs": []
    },
    {
      "cell_type": "markdown",
      "source": [
        "NEL SUCCESSIVO MODELLO MI PORTERO' DIETRO LA WEIGHT DECAY, IL LEARNING RATE (ANCHE SE CREDO CAMBIERA')"
      ],
      "metadata": {
        "id": "2E5nDxUpLEJX"
      }
    },
    {
      "cell_type": "code",
      "source": [
        "def create_directory(directory_path):\n",
        "    try:\n",
        "        os.makedirs(directory_path, exist_ok=True)\n",
        "        print(f\"Directory '{directory_path}' created successfully\")\n",
        "    except Exception as e:\n",
        "        print(f\"An error occurred while creating the directory '{directory_path}': {e}\")"
      ],
      "metadata": {
        "id": "R7XV-H8_g8M1"
      },
      "execution_count": 39,
      "outputs": []
    },
    {
      "cell_type": "code",
      "source": [
        "def perform_epoch(model, criterion, dataloader, epoch, num_epochs, metric, device, is_train = False, optimizer=None, scheduler= None):\n",
        "    running_loss = 0.0\n",
        "    for inputs, targets in tqdm(dataloader, desc=f\"Epoch {epoch+1}/{num_epochs}\"):\n",
        "        optimizer.zero_grad()\n",
        "        outputs = model(inputs.to(device))\n",
        "        loss = criterion(outputs, targets.to(device))\n",
        "        loss.backward()\n",
        "        optimizer.step()\n",
        "        scheduler.step()\n",
        "        running_loss += loss.item()\n",
        "        preds = torch.argmax(outputs, dim=1)\n",
        "        metric.update(preds, targets.to(device))\n",
        "    epoch_loss = running_loss / len(dataloader)\n",
        "    metric_value = metric.compute().item()\n",
        "    return epoch_loss, metric_value"
      ],
      "metadata": {
        "id": "3tTohudyrwxR"
      },
      "execution_count": 40,
      "outputs": []
    },
    {
      "cell_type": "code",
      "source": [
        "def train(model, num_epochs, criterion, opt, train_dl, val_dl, num_classes, earlystop_patience, scheduler, device):\n",
        "    train_acc_fn, val_acc_fn = initialize_metrics(num_classes, device)\n",
        "    best_val_acc = 0.0\n",
        "    epochs_without_improvement = 0\n",
        "\n",
        "    train_losses = []\n",
        "    train_accuracies = []\n",
        "    val_losses = []\n",
        "    val_accuracies = []\n",
        "\n",
        "    for epoch in range(num_epochs):\n",
        "        train_loss, train_acc = train_one_epoch(model, train_dl, criterion, opt, scheduler, train_acc_fn, device, epoch, num_epochs)\n",
        "        train_losses.append(train_loss)\n",
        "        train_accuracies.append(train_acc)\n",
        "\n",
        "        val_loss, val_acc = validate_one_epoch(model, val_dl, criterion, val_acc_fn, device, epoch, num_epochs)\n",
        "        val_losses.append(val_loss)\n",
        "        val_accuracies.append(val_acc)\n",
        "\n",
        "        print_epoch_summary(epoch, num_epochs, train_loss, train_acc, val_loss, val_acc)\n",
        "\n",
        "        best_val_acc, epochs_without_improvement = check_early_stopping(model, val_acc, best_val_acc, epochs_without_improvement, earlystop_patience)\n",
        "        if epochs_without_improvement >= earlystop_patience:\n",
        "            print(f\"Early stopping triggered after {epoch+1} epochs without improvement.\")\n",
        "            break\n",
        "\n",
        "    history = {\n",
        "        'train_losses': train_losses,\n",
        "        'train_accuracies': train_accuracies,\n",
        "        'val_losses': val_losses,\n",
        "        'val_accuracies': val_accuracies\n",
        "    }\n",
        "    return history, best_val_acc\n",
        "\n",
        "def initialize_metrics(num_classes, device):\n",
        "    train_acc_fn = torchmetrics.Accuracy(task='multiclass', num_classes=num_classes).to(device)\n",
        "    val_acc_fn = torchmetrics.Accuracy(task='multiclass', num_classes=num_classes).to(device)\n",
        "    return train_acc_fn, val_acc_fn\n",
        "\n",
        "def train_one_epoch(model, train_dl, criterion, opt, scheduler, train_acc_fn, device, epoch, num_epochs):\n",
        "    model.train()\n",
        "    train_acc_fn.reset()\n",
        "    running_loss = 0.0\n",
        "    for inputs, targets in tqdm(train_dl, desc=f\"Epoch {epoch+1}/{num_epochs}\"):\n",
        "        opt.zero_grad()\n",
        "        outputs = model(inputs.to(device))\n",
        "        loss = criterion(outputs, targets.to(device))\n",
        "        loss.backward()\n",
        "        opt.step()\n",
        "        scheduler.step()\n",
        "        running_loss += loss.item()\n",
        "        preds = torch.argmax(outputs, dim=1)\n",
        "        train_acc_fn.update(preds, targets.to(device))\n",
        "    train_loss = running_loss / len(train_dl)\n",
        "    train_acc = train_acc_fn.compute().item()\n",
        "    return train_loss, train_acc\n",
        "\n",
        "def validate_one_epoch(model, val_dl, criterion, val_acc_fn, device, epoch, num_epochs):\n",
        "    model.eval()\n",
        "    val_acc_fn.reset()\n",
        "    running_loss = 0.0\n",
        "    with torch.no_grad():\n",
        "        for inputs, targets in tqdm(val_dl, desc=f\"Epoch {epoch+1}/{num_epochs}\"):\n",
        "            outputs = model(inputs.to(device))\n",
        "            loss = criterion(outputs, targets.to(device))\n",
        "            running_loss += loss.item()\n",
        "            preds = torch.argmax(outputs, dim=1)\n",
        "            val_acc_fn.update(preds, targets.to(device))\n",
        "    val_loss = running_loss / len(val_dl)\n",
        "    val_acc = val_acc_fn.compute().item()\n",
        "    return val_loss, val_acc\n",
        "\n",
        "def check_early_stopping(model, val_acc, best_val_acc, epochs_without_improvement, earlystop_patience):\n",
        "    if val_acc > best_val_acc:\n",
        "        best_val_acc = val_acc\n",
        "        epochs_without_improvement = 0\n",
        "    else:\n",
        "        epochs_without_improvement += 1\n",
        "    return best_val_acc, epochs_without_improvement\n",
        "\n",
        "def save_model_weights(model, best_val_acc, weights_path):\n",
        "    torch.save(model.state_dict(), f\"{weights_path}/model{best_val_acc:.3f}.pt\")\n",
        "    print(f\"Saved best model weights with validation accuracy: {best_val_acc:.4f}\")\n",
        "\n",
        "def print_epoch_summary(epoch, num_epochs, train_loss, train_acc, val_loss, val_acc):\n",
        "    print(f\"Epoch {epoch+1}/{num_epochs}\")\n",
        "    print(f\"Train Loss: {train_loss:.4f} Train Accuracy: {train_acc:.4f}\")\n",
        "    print(f\"Val Loss: {val_loss:.4f} Val Accuracy: {val_acc:.4f}\")"
      ],
      "metadata": {
        "id": "ulSqv3Hwo8Nw"
      },
      "execution_count": 41,
      "outputs": []
    },
    {
      "cell_type": "code",
      "source": [
        "def create_grocerystoremodel(cnf_model):\n",
        "    model = GroceryStoreModel(\n",
        "      act_layer = cnf_model['activation'],\n",
        "      norm_layer = cnf_model['normalization'],\n",
        "      stem_layer = cnf_model['stem_layer'],\n",
        "      stage_layer = inception_stage,\n",
        "      dropout_head = cnf_model['dropout_head'],\n",
        "      dropout_fe = cnf_model['dropout_fe'],\n",
        "      stem_out_channels=64,\n",
        "      num_stages=cnf_model['num_stages'],\n",
        "      num_classes=num_classes\n",
        "    )\n",
        "    model.to(device)\n",
        "    return model"
      ],
      "metadata": {
        "id": "xJzhFXLthcBs"
      },
      "execution_count": 42,
      "outputs": []
    },
    {
      "cell_type": "code",
      "source": [
        "def execute(cnf_training, model, device, lr_groups_fn):\n",
        "    train_dataloader = create_dataloader('train', cnf_training['train_transform'], GroceryStoreDataset, cnf_training['batch_size'], True, 2)\n",
        "    val_dataloader = create_dataloader('val', cnf_training['test_transform'], GroceryStoreDataset, cnf_training['batch_size'], False, 2)\n",
        "    test_dataloader = create_dataloader('test', cnf_training['test_transform'], GroceryStoreDataset, cnf_training['batch_size'], False, 2)\n",
        "    input_shape = (cnf_training['batch_size'], 3, crop_size, crop_size)\n",
        "    flops, mac, params = calculate_flops(model, input_shape=input_shape,output_as_string=True,\n",
        "                                      output_precision=4)\n",
        "    criterion = torch.nn.CrossEntropyLoss()\n",
        "    # mi serve una funzione che dato un lr e un modello mi ritorna un dizionario di subgroups.\n",
        "    # nel caso corrente semplicemente fa [{'params': model.parameters(), 'lr': lr}], nel secondo caso fa [{'params': group1, 'lr': lr / 10}, {'params': group2, 'lr': lr}]\n",
        "    #  Mi deve anche ritornare un array di lrs. Nel primo caso solo [lr], nel secondo caso [lr/10, lr].\n",
        "    # il primo valore di ritorno e' passato a Adam, il secondo e' passato a OneCycleLR.\n",
        "    groups_dict, lrs = lr_groups_fn(model, cnf_training['lr'])\n",
        "    optimizer = optim.Adam(groups_dict, weight_decay=cnf_training['weight_decay'])\n",
        "    scheduler = torch.optim.lr_scheduler.OneCycleLR(optimizer, max_lr=lrs, steps_per_epoch=len(train_dataloader), epochs=cnf_training['n_epochs'])\n",
        "    history, best_val_acc = train(model,\n",
        "          num_epochs = cnf_training['n_epochs'],\n",
        "          criterion = criterion,\n",
        "          opt = optimizer,\n",
        "          train_dl = train_dataloader,\n",
        "          val_dl = val_dataloader,\n",
        "          num_classes = 43,\n",
        "          earlystop_patience = cnf_training['patience'],\n",
        "          scheduler = scheduler,\n",
        "          device=device)\n",
        "    return history, best_val_acc, flops, mac, params"
      ],
      "metadata": {
        "id": "1FxyYvDxFZge"
      },
      "execution_count": 43,
      "outputs": []
    },
    {
      "cell_type": "code",
      "source": [
        "def update_config(cnf, key, new_value):\n",
        "    cnf_to_return = copy.deepcopy(cnf)\n",
        "    if key in cnf_to_return:\n",
        "        cnf_to_return[key] = new_value\n",
        "    else:\n",
        "        print(f\"Key '{key}' not found in the configuration.\")\n",
        "    return cnf_to_return"
      ],
      "metadata": {
        "id": "wdcCTgsduO-a"
      },
      "execution_count": 44,
      "outputs": []
    },
    {
      "cell_type": "code",
      "source": [
        "def plot_metric(histories, model_names, best_accuracies, metric_type, ylabel, colors, subplot_idx):\n",
        "    plt.subplot(2, 1, subplot_idx)\n",
        "    for idx, (history, name, best_acc) in enumerate(zip(histories, model_names, best_accuracies)):\n",
        "        epochs = range(1, len(history['train_losses']) + 1)\n",
        "        color = colors(idx)\n",
        "        plt.plot(epochs, history[f'train_{metric_type}'], label=f'{name} train {ylabel.lower()}', color=color, linestyle='-')\n",
        "        plt.plot(epochs, history[f'val_{metric_type}'], label=f'{name} val {ylabel.lower()}', color=color, linestyle='--')\n",
        "        if subplot_idx == 2:\n",
        "          annotate_best_accuracy(history['val_accuracies'], best_acc)\n",
        "    plt.title(f'Training and Validation {metric_type.capitalize()}')\n",
        "    plt.xlabel('Epochs')\n",
        "    plt.ylabel(ylabel)\n",
        "    plt.legend()\n"
      ],
      "metadata": {
        "id": "axt6AwoqKKMo"
      },
      "execution_count": 45,
      "outputs": []
    },
    {
      "cell_type": "code",
      "source": [
        "def plot_model_histories(histories, model_names, best_accuracies):\n",
        "    if len(histories) != len(model_names):\n",
        "        raise ValueError(\"The number of histories and model names must be the same.\")\n",
        "    plt.figure(figsize=(20, 15))\n",
        "    colors = plt.cm.get_cmap('tab10', len(histories))\n",
        "    plot_metric(histories, model_names, best_accuracies, 'losses', 'Loss', colors, 1)\n",
        "    plot_metric(histories, model_names, best_accuracies, 'accuracies', 'Accuracy', colors, 2)\n",
        "    plt.tight_layout()\n",
        "    plt.show()"
      ],
      "metadata": {
        "id": "RSiPrD3dD2xJ"
      },
      "execution_count": 46,
      "outputs": []
    },
    {
      "cell_type": "code",
      "source": [
        "def annotate_best_accuracy(val_accuracies, best_acc):\n",
        "    best_epoch = val_accuracies.index(best_acc) + 1\n",
        "    plt.text(best_epoch + 0.05 , best_acc, f'Peak: {best_acc:.3f}', color='g', fontsize=10, va='center', ha='left')\n",
        "    plt.scatter(best_epoch, best_acc, color='g', zorder=5)"
      ],
      "metadata": {
        "id": "Aa05tdIXLsRi"
      },
      "execution_count": 47,
      "outputs": []
    },
    {
      "cell_type": "code",
      "source": [
        "cnf_tr = { 'train_transform': train_transform(crop_size, mean, std),\n",
        "        'test_transform': val_transform(resize_size, crop_size, mean, std),\n",
        "        'batch_size': 64,\n",
        "        'lr': 0.001,\n",
        "        'weight_decay': 0.0005,\n",
        "        'n_epochs': 30,\n",
        "        'patience': 15\n",
        "        }\n",
        "\n",
        "cnf_mod = { 'activation': lambda: torch.nn.LeakyReLU(),\n",
        "        'normalization': lambda channels: torch.nn.BatchNorm2d(channels),\n",
        "        'stem_layer': stem_layer_1,\n",
        "        'dropout_head': 0.3,\n",
        "        'dropout_fe': 0.1,\n",
        "        'num_stages': 4,}"
      ],
      "metadata": {
        "id": "gPu2ISdDhXWL"
      },
      "execution_count": 48,
      "outputs": []
    },
    {
      "cell_type": "code",
      "source": [
        "def create_no_subgroups(model, lr):\n",
        "  return [{'params': model.parameters(), 'lr': lr}], [lr]\n",
        "def get_head_params(model):\n",
        "  return [param for name, param in model.named_parameters() if 'fc' not in str(name)]\n",
        "def create_subgroups(model, lr):\n",
        "  head_lr = lr * 10\n",
        "  params_1x = get_head_params(model)\n",
        "  return [{'params': params_1x, 'lr': lr}, {'params': model.fc.parameters(), 'lr': head_lr}], [lr, head_lr]"
      ],
      "metadata": {
        "id": "hzCEIAsC_7WD"
      },
      "execution_count": 99,
      "outputs": []
    },
    {
      "cell_type": "markdown",
      "source": [
        "TROVA UN MODO PER TROVARE NUMERO DI PARAMETRI\n",
        "FAI PARAGONE CON QUELLI RIPORTATI DAL SUMMARY"
      ],
      "metadata": {
        "id": "aWS2y9sa4yWa"
      }
    },
    {
      "cell_type": "code",
      "source": [
        "device = torch.device('cuda' if torch.cuda.is_available() else 'cpu')\n",
        "columns = ['model_name', 'best_val_acc', 'flops', 'macs', 'n_params']"
      ],
      "metadata": {
        "id": "vhFWO8Gy4DyT"
      },
      "execution_count": 106,
      "outputs": []
    },
    {
      "cell_type": "code",
      "source": [
        "cnf_mod_1 = update_config(cnf_mod, 'num_stages', 3)\n",
        "cnf_mod_2 = update_config(cnf_mod, 'dropout_head', 0.0)\n",
        "cnf_mod_3 = update_config(cnf_mod, 'dropout_fe', 0.0)\n",
        "cnf_mod_4 = update_config(cnf_mod, 'stem_layer',stem_layer_2)\n",
        "cnf_mod_5 = update_config(cnf_mod, 'normalization', lambda channels: torch.nn.Identity(channels))\n",
        "cnf_tr_1 = update_config(cnf_tr, 'train_transform',  val_transform(resize_size, crop_size, mean, std))\n",
        "cnfs = {'base': (cnf_tr, cnf_mod),\n",
        "        '3stages': (cnf_tr, cnf_mod_1),\n",
        "        'no_drphead': (cnf_tr, cnf_mod_2),\n",
        "        'no_drpfe': (cnf_tr, cnf_mod_3),\n",
        "        '7x7stem': (cnf_tr, cnf_mod_4),\n",
        "        'no_bm': (cnf_tr, cnf_mod_5),\n",
        "        'no_da': (cnf_tr_1, cnf_mod)\n",
        "        }\n",
        "abl_study_res = []\n",
        "abl_study_histories = []\n",
        "for idx, (conf_name, configuration) in enumerate(cnfs.items()):\n",
        "    print(f'Training and evaluating {conf_name} model')\n",
        "    cnf_training, cnf_model = configuration\n",
        "    model = create_grocerystoremodel(cnf_model)\n",
        "    history, acc_value, flops, macs, params = execute(cnf_training, model, device, create_no_subgroups)\n",
        "    abl_study_res.append([conf_name, acc_value, flops, macs, params])\n",
        "    abl_study_histories.append(history)\n",
        "abl_study_res = pd.DataFrame(abl_study_res, columns = columns)\n",
        "\n",
        "abl_study_res.to_csv('abl_results.csv', index=False)\n",
        "pd.DataFrame(abl_study_histories).to_csv('abl_histories.csv', index = False)"
      ],
      "metadata": {
        "colab": {
          "base_uri": "https://localhost:8080/",
          "height": 1000
        },
        "collapsed": true,
        "id": "V-d-oR51mkfO",
        "outputId": "7879b77e-fcb4-4b08-b1c8-e166038e0a28"
      },
      "execution_count": 66,
      "outputs": [
        {
          "output_type": "stream",
          "name": "stdout",
          "text": [
            "Training and evaluating base model\n",
            "\n",
            "------------------------------------- Calculate Flops Results -------------------------------------\n",
            "Notations:\n",
            "number of parameters (Params), number of multiply-accumulate operations(MACs),\n",
            "number of floating-point operations (FLOPs), floating-point operations per second (FLOPS),\n",
            "fwd FLOPs (model forward propagation FLOPs), bwd FLOPs (model backward propagation FLOPs),\n",
            "default model backpropagation takes 2.00 times as much computation as forward propagation.\n",
            "\n",
            "Total Training Params:                                                  4.66 M  \n",
            "fwd MACs:                                                               134.959 GMACs\n",
            "fwd FLOPs:                                                              271.577 GFLOPS\n",
            "fwd+bwd MACs:                                                           404.876 GMACs\n",
            "fwd+bwd FLOPs:                                                          814.732 GFLOPS\n",
            "\n",
            "-------------------------------- Detailed Calculated FLOPs Results --------------------------------\n",
            "Each module caculated is listed after its name in the following order: \n",
            "params, percentage of total params, MACs, percentage of total MACs, FLOPS, percentage of total FLOPs\n",
            "\n",
            "Note: 1. A module can have torch.nn.module or torch.nn.functional to compute logits (e.g. CrossEntropyLoss). \n",
            " They are not counted as submodules in calflops and not to be printed out. However they make up the difference between a parent's MACs and the sum of its submodules'.\n",
            "2. Number of floating-point operations is a theoretical estimation, thus FLOPS computed using that could be larger than the maximum system throughput.\n",
            "\n",
            "GroceryStoreModel(\n",
            "  4.66 M = 100% Params, 134.96 GMACs = 100% MACs, 271.58 GFLOPS = 100% FLOPs\n",
            "  (stem): Sequential(\n",
            "    76.03 K = 1.6314% Params, 79.12 GMACs = 58.6263% MACs, 159.12 GFLOPS = 58.5892% FLOPs\n",
            "    (0): Sequential(\n",
            "      76.03 K = 1.6314% Params, 79.12 GMACs = 58.6263% MACs, 159.05 GFLOPS = 58.5645% FLOPs\n",
            "      (0): ConvBlock(\n",
            "        1.92 K = 0.0412% Params, 1.81 GMACs = 1.3426% MACs, 3.89 GFLOPS = 1.4332% FLOPs\n",
            "        (conv2d): Conv2d(1.79 K = 0.0385% Params, 1.81 GMACs = 1.3426% MACs, 3.69 GFLOPS = 1.3591% FLOPs, 3, 64, kernel_size=(3, 3), stride=(2, 2), padding=(1, 1))\n",
            "        (norm_layer): BatchNorm2d(128 = 0.0027% Params, 0 MACs = 0% MACs, 134.22 MFLOPS = 0.0494% FLOPs, 64, eps=1e-05, momentum=0.1, affine=True, track_running_stats=True)\n",
            "        (act_layer): LeakyReLU(0 = 0% Params, 0 MACs = 0% MACs, 67.11 MFLOPS = 0.0247% FLOPs, negative_slope=0.01)\n",
            "      )\n",
            "      (1): ConvBlock(\n",
            "        37.06 K = 0.7951% Params, 38.65 GMACs = 28.6419% MACs, 77.58 GFLOPS = 28.5657% FLOPs\n",
            "        (conv2d): Conv2d(36.93 K = 0.7923% Params, 38.65 GMACs = 28.6419% MACs, 77.38 GFLOPS = 28.4915% FLOPs, 64, 64, kernel_size=(3, 3), stride=(1, 1), padding=(1, 1))\n",
            "        (norm_layer): BatchNorm2d(128 = 0.0027% Params, 0 MACs = 0% MACs, 134.22 MFLOPS = 0.0494% FLOPs, 64, eps=1e-05, momentum=0.1, affine=True, track_running_stats=True)\n",
            "        (act_layer): LeakyReLU(0 = 0% Params, 0 MACs = 0% MACs, 67.11 MFLOPS = 0.0247% FLOPs, negative_slope=0.01)\n",
            "      )\n",
            "      (2): ConvBlock(\n",
            "        37.06 K = 0.7951% Params, 38.65 GMACs = 28.6419% MACs, 77.58 GFLOPS = 28.5657% FLOPs\n",
            "        (conv2d): Conv2d(36.93 K = 0.7923% Params, 38.65 GMACs = 28.6419% MACs, 77.38 GFLOPS = 28.4915% FLOPs, 64, 64, kernel_size=(3, 3), stride=(1, 1), padding=(1, 1))\n",
            "        (norm_layer): BatchNorm2d(128 = 0.0027% Params, 0 MACs = 0% MACs, 134.22 MFLOPS = 0.0494% FLOPs, 64, eps=1e-05, momentum=0.1, affine=True, track_running_stats=True)\n",
            "        (act_layer): LeakyReLU(0 = 0% Params, 0 MACs = 0% MACs, 67.11 MFLOPS = 0.0247% FLOPs, negative_slope=0.01)\n",
            "      )\n",
            "    )\n",
            "    (1): MaxPool2d(0 = 0% Params, 0 MACs = 0% MACs, 67.11 MFLOPS = 0.0247% FLOPs, kernel_size=3, stride=2, padding=1, dilation=1, ceil_mode=False)\n",
            "  )\n",
            "  (stages): ModuleList(\n",
            "    (0): Sequential(\n",
            "      54.21 K = 1.1631% Params, 13.96 GMACs = 10.3429% MACs, 28.34 GFLOPS = 10.4341% FLOPs\n",
            "      (0): InceptionBlock(\n",
            "        24.03 K = 0.5156% Params, 6.17 GMACs = 4.5747% MACs, 12.53 GFLOPS = 4.6147% FLOPs\n",
            "        (branch1): ConvBlock(\n",
            "          2.14 K = 0.046% Params, 536.87 MMACs = 0.3978% MACs, 1.11 GFLOPS = 0.4077% FLOPs\n",
            "          (conv2d): Conv2d(2.08 K = 0.0446% Params, 536.87 MMACs = 0.3978% MACs, 1.08 GFLOPS = 0.3985% FLOPs, 64, 32, kernel_size=(1, 1), stride=(1, 1))\n",
            "          (norm_layer): BatchNorm2d(64 = 0.0014% Params, 0 MACs = 0% MACs, 16.78 MFLOPS = 0.0062% FLOPs, 32, eps=1e-05, momentum=0.1, affine=True, track_running_stats=True)\n",
            "          (act_layer): LeakyReLU(0 = 0% Params, 0 MACs = 0% MACs, 8.39 MFLOPS = 0.0031% FLOPs, negative_slope=0.01)\n",
            "        )\n",
            "        (branch2): Sequential(\n",
            "          5.78 K = 0.1239% Params, 1.48 GMACs = 1.094% MACs, 3 GFLOPS = 1.1058% FLOPs\n",
            "          (0): ConvBlock(\n",
            "            1.07 K = 0.023% Params, 268.44 MMACs = 0.1989% MACs, 553.65 MFLOPS = 0.2039% FLOPs\n",
            "            (conv2d): Conv2d(1.04 K = 0.0223% Params, 268.44 MMACs = 0.1989% MACs, 541.07 MFLOPS = 0.1992% FLOPs, 64, 16, kernel_size=(1, 1), stride=(1, 1))\n",
            "            (norm_layer): BatchNorm2d(32 = 0.0007% Params, 0 MACs = 0% MACs, 8.39 MFLOPS = 0.0031% FLOPs, 16, eps=1e-05, momentum=0.1, affine=True, track_running_stats=True)\n",
            "            (act_layer): LeakyReLU(0 = 0% Params, 0 MACs = 0% MACs, 4.19 MFLOPS = 0.0015% FLOPs, negative_slope=0.01)\n",
            "          )\n",
            "          (1): ConvBlock(\n",
            "            4.7 K = 0.1009% Params, 1.21 GMACs = 0.8951% MACs, 2.45 GFLOPS = 0.9019% FLOPs\n",
            "            (conv2d): Conv2d(4.64 K = 0.0996% Params, 1.21 GMACs = 0.8951% MACs, 2.42 GFLOPS = 0.8927% FLOPs, 16, 32, kernel_size=(3, 3), stride=(1, 1), padding=(1, 1))\n",
            "            (norm_layer): BatchNorm2d(64 = 0.0014% Params, 0 MACs = 0% MACs, 16.78 MFLOPS = 0.0062% FLOPs, 32, eps=1e-05, momentum=0.1, affine=True, track_running_stats=True)\n",
            "            (act_layer): LeakyReLU(0 = 0% Params, 0 MACs = 0% MACs, 8.39 MFLOPS = 0.0031% FLOPs, negative_slope=0.01)\n",
            "          )\n",
            "        )\n",
            "        (branch3): Sequential(\n",
            "          13.97 K = 0.2997% Params, 3.62 GMACs = 2.6852% MACs, 7.3 GFLOPS = 2.6873% FLOPs\n",
            "          (0): ConvBlock(\n",
            "            1.07 K = 0.023% Params, 268.44 MMACs = 0.1989% MACs, 553.65 MFLOPS = 0.2039% FLOPs\n",
            "            (conv2d): Conv2d(1.04 K = 0.0223% Params, 268.44 MMACs = 0.1989% MACs, 541.07 MFLOPS = 0.1992% FLOPs, 64, 16, kernel_size=(1, 1), stride=(1, 1))\n",
            "            (norm_layer): BatchNorm2d(32 = 0.0007% Params, 0 MACs = 0% MACs, 8.39 MFLOPS = 0.0031% FLOPs, 16, eps=1e-05, momentum=0.1, affine=True, track_running_stats=True)\n",
            "            (act_layer): LeakyReLU(0 = 0% Params, 0 MACs = 0% MACs, 4.19 MFLOPS = 0.0015% FLOPs, negative_slope=0.01)\n",
            "          )\n",
            "          (1): ConvBlock(\n",
            "            12.9 K = 0.2767% Params, 3.36 GMACs = 2.4863% MACs, 6.74 GFLOPS = 2.4834% FLOPs\n",
            "            (conv2d): Conv2d(12.83 K = 0.2753% Params, 3.36 GMACs = 2.4863% MACs, 6.72 GFLOPS = 2.4742% FLOPs, 16, 32, kernel_size=(5, 5), stride=(1, 1), padding=(2, 2))\n",
            "            (norm_layer): BatchNorm2d(64 = 0.0014% Params, 0 MACs = 0% MACs, 16.78 MFLOPS = 0.0062% FLOPs, 32, eps=1e-05, momentum=0.1, affine=True, track_running_stats=True)\n",
            "            (act_layer): LeakyReLU(0 = 0% Params, 0 MACs = 0% MACs, 8.39 MFLOPS = 0.0031% FLOPs, negative_slope=0.01)\n",
            "          )\n",
            "        )\n",
            "        (branch4): Sequential(\n",
            "          2.14 K = 0.046% Params, 536.87 MMACs = 0.3978% MACs, 1.12 GFLOPS = 0.4139% FLOPs\n",
            "          (0): MaxPool2d(0 = 0% Params, 0 MACs = 0% MACs, 16.78 MFLOPS = 0.0062% FLOPs, kernel_size=3, stride=1, padding=1, dilation=1, ceil_mode=False)\n",
            "          (1): ConvBlock(\n",
            "            2.14 K = 0.046% Params, 536.87 MMACs = 0.3978% MACs, 1.11 GFLOPS = 0.4077% FLOPs\n",
            "            (conv2d): Conv2d(2.08 K = 0.0446% Params, 536.87 MMACs = 0.3978% MACs, 1.08 GFLOPS = 0.3985% FLOPs, 64, 32, kernel_size=(1, 1), stride=(1, 1))\n",
            "            (norm_layer): BatchNorm2d(64 = 0.0014% Params, 0 MACs = 0% MACs, 16.78 MFLOPS = 0.0062% FLOPs, 32, eps=1e-05, momentum=0.1, affine=True, track_running_stats=True)\n",
            "            (act_layer): LeakyReLU(0 = 0% Params, 0 MACs = 0% MACs, 8.39 MFLOPS = 0.0031% FLOPs, negative_slope=0.01)\n",
            "          )\n",
            "        )\n",
            "      )\n",
            "      (1): InceptionBlock(\n",
            "        30.18 K = 0.6475% Params, 7.78 GMACs = 5.7682% MACs, 15.77 GFLOPS = 5.807% FLOPs\n",
            "        (branch1): ConvBlock(\n",
            "          4.19 K = 0.0899% Params, 1.07 GMACs = 0.7956% MACs, 2.18 GFLOPS = 0.8031% FLOPs\n",
            "          (conv2d): Conv2d(4.13 K = 0.0886% Params, 1.07 GMACs = 0.7956% MACs, 2.16 GFLOPS = 0.7938% FLOPs, 128, 32, kernel_size=(1, 1), stride=(1, 1))\n",
            "          (norm_layer): BatchNorm2d(64 = 0.0014% Params, 0 MACs = 0% MACs, 16.78 MFLOPS = 0.0062% FLOPs, 32, eps=1e-05, momentum=0.1, affine=True, track_running_stats=True)\n",
            "          (act_layer): LeakyReLU(0 = 0% Params, 0 MACs = 0% MACs, 8.39 MFLOPS = 0.0031% FLOPs, negative_slope=0.01)\n",
            "        )\n",
            "        (branch2): Sequential(\n",
            "          6.8 K = 0.1459% Params, 1.74 GMACs = 1.2929% MACs, 3.54 GFLOPS = 1.3035% FLOPs\n",
            "          (0): ConvBlock(\n",
            "            2.1 K = 0.045% Params, 536.87 MMACs = 0.3978% MACs, 1.09 GFLOPS = 0.4016% FLOPs\n",
            "            (conv2d): Conv2d(2.06 K = 0.0443% Params, 536.87 MMACs = 0.3978% MACs, 1.08 GFLOPS = 0.3969% FLOPs, 128, 16, kernel_size=(1, 1), stride=(1, 1))\n",
            "            (norm_layer): BatchNorm2d(32 = 0.0007% Params, 0 MACs = 0% MACs, 8.39 MFLOPS = 0.0031% FLOPs, 16, eps=1e-05, momentum=0.1, affine=True, track_running_stats=True)\n",
            "            (act_layer): LeakyReLU(0 = 0% Params, 0 MACs = 0% MACs, 4.19 MFLOPS = 0.0015% FLOPs, negative_slope=0.01)\n",
            "          )\n",
            "          (1): ConvBlock(\n",
            "            4.7 K = 0.1009% Params, 1.21 GMACs = 0.8951% MACs, 2.45 GFLOPS = 0.9019% FLOPs\n",
            "            (conv2d): Conv2d(4.64 K = 0.0996% Params, 1.21 GMACs = 0.8951% MACs, 2.42 GFLOPS = 0.8927% FLOPs, 16, 32, kernel_size=(3, 3), stride=(1, 1), padding=(1, 1))\n",
            "            (norm_layer): BatchNorm2d(64 = 0.0014% Params, 0 MACs = 0% MACs, 16.78 MFLOPS = 0.0062% FLOPs, 32, eps=1e-05, momentum=0.1, affine=True, track_running_stats=True)\n",
            "            (act_layer): LeakyReLU(0 = 0% Params, 0 MACs = 0% MACs, 8.39 MFLOPS = 0.0031% FLOPs, negative_slope=0.01)\n",
            "          )\n",
            "        )\n",
            "        (branch3): Sequential(\n",
            "          14.99 K = 0.3217% Params, 3.89 GMACs = 2.8841% MACs, 7.83 GFLOPS = 2.885% FLOPs\n",
            "          (0): ConvBlock(\n",
            "            2.1 K = 0.045% Params, 536.87 MMACs = 0.3978% MACs, 1.09 GFLOPS = 0.4016% FLOPs\n",
            "            (conv2d): Conv2d(2.06 K = 0.0443% Params, 536.87 MMACs = 0.3978% MACs, 1.08 GFLOPS = 0.3969% FLOPs, 128, 16, kernel_size=(1, 1), stride=(1, 1))\n",
            "            (norm_layer): BatchNorm2d(32 = 0.0007% Params, 0 MACs = 0% MACs, 8.39 MFLOPS = 0.0031% FLOPs, 16, eps=1e-05, momentum=0.1, affine=True, track_running_stats=True)\n",
            "            (act_layer): LeakyReLU(0 = 0% Params, 0 MACs = 0% MACs, 4.19 MFLOPS = 0.0015% FLOPs, negative_slope=0.01)\n",
            "          )\n",
            "          (1): ConvBlock(\n",
            "            12.9 K = 0.2767% Params, 3.36 GMACs = 2.4863% MACs, 6.74 GFLOPS = 2.4834% FLOPs\n",
            "            (conv2d): Conv2d(12.83 K = 0.2753% Params, 3.36 GMACs = 2.4863% MACs, 6.72 GFLOPS = 2.4742% FLOPs, 16, 32, kernel_size=(5, 5), stride=(1, 1), padding=(2, 2))\n",
            "            (norm_layer): BatchNorm2d(64 = 0.0014% Params, 0 MACs = 0% MACs, 16.78 MFLOPS = 0.0062% FLOPs, 32, eps=1e-05, momentum=0.1, affine=True, track_running_stats=True)\n",
            "            (act_layer): LeakyReLU(0 = 0% Params, 0 MACs = 0% MACs, 8.39 MFLOPS = 0.0031% FLOPs, negative_slope=0.01)\n",
            "          )\n",
            "        )\n",
            "        (branch4): Sequential(\n",
            "          4.19 K = 0.0899% Params, 1.07 GMACs = 0.7956% MACs, 2.21 GFLOPS = 0.8155% FLOPs\n",
            "          (0): MaxPool2d(0 = 0% Params, 0 MACs = 0% MACs, 33.55 MFLOPS = 0.0124% FLOPs, kernel_size=3, stride=1, padding=1, dilation=1, ceil_mode=False)\n",
            "          (1): ConvBlock(\n",
            "            4.19 K = 0.0899% Params, 1.07 GMACs = 0.7956% MACs, 2.18 GFLOPS = 0.8031% FLOPs\n",
            "            (conv2d): Conv2d(4.13 K = 0.0886% Params, 1.07 GMACs = 0.7956% MACs, 2.16 GFLOPS = 0.7938% FLOPs, 128, 32, kernel_size=(1, 1), stride=(1, 1))\n",
            "            (norm_layer): BatchNorm2d(64 = 0.0014% Params, 0 MACs = 0% MACs, 16.78 MFLOPS = 0.0062% FLOPs, 32, eps=1e-05, momentum=0.1, affine=True, track_running_stats=True)\n",
            "            (act_layer): LeakyReLU(0 = 0% Params, 0 MACs = 0% MACs, 8.39 MFLOPS = 0.0031% FLOPs, negative_slope=0.01)\n",
            "          )\n",
            "        )\n",
            "      )\n",
            "      (2): MaxPool2d(0 = 0% Params, 0 MACs = 0% MACs, 33.55 MFLOPS = 0.0124% FLOPs, kernel_size=2, stride=2, padding=0, dilation=1, ceil_mode=False)\n",
            "    )\n",
            "    (1): Sequential(\n",
            "      214.91 K = 4.6113% Params, 13.96 GMACs = 10.3429% MACs, 28.13 GFLOPS = 10.3569% FLOPs\n",
            "      (0): InceptionBlock(\n",
            "        95.17 K = 2.042% Params, 6.17 GMACs = 4.5747% MACs, 12.44 GFLOPS = 4.5808% FLOPs\n",
            "        (branch1): ConvBlock(\n",
            "          8.38 K = 0.1799% Params, 536.87 MMACs = 0.3978% MACs, 1.09 GFLOPS = 0.4016% FLOPs\n",
            "          (conv2d): Conv2d(8.26 K = 0.1771% Params, 536.87 MMACs = 0.3978% MACs, 1.08 GFLOPS = 0.3969% FLOPs, 128, 64, kernel_size=(1, 1), stride=(1, 1))\n",
            "          (norm_layer): BatchNorm2d(128 = 0.0027% Params, 0 MACs = 0% MACs, 8.39 MFLOPS = 0.0031% FLOPs, 64, eps=1e-05, momentum=0.1, affine=True, track_running_stats=True)\n",
            "          (act_layer): LeakyReLU(0 = 0% Params, 0 MACs = 0% MACs, 4.19 MFLOPS = 0.0015% FLOPs, negative_slope=0.01)\n",
            "        )\n",
            "        (branch2): Sequential(\n",
            "          22.82 K = 0.4896% Params, 1.48 GMACs = 1.094% MACs, 2.98 GFLOPS = 1.0965% FLOPs\n",
            "          (0): ConvBlock(\n",
            "            4.19 K = 0.0899% Params, 268.44 MMACs = 0.1989% MACs, 545.26 MFLOPS = 0.2008% FLOPs\n",
            "            (conv2d): Conv2d(4.13 K = 0.0886% Params, 268.44 MMACs = 0.1989% MACs, 538.97 MFLOPS = 0.1985% FLOPs, 128, 32, kernel_size=(1, 1), stride=(1, 1))\n",
            "            (norm_layer): BatchNorm2d(64 = 0.0014% Params, 0 MACs = 0% MACs, 4.19 MFLOPS = 0.0015% FLOPs, 32, eps=1e-05, momentum=0.1, affine=True, track_running_stats=True)\n",
            "            (act_layer): LeakyReLU(0 = 0% Params, 0 MACs = 0% MACs, 2.1 MFLOPS = 0.0008% FLOPs, negative_slope=0.01)\n",
            "          )\n",
            "          (1): ConvBlock(\n",
            "            18.62 K = 0.3996% Params, 1.21 GMACs = 0.8951% MACs, 2.43 GFLOPS = 0.8958% FLOPs\n",
            "            (conv2d): Conv2d(18.5 K = 0.3969% Params, 1.21 GMACs = 0.8951% MACs, 2.42 GFLOPS = 0.8911% FLOPs, 32, 64, kernel_size=(3, 3), stride=(1, 1), padding=(1, 1))\n",
            "            (norm_layer): BatchNorm2d(128 = 0.0027% Params, 0 MACs = 0% MACs, 8.39 MFLOPS = 0.0031% FLOPs, 64, eps=1e-05, momentum=0.1, affine=True, track_running_stats=True)\n",
            "            (act_layer): LeakyReLU(0 = 0% Params, 0 MACs = 0% MACs, 4.19 MFLOPS = 0.0015% FLOPs, negative_slope=0.01)\n",
            "          )\n",
            "        )\n",
            "        (branch3): Sequential(\n",
            "          55.58 K = 1.1926% Params, 3.62 GMACs = 2.6852% MACs, 7.27 GFLOPS = 2.678% FLOPs\n",
            "          (0): ConvBlock(\n",
            "            4.19 K = 0.0899% Params, 268.44 MMACs = 0.1989% MACs, 545.26 MFLOPS = 0.2008% FLOPs\n",
            "            (conv2d): Conv2d(4.13 K = 0.0886% Params, 268.44 MMACs = 0.1989% MACs, 538.97 MFLOPS = 0.1985% FLOPs, 128, 32, kernel_size=(1, 1), stride=(1, 1))\n",
            "            (norm_layer): BatchNorm2d(64 = 0.0014% Params, 0 MACs = 0% MACs, 4.19 MFLOPS = 0.0015% FLOPs, 32, eps=1e-05, momentum=0.1, affine=True, track_running_stats=True)\n",
            "            (act_layer): LeakyReLU(0 = 0% Params, 0 MACs = 0% MACs, 2.1 MFLOPS = 0.0008% FLOPs, negative_slope=0.01)\n",
            "          )\n",
            "          (1): ConvBlock(\n",
            "            51.39 K = 1.1027% Params, 3.36 GMACs = 2.4863% MACs, 6.73 GFLOPS = 2.4773% FLOPs\n",
            "            (conv2d): Conv2d(51.26 K = 1.0999% Params, 3.36 GMACs = 2.4863% MACs, 6.72 GFLOPS = 2.4726% FLOPs, 32, 64, kernel_size=(5, 5), stride=(1, 1), padding=(2, 2))\n",
            "            (norm_layer): BatchNorm2d(128 = 0.0027% Params, 0 MACs = 0% MACs, 8.39 MFLOPS = 0.0031% FLOPs, 64, eps=1e-05, momentum=0.1, affine=True, track_running_stats=True)\n",
            "            (act_layer): LeakyReLU(0 = 0% Params, 0 MACs = 0% MACs, 4.19 MFLOPS = 0.0015% FLOPs, negative_slope=0.01)\n",
            "          )\n",
            "        )\n",
            "        (branch4): Sequential(\n",
            "          8.38 K = 0.1799% Params, 536.87 MMACs = 0.3978% MACs, 1.1 GFLOPS = 0.4046% FLOPs\n",
            "          (0): MaxPool2d(0 = 0% Params, 0 MACs = 0% MACs, 8.39 MFLOPS = 0.0031% FLOPs, kernel_size=3, stride=1, padding=1, dilation=1, ceil_mode=False)\n",
            "          (1): ConvBlock(\n",
            "            8.38 K = 0.1799% Params, 536.87 MMACs = 0.3978% MACs, 1.09 GFLOPS = 0.4016% FLOPs\n",
            "            (conv2d): Conv2d(8.26 K = 0.1771% Params, 536.87 MMACs = 0.3978% MACs, 1.08 GFLOPS = 0.3969% FLOPs, 128, 64, kernel_size=(1, 1), stride=(1, 1))\n",
            "            (norm_layer): BatchNorm2d(128 = 0.0027% Params, 0 MACs = 0% MACs, 8.39 MFLOPS = 0.0031% FLOPs, 64, eps=1e-05, momentum=0.1, affine=True, track_running_stats=True)\n",
            "            (act_layer): LeakyReLU(0 = 0% Params, 0 MACs = 0% MACs, 4.19 MFLOPS = 0.0015% FLOPs, negative_slope=0.01)\n",
            "          )\n",
            "        )\n",
            "      )\n",
            "      (1): InceptionBlock(\n",
            "        119.74 K = 2.5693% Params, 7.78 GMACs = 5.7682% MACs, 15.67 GFLOPS = 5.77% FLOPs\n",
            "        (branch1): ConvBlock(\n",
            "          16.58 K = 0.3557% Params, 1.07 GMACs = 0.7956% MACs, 2.16 GFLOPS = 0.7969% FLOPs\n",
            "          (conv2d): Conv2d(16.45 K = 0.3529% Params, 1.07 GMACs = 0.7956% MACs, 2.15 GFLOPS = 0.7923% FLOPs, 256, 64, kernel_size=(1, 1), stride=(1, 1))\n",
            "          (norm_layer): BatchNorm2d(128 = 0.0027% Params, 0 MACs = 0% MACs, 8.39 MFLOPS = 0.0031% FLOPs, 64, eps=1e-05, momentum=0.1, affine=True, track_running_stats=True)\n",
            "          (act_layer): LeakyReLU(0 = 0% Params, 0 MACs = 0% MACs, 4.19 MFLOPS = 0.0015% FLOPs, negative_slope=0.01)\n",
            "        )\n",
            "        (branch2): Sequential(\n",
            "          26.91 K = 0.5774% Params, 1.74 GMACs = 1.2929% MACs, 3.51 GFLOPS = 1.2942% FLOPs\n",
            "          (0): ConvBlock(\n",
            "            8.29 K = 0.1778% Params, 536.87 MMACs = 0.3978% MACs, 1.08 GFLOPS = 0.3985% FLOPs\n",
            "            (conv2d): Conv2d(8.22 K = 0.1765% Params, 536.87 MMACs = 0.3978% MACs, 1.08 GFLOPS = 0.3961% FLOPs, 256, 32, kernel_size=(1, 1), stride=(1, 1))\n",
            "            (norm_layer): BatchNorm2d(64 = 0.0014% Params, 0 MACs = 0% MACs, 4.19 MFLOPS = 0.0015% FLOPs, 32, eps=1e-05, momentum=0.1, affine=True, track_running_stats=True)\n",
            "            (act_layer): LeakyReLU(0 = 0% Params, 0 MACs = 0% MACs, 2.1 MFLOPS = 0.0008% FLOPs, negative_slope=0.01)\n",
            "          )\n",
            "          (1): ConvBlock(\n",
            "            18.62 K = 0.3996% Params, 1.21 GMACs = 0.8951% MACs, 2.43 GFLOPS = 0.8958% FLOPs\n",
            "            (conv2d): Conv2d(18.5 K = 0.3969% Params, 1.21 GMACs = 0.8951% MACs, 2.42 GFLOPS = 0.8911% FLOPs, 32, 64, kernel_size=(3, 3), stride=(1, 1), padding=(1, 1))\n",
            "            (norm_layer): BatchNorm2d(128 = 0.0027% Params, 0 MACs = 0% MACs, 8.39 MFLOPS = 0.0031% FLOPs, 64, eps=1e-05, momentum=0.1, affine=True, track_running_stats=True)\n",
            "            (act_layer): LeakyReLU(0 = 0% Params, 0 MACs = 0% MACs, 4.19 MFLOPS = 0.0015% FLOPs, negative_slope=0.01)\n",
            "          )\n",
            "        )\n",
            "        (branch3): Sequential(\n",
            "          59.68 K = 1.2805% Params, 3.89 GMACs = 2.8841% MACs, 7.81 GFLOPS = 2.8757% FLOPs\n",
            "          (0): ConvBlock(\n",
            "            8.29 K = 0.1778% Params, 536.87 MMACs = 0.3978% MACs, 1.08 GFLOPS = 0.3985% FLOPs\n",
            "            (conv2d): Conv2d(8.22 K = 0.1765% Params, 536.87 MMACs = 0.3978% MACs, 1.08 GFLOPS = 0.3961% FLOPs, 256, 32, kernel_size=(1, 1), stride=(1, 1))\n",
            "            (norm_layer): BatchNorm2d(64 = 0.0014% Params, 0 MACs = 0% MACs, 4.19 MFLOPS = 0.0015% FLOPs, 32, eps=1e-05, momentum=0.1, affine=True, track_running_stats=True)\n",
            "            (act_layer): LeakyReLU(0 = 0% Params, 0 MACs = 0% MACs, 2.1 MFLOPS = 0.0008% FLOPs, negative_slope=0.01)\n",
            "          )\n",
            "          (1): ConvBlock(\n",
            "            51.39 K = 1.1027% Params, 3.36 GMACs = 2.4863% MACs, 6.73 GFLOPS = 2.4773% FLOPs\n",
            "            (conv2d): Conv2d(51.26 K = 1.0999% Params, 3.36 GMACs = 2.4863% MACs, 6.72 GFLOPS = 2.4726% FLOPs, 32, 64, kernel_size=(5, 5), stride=(1, 1), padding=(2, 2))\n",
            "            (norm_layer): BatchNorm2d(128 = 0.0027% Params, 0 MACs = 0% MACs, 8.39 MFLOPS = 0.0031% FLOPs, 64, eps=1e-05, momentum=0.1, affine=True, track_running_stats=True)\n",
            "            (act_layer): LeakyReLU(0 = 0% Params, 0 MACs = 0% MACs, 4.19 MFLOPS = 0.0015% FLOPs, negative_slope=0.01)\n",
            "          )\n",
            "        )\n",
            "        (branch4): Sequential(\n",
            "          16.58 K = 0.3557% Params, 1.07 GMACs = 0.7956% MACs, 2.18 GFLOPS = 0.8031% FLOPs\n",
            "          (0): MaxPool2d(0 = 0% Params, 0 MACs = 0% MACs, 16.78 MFLOPS = 0.0062% FLOPs, kernel_size=3, stride=1, padding=1, dilation=1, ceil_mode=False)\n",
            "          (1): ConvBlock(\n",
            "            16.58 K = 0.3557% Params, 1.07 GMACs = 0.7956% MACs, 2.16 GFLOPS = 0.7969% FLOPs\n",
            "            (conv2d): Conv2d(16.45 K = 0.3529% Params, 1.07 GMACs = 0.7956% MACs, 2.15 GFLOPS = 0.7923% FLOPs, 256, 64, kernel_size=(1, 1), stride=(1, 1))\n",
            "            (norm_layer): BatchNorm2d(128 = 0.0027% Params, 0 MACs = 0% MACs, 8.39 MFLOPS = 0.0031% FLOPs, 64, eps=1e-05, momentum=0.1, affine=True, track_running_stats=True)\n",
            "            (act_layer): LeakyReLU(0 = 0% Params, 0 MACs = 0% MACs, 4.19 MFLOPS = 0.0015% FLOPs, negative_slope=0.01)\n",
            "          )\n",
            "        )\n",
            "      )\n",
            "      (2): MaxPool2d(0 = 0% Params, 0 MACs = 0% MACs, 16.78 MFLOPS = 0.0062% FLOPs, kernel_size=2, stride=2, padding=0, dilation=1, ceil_mode=False)\n",
            "    )\n",
            "    (2): Sequential(\n",
            "      855.81 K = 18.3627% Params, 13.96 GMACs = 10.3429% MACs, 28.02 GFLOPS = 10.3183% FLOPs\n",
            "      (0): InceptionBlock(\n",
            "        378.75 K = 8.1267% Params, 6.17 GMACs = 4.5747% MACs, 12.39 GFLOPS = 4.5638% FLOPs\n",
            "        (branch1): ConvBlock(\n",
            "          33.15 K = 0.7113% Params, 536.87 MMACs = 0.3978% MACs, 1.08 GFLOPS = 0.3985% FLOPs\n",
            "          (conv2d): Conv2d(32.9 K = 0.7058% Params, 536.87 MMACs = 0.3978% MACs, 1.08 GFLOPS = 0.3961% FLOPs, 256, 128, kernel_size=(1, 1), stride=(1, 1))\n",
            "          (norm_layer): BatchNorm2d(256 = 0.0055% Params, 0 MACs = 0% MACs, 4.19 MFLOPS = 0.0015% FLOPs, 128, eps=1e-05, momentum=0.1, affine=True, track_running_stats=True)\n",
            "          (act_layer): LeakyReLU(0 = 0% Params, 0 MACs = 0% MACs, 2.1 MFLOPS = 0.0008% FLOPs, negative_slope=0.01)\n",
            "        )\n",
            "        (branch2): Sequential(\n",
            "          90.69 K = 1.9458% Params, 1.48 GMACs = 1.094% MACs, 2.97 GFLOPS = 1.0919% FLOPs\n",
            "          (0): ConvBlock(\n",
            "            16.58 K = 0.3557% Params, 268.44 MMACs = 0.1989% MACs, 541.07 MFLOPS = 0.1992% FLOPs\n",
            "            (conv2d): Conv2d(16.45 K = 0.3529% Params, 268.44 MMACs = 0.1989% MACs, 537.92 MFLOPS = 0.1981% FLOPs, 256, 64, kernel_size=(1, 1), stride=(1, 1))\n",
            "            (norm_layer): BatchNorm2d(128 = 0.0027% Params, 0 MACs = 0% MACs, 2.1 MFLOPS = 0.0008% FLOPs, 64, eps=1e-05, momentum=0.1, affine=True, track_running_stats=True)\n",
            "            (act_layer): LeakyReLU(0 = 0% Params, 0 MACs = 0% MACs, 1.05 MFLOPS = 0.0004% FLOPs, negative_slope=0.01)\n",
            "          )\n",
            "          (1): ConvBlock(\n",
            "            74.11 K = 1.5902% Params, 1.21 GMACs = 0.8951% MACs, 2.42 GFLOPS = 0.8927% FLOPs\n",
            "            (conv2d): Conv2d(73.86 K = 1.5847% Params, 1.21 GMACs = 0.8951% MACs, 2.42 GFLOPS = 0.8904% FLOPs, 64, 128, kernel_size=(3, 3), stride=(1, 1), padding=(1, 1))\n",
            "            (norm_layer): BatchNorm2d(256 = 0.0055% Params, 0 MACs = 0% MACs, 4.19 MFLOPS = 0.0015% FLOPs, 128, eps=1e-05, momentum=0.1, affine=True, track_running_stats=True)\n",
            "            (act_layer): LeakyReLU(0 = 0% Params, 0 MACs = 0% MACs, 2.1 MFLOPS = 0.0008% FLOPs, negative_slope=0.01)\n",
            "          )\n",
            "        )\n",
            "        (branch3): Sequential(\n",
            "          221.76 K = 4.7582% Params, 3.62 GMACs = 2.6852% MACs, 7.26 GFLOPS = 2.6734% FLOPs\n",
            "          (0): ConvBlock(\n",
            "            16.58 K = 0.3557% Params, 268.44 MMACs = 0.1989% MACs, 541.07 MFLOPS = 0.1992% FLOPs\n",
            "            (conv2d): Conv2d(16.45 K = 0.3529% Params, 268.44 MMACs = 0.1989% MACs, 537.92 MFLOPS = 0.1981% FLOPs, 256, 64, kernel_size=(1, 1), stride=(1, 1))\n",
            "            (norm_layer): BatchNorm2d(128 = 0.0027% Params, 0 MACs = 0% MACs, 2.1 MFLOPS = 0.0008% FLOPs, 64, eps=1e-05, momentum=0.1, affine=True, track_running_stats=True)\n",
            "            (act_layer): LeakyReLU(0 = 0% Params, 0 MACs = 0% MACs, 1.05 MFLOPS = 0.0004% FLOPs, negative_slope=0.01)\n",
            "          )\n",
            "          (1): ConvBlock(\n",
            "            205.18 K = 4.4025% Params, 3.36 GMACs = 2.4863% MACs, 6.72 GFLOPS = 2.4742% FLOPs\n",
            "            (conv2d): Conv2d(204.93 K = 4.397% Params, 3.36 GMACs = 2.4863% MACs, 6.71 GFLOPS = 2.4718% FLOPs, 64, 128, kernel_size=(5, 5), stride=(1, 1), padding=(2, 2))\n",
            "            (norm_layer): BatchNorm2d(256 = 0.0055% Params, 0 MACs = 0% MACs, 4.19 MFLOPS = 0.0015% FLOPs, 128, eps=1e-05, momentum=0.1, affine=True, track_running_stats=True)\n",
            "            (act_layer): LeakyReLU(0 = 0% Params, 0 MACs = 0% MACs, 2.1 MFLOPS = 0.0008% FLOPs, negative_slope=0.01)\n",
            "          )\n",
            "        )\n",
            "        (branch4): Sequential(\n",
            "          33.15 K = 0.7113% Params, 536.87 MMACs = 0.3978% MACs, 1.09 GFLOPS = 0.4% FLOPs\n",
            "          (0): MaxPool2d(0 = 0% Params, 0 MACs = 0% MACs, 4.19 MFLOPS = 0.0015% FLOPs, kernel_size=3, stride=1, padding=1, dilation=1, ceil_mode=False)\n",
            "          (1): ConvBlock(\n",
            "            33.15 K = 0.7113% Params, 536.87 MMACs = 0.3978% MACs, 1.08 GFLOPS = 0.3985% FLOPs\n",
            "            (conv2d): Conv2d(32.9 K = 0.7058% Params, 536.87 MMACs = 0.3978% MACs, 1.08 GFLOPS = 0.3961% FLOPs, 256, 128, kernel_size=(1, 1), stride=(1, 1))\n",
            "            (norm_layer): BatchNorm2d(256 = 0.0055% Params, 0 MACs = 0% MACs, 4.19 MFLOPS = 0.0015% FLOPs, 128, eps=1e-05, momentum=0.1, affine=True, track_running_stats=True)\n",
            "            (act_layer): LeakyReLU(0 = 0% Params, 0 MACs = 0% MACs, 2.1 MFLOPS = 0.0008% FLOPs, negative_slope=0.01)\n",
            "          )\n",
            "        )\n",
            "      )\n",
            "      (1): InceptionBlock(\n",
            "        477.06 K = 10.236% Params, 7.78 GMACs = 5.7682% MACs, 15.62 GFLOPS = 5.7514% FLOPs\n",
            "        (branch1): ConvBlock(\n",
            "          65.92 K = 1.4144% Params, 1.07 GMACs = 0.7956% MACs, 2.16 GFLOPS = 0.7938% FLOPs\n",
            "          (conv2d): Conv2d(65.66 K = 1.4089% Params, 1.07 GMACs = 0.7956% MACs, 2.15 GFLOPS = 0.7915% FLOPs, 512, 128, kernel_size=(1, 1), stride=(1, 1))\n",
            "          (norm_layer): BatchNorm2d(256 = 0.0055% Params, 0 MACs = 0% MACs, 4.19 MFLOPS = 0.0015% FLOPs, 128, eps=1e-05, momentum=0.1, affine=True, track_running_stats=True)\n",
            "          (act_layer): LeakyReLU(0 = 0% Params, 0 MACs = 0% MACs, 2.1 MFLOPS = 0.0008% FLOPs, negative_slope=0.01)\n",
            "        )\n",
            "        (branch2): Sequential(\n",
            "          107.07 K = 2.2974% Params, 1.74 GMACs = 1.2929% MACs, 3.5 GFLOPS = 1.2896% FLOPs\n",
            "          (0): ConvBlock(\n",
            "            32.96 K = 0.7072% Params, 536.87 MMACs = 0.3978% MACs, 1.08 GFLOPS = 0.3969% FLOPs\n",
            "            (conv2d): Conv2d(32.83 K = 0.7045% Params, 536.87 MMACs = 0.3978% MACs, 1.07 GFLOPS = 0.3958% FLOPs, 512, 64, kernel_size=(1, 1), stride=(1, 1))\n",
            "            (norm_layer): BatchNorm2d(128 = 0.0027% Params, 0 MACs = 0% MACs, 2.1 MFLOPS = 0.0008% FLOPs, 64, eps=1e-05, momentum=0.1, affine=True, track_running_stats=True)\n",
            "            (act_layer): LeakyReLU(0 = 0% Params, 0 MACs = 0% MACs, 1.05 MFLOPS = 0.0004% FLOPs, negative_slope=0.01)\n",
            "          )\n",
            "          (1): ConvBlock(\n",
            "            74.11 K = 1.5902% Params, 1.21 GMACs = 0.8951% MACs, 2.42 GFLOPS = 0.8927% FLOPs\n",
            "            (conv2d): Conv2d(73.86 K = 1.5847% Params, 1.21 GMACs = 0.8951% MACs, 2.42 GFLOPS = 0.8904% FLOPs, 64, 128, kernel_size=(3, 3), stride=(1, 1), padding=(1, 1))\n",
            "            (norm_layer): BatchNorm2d(256 = 0.0055% Params, 0 MACs = 0% MACs, 4.19 MFLOPS = 0.0015% FLOPs, 128, eps=1e-05, momentum=0.1, affine=True, track_running_stats=True)\n",
            "            (act_layer): LeakyReLU(0 = 0% Params, 0 MACs = 0% MACs, 2.1 MFLOPS = 0.0008% FLOPs, negative_slope=0.01)\n",
            "          )\n",
            "        )\n",
            "        (branch3): Sequential(\n",
            "          238.14 K = 5.1097% Params, 3.89 GMACs = 2.8841% MACs, 7.8 GFLOPS = 2.8711% FLOPs\n",
            "          (0): ConvBlock(\n",
            "            32.96 K = 0.7072% Params, 536.87 MMACs = 0.3978% MACs, 1.08 GFLOPS = 0.3969% FLOPs\n",
            "            (conv2d): Conv2d(32.83 K = 0.7045% Params, 536.87 MMACs = 0.3978% MACs, 1.07 GFLOPS = 0.3958% FLOPs, 512, 64, kernel_size=(1, 1), stride=(1, 1))\n",
            "            (norm_layer): BatchNorm2d(128 = 0.0027% Params, 0 MACs = 0% MACs, 2.1 MFLOPS = 0.0008% FLOPs, 64, eps=1e-05, momentum=0.1, affine=True, track_running_stats=True)\n",
            "            (act_layer): LeakyReLU(0 = 0% Params, 0 MACs = 0% MACs, 1.05 MFLOPS = 0.0004% FLOPs, negative_slope=0.01)\n",
            "          )\n",
            "          (1): ConvBlock(\n",
            "            205.18 K = 4.4025% Params, 3.36 GMACs = 2.4863% MACs, 6.72 GFLOPS = 2.4742% FLOPs\n",
            "            (conv2d): Conv2d(204.93 K = 4.397% Params, 3.36 GMACs = 2.4863% MACs, 6.71 GFLOPS = 2.4718% FLOPs, 64, 128, kernel_size=(5, 5), stride=(1, 1), padding=(2, 2))\n",
            "            (norm_layer): BatchNorm2d(256 = 0.0055% Params, 0 MACs = 0% MACs, 4.19 MFLOPS = 0.0015% FLOPs, 128, eps=1e-05, momentum=0.1, affine=True, track_running_stats=True)\n",
            "            (act_layer): LeakyReLU(0 = 0% Params, 0 MACs = 0% MACs, 2.1 MFLOPS = 0.0008% FLOPs, negative_slope=0.01)\n",
            "          )\n",
            "        )\n",
            "        (branch4): Sequential(\n",
            "          65.92 K = 1.4144% Params, 1.07 GMACs = 0.7956% MACs, 2.16 GFLOPS = 0.7969% FLOPs\n",
            "          (0): MaxPool2d(0 = 0% Params, 0 MACs = 0% MACs, 8.39 MFLOPS = 0.0031% FLOPs, kernel_size=3, stride=1, padding=1, dilation=1, ceil_mode=False)\n",
            "          (1): ConvBlock(\n",
            "            65.92 K = 1.4144% Params, 1.07 GMACs = 0.7956% MACs, 2.16 GFLOPS = 0.7938% FLOPs\n",
            "            (conv2d): Conv2d(65.66 K = 1.4089% Params, 1.07 GMACs = 0.7956% MACs, 2.15 GFLOPS = 0.7915% FLOPs, 512, 128, kernel_size=(1, 1), stride=(1, 1))\n",
            "            (norm_layer): BatchNorm2d(256 = 0.0055% Params, 0 MACs = 0% MACs, 4.19 MFLOPS = 0.0015% FLOPs, 128, eps=1e-05, momentum=0.1, affine=True, track_running_stats=True)\n",
            "            (act_layer): LeakyReLU(0 = 0% Params, 0 MACs = 0% MACs, 2.1 MFLOPS = 0.0008% FLOPs, negative_slope=0.01)\n",
            "          )\n",
            "        )\n",
            "      )\n",
            "      (2): MaxPool2d(0 = 0% Params, 0 MACs = 0% MACs, 8.39 MFLOPS = 0.0031% FLOPs, kernel_size=2, stride=2, padding=0, dilation=1, ceil_mode=False)\n",
            "    )\n",
            "    (3): Sequential(\n",
            "      3.42 M = 73.2859% Params, 13.96 GMACs = 10.3429% MACs, 27.97 GFLOPS = 10.299% FLOPs\n",
            "      (0): InceptionBlock(\n",
            "        1.51 M = 32.4244% Params, 6.17 GMACs = 4.5747% MACs, 12.37 GFLOPS = 4.5553% FLOPs\n",
            "        (branch1): ConvBlock(\n",
            "          131.84 K = 2.8288% Params, 536.87 MMACs = 0.3978% MACs, 1.08 GFLOPS = 0.3969% FLOPs\n",
            "          (conv2d): Conv2d(131.33 K = 2.8178% Params, 536.87 MMACs = 0.3978% MACs, 1.07 GFLOPS = 0.3958% FLOPs, 512, 256, kernel_size=(1, 1), stride=(1, 1))\n",
            "          (norm_layer): BatchNorm2d(512 = 0.011% Params, 0 MACs = 0% MACs, 2.1 MFLOPS = 0.0008% FLOPs, 256, eps=1e-05, momentum=0.1, affine=True, track_running_stats=True)\n",
            "          (act_layer): LeakyReLU(0 = 0% Params, 0 MACs = 0% MACs, 1.05 MFLOPS = 0.0004% FLOPs, negative_slope=0.01)\n",
            "        )\n",
            "        (branch2): Sequential(\n",
            "          361.6 K = 7.7587% Params, 1.48 GMACs = 1.094% MACs, 2.96 GFLOPS = 1.0896% FLOPs\n",
            "          (0): ConvBlock(\n",
            "            65.92 K = 1.4144% Params, 268.44 MMACs = 0.1989% MACs, 538.97 MFLOPS = 0.1985% FLOPs\n",
            "            (conv2d): Conv2d(65.66 K = 1.4089% Params, 268.44 MMACs = 0.1989% MACs, 537.4 MFLOPS = 0.1979% FLOPs, 512, 128, kernel_size=(1, 1), stride=(1, 1))\n",
            "            (norm_layer): BatchNorm2d(256 = 0.0055% Params, 0 MACs = 0% MACs, 1.05 MFLOPS = 0.0004% FLOPs, 128, eps=1e-05, momentum=0.1, affine=True, track_running_stats=True)\n",
            "            (act_layer): LeakyReLU(0 = 0% Params, 0 MACs = 0% MACs, 524.29 KFLOPS = 0.0002% FLOPs, negative_slope=0.01)\n",
            "          )\n",
            "          (1): ConvBlock(\n",
            "            295.68 K = 6.3443% Params, 1.21 GMACs = 0.8951% MACs, 2.42 GFLOPS = 0.8911% FLOPs\n",
            "            (conv2d): Conv2d(295.17 K = 6.3333% Params, 1.21 GMACs = 0.8951% MACs, 2.42 GFLOPS = 0.89% FLOPs, 128, 256, kernel_size=(3, 3), stride=(1, 1), padding=(1, 1))\n",
            "            (norm_layer): BatchNorm2d(512 = 0.011% Params, 0 MACs = 0% MACs, 2.1 MFLOPS = 0.0008% FLOPs, 256, eps=1e-05, momentum=0.1, affine=True, track_running_stats=True)\n",
            "            (act_layer): LeakyReLU(0 = 0% Params, 0 MACs = 0% MACs, 1.05 MFLOPS = 0.0004% FLOPs, negative_slope=0.01)\n",
            "          )\n",
            "        )\n",
            "        (branch3): Sequential(\n",
            "          885.89 K = 19.0081% Params, 3.62 GMACs = 2.6852% MACs, 7.25 GFLOPS = 2.6711% FLOPs\n",
            "          (0): ConvBlock(\n",
            "            65.92 K = 1.4144% Params, 268.44 MMACs = 0.1989% MACs, 538.97 MFLOPS = 0.1985% FLOPs\n",
            "            (conv2d): Conv2d(65.66 K = 1.4089% Params, 268.44 MMACs = 0.1989% MACs, 537.4 MFLOPS = 0.1979% FLOPs, 512, 128, kernel_size=(1, 1), stride=(1, 1))\n",
            "            (norm_layer): BatchNorm2d(256 = 0.0055% Params, 0 MACs = 0% MACs, 1.05 MFLOPS = 0.0004% FLOPs, 128, eps=1e-05, momentum=0.1, affine=True, track_running_stats=True)\n",
            "            (act_layer): LeakyReLU(0 = 0% Params, 0 MACs = 0% MACs, 524.29 KFLOPS = 0.0002% FLOPs, negative_slope=0.01)\n",
            "          )\n",
            "          (1): ConvBlock(\n",
            "            819.97 K = 17.5937% Params, 3.36 GMACs = 2.4863% MACs, 6.72 GFLOPS = 2.4726% FLOPs\n",
            "            (conv2d): Conv2d(819.46 K = 17.5827% Params, 3.36 GMACs = 2.4863% MACs, 6.71 GFLOPS = 2.4715% FLOPs, 128, 256, kernel_size=(5, 5), stride=(1, 1), padding=(2, 2))\n",
            "            (norm_layer): BatchNorm2d(512 = 0.011% Params, 0 MACs = 0% MACs, 2.1 MFLOPS = 0.0008% FLOPs, 256, eps=1e-05, momentum=0.1, affine=True, track_running_stats=True)\n",
            "            (act_layer): LeakyReLU(0 = 0% Params, 0 MACs = 0% MACs, 1.05 MFLOPS = 0.0004% FLOPs, negative_slope=0.01)\n",
            "          )\n",
            "        )\n",
            "        (branch4): Sequential(\n",
            "          131.84 K = 2.8288% Params, 536.87 MMACs = 0.3978% MACs, 1.08 GFLOPS = 0.3977% FLOPs\n",
            "          (0): MaxPool2d(0 = 0% Params, 0 MACs = 0% MACs, 2.1 MFLOPS = 0.0008% FLOPs, kernel_size=3, stride=1, padding=1, dilation=1, ceil_mode=False)\n",
            "          (1): ConvBlock(\n",
            "            131.84 K = 2.8288% Params, 536.87 MMACs = 0.3978% MACs, 1.08 GFLOPS = 0.3969% FLOPs\n",
            "            (conv2d): Conv2d(131.33 K = 2.8178% Params, 536.87 MMACs = 0.3978% MACs, 1.07 GFLOPS = 0.3958% FLOPs, 512, 256, kernel_size=(1, 1), stride=(1, 1))\n",
            "            (norm_layer): BatchNorm2d(512 = 0.011% Params, 0 MACs = 0% MACs, 2.1 MFLOPS = 0.0008% FLOPs, 256, eps=1e-05, momentum=0.1, affine=True, track_running_stats=True)\n",
            "            (act_layer): LeakyReLU(0 = 0% Params, 0 MACs = 0% MACs, 1.05 MFLOPS = 0.0004% FLOPs, negative_slope=0.01)\n",
            "          )\n",
            "        )\n",
            "      )\n",
            "      (1): InceptionBlock(\n",
            "        1.9 M = 40.8615% Params, 7.78 GMACs = 5.7682% MACs, 15.59 GFLOPS = 5.7422% FLOPs\n",
            "        (branch1): ConvBlock(\n",
            "          262.91 K = 5.6412% Params, 1.07 GMACs = 0.7956% MACs, 2.15 GFLOPS = 0.7923% FLOPs\n",
            "          (conv2d): Conv2d(262.4 K = 5.6302% Params, 1.07 GMACs = 0.7956% MACs, 2.15 GFLOPS = 0.7911% FLOPs, 1024, 256, kernel_size=(1, 1), stride=(1, 1))\n",
            "          (norm_layer): BatchNorm2d(512 = 0.011% Params, 0 MACs = 0% MACs, 2.1 MFLOPS = 0.0008% FLOPs, 256, eps=1e-05, momentum=0.1, affine=True, track_running_stats=True)\n",
            "          (act_layer): LeakyReLU(0 = 0% Params, 0 MACs = 0% MACs, 1.05 MFLOPS = 0.0004% FLOPs, negative_slope=0.01)\n",
            "        )\n",
            "        (branch2): Sequential(\n",
            "          427.14 K = 9.1649% Params, 1.74 GMACs = 1.2929% MACs, 3.5 GFLOPS = 1.2873% FLOPs\n",
            "          (0): ConvBlock(\n",
            "            131.46 K = 2.8206% Params, 536.87 MMACs = 0.3978% MACs, 1.08 GFLOPS = 0.3961% FLOPs\n",
            "            (conv2d): Conv2d(131.2 K = 2.8151% Params, 536.87 MMACs = 0.3978% MACs, 1.07 GFLOPS = 0.3956% FLOPs, 1024, 128, kernel_size=(1, 1), stride=(1, 1))\n",
            "            (norm_layer): BatchNorm2d(256 = 0.0055% Params, 0 MACs = 0% MACs, 1.05 MFLOPS = 0.0004% FLOPs, 128, eps=1e-05, momentum=0.1, affine=True, track_running_stats=True)\n",
            "            (act_layer): LeakyReLU(0 = 0% Params, 0 MACs = 0% MACs, 524.29 KFLOPS = 0.0002% FLOPs, negative_slope=0.01)\n",
            "          )\n",
            "          (1): ConvBlock(\n",
            "            295.68 K = 6.3443% Params, 1.21 GMACs = 0.8951% MACs, 2.42 GFLOPS = 0.8911% FLOPs\n",
            "            (conv2d): Conv2d(295.17 K = 6.3333% Params, 1.21 GMACs = 0.8951% MACs, 2.42 GFLOPS = 0.89% FLOPs, 128, 256, kernel_size=(3, 3), stride=(1, 1), padding=(1, 1))\n",
            "            (norm_layer): BatchNorm2d(512 = 0.011% Params, 0 MACs = 0% MACs, 2.1 MFLOPS = 0.0008% FLOPs, 256, eps=1e-05, momentum=0.1, affine=True, track_running_stats=True)\n",
            "            (act_layer): LeakyReLU(0 = 0% Params, 0 MACs = 0% MACs, 1.05 MFLOPS = 0.0004% FLOPs, negative_slope=0.01)\n",
            "          )\n",
            "        )\n",
            "        (branch3): Sequential(\n",
            "          951.42 K = 20.4143% Params, 3.89 GMACs = 2.8841% MACs, 7.79 GFLOPS = 2.8688% FLOPs\n",
            "          (0): ConvBlock(\n",
            "            131.46 K = 2.8206% Params, 536.87 MMACs = 0.3978% MACs, 1.08 GFLOPS = 0.3961% FLOPs\n",
            "            (conv2d): Conv2d(131.2 K = 2.8151% Params, 536.87 MMACs = 0.3978% MACs, 1.07 GFLOPS = 0.3956% FLOPs, 1024, 128, kernel_size=(1, 1), stride=(1, 1))\n",
            "            (norm_layer): BatchNorm2d(256 = 0.0055% Params, 0 MACs = 0% MACs, 1.05 MFLOPS = 0.0004% FLOPs, 128, eps=1e-05, momentum=0.1, affine=True, track_running_stats=True)\n",
            "            (act_layer): LeakyReLU(0 = 0% Params, 0 MACs = 0% MACs, 524.29 KFLOPS = 0.0002% FLOPs, negative_slope=0.01)\n",
            "          )\n",
            "          (1): ConvBlock(\n",
            "            819.97 K = 17.5937% Params, 3.36 GMACs = 2.4863% MACs, 6.72 GFLOPS = 2.4726% FLOPs\n",
            "            (conv2d): Conv2d(819.46 K = 17.5827% Params, 3.36 GMACs = 2.4863% MACs, 6.71 GFLOPS = 2.4715% FLOPs, 128, 256, kernel_size=(5, 5), stride=(1, 1), padding=(2, 2))\n",
            "            (norm_layer): BatchNorm2d(512 = 0.011% Params, 0 MACs = 0% MACs, 2.1 MFLOPS = 0.0008% FLOPs, 256, eps=1e-05, momentum=0.1, affine=True, track_running_stats=True)\n",
            "            (act_layer): LeakyReLU(0 = 0% Params, 0 MACs = 0% MACs, 1.05 MFLOPS = 0.0004% FLOPs, negative_slope=0.01)\n",
            "          )\n",
            "        )\n",
            "        (branch4): Sequential(\n",
            "          262.91 K = 5.6412% Params, 1.07 GMACs = 0.7956% MACs, 2.16 GFLOPS = 0.7938% FLOPs\n",
            "          (0): MaxPool2d(0 = 0% Params, 0 MACs = 0% MACs, 4.19 MFLOPS = 0.0015% FLOPs, kernel_size=3, stride=1, padding=1, dilation=1, ceil_mode=False)\n",
            "          (1): ConvBlock(\n",
            "            262.91 K = 5.6412% Params, 1.07 GMACs = 0.7956% MACs, 2.15 GFLOPS = 0.7923% FLOPs\n",
            "            (conv2d): Conv2d(262.4 K = 5.6302% Params, 1.07 GMACs = 0.7956% MACs, 2.15 GFLOPS = 0.7911% FLOPs, 1024, 256, kernel_size=(1, 1), stride=(1, 1))\n",
            "            (norm_layer): BatchNorm2d(512 = 0.011% Params, 0 MACs = 0% MACs, 2.1 MFLOPS = 0.0008% FLOPs, 256, eps=1e-05, momentum=0.1, affine=True, track_running_stats=True)\n",
            "            (act_layer): LeakyReLU(0 = 0% Params, 0 MACs = 0% MACs, 1.05 MFLOPS = 0.0004% FLOPs, negative_slope=0.01)\n",
            "          )\n",
            "        )\n",
            "      )\n",
            "      (2): MaxPool2d(0 = 0% Params, 0 MACs = 0% MACs, 4.19 MFLOPS = 0.0015% FLOPs, kernel_size=2, stride=2, padding=0, dilation=1, ceil_mode=False)\n",
            "    )\n",
            "  )\n",
            "  (head): Sequential(\n",
            "    44.08 K = 0.9457% Params, 2.82 MMACs = 0.0021% MACs, 6.68 MFLOPS = 0.0025% FLOPs\n",
            "    (0): AdaptiveAvgPool2d(0 = 0% Params, 0 MACs = 0% MACs, 1.05 MFLOPS = 0.0004% FLOPs, output_size=(1, 1))\n",
            "    (1): SqueezeDims(0 = 0% Params, 0 MACs = 0% MACs, 0 FLOPS = 0% FLOPs)\n",
            "    (2): Dropout(0 = 0% Params, 0 MACs = 0% MACs, 0 FLOPS = 0% FLOPs, p=0.3, inplace=False)\n",
            "    (3): Linear(44.08 K = 0.9457% Params, 2.82 MMACs = 0.0021% MACs, 5.64 MFLOPS = 0.0021% FLOPs, in_features=1024, out_features=43, bias=True)\n",
            "  )\n",
            ")\n",
            "---------------------------------------------------------------------------------------------------\n"
          ]
        },
        {
          "output_type": "stream",
          "name": "stderr",
          "text": [
            "Epoch 1/30: 100%|██████████| 42/42 [00:18<00:00,  2.28it/s]\n",
            "Epoch 1/30: 100%|██████████| 5/5 [00:02<00:00,  2.13it/s]\n"
          ]
        },
        {
          "output_type": "stream",
          "name": "stdout",
          "text": [
            "Epoch 1/30\n",
            "Train Loss: 3.1304 Train Accuracy: 0.1811\n",
            "Val Loss: 3.0756 Val Accuracy: 0.1284\n"
          ]
        },
        {
          "output_type": "stream",
          "name": "stderr",
          "text": [
            "Epoch 2/30: 100%|██████████| 42/42 [00:18<00:00,  2.28it/s]\n",
            "Epoch 2/30: 100%|██████████| 5/5 [00:01<00:00,  3.16it/s]\n"
          ]
        },
        {
          "output_type": "stream",
          "name": "stdout",
          "text": [
            "Epoch 2/30\n",
            "Train Loss: 2.2941 Train Accuracy: 0.3462\n",
            "Val Loss: 2.2722 Val Accuracy: 0.3277\n"
          ]
        },
        {
          "output_type": "stream",
          "name": "stderr",
          "text": [
            "Epoch 3/30: 100%|██████████| 42/42 [00:18<00:00,  2.26it/s]\n",
            "Epoch 3/30: 100%|██████████| 5/5 [00:02<00:00,  2.31it/s]\n"
          ]
        },
        {
          "output_type": "stream",
          "name": "stdout",
          "text": [
            "Epoch 3/30\n",
            "Train Loss: 1.8406 Train Accuracy: 0.4458\n",
            "Val Loss: 2.9324 Val Accuracy: 0.2162\n"
          ]
        },
        {
          "output_type": "stream",
          "name": "stderr",
          "text": [
            "Epoch 4/30: 100%|██████████| 42/42 [00:18<00:00,  2.26it/s]\n",
            "Epoch 4/30: 100%|██████████| 5/5 [00:01<00:00,  3.20it/s]\n"
          ]
        },
        {
          "output_type": "stream",
          "name": "stdout",
          "text": [
            "Epoch 4/30\n",
            "Train Loss: 1.5500 Train Accuracy: 0.5091\n",
            "Val Loss: 2.0273 Val Accuracy: 0.3784\n"
          ]
        },
        {
          "output_type": "stream",
          "name": "stderr",
          "text": [
            "Epoch 5/30: 100%|██████████| 42/42 [00:18<00:00,  2.25it/s]\n",
            "Epoch 5/30: 100%|██████████| 5/5 [00:01<00:00,  3.07it/s]\n"
          ]
        },
        {
          "output_type": "stream",
          "name": "stdout",
          "text": [
            "Epoch 5/30\n",
            "Train Loss: 1.3917 Train Accuracy: 0.5583\n",
            "Val Loss: 2.2833 Val Accuracy: 0.3818\n"
          ]
        },
        {
          "output_type": "stream",
          "name": "stderr",
          "text": [
            "Epoch 6/30: 100%|██████████| 42/42 [00:18<00:00,  2.25it/s]\n",
            "Epoch 6/30: 100%|██████████| 5/5 [00:01<00:00,  3.33it/s]\n"
          ]
        },
        {
          "output_type": "stream",
          "name": "stdout",
          "text": [
            "Epoch 6/30\n",
            "Train Loss: 1.3746 Train Accuracy: 0.5610\n",
            "Val Loss: 2.8498 Val Accuracy: 0.2838\n"
          ]
        },
        {
          "output_type": "stream",
          "name": "stderr",
          "text": [
            "Epoch 7/30: 100%|██████████| 42/42 [00:18<00:00,  2.24it/s]\n",
            "Epoch 7/30: 100%|██████████| 5/5 [00:01<00:00,  3.16it/s]\n"
          ]
        },
        {
          "output_type": "stream",
          "name": "stdout",
          "text": [
            "Epoch 7/30\n",
            "Train Loss: 1.2406 Train Accuracy: 0.6027\n",
            "Val Loss: 2.3817 Val Accuracy: 0.4020\n"
          ]
        },
        {
          "output_type": "stream",
          "name": "stderr",
          "text": [
            "Epoch 8/30: 100%|██████████| 42/42 [00:18<00:00,  2.25it/s]\n",
            "Epoch 8/30: 100%|██████████| 5/5 [00:01<00:00,  3.24it/s]\n"
          ]
        },
        {
          "output_type": "stream",
          "name": "stdout",
          "text": [
            "Epoch 8/30\n",
            "Train Loss: 1.1585 Train Accuracy: 0.6405\n",
            "Val Loss: 2.4787 Val Accuracy: 0.4257\n"
          ]
        },
        {
          "output_type": "stream",
          "name": "stderr",
          "text": [
            "Epoch 9/30: 100%|██████████| 42/42 [00:18<00:00,  2.22it/s]\n",
            "Epoch 9/30: 100%|██████████| 5/5 [00:01<00:00,  3.26it/s]\n"
          ]
        },
        {
          "output_type": "stream",
          "name": "stdout",
          "text": [
            "Epoch 9/30\n",
            "Train Loss: 1.0849 Train Accuracy: 0.6561\n",
            "Val Loss: 1.9244 Val Accuracy: 0.4662\n"
          ]
        },
        {
          "output_type": "stream",
          "name": "stderr",
          "text": [
            "Epoch 10/30: 100%|██████████| 42/42 [00:18<00:00,  2.24it/s]\n",
            "Epoch 10/30: 100%|██████████| 5/5 [00:01<00:00,  3.22it/s]\n"
          ]
        },
        {
          "output_type": "stream",
          "name": "stdout",
          "text": [
            "Epoch 10/30\n",
            "Train Loss: 1.0098 Train Accuracy: 0.6712\n",
            "Val Loss: 1.9679 Val Accuracy: 0.4426\n"
          ]
        },
        {
          "output_type": "stream",
          "name": "stderr",
          "text": [
            "Epoch 11/30: 100%|██████████| 42/42 [00:18<00:00,  2.22it/s]\n",
            "Epoch 11/30: 100%|██████████| 5/5 [00:01<00:00,  3.11it/s]\n"
          ]
        },
        {
          "output_type": "stream",
          "name": "stdout",
          "text": [
            "Epoch 11/30\n",
            "Train Loss: 0.9213 Train Accuracy: 0.7121\n",
            "Val Loss: 1.4550 Val Accuracy: 0.5541\n"
          ]
        },
        {
          "output_type": "stream",
          "name": "stderr",
          "text": [
            "Epoch 12/30: 100%|██████████| 42/42 [00:18<00:00,  2.24it/s]\n",
            "Epoch 12/30: 100%|██████████| 5/5 [00:01<00:00,  3.26it/s]\n"
          ]
        },
        {
          "output_type": "stream",
          "name": "stdout",
          "text": [
            "Epoch 12/30\n",
            "Train Loss: 0.7521 Train Accuracy: 0.7591\n",
            "Val Loss: 1.8097 Val Accuracy: 0.4527\n"
          ]
        },
        {
          "output_type": "stream",
          "name": "stderr",
          "text": [
            "Epoch 13/30: 100%|██████████| 42/42 [00:19<00:00,  2.19it/s]\n",
            "Epoch 13/30: 100%|██████████| 5/5 [00:01<00:00,  3.20it/s]\n"
          ]
        },
        {
          "output_type": "stream",
          "name": "stdout",
          "text": [
            "Epoch 13/30\n",
            "Train Loss: 0.7719 Train Accuracy: 0.7568\n",
            "Val Loss: 1.9285 Val Accuracy: 0.4155\n"
          ]
        },
        {
          "output_type": "stream",
          "name": "stderr",
          "text": [
            "Epoch 14/30: 100%|██████████| 42/42 [00:18<00:00,  2.23it/s]\n",
            "Epoch 14/30: 100%|██████████| 5/5 [00:01<00:00,  3.26it/s]\n"
          ]
        },
        {
          "output_type": "stream",
          "name": "stdout",
          "text": [
            "Epoch 14/30\n",
            "Train Loss: 0.7608 Train Accuracy: 0.7455\n",
            "Val Loss: 1.6819 Val Accuracy: 0.4932\n"
          ]
        },
        {
          "output_type": "stream",
          "name": "stderr",
          "text": [
            "Epoch 15/30: 100%|██████████| 42/42 [00:19<00:00,  2.17it/s]\n",
            "Epoch 15/30: 100%|██████████| 5/5 [00:01<00:00,  3.25it/s]\n"
          ]
        },
        {
          "output_type": "stream",
          "name": "stdout",
          "text": [
            "Epoch 15/30\n",
            "Train Loss: 0.5563 Train Accuracy: 0.8277\n",
            "Val Loss: 1.6790 Val Accuracy: 0.5169\n"
          ]
        },
        {
          "output_type": "stream",
          "name": "stderr",
          "text": [
            "Epoch 16/30: 100%|██████████| 42/42 [00:18<00:00,  2.22it/s]\n",
            "Epoch 16/30: 100%|██████████| 5/5 [00:01<00:00,  3.35it/s]\n"
          ]
        },
        {
          "output_type": "stream",
          "name": "stdout",
          "text": [
            "Epoch 16/30\n",
            "Train Loss: 0.5494 Train Accuracy: 0.8273\n",
            "Val Loss: 1.7210 Val Accuracy: 0.5236\n"
          ]
        },
        {
          "output_type": "stream",
          "name": "stderr",
          "text": [
            "Epoch 17/30: 100%|██████████| 42/42 [00:19<00:00,  2.19it/s]\n",
            "Epoch 17/30: 100%|██████████| 5/5 [00:01<00:00,  3.03it/s]\n"
          ]
        },
        {
          "output_type": "stream",
          "name": "stdout",
          "text": [
            "Epoch 17/30\n",
            "Train Loss: 0.5597 Train Accuracy: 0.8227\n",
            "Val Loss: 1.4035 Val Accuracy: 0.5541\n"
          ]
        },
        {
          "output_type": "stream",
          "name": "stderr",
          "text": [
            "Epoch 18/30: 100%|██████████| 42/42 [00:18<00:00,  2.24it/s]\n",
            "Epoch 18/30: 100%|██████████| 5/5 [00:01<00:00,  3.29it/s]\n"
          ]
        },
        {
          "output_type": "stream",
          "name": "stdout",
          "text": [
            "Epoch 18/30\n",
            "Train Loss: 0.5197 Train Accuracy: 0.8402\n",
            "Val Loss: 1.5164 Val Accuracy: 0.5203\n"
          ]
        },
        {
          "output_type": "stream",
          "name": "stderr",
          "text": [
            "Epoch 19/30: 100%|██████████| 42/42 [00:19<00:00,  2.20it/s]\n",
            "Epoch 19/30: 100%|██████████| 5/5 [00:01<00:00,  3.24it/s]\n"
          ]
        },
        {
          "output_type": "stream",
          "name": "stdout",
          "text": [
            "Epoch 19/30\n",
            "Train Loss: 0.4607 Train Accuracy: 0.8568\n",
            "Val Loss: 1.3610 Val Accuracy: 0.5946\n"
          ]
        },
        {
          "output_type": "stream",
          "name": "stderr",
          "text": [
            "Epoch 20/30: 100%|██████████| 42/42 [00:20<00:00,  2.10it/s]\n",
            "Epoch 20/30: 100%|██████████| 5/5 [00:01<00:00,  2.95it/s]\n"
          ]
        },
        {
          "output_type": "stream",
          "name": "stdout",
          "text": [
            "Epoch 20/30\n",
            "Train Loss: 0.4179 Train Accuracy: 0.8750\n",
            "Val Loss: 1.5661 Val Accuracy: 0.6014\n"
          ]
        },
        {
          "output_type": "stream",
          "name": "stderr",
          "text": [
            "Epoch 21/30: 100%|██████████| 42/42 [00:19<00:00,  2.13it/s]\n",
            "Epoch 21/30: 100%|██████████| 5/5 [00:01<00:00,  3.26it/s]\n"
          ]
        },
        {
          "output_type": "stream",
          "name": "stdout",
          "text": [
            "Epoch 21/30\n",
            "Train Loss: 0.3666 Train Accuracy: 0.8932\n",
            "Val Loss: 1.4385 Val Accuracy: 0.6014\n"
          ]
        },
        {
          "output_type": "stream",
          "name": "stderr",
          "text": [
            "Epoch 22/30: 100%|██████████| 42/42 [00:19<00:00,  2.21it/s]\n",
            "Epoch 22/30: 100%|██████████| 5/5 [00:02<00:00,  2.19it/s]\n"
          ]
        },
        {
          "output_type": "stream",
          "name": "stdout",
          "text": [
            "Epoch 22/30\n",
            "Train Loss: 0.3293 Train Accuracy: 0.9011\n",
            "Val Loss: 1.4385 Val Accuracy: 0.5980\n"
          ]
        },
        {
          "output_type": "stream",
          "name": "stderr",
          "text": [
            "Epoch 23/30: 100%|██████████| 42/42 [00:19<00:00,  2.11it/s]\n",
            "Epoch 23/30: 100%|██████████| 5/5 [00:01<00:00,  3.21it/s]\n"
          ]
        },
        {
          "output_type": "stream",
          "name": "stdout",
          "text": [
            "Epoch 23/30\n",
            "Train Loss: 0.2655 Train Accuracy: 0.9189\n",
            "Val Loss: 1.1827 Val Accuracy: 0.6588\n"
          ]
        },
        {
          "output_type": "stream",
          "name": "stderr",
          "text": [
            "Epoch 24/30: 100%|██████████| 42/42 [00:19<00:00,  2.21it/s]\n",
            "Epoch 24/30: 100%|██████████| 5/5 [00:01<00:00,  3.07it/s]\n"
          ]
        },
        {
          "output_type": "stream",
          "name": "stdout",
          "text": [
            "Epoch 24/30\n",
            "Train Loss: 0.2425 Train Accuracy: 0.9337\n",
            "Val Loss: 1.0915 Val Accuracy: 0.7061\n"
          ]
        },
        {
          "output_type": "stream",
          "name": "stderr",
          "text": [
            "Epoch 25/30: 100%|██████████| 42/42 [00:18<00:00,  2.23it/s]\n",
            "Epoch 25/30: 100%|██████████| 5/5 [00:01<00:00,  3.27it/s]\n"
          ]
        },
        {
          "output_type": "stream",
          "name": "stdout",
          "text": [
            "Epoch 25/30\n",
            "Train Loss: 0.2054 Train Accuracy: 0.9417\n",
            "Val Loss: 1.2068 Val Accuracy: 0.6554\n"
          ]
        },
        {
          "output_type": "stream",
          "name": "stderr",
          "text": [
            "Epoch 26/30:  12%|█▏        | 5/42 [00:03<00:24,  1.50it/s]\n"
          ]
        },
        {
          "output_type": "error",
          "ename": "KeyboardInterrupt",
          "evalue": "",
          "traceback": [
            "\u001b[0;31m---------------------------------------------------------------------------\u001b[0m",
            "\u001b[0;31mKeyboardInterrupt\u001b[0m                         Traceback (most recent call last)",
            "\u001b[0;32m<ipython-input-66-9f76e150ce58>\u001b[0m in \u001b[0;36m<cell line: 18>\u001b[0;34m()\u001b[0m\n\u001b[1;32m     20\u001b[0m     \u001b[0mcnf_training\u001b[0m\u001b[0;34m,\u001b[0m \u001b[0mcnf_model\u001b[0m \u001b[0;34m=\u001b[0m \u001b[0mconfiguration\u001b[0m\u001b[0;34m\u001b[0m\u001b[0;34m\u001b[0m\u001b[0m\n\u001b[1;32m     21\u001b[0m     \u001b[0mmodel\u001b[0m \u001b[0;34m=\u001b[0m \u001b[0mcreate_grocerystoremodel\u001b[0m\u001b[0;34m(\u001b[0m\u001b[0mcnf_model\u001b[0m\u001b[0;34m)\u001b[0m\u001b[0;34m\u001b[0m\u001b[0;34m\u001b[0m\u001b[0m\n\u001b[0;32m---> 22\u001b[0;31m     \u001b[0mhistory\u001b[0m\u001b[0;34m,\u001b[0m \u001b[0macc_value\u001b[0m\u001b[0;34m,\u001b[0m \u001b[0mflops\u001b[0m\u001b[0;34m,\u001b[0m \u001b[0mmacs\u001b[0m\u001b[0;34m,\u001b[0m \u001b[0mparams\u001b[0m \u001b[0;34m=\u001b[0m \u001b[0mexecute\u001b[0m\u001b[0;34m(\u001b[0m\u001b[0mcnf_training\u001b[0m\u001b[0;34m,\u001b[0m \u001b[0mmodel\u001b[0m\u001b[0;34m,\u001b[0m \u001b[0mdevice\u001b[0m\u001b[0;34m,\u001b[0m \u001b[0mcreate_no_subgroups\u001b[0m\u001b[0;34m)\u001b[0m\u001b[0;34m\u001b[0m\u001b[0;34m\u001b[0m\u001b[0m\n\u001b[0m\u001b[1;32m     23\u001b[0m     \u001b[0mabl_study_res\u001b[0m\u001b[0;34m.\u001b[0m\u001b[0mappend\u001b[0m\u001b[0;34m(\u001b[0m\u001b[0;34m[\u001b[0m\u001b[0mconf_name\u001b[0m\u001b[0;34m,\u001b[0m \u001b[0macc_value\u001b[0m\u001b[0;34m,\u001b[0m \u001b[0mflops\u001b[0m\u001b[0;34m,\u001b[0m \u001b[0mmacs\u001b[0m\u001b[0;34m,\u001b[0m \u001b[0mparams\u001b[0m\u001b[0;34m]\u001b[0m\u001b[0;34m)\u001b[0m\u001b[0;34m\u001b[0m\u001b[0;34m\u001b[0m\u001b[0m\n\u001b[1;32m     24\u001b[0m     \u001b[0mhistories\u001b[0m\u001b[0;34m.\u001b[0m\u001b[0mappend\u001b[0m\u001b[0;34m(\u001b[0m\u001b[0mhistory\u001b[0m\u001b[0;34m)\u001b[0m\u001b[0;34m\u001b[0m\u001b[0;34m\u001b[0m\u001b[0m\n",
            "\u001b[0;32m<ipython-input-58-4a4b158560ef>\u001b[0m in \u001b[0;36mexecute\u001b[0;34m(cnf_training, model, device, lr_groups_fn)\u001b[0m\n\u001b[1;32m     14\u001b[0m     \u001b[0moptimizer\u001b[0m \u001b[0;34m=\u001b[0m \u001b[0moptim\u001b[0m\u001b[0;34m.\u001b[0m\u001b[0mAdam\u001b[0m\u001b[0;34m(\u001b[0m\u001b[0mgroups_dict\u001b[0m\u001b[0;34m,\u001b[0m \u001b[0mweight_decay\u001b[0m\u001b[0;34m=\u001b[0m\u001b[0mcnf_training\u001b[0m\u001b[0;34m[\u001b[0m\u001b[0;34m'weight_decay'\u001b[0m\u001b[0;34m]\u001b[0m\u001b[0;34m)\u001b[0m\u001b[0;34m\u001b[0m\u001b[0;34m\u001b[0m\u001b[0m\n\u001b[1;32m     15\u001b[0m     \u001b[0mscheduler\u001b[0m \u001b[0;34m=\u001b[0m \u001b[0mtorch\u001b[0m\u001b[0;34m.\u001b[0m\u001b[0moptim\u001b[0m\u001b[0;34m.\u001b[0m\u001b[0mlr_scheduler\u001b[0m\u001b[0;34m.\u001b[0m\u001b[0mOneCycleLR\u001b[0m\u001b[0;34m(\u001b[0m\u001b[0moptimizer\u001b[0m\u001b[0;34m,\u001b[0m \u001b[0mmax_lr\u001b[0m\u001b[0;34m=\u001b[0m\u001b[0mlrs\u001b[0m\u001b[0;34m,\u001b[0m \u001b[0msteps_per_epoch\u001b[0m\u001b[0;34m=\u001b[0m\u001b[0mlen\u001b[0m\u001b[0;34m(\u001b[0m\u001b[0mtrain_dataloader\u001b[0m\u001b[0;34m)\u001b[0m\u001b[0;34m,\u001b[0m \u001b[0mepochs\u001b[0m\u001b[0;34m=\u001b[0m\u001b[0mcnf_training\u001b[0m\u001b[0;34m[\u001b[0m\u001b[0;34m'n_epochs'\u001b[0m\u001b[0;34m]\u001b[0m\u001b[0;34m)\u001b[0m\u001b[0;34m\u001b[0m\u001b[0;34m\u001b[0m\u001b[0m\n\u001b[0;32m---> 16\u001b[0;31m     history, best_val_acc = train(model,\n\u001b[0m\u001b[1;32m     17\u001b[0m           \u001b[0mnum_epochs\u001b[0m \u001b[0;34m=\u001b[0m \u001b[0mcnf_training\u001b[0m\u001b[0;34m[\u001b[0m\u001b[0;34m'n_epochs'\u001b[0m\u001b[0;34m]\u001b[0m\u001b[0;34m,\u001b[0m\u001b[0;34m\u001b[0m\u001b[0;34m\u001b[0m\u001b[0m\n\u001b[1;32m     18\u001b[0m           \u001b[0mcriterion\u001b[0m \u001b[0;34m=\u001b[0m \u001b[0mcriterion\u001b[0m\u001b[0;34m,\u001b[0m\u001b[0;34m\u001b[0m\u001b[0;34m\u001b[0m\u001b[0m\n",
            "\u001b[0;32m<ipython-input-24-453605000c7c>\u001b[0m in \u001b[0;36mtrain\u001b[0;34m(model, num_epochs, criterion, opt, train_dl, val_dl, num_classes, earlystop_patience, scheduler, device)\u001b[0m\n\u001b[1;32m     10\u001b[0m \u001b[0;34m\u001b[0m\u001b[0m\n\u001b[1;32m     11\u001b[0m     \u001b[0;32mfor\u001b[0m \u001b[0mepoch\u001b[0m \u001b[0;32min\u001b[0m \u001b[0mrange\u001b[0m\u001b[0;34m(\u001b[0m\u001b[0mnum_epochs\u001b[0m\u001b[0;34m)\u001b[0m\u001b[0;34m:\u001b[0m\u001b[0;34m\u001b[0m\u001b[0;34m\u001b[0m\u001b[0m\n\u001b[0;32m---> 12\u001b[0;31m         \u001b[0mtrain_loss\u001b[0m\u001b[0;34m,\u001b[0m \u001b[0mtrain_acc\u001b[0m \u001b[0;34m=\u001b[0m \u001b[0mtrain_one_epoch\u001b[0m\u001b[0;34m(\u001b[0m\u001b[0mmodel\u001b[0m\u001b[0;34m,\u001b[0m \u001b[0mtrain_dl\u001b[0m\u001b[0;34m,\u001b[0m \u001b[0mcriterion\u001b[0m\u001b[0;34m,\u001b[0m \u001b[0mopt\u001b[0m\u001b[0;34m,\u001b[0m \u001b[0mscheduler\u001b[0m\u001b[0;34m,\u001b[0m \u001b[0mtrain_acc_fn\u001b[0m\u001b[0;34m,\u001b[0m \u001b[0mdevice\u001b[0m\u001b[0;34m,\u001b[0m \u001b[0mepoch\u001b[0m\u001b[0;34m,\u001b[0m \u001b[0mnum_epochs\u001b[0m\u001b[0;34m)\u001b[0m\u001b[0;34m\u001b[0m\u001b[0;34m\u001b[0m\u001b[0m\n\u001b[0m\u001b[1;32m     13\u001b[0m         \u001b[0mtrain_losses\u001b[0m\u001b[0;34m.\u001b[0m\u001b[0mappend\u001b[0m\u001b[0;34m(\u001b[0m\u001b[0mtrain_loss\u001b[0m\u001b[0;34m)\u001b[0m\u001b[0;34m\u001b[0m\u001b[0;34m\u001b[0m\u001b[0m\n\u001b[1;32m     14\u001b[0m         \u001b[0mtrain_accuracies\u001b[0m\u001b[0;34m.\u001b[0m\u001b[0mappend\u001b[0m\u001b[0;34m(\u001b[0m\u001b[0mtrain_acc\u001b[0m\u001b[0;34m)\u001b[0m\u001b[0;34m\u001b[0m\u001b[0;34m\u001b[0m\u001b[0m\n",
            "\u001b[0;32m<ipython-input-24-453605000c7c>\u001b[0m in \u001b[0;36mtrain_one_epoch\u001b[0;34m(model, train_dl, criterion, opt, scheduler, train_acc_fn, device, epoch, num_epochs)\u001b[0m\n\u001b[1;32m     49\u001b[0m         \u001b[0mopt\u001b[0m\u001b[0;34m.\u001b[0m\u001b[0mstep\u001b[0m\u001b[0;34m(\u001b[0m\u001b[0;34m)\u001b[0m\u001b[0;34m\u001b[0m\u001b[0;34m\u001b[0m\u001b[0m\n\u001b[1;32m     50\u001b[0m         \u001b[0mscheduler\u001b[0m\u001b[0;34m.\u001b[0m\u001b[0mstep\u001b[0m\u001b[0;34m(\u001b[0m\u001b[0;34m)\u001b[0m\u001b[0;34m\u001b[0m\u001b[0;34m\u001b[0m\u001b[0m\n\u001b[0;32m---> 51\u001b[0;31m         \u001b[0mrunning_loss\u001b[0m \u001b[0;34m+=\u001b[0m \u001b[0mloss\u001b[0m\u001b[0;34m.\u001b[0m\u001b[0mitem\u001b[0m\u001b[0;34m(\u001b[0m\u001b[0;34m)\u001b[0m\u001b[0;34m\u001b[0m\u001b[0;34m\u001b[0m\u001b[0m\n\u001b[0m\u001b[1;32m     52\u001b[0m         \u001b[0mpreds\u001b[0m \u001b[0;34m=\u001b[0m \u001b[0mtorch\u001b[0m\u001b[0;34m.\u001b[0m\u001b[0margmax\u001b[0m\u001b[0;34m(\u001b[0m\u001b[0moutputs\u001b[0m\u001b[0;34m,\u001b[0m \u001b[0mdim\u001b[0m\u001b[0;34m=\u001b[0m\u001b[0;36m1\u001b[0m\u001b[0;34m)\u001b[0m\u001b[0;34m\u001b[0m\u001b[0;34m\u001b[0m\u001b[0m\n\u001b[1;32m     53\u001b[0m         \u001b[0mtrain_acc_fn\u001b[0m\u001b[0;34m.\u001b[0m\u001b[0mupdate\u001b[0m\u001b[0;34m(\u001b[0m\u001b[0mpreds\u001b[0m\u001b[0;34m,\u001b[0m \u001b[0mtargets\u001b[0m\u001b[0;34m.\u001b[0m\u001b[0mto\u001b[0m\u001b[0;34m(\u001b[0m\u001b[0mdevice\u001b[0m\u001b[0;34m)\u001b[0m\u001b[0;34m)\u001b[0m\u001b[0;34m\u001b[0m\u001b[0;34m\u001b[0m\u001b[0m\n",
            "\u001b[0;31mKeyboardInterrupt\u001b[0m: "
          ]
        }
      ]
    },
    {
      "cell_type": "code",
      "source": [
        "plot_model_histories(abl_study_histories, abl_study_res['model_name'], abl_study_res['best_val_acc'])"
      ],
      "metadata": {
        "colab": {
          "base_uri": "https://localhost:8080/",
          "height": 1000
        },
        "collapsed": true,
        "id": "9hoVnznutXZV",
        "outputId": "63c5f603-aef6-4956-fd13-50812aa000d1"
      },
      "execution_count": 57,
      "outputs": [
        {
          "output_type": "stream",
          "name": "stderr",
          "text": [
            "<ipython-input-52-3d48084d9135>:5: MatplotlibDeprecationWarning: The get_cmap function was deprecated in Matplotlib 3.7 and will be removed two minor releases later. Use ``matplotlib.colormaps[name]`` or ``matplotlib.colormaps.get_cmap(obj)`` instead.\n",
            "  colors = plt.cm.get_cmap('tab10', len(histories))\n"
          ]
        },
        {
          "output_type": "display_data",
          "data": {
            "text/plain": [
              "<Figure size 2000x1500 with 2 Axes>"
            ],
            "image/png": "[encoded data removed]"
          },
          "metadata": {}
        }
      ]
    },
    {
      "cell_type": "markdown",
      "metadata": {
        "id": "gkWEqSPoUIL3"
      },
      "source": [
        "## Part 2: fine-tune an existing network\n",
        "\n",
        "Your goal is to fine-tune a pretrained **ResNet-18** model on `GroceryStoreDataset`. Use the implementation provided by PyTorch, do not implement it yourselves! (i.e. exactly what you **could not** do in the first part of the assignment). Specifically, you must use the PyTorch ResNet-18 model pretrained on ImageNet-1K (V1). Divide your fine-tuning into two parts:\n",
        "\n",
        "1. First, fine-tune the Resnet-18 with the same training hyperparameters you used for your best model in the first part of the assignment.\n",
        "1. Then, tweak the training hyperparameters in order to increase the accuracy on the validation split of `GroceryStoreDataset`. Justify your choices by analyzing the training plots and/or citing sources that guided you in your decisions (papers, blog posts, YouTube videos, or whatever else you find enlightening). You should consider yourselves satisfied once you obtain a classification accuracy on the **validation** split **between 80 and 90%**."
      ]
    },
    {
      "cell_type": "markdown",
      "source": [
        "Posso prima trainarla cosi' a caso, a zero. Semplicemente con i pesi imparati faccio finetuning trainando tutta la rete con gli stessi parametri.\n",
        "\n",
        "Poi applico le seguenti cose:\n",
        "1. trainare con fe freezzato per 8 epoche tipo\n",
        "2. trainare poi per 22 epoche con fe unfreezzato\n",
        "3. fare training diviso in subgroups per la seconda run usando il metodo *create_subgroups*\n",
        "4. in entrambi i trainings che vengono performati, utilizzare un lr che sia diviso di un fattore di 10 rispetto a quello usato sopra\n",
        "5. (optional) rendere piu' grande il feature extractor per fare in modo di ottenere un livello di accuracy piu' alto"
      ],
      "metadata": {
        "id": "1Fo66FHwKXrz"
      }
    },
    {
      "cell_type": "markdown",
      "source": [
        "1. Aggiunta di un head piu' complicato\n",
        "https://www.youtube.com/watch?v=qaDe0qQZ5AQ&list=PLHjppeS7qxrUYhY4oQTos0SEtujtRbs99&index=10&ab_channel=AladdinPersson\n",
        "2. Aggiunta di subgroups in Adam per avere differenti lrs durante il finetuning https://www.youtube.com/watch?v=jTZEG8I8-RI&list=PLHjppeS7qxrUYhY4oQTos0SEtujtRbs99&index=8&ab_channel=RicardoCalix\n",
        "\n"
      ],
      "metadata": {
        "id": "fM68WheLW6jy"
      }
    },
    {
      "cell_type": "markdown",
      "source": [
        "Fai un metodo che crea una resnet (potendo specificare quanto rendere grande l'head della rete, proprio permettendo di inserire dall'esterno il torch.nn.Module che si vuole) e che fa i seguenti steps all'interno:"
      ],
      "metadata": {
        "id": "LQqHllQBWCzk"
      }
    },
    {
      "cell_type": "code",
      "source": [
        "def merge_histories(history1, history2):\n",
        "    merged_history = {\n",
        "        'train_losses': history1['train_losses'] + history2['train_losses'],\n",
        "        'train_accuracies': history1['train_accuracies'] + history2['train_accuracies'],\n",
        "        'val_losses': history1['val_losses'] + history2['val_losses'],\n",
        "        'val_accuracies': history1['val_accuracies'] + history2['val_accuracies']\n",
        "    }\n",
        "    return merged_history"
      ],
      "metadata": {
        "id": "EZssttS2f0HR"
      },
      "execution_count": 107,
      "outputs": []
    },
    {
      "cell_type": "code",
      "source": [
        "def get_net(head: Callable[[int], torch.nn.Module]):\n",
        "    resnet = torchvision.models.resnet18(pretrained=True)\n",
        "    resnet.fc = head(resnet.fc.in_features)\n",
        "    if isinstance(resnet.fc, torch.nn.Sequential):\n",
        "        for layer in resnet.fc:\n",
        "            if isinstance(layer, torch.nn.Linear):\n",
        "                torch.nn.init.xavier_uniform_(layer.weight)\n",
        "    elif isinstance(resnet.fc, torch.nn.Linear):\n",
        "        torch.nn.init.xavier_uniform_(resnet.fc.weight)\n",
        "    return resnet"
      ],
      "metadata": {
        "id": "L3P7TnmLXmkm"
      },
      "execution_count": 108,
      "outputs": []
    },
    {
      "cell_type": "code",
      "source": [
        "def fine_tune(train_cnf, model, device, lr_groups_fn, fr_epochs = 6):\n",
        "    train_cnf_f = update_config(train_cnf, 'lr', train_cnf['lr']/10)\n",
        "    epochs = train_cnf_f['n_epochs']\n",
        "    unfr_epochs = train_cnf['n_epochs'] - fr_epochs\n",
        "    train_cnf_fr = update_config(train_cnf_f, 'n_epochs', fr_epochs)\n",
        "\n",
        "    head_params = get_head_params(model)\n",
        "    for param in head_params:\n",
        "       param.requires_grad = False\n",
        "\n",
        "    resnet_history1, acc_value1, _, _, _ = execute(train_cnf_fr, model, device, create_no_subgroups)\n",
        "\n",
        "    train_cnf_unfr = update_config(train_cnf_f, 'n_epochs', unfr_epochs)\n",
        "\n",
        "    for param in head_params:\n",
        "       param.requires_grad = True\n",
        "    resnet_history2, acc_value2, flops, macs, params = execute(train_cnf_unfr, model, device, lr_groups_fn)\n",
        "    return merge_histories(resnet_history1, resnet_history2), max(acc_value1, acc_value2), flops, macs, params\n"
      ],
      "metadata": {
        "id": "XFrj8u5zcTO4"
      },
      "execution_count": 109,
      "outputs": []
    },
    {
      "cell_type": "code",
      "source": [
        "resnets_res = []\n",
        "resnets_histories = []\n",
        "resnet_cnfs = {'linear_nofinetune_resnet': (lambda in_feat: torch.nn.Linear(in_feat, num_classes), execute, create_no_subgroups),\n",
        "               'linear_finetune_resnet': (lambda in_feat: torch.nn.Linear(in_feat, num_classes), fine_tune, create_subgroups),\n",
        "               'seq_finetune_resnet': (lambda in_feat:  torch.nn.Sequential(\n",
        "                                        torch.nn.Linear(in_feat, 512),\n",
        "                                        torch.nn.ReLU(),\n",
        "                                        torch.nn.Linear(512, num_classes)), fine_tune, create_subgroups)}\n",
        "for idx, (conf_name, configuration) in enumerate(resnet_cnfs.items()):\n",
        "    print(f'Training and evaluating {conf_name} model')\n",
        "    head_creator, execute_fn, subgroups_creator = configuration\n",
        "    model = get_net(head_creator).to(device)\n",
        "    history, acc_value, flops, macs, params = execute_fn(cnf_tr, model, device, subgroups_creator)\n",
        "    resnets_res.append([conf_name, acc_value, flops, macs, params])\n",
        "    resnets_histories.append(history)\n",
        "resnets_res = pd.DataFrame(resnets_res, columns = columns)\n",
        "resnets_res.to_csv('resnets_results.csv', index=False)\n",
        "pd.DataFrame(resnets_histories).to_csv('resnet_histories.csv', index = False)"
      ],
      "metadata": {
        "colab": {
          "base_uri": "https://localhost:8080/"
        },
        "collapsed": true,
        "id": "1udHQUk9vGPS",
        "outputId": "e25fe9d9-fe0e-4693-d158-aa0bf090cb66"
      },
      "execution_count": 110,
      "outputs": [
        {
          "output_type": "stream",
          "name": "stdout",
          "text": [
            "Training and evaluating linear_nofinetune_resnet model\n"
          ]
        },
        {
          "output_type": "stream",
          "name": "stderr",
          "text": [
            "/usr/local/lib/python3.10/dist-packages/torchvision/models/_utils.py:208: UserWarning: The parameter 'pretrained' is deprecated since 0.13 and may be removed in the future, please use 'weights' instead.\n",
            "  warnings.warn(\n",
            "/usr/local/lib/python3.10/dist-packages/torchvision/models/_utils.py:223: UserWarning: Arguments other than a weight enum or `None` for 'weights' are deprecated since 0.13 and may be removed in the future. The current behavior is equivalent to passing `weights=ResNet18_Weights.IMAGENET1K_V1`. You can also use `weights=ResNet18_Weights.DEFAULT` to get the most up-to-date weights.\n",
            "  warnings.warn(msg)\n"
          ]
        },
        {
          "output_type": "stream",
          "name": "stdout",
          "text": [
            "\n",
            "------------------------------------- Calculate Flops Results -------------------------------------\n",
            "Notations:\n",
            "number of parameters (Params), number of multiply-accumulate operations(MACs),\n",
            "number of floating-point operations (FLOPs), floating-point operations per second (FLOPS),\n",
            "fwd FLOPs (model forward propagation FLOPs), bwd FLOPs (model backward propagation FLOPs),\n",
            "default model backpropagation takes 2.00 times as much computation as forward propagation.\n",
            "\n",
            "Total Training Params:                                                  11.2 M  \n",
            "fwd MACs:                                                               151.6 GMACs\n",
            "fwd FLOPs:                                                              303.878 GFLOPS\n",
            "fwd+bwd MACs:                                                           454.801 GMACs\n",
            "fwd+bwd FLOPs:                                                          911.634 GFLOPS\n",
            "\n",
            "-------------------------------- Detailed Calculated FLOPs Results --------------------------------\n",
            "Each module caculated is listed after its name in the following order: \n",
            "params, percentage of total params, MACs, percentage of total MACs, FLOPS, percentage of total FLOPs\n",
            "\n",
            "Note: 1. A module can have torch.nn.module or torch.nn.functional to compute logits (e.g. CrossEntropyLoss). \n",
            " They are not counted as submodules in calflops and not to be printed out. However they make up the difference between a parent's MACs and the sum of its submodules'.\n",
            "2. Number of floating-point operations is a theoretical estimation, thus FLOPS computed using that could be larger than the maximum system throughput.\n",
            "\n",
            "ResNet(\n",
            "  11.2 M = 100% Params, 151.6 GMACs = 100% MACs, 303.88 GFLOPS = 100% FLOPs\n",
            "  (conv1): Conv2d(9.41 K = 0.084% Params, 9.87 GMACs = 6.5072% MACs, 19.73 GFLOPS = 6.4927% FLOPs, 3, 64, kernel_size=(7, 7), stride=(2, 2), padding=(3, 3), bias=False)\n",
            "  (bn1): BatchNorm2d(128 = 0.0011% Params, 0 MACs = 0% MACs, 134.22 MFLOPS = 0.0442% FLOPs, 64, eps=1e-05, momentum=0.1, affine=True, track_running_stats=True)\n",
            "  (relu): ReLU(0 = 0% Params, 0 MACs = 0% MACs, 67.11 MFLOPS = 0.0221% FLOPs, inplace=True)\n",
            "  (maxpool): MaxPool2d(0 = 0% Params, 0 MACs = 0% MACs, 67.11 MFLOPS = 0.0221% FLOPs, kernel_size=3, stride=2, padding=1, dilation=1, ceil_mode=False)\n",
            "  (layer1): Sequential(\n",
            "    147.97 K = 1.3213% Params, 38.65 GMACs = 25.4978% MACs, 77.51 GFLOPS = 25.5072% FLOPs\n",
            "    (0): BasicBlock(\n",
            "      73.98 K = 0.6607% Params, 19.33 GMACs = 12.7489% MACs, 38.76 GFLOPS = 12.7536% FLOPs\n",
            "      (conv1): Conv2d(36.86 K = 0.3292% Params, 9.66 GMACs = 6.3744% MACs, 19.33 GFLOPS = 6.3602% FLOPs, 64, 64, kernel_size=(3, 3), stride=(1, 1), padding=(1, 1), bias=False)\n",
            "      (bn1): BatchNorm2d(128 = 0.0011% Params, 0 MACs = 0% MACs, 33.55 MFLOPS = 0.011% FLOPs, 64, eps=1e-05, momentum=0.1, affine=True, track_running_stats=True)\n",
            "      (relu): ReLU(0 = 0% Params, 0 MACs = 0% MACs, 33.55 MFLOPS = 0.011% FLOPs, inplace=True)\n",
            "      (conv2): Conv2d(36.86 K = 0.3292% Params, 9.66 GMACs = 6.3744% MACs, 19.33 GFLOPS = 6.3602% FLOPs, 64, 64, kernel_size=(3, 3), stride=(1, 1), padding=(1, 1), bias=False)\n",
            "      (bn2): BatchNorm2d(128 = 0.0011% Params, 0 MACs = 0% MACs, 33.55 MFLOPS = 0.011% FLOPs, 64, eps=1e-05, momentum=0.1, affine=True, track_running_stats=True)\n",
            "    )\n",
            "    (1): BasicBlock(\n",
            "      73.98 K = 0.6607% Params, 19.33 GMACs = 12.7489% MACs, 38.76 GFLOPS = 12.7536% FLOPs\n",
            "      (conv1): Conv2d(36.86 K = 0.3292% Params, 9.66 GMACs = 6.3744% MACs, 19.33 GFLOPS = 6.3602% FLOPs, 64, 64, kernel_size=(3, 3), stride=(1, 1), padding=(1, 1), bias=False)\n",
            "      (bn1): BatchNorm2d(128 = 0.0011% Params, 0 MACs = 0% MACs, 33.55 MFLOPS = 0.011% FLOPs, 64, eps=1e-05, momentum=0.1, affine=True, track_running_stats=True)\n",
            "      (relu): ReLU(0 = 0% Params, 0 MACs = 0% MACs, 33.55 MFLOPS = 0.011% FLOPs, inplace=True)\n",
            "      (conv2): Conv2d(36.86 K = 0.3292% Params, 9.66 GMACs = 6.3744% MACs, 19.33 GFLOPS = 6.3602% FLOPs, 64, 64, kernel_size=(3, 3), stride=(1, 1), padding=(1, 1), bias=False)\n",
            "      (bn2): BatchNorm2d(128 = 0.0011% Params, 0 MACs = 0% MACs, 33.55 MFLOPS = 0.011% FLOPs, 64, eps=1e-05, momentum=0.1, affine=True, track_running_stats=True)\n",
            "    )\n",
            "  )\n",
            "  (layer2): Sequential(\n",
            "    525.57 K = 4.6932% Params, 34.36 GMACs = 22.6647% MACs, 68.84 GFLOPS = 22.6528% FLOPs\n",
            "    (0): BasicBlock(\n",
            "      230.14 K = 2.0551% Params, 15.03 GMACs = 9.9158% MACs, 30.13 GFLOPS = 9.9158% FLOPs\n",
            "      (conv1): Conv2d(73.73 K = 0.6584% Params, 4.83 GMACs = 3.1872% MACs, 9.66 GFLOPS = 3.1801% FLOPs, 64, 128, kernel_size=(3, 3), stride=(2, 2), padding=(1, 1), bias=False)\n",
            "      (bn1): BatchNorm2d(256 = 0.0023% Params, 0 MACs = 0% MACs, 16.78 MFLOPS = 0.0055% FLOPs, 128, eps=1e-05, momentum=0.1, affine=True, track_running_stats=True)\n",
            "      (relu): ReLU(0 = 0% Params, 0 MACs = 0% MACs, 16.78 MFLOPS = 0.0055% FLOPs, inplace=True)\n",
            "      (conv2): Conv2d(147.46 K = 1.3167% Params, 9.66 GMACs = 6.3744% MACs, 19.33 GFLOPS = 6.3602% FLOPs, 128, 128, kernel_size=(3, 3), stride=(1, 1), padding=(1, 1), bias=False)\n",
            "      (bn2): BatchNorm2d(256 = 0.0023% Params, 0 MACs = 0% MACs, 16.78 MFLOPS = 0.0055% FLOPs, 128, eps=1e-05, momentum=0.1, affine=True, track_running_stats=True)\n",
            "      (downsample): Sequential(\n",
            "        8.45 K = 0.0754% Params, 536.87 MMACs = 0.3541% MACs, 1.09 GFLOPS = 0.3589% FLOPs\n",
            "        (0): Conv2d(8.19 K = 0.0732% Params, 536.87 MMACs = 0.3541% MACs, 1.07 GFLOPS = 0.3533% FLOPs, 64, 128, kernel_size=(1, 1), stride=(2, 2), bias=False)\n",
            "        (1): BatchNorm2d(256 = 0.0023% Params, 0 MACs = 0% MACs, 16.78 MFLOPS = 0.0055% FLOPs, 128, eps=1e-05, momentum=0.1, affine=True, track_running_stats=True)\n",
            "      )\n",
            "    )\n",
            "    (1): BasicBlock(\n",
            "      295.42 K = 2.6381% Params, 19.33 GMACs = 12.7489% MACs, 38.71 GFLOPS = 12.737% FLOPs\n",
            "      (conv1): Conv2d(147.46 K = 1.3167% Params, 9.66 GMACs = 6.3744% MACs, 19.33 GFLOPS = 6.3602% FLOPs, 128, 128, kernel_size=(3, 3), stride=(1, 1), padding=(1, 1), bias=False)\n",
            "      (bn1): BatchNorm2d(256 = 0.0023% Params, 0 MACs = 0% MACs, 16.78 MFLOPS = 0.0055% FLOPs, 128, eps=1e-05, momentum=0.1, affine=True, track_running_stats=True)\n",
            "      (relu): ReLU(0 = 0% Params, 0 MACs = 0% MACs, 16.78 MFLOPS = 0.0055% FLOPs, inplace=True)\n",
            "      (conv2): Conv2d(147.46 K = 1.3167% Params, 9.66 GMACs = 6.3744% MACs, 19.33 GFLOPS = 6.3602% FLOPs, 128, 128, kernel_size=(3, 3), stride=(1, 1), padding=(1, 1), bias=False)\n",
            "      (bn2): BatchNorm2d(256 = 0.0023% Params, 0 MACs = 0% MACs, 16.78 MFLOPS = 0.0055% FLOPs, 128, eps=1e-05, momentum=0.1, affine=True, track_running_stats=True)\n",
            "    )\n",
            "  )\n",
            "  (layer3): Sequential(\n",
            "    2.1 M = 18.7498% Params, 34.36 GMACs = 22.6647% MACs, 68.78 GFLOPS = 22.6335% FLOPs\n",
            "    (0): BasicBlock(\n",
            "      919.04 K = 8.2068% Params, 15.03 GMACs = 9.9158% MACs, 30.1 GFLOPS = 9.9047% FLOPs\n",
            "      (conv1): Conv2d(294.91 K = 2.6335% Params, 4.83 GMACs = 3.1872% MACs, 9.66 GFLOPS = 3.1801% FLOPs, 128, 256, kernel_size=(3, 3), stride=(2, 2), padding=(1, 1), bias=False)\n",
            "      (bn1): BatchNorm2d(512 = 0.0046% Params, 0 MACs = 0% MACs, 8.39 MFLOPS = 0.0028% FLOPs, 256, eps=1e-05, momentum=0.1, affine=True, track_running_stats=True)\n",
            "      (relu): ReLU(0 = 0% Params, 0 MACs = 0% MACs, 8.39 MFLOPS = 0.0028% FLOPs, inplace=True)\n",
            "      (conv2): Conv2d(589.82 K = 5.267% Params, 9.66 GMACs = 6.3744% MACs, 19.33 GFLOPS = 6.3602% FLOPs, 256, 256, kernel_size=(3, 3), stride=(1, 1), padding=(1, 1), bias=False)\n",
            "      (bn2): BatchNorm2d(512 = 0.0046% Params, 0 MACs = 0% MACs, 8.39 MFLOPS = 0.0028% FLOPs, 256, eps=1e-05, momentum=0.1, affine=True, track_running_stats=True)\n",
            "      (downsample): Sequential(\n",
            "        33.28 K = 0.2972% Params, 536.87 MMACs = 0.3541% MACs, 1.08 GFLOPS = 0.3561% FLOPs\n",
            "        (0): Conv2d(32.77 K = 0.2926% Params, 536.87 MMACs = 0.3541% MACs, 1.07 GFLOPS = 0.3533% FLOPs, 128, 256, kernel_size=(1, 1), stride=(2, 2), bias=False)\n",
            "        (1): BatchNorm2d(512 = 0.0046% Params, 0 MACs = 0% MACs, 8.39 MFLOPS = 0.0028% FLOPs, 256, eps=1e-05, momentum=0.1, affine=True, track_running_stats=True)\n",
            "      )\n",
            "    )\n",
            "    (1): BasicBlock(\n",
            "      1.18 M = 10.5431% Params, 19.33 GMACs = 12.7489% MACs, 38.68 GFLOPS = 12.7287% FLOPs\n",
            "      (conv1): Conv2d(589.82 K = 5.267% Params, 9.66 GMACs = 6.3744% MACs, 19.33 GFLOPS = 6.3602% FLOPs, 256, 256, kernel_size=(3, 3), stride=(1, 1), padding=(1, 1), bias=False)\n",
            "      (bn1): BatchNorm2d(512 = 0.0046% Params, 0 MACs = 0% MACs, 8.39 MFLOPS = 0.0028% FLOPs, 256, eps=1e-05, momentum=0.1, affine=True, track_running_stats=True)\n",
            "      (relu): ReLU(0 = 0% Params, 0 MACs = 0% MACs, 8.39 MFLOPS = 0.0028% FLOPs, inplace=True)\n",
            "      (conv2): Conv2d(589.82 K = 5.267% Params, 9.66 GMACs = 6.3744% MACs, 19.33 GFLOPS = 6.3602% FLOPs, 256, 256, kernel_size=(3, 3), stride=(1, 1), padding=(1, 1), bias=False)\n",
            "      (bn2): BatchNorm2d(512 = 0.0046% Params, 0 MACs = 0% MACs, 8.39 MFLOPS = 0.0028% FLOPs, 256, eps=1e-05, momentum=0.1, affine=True, track_running_stats=True)\n",
            "    )\n",
            "  )\n",
            "  (layer4): Sequential(\n",
            "    8.39 M = 74.9536% Params, 34.36 GMACs = 22.6647% MACs, 68.75 GFLOPS = 22.6238% FLOPs\n",
            "    (0): BasicBlock(\n",
            "      3.67 M = 32.7996% Params, 15.03 GMACs = 9.9158% MACs, 30.08 GFLOPS = 9.8992% FLOPs\n",
            "      (conv1): Conv2d(1.18 M = 10.5339% Params, 4.83 GMACs = 3.1872% MACs, 9.66 GFLOPS = 3.1801% FLOPs, 256, 512, kernel_size=(3, 3), stride=(2, 2), padding=(1, 1), bias=False)\n",
            "      (bn1): BatchNorm2d(1.02 K = 0.0091% Params, 0 MACs = 0% MACs, 4.19 MFLOPS = 0.0014% FLOPs, 512, eps=1e-05, momentum=0.1, affine=True, track_running_stats=True)\n",
            "      (relu): ReLU(0 = 0% Params, 0 MACs = 0% MACs, 4.19 MFLOPS = 0.0014% FLOPs, inplace=True)\n",
            "      (conv2): Conv2d(2.36 M = 21.0678% Params, 9.66 GMACs = 6.3744% MACs, 19.33 GFLOPS = 6.3602% FLOPs, 512, 512, kernel_size=(3, 3), stride=(1, 1), padding=(1, 1), bias=False)\n",
            "      (bn2): BatchNorm2d(1.02 K = 0.0091% Params, 0 MACs = 0% MACs, 4.19 MFLOPS = 0.0014% FLOPs, 512, eps=1e-05, momentum=0.1, affine=True, track_running_stats=True)\n",
            "      (downsample): Sequential(\n",
            "        132.1 K = 1.1796% Params, 536.87 MMACs = 0.3541% MACs, 1.08 GFLOPS = 0.3547% FLOPs\n",
            "        (0): Conv2d(131.07 K = 1.1704% Params, 536.87 MMACs = 0.3541% MACs, 1.07 GFLOPS = 0.3533% FLOPs, 256, 512, kernel_size=(1, 1), stride=(2, 2), bias=False)\n",
            "        (1): BatchNorm2d(1.02 K = 0.0091% Params, 0 MACs = 0% MACs, 4.19 MFLOPS = 0.0014% FLOPs, 512, eps=1e-05, momentum=0.1, affine=True, track_running_stats=True)\n",
            "      )\n",
            "    )\n",
            "    (1): BasicBlock(\n",
            "      4.72 M = 42.1539% Params, 19.33 GMACs = 12.7489% MACs, 38.67 GFLOPS = 12.7246% FLOPs\n",
            "      (conv1): Conv2d(2.36 M = 21.0678% Params, 9.66 GMACs = 6.3744% MACs, 19.33 GFLOPS = 6.3602% FLOPs, 512, 512, kernel_size=(3, 3), stride=(1, 1), padding=(1, 1), bias=False)\n",
            "      (bn1): BatchNorm2d(1.02 K = 0.0091% Params, 0 MACs = 0% MACs, 4.19 MFLOPS = 0.0014% FLOPs, 512, eps=1e-05, momentum=0.1, affine=True, track_running_stats=True)\n",
            "      (relu): ReLU(0 = 0% Params, 0 MACs = 0% MACs, 4.19 MFLOPS = 0.0014% FLOPs, inplace=True)\n",
            "      (conv2): Conv2d(2.36 M = 21.0678% Params, 9.66 GMACs = 6.3744% MACs, 19.33 GFLOPS = 6.3602% FLOPs, 512, 512, kernel_size=(3, 3), stride=(1, 1), padding=(1, 1), bias=False)\n",
            "      (bn2): BatchNorm2d(1.02 K = 0.0091% Params, 0 MACs = 0% MACs, 4.19 MFLOPS = 0.0014% FLOPs, 512, eps=1e-05, momentum=0.1, affine=True, track_running_stats=True)\n",
            "    )\n",
            "  )\n",
            "  (avgpool): AdaptiveAvgPool2d(0 = 0% Params, 0 MACs = 0% MACs, 2.1 MFLOPS = 0.0007% FLOPs, output_size=(1, 1))\n",
            "  (fc): Linear(22.06 K = 0.197% Params, 1.41 MMACs = 0.0009% MACs, 2.82 MFLOPS = 0.0009% FLOPs, in_features=512, out_features=43, bias=True)\n",
            ")\n",
            "---------------------------------------------------------------------------------------------------\n"
          ]
        },
        {
          "output_type": "stream",
          "name": "stderr",
          "text": [
            "Epoch 1/30: 100%|██████████| 42/42 [00:14<00:00,  2.97it/s]\n",
            "Epoch 1/30: 100%|██████████| 5/5 [00:01<00:00,  3.62it/s]\n"
          ]
        },
        {
          "output_type": "stream",
          "name": "stdout",
          "text": [
            "Epoch 1/30\n",
            "Train Loss: 2.7438 Train Accuracy: 0.3511\n",
            "Val Loss: 1.5870 Val Accuracy: 0.5372\n"
          ]
        },
        {
          "output_type": "stream",
          "name": "stderr",
          "text": [
            "Epoch 2/30: 100%|██████████| 42/42 [00:15<00:00,  2.78it/s]\n",
            "Epoch 2/30: 100%|██████████| 5/5 [00:01<00:00,  3.73it/s]\n"
          ]
        },
        {
          "output_type": "stream",
          "name": "stdout",
          "text": [
            "Epoch 2/30\n",
            "Train Loss: 0.6845 Train Accuracy: 0.8303\n",
            "Val Loss: 0.6612 Val Accuracy: 0.7804\n"
          ]
        },
        {
          "output_type": "stream",
          "name": "stderr",
          "text": [
            "Epoch 3/30: 100%|██████████| 42/42 [00:13<00:00,  3.05it/s]\n",
            "Epoch 3/30: 100%|██████████| 5/5 [00:01<00:00,  3.67it/s]\n"
          ]
        },
        {
          "output_type": "stream",
          "name": "stdout",
          "text": [
            "Epoch 3/30\n",
            "Train Loss: 0.2787 Train Accuracy: 0.9303\n",
            "Val Loss: 0.5551 Val Accuracy: 0.7973\n"
          ]
        },
        {
          "output_type": "stream",
          "name": "stderr",
          "text": [
            "Epoch 4/30: 100%|██████████| 42/42 [00:13<00:00,  3.01it/s]\n",
            "Epoch 4/30: 100%|██████████| 5/5 [00:01<00:00,  3.62it/s]\n"
          ]
        },
        {
          "output_type": "stream",
          "name": "stdout",
          "text": [
            "Epoch 4/30\n",
            "Train Loss: 0.2610 Train Accuracy: 0.9322\n",
            "Val Loss: 0.7562 Val Accuracy: 0.7669\n"
          ]
        },
        {
          "output_type": "stream",
          "name": "stderr",
          "text": [
            "Epoch 5/30: 100%|██████████| 42/42 [00:13<00:00,  3.01it/s]\n",
            "Epoch 5/30: 100%|██████████| 5/5 [00:01<00:00,  3.52it/s]\n"
          ]
        },
        {
          "output_type": "stream",
          "name": "stdout",
          "text": [
            "Epoch 5/30\n",
            "Train Loss: 0.3304 Train Accuracy: 0.9053\n",
            "Val Loss: 2.2247 Val Accuracy: 0.5676\n"
          ]
        },
        {
          "output_type": "stream",
          "name": "stderr",
          "text": [
            "Epoch 6/30: 100%|██████████| 42/42 [00:14<00:00,  2.95it/s]\n",
            "Epoch 6/30: 100%|██████████| 5/5 [00:02<00:00,  2.26it/s]\n"
          ]
        },
        {
          "output_type": "stream",
          "name": "stdout",
          "text": [
            "Epoch 6/30\n",
            "Train Loss: 0.5681 Train Accuracy: 0.8477\n",
            "Val Loss: 2.2067 Val Accuracy: 0.5101\n"
          ]
        },
        {
          "output_type": "stream",
          "name": "stderr",
          "text": [
            "Epoch 7/30: 100%|██████████| 42/42 [00:13<00:00,  3.03it/s]\n",
            "Epoch 7/30: 100%|██████████| 5/5 [00:01<00:00,  3.70it/s]\n"
          ]
        },
        {
          "output_type": "stream",
          "name": "stdout",
          "text": [
            "Epoch 7/30\n",
            "Train Loss: 0.5259 Train Accuracy: 0.8523\n",
            "Val Loss: 2.1624 Val Accuracy: 0.5574\n"
          ]
        },
        {
          "output_type": "stream",
          "name": "stderr",
          "text": [
            "Epoch 8/30: 100%|██████████| 42/42 [00:13<00:00,  3.02it/s]\n",
            "Epoch 8/30: 100%|██████████| 5/5 [00:01<00:00,  3.67it/s]\n"
          ]
        },
        {
          "output_type": "stream",
          "name": "stdout",
          "text": [
            "Epoch 8/30\n",
            "Train Loss: 0.5395 Train Accuracy: 0.8477\n",
            "Val Loss: 1.8269 Val Accuracy: 0.6081\n"
          ]
        },
        {
          "output_type": "stream",
          "name": "stderr",
          "text": [
            "Epoch 9/30: 100%|██████████| 42/42 [00:13<00:00,  3.06it/s]\n",
            "Epoch 9/30: 100%|██████████| 5/5 [00:01<00:00,  3.65it/s]\n"
          ]
        },
        {
          "output_type": "stream",
          "name": "stdout",
          "text": [
            "Epoch 9/30\n",
            "Train Loss: 0.4675 Train Accuracy: 0.8712\n",
            "Val Loss: 1.8816 Val Accuracy: 0.5541\n"
          ]
        },
        {
          "output_type": "stream",
          "name": "stderr",
          "text": [
            "Epoch 10/30: 100%|██████████| 42/42 [00:13<00:00,  3.05it/s]\n",
            "Epoch 10/30: 100%|██████████| 5/5 [00:01<00:00,  3.63it/s]\n"
          ]
        },
        {
          "output_type": "stream",
          "name": "stdout",
          "text": [
            "Epoch 10/30\n",
            "Train Loss: 0.2943 Train Accuracy: 0.9133\n",
            "Val Loss: 1.7668 Val Accuracy: 0.5811\n"
          ]
        },
        {
          "output_type": "stream",
          "name": "stderr",
          "text": [
            "Epoch 11/30: 100%|██████████| 42/42 [00:13<00:00,  3.04it/s]\n",
            "Epoch 11/30: 100%|██████████| 5/5 [00:01<00:00,  3.65it/s]\n"
          ]
        },
        {
          "output_type": "stream",
          "name": "stdout",
          "text": [
            "Epoch 11/30\n",
            "Train Loss: 0.2744 Train Accuracy: 0.9189\n",
            "Val Loss: 1.5370 Val Accuracy: 0.6520\n"
          ]
        },
        {
          "output_type": "stream",
          "name": "stderr",
          "text": [
            "Epoch 12/30: 100%|██████████| 42/42 [00:13<00:00,  3.07it/s]\n",
            "Epoch 12/30: 100%|██████████| 5/5 [00:01<00:00,  3.74it/s]\n"
          ]
        },
        {
          "output_type": "stream",
          "name": "stdout",
          "text": [
            "Epoch 12/30\n",
            "Train Loss: 0.2544 Train Accuracy: 0.9299\n",
            "Val Loss: 1.2349 Val Accuracy: 0.6723\n"
          ]
        },
        {
          "output_type": "stream",
          "name": "stderr",
          "text": [
            "Epoch 13/30: 100%|██████████| 42/42 [00:14<00:00,  2.97it/s]\n",
            "Epoch 13/30: 100%|██████████| 5/5 [00:01<00:00,  3.62it/s]\n"
          ]
        },
        {
          "output_type": "stream",
          "name": "stdout",
          "text": [
            "Epoch 13/30\n",
            "Train Loss: 0.2388 Train Accuracy: 0.9269\n",
            "Val Loss: 0.7750 Val Accuracy: 0.7770\n"
          ]
        },
        {
          "output_type": "stream",
          "name": "stderr",
          "text": [
            "Epoch 14/30: 100%|██████████| 42/42 [00:14<00:00,  2.93it/s]\n",
            "Epoch 14/30: 100%|██████████| 5/5 [00:02<00:00,  2.29it/s]\n"
          ]
        },
        {
          "output_type": "stream",
          "name": "stdout",
          "text": [
            "Epoch 14/30\n",
            "Train Loss: 0.2266 Train Accuracy: 0.9394\n",
            "Val Loss: 1.0552 Val Accuracy: 0.7534\n"
          ]
        },
        {
          "output_type": "stream",
          "name": "stderr",
          "text": [
            "Epoch 15/30: 100%|██████████| 42/42 [00:13<00:00,  3.06it/s]\n",
            "Epoch 15/30: 100%|██████████| 5/5 [00:01<00:00,  3.51it/s]\n"
          ]
        },
        {
          "output_type": "stream",
          "name": "stdout",
          "text": [
            "Epoch 15/30\n",
            "Train Loss: 0.1865 Train Accuracy: 0.9447\n",
            "Val Loss: 0.5957 Val Accuracy: 0.8209\n"
          ]
        },
        {
          "output_type": "stream",
          "name": "stderr",
          "text": [
            "Epoch 16/30: 100%|██████████| 42/42 [00:13<00:00,  3.06it/s]\n",
            "Epoch 16/30: 100%|██████████| 5/5 [00:01<00:00,  3.72it/s]\n"
          ]
        },
        {
          "output_type": "stream",
          "name": "stdout",
          "text": [
            "Epoch 16/30\n",
            "Train Loss: 0.1550 Train Accuracy: 0.9576\n",
            "Val Loss: 0.9486 Val Accuracy: 0.7264\n"
          ]
        },
        {
          "output_type": "stream",
          "name": "stderr",
          "text": [
            "Epoch 17/30: 100%|██████████| 42/42 [00:13<00:00,  3.05it/s]\n",
            "Epoch 17/30: 100%|██████████| 5/5 [00:01<00:00,  3.55it/s]\n"
          ]
        },
        {
          "output_type": "stream",
          "name": "stdout",
          "text": [
            "Epoch 17/30\n",
            "Train Loss: 0.1632 Train Accuracy: 0.9519\n",
            "Val Loss: 0.7350 Val Accuracy: 0.7838\n"
          ]
        },
        {
          "output_type": "stream",
          "name": "stderr",
          "text": [
            "Epoch 18/30: 100%|██████████| 42/42 [00:13<00:00,  3.11it/s]\n",
            "Epoch 18/30: 100%|██████████| 5/5 [00:01<00:00,  3.79it/s]\n"
          ]
        },
        {
          "output_type": "stream",
          "name": "stdout",
          "text": [
            "Epoch 18/30\n",
            "Train Loss: 0.1498 Train Accuracy: 0.9568\n",
            "Val Loss: 0.8956 Val Accuracy: 0.7872\n"
          ]
        },
        {
          "output_type": "stream",
          "name": "stderr",
          "text": [
            "Epoch 19/30: 100%|██████████| 42/42 [00:13<00:00,  3.08it/s]\n",
            "Epoch 19/30: 100%|██████████| 5/5 [00:01<00:00,  3.64it/s]\n"
          ]
        },
        {
          "output_type": "stream",
          "name": "stdout",
          "text": [
            "Epoch 19/30\n",
            "Train Loss: 0.1117 Train Accuracy: 0.9701\n",
            "Val Loss: 0.6553 Val Accuracy: 0.8277\n"
          ]
        },
        {
          "output_type": "stream",
          "name": "stderr",
          "text": [
            "Epoch 20/30: 100%|██████████| 42/42 [00:13<00:00,  3.03it/s]\n",
            "Epoch 20/30: 100%|██████████| 5/5 [00:01<00:00,  3.66it/s]\n"
          ]
        },
        {
          "output_type": "stream",
          "name": "stdout",
          "text": [
            "Epoch 20/30\n",
            "Train Loss: 0.1149 Train Accuracy: 0.9659\n",
            "Val Loss: 0.5791 Val Accuracy: 0.8277\n"
          ]
        },
        {
          "output_type": "stream",
          "name": "stderr",
          "text": [
            "Epoch 21/30: 100%|██████████| 42/42 [00:14<00:00,  3.00it/s]\n",
            "Epoch 21/30: 100%|██████████| 5/5 [00:01<00:00,  3.58it/s]\n"
          ]
        },
        {
          "output_type": "stream",
          "name": "stdout",
          "text": [
            "Epoch 21/30\n",
            "Train Loss: 0.0850 Train Accuracy: 0.9742\n",
            "Val Loss: 0.5355 Val Accuracy: 0.8615\n"
          ]
        },
        {
          "output_type": "stream",
          "name": "stderr",
          "text": [
            "Epoch 22/30: 100%|██████████| 42/42 [00:14<00:00,  2.93it/s]\n",
            "Epoch 22/30: 100%|██████████| 5/5 [00:01<00:00,  2.52it/s]\n"
          ]
        },
        {
          "output_type": "stream",
          "name": "stdout",
          "text": [
            "Epoch 22/30\n",
            "Train Loss: 0.0606 Train Accuracy: 0.9818\n",
            "Val Loss: 0.5265 Val Accuracy: 0.8378\n"
          ]
        },
        {
          "output_type": "stream",
          "name": "stderr",
          "text": [
            "Epoch 23/30: 100%|██████████| 42/42 [00:13<00:00,  3.01it/s]\n",
            "Epoch 23/30: 100%|██████████| 5/5 [00:01<00:00,  3.24it/s]\n"
          ]
        },
        {
          "output_type": "stream",
          "name": "stdout",
          "text": [
            "Epoch 23/30\n",
            "Train Loss: 0.0607 Train Accuracy: 0.9803\n",
            "Val Loss: 0.4885 Val Accuracy: 0.8514\n"
          ]
        },
        {
          "output_type": "stream",
          "name": "stderr",
          "text": [
            "Epoch 24/30: 100%|██████████| 42/42 [00:13<00:00,  3.05it/s]\n",
            "Epoch 24/30: 100%|██████████| 5/5 [00:01<00:00,  3.67it/s]\n"
          ]
        },
        {
          "output_type": "stream",
          "name": "stdout",
          "text": [
            "Epoch 24/30\n",
            "Train Loss: 0.0468 Train Accuracy: 0.9890\n",
            "Val Loss: 0.4725 Val Accuracy: 0.8547\n"
          ]
        },
        {
          "output_type": "stream",
          "name": "stderr",
          "text": [
            "Epoch 25/30: 100%|██████████| 42/42 [00:13<00:00,  3.09it/s]\n",
            "Epoch 25/30: 100%|██████████| 5/5 [00:01<00:00,  3.60it/s]\n"
          ]
        },
        {
          "output_type": "stream",
          "name": "stdout",
          "text": [
            "Epoch 25/30\n",
            "Train Loss: 0.0419 Train Accuracy: 0.9898\n",
            "Val Loss: 0.4503 Val Accuracy: 0.8615\n"
          ]
        },
        {
          "output_type": "stream",
          "name": "stderr",
          "text": [
            "Epoch 26/30: 100%|██████████| 42/42 [00:13<00:00,  3.07it/s]\n",
            "Epoch 26/30: 100%|██████████| 5/5 [00:01<00:00,  3.57it/s]\n"
          ]
        },
        {
          "output_type": "stream",
          "name": "stdout",
          "text": [
            "Epoch 26/30\n",
            "Train Loss: 0.0401 Train Accuracy: 0.9886\n",
            "Val Loss: 0.4627 Val Accuracy: 0.8682\n"
          ]
        },
        {
          "output_type": "stream",
          "name": "stderr",
          "text": [
            "Epoch 27/30: 100%|██████████| 42/42 [00:13<00:00,  3.02it/s]\n",
            "Epoch 27/30: 100%|██████████| 5/5 [00:01<00:00,  3.66it/s]\n"
          ]
        },
        {
          "output_type": "stream",
          "name": "stdout",
          "text": [
            "Epoch 27/30\n",
            "Train Loss: 0.0424 Train Accuracy: 0.9909\n",
            "Val Loss: 0.4512 Val Accuracy: 0.8716\n"
          ]
        },
        {
          "output_type": "stream",
          "name": "stderr",
          "text": [
            "Epoch 28/30: 100%|██████████| 42/42 [00:13<00:00,  3.03it/s]\n",
            "Epoch 28/30: 100%|██████████| 5/5 [00:01<00:00,  3.60it/s]\n"
          ]
        },
        {
          "output_type": "stream",
          "name": "stdout",
          "text": [
            "Epoch 28/30\n",
            "Train Loss: 0.0442 Train Accuracy: 0.9898\n",
            "Val Loss: 0.4725 Val Accuracy: 0.8581\n"
          ]
        },
        {
          "output_type": "stream",
          "name": "stderr",
          "text": [
            "Epoch 29/30: 100%|██████████| 42/42 [00:14<00:00,  2.98it/s]\n",
            "Epoch 29/30: 100%|██████████| 5/5 [00:01<00:00,  3.44it/s]\n"
          ]
        },
        {
          "output_type": "stream",
          "name": "stdout",
          "text": [
            "Epoch 29/30\n",
            "Train Loss: 0.0535 Train Accuracy: 0.9886\n",
            "Val Loss: 0.4575 Val Accuracy: 0.8682\n"
          ]
        },
        {
          "output_type": "stream",
          "name": "stderr",
          "text": [
            "Epoch 30/30: 100%|██████████| 42/42 [00:14<00:00,  2.94it/s]\n",
            "Epoch 30/30: 100%|██████████| 5/5 [00:02<00:00,  2.39it/s]\n"
          ]
        },
        {
          "output_type": "stream",
          "name": "stdout",
          "text": [
            "Epoch 30/30\n",
            "Train Loss: 0.0438 Train Accuracy: 0.9879\n",
            "Val Loss: 0.4491 Val Accuracy: 0.8750\n",
            "Training and evaluating linear_finetune_resnet model\n",
            "\n",
            "------------------------------------- Calculate Flops Results -------------------------------------\n",
            "Notations:\n",
            "number of parameters (Params), number of multiply-accumulate operations(MACs),\n",
            "number of floating-point operations (FLOPs), floating-point operations per second (FLOPS),\n",
            "fwd FLOPs (model forward propagation FLOPs), bwd FLOPs (model backward propagation FLOPs),\n",
            "default model backpropagation takes 2.00 times as much computation as forward propagation.\n",
            "\n",
            "Total Training Params:                                                  22.06 K \n",
            "fwd MACs:                                                               151.6 GMACs\n",
            "fwd FLOPs:                                                              303.878 GFLOPS\n",
            "fwd+bwd MACs:                                                           454.801 GMACs\n",
            "fwd+bwd FLOPs:                                                          911.634 GFLOPS\n",
            "\n",
            "-------------------------------- Detailed Calculated FLOPs Results --------------------------------\n",
            "Each module caculated is listed after its name in the following order: \n",
            "params, percentage of total params, MACs, percentage of total MACs, FLOPS, percentage of total FLOPs\n",
            "\n",
            "Note: 1. A module can have torch.nn.module or torch.nn.functional to compute logits (e.g. CrossEntropyLoss). \n",
            " They are not counted as submodules in calflops and not to be printed out. However they make up the difference between a parent's MACs and the sum of its submodules'.\n",
            "2. Number of floating-point operations is a theoretical estimation, thus FLOPS computed using that could be larger than the maximum system throughput.\n",
            "\n",
            "ResNet(\n",
            "  22.06 K = 100% Params, 151.6 GMACs = 100% MACs, 303.88 GFLOPS = 100% FLOPs\n",
            "  (conv1): Conv2d(0 = 0% Params, 9.87 GMACs = 6.5072% MACs, 19.73 GFLOPS = 6.4927% FLOPs, 3, 64, kernel_size=(7, 7), stride=(2, 2), padding=(3, 3), bias=False)\n",
            "  (bn1): BatchNorm2d(0 = 0% Params, 0 MACs = 0% MACs, 134.22 MFLOPS = 0.0442% FLOPs, 64, eps=1e-05, momentum=0.1, affine=True, track_running_stats=True)\n",
            "  (relu): ReLU(0 = 0% Params, 0 MACs = 0% MACs, 67.11 MFLOPS = 0.0221% FLOPs, inplace=True)\n",
            "  (maxpool): MaxPool2d(0 = 0% Params, 0 MACs = 0% MACs, 67.11 MFLOPS = 0.0221% FLOPs, kernel_size=3, stride=2, padding=1, dilation=1, ceil_mode=False)\n",
            "  (layer1): Sequential(\n",
            "    0 = 0% Params, 38.65 GMACs = 25.4978% MACs, 77.51 GFLOPS = 25.5072% FLOPs\n",
            "    (0): BasicBlock(\n",
            "      0 = 0% Params, 19.33 GMACs = 12.7489% MACs, 38.76 GFLOPS = 12.7536% FLOPs\n",
            "      (conv1): Conv2d(0 = 0% Params, 9.66 GMACs = 6.3744% MACs, 19.33 GFLOPS = 6.3602% FLOPs, 64, 64, kernel_size=(3, 3), stride=(1, 1), padding=(1, 1), bias=False)\n",
            "      (bn1): BatchNorm2d(0 = 0% Params, 0 MACs = 0% MACs, 33.55 MFLOPS = 0.011% FLOPs, 64, eps=1e-05, momentum=0.1, affine=True, track_running_stats=True)\n",
            "      (relu): ReLU(0 = 0% Params, 0 MACs = 0% MACs, 33.55 MFLOPS = 0.011% FLOPs, inplace=True)\n",
            "      (conv2): Conv2d(0 = 0% Params, 9.66 GMACs = 6.3744% MACs, 19.33 GFLOPS = 6.3602% FLOPs, 64, 64, kernel_size=(3, 3), stride=(1, 1), padding=(1, 1), bias=False)\n",
            "      (bn2): BatchNorm2d(0 = 0% Params, 0 MACs = 0% MACs, 33.55 MFLOPS = 0.011% FLOPs, 64, eps=1e-05, momentum=0.1, affine=True, track_running_stats=True)\n",
            "    )\n",
            "    (1): BasicBlock(\n",
            "      0 = 0% Params, 19.33 GMACs = 12.7489% MACs, 38.76 GFLOPS = 12.7536% FLOPs\n",
            "      (conv1): Conv2d(0 = 0% Params, 9.66 GMACs = 6.3744% MACs, 19.33 GFLOPS = 6.3602% FLOPs, 64, 64, kernel_size=(3, 3), stride=(1, 1), padding=(1, 1), bias=False)\n",
            "      (bn1): BatchNorm2d(0 = 0% Params, 0 MACs = 0% MACs, 33.55 MFLOPS = 0.011% FLOPs, 64, eps=1e-05, momentum=0.1, affine=True, track_running_stats=True)\n",
            "      (relu): ReLU(0 = 0% Params, 0 MACs = 0% MACs, 33.55 MFLOPS = 0.011% FLOPs, inplace=True)\n",
            "      (conv2): Conv2d(0 = 0% Params, 9.66 GMACs = 6.3744% MACs, 19.33 GFLOPS = 6.3602% FLOPs, 64, 64, kernel_size=(3, 3), stride=(1, 1), padding=(1, 1), bias=False)\n",
            "      (bn2): BatchNorm2d(0 = 0% Params, 0 MACs = 0% MACs, 33.55 MFLOPS = 0.011% FLOPs, 64, eps=1e-05, momentum=0.1, affine=True, track_running_stats=True)\n",
            "    )\n",
            "  )\n",
            "  (layer2): Sequential(\n",
            "    0 = 0% Params, 34.36 GMACs = 22.6647% MACs, 68.84 GFLOPS = 22.6528% FLOPs\n",
            "    (0): BasicBlock(\n",
            "      0 = 0% Params, 15.03 GMACs = 9.9158% MACs, 30.13 GFLOPS = 9.9158% FLOPs\n",
            "      (conv1): Conv2d(0 = 0% Params, 4.83 GMACs = 3.1872% MACs, 9.66 GFLOPS = 3.1801% FLOPs, 64, 128, kernel_size=(3, 3), stride=(2, 2), padding=(1, 1), bias=False)\n",
            "      (bn1): BatchNorm2d(0 = 0% Params, 0 MACs = 0% MACs, 16.78 MFLOPS = 0.0055% FLOPs, 128, eps=1e-05, momentum=0.1, affine=True, track_running_stats=True)\n",
            "      (relu): ReLU(0 = 0% Params, 0 MACs = 0% MACs, 16.78 MFLOPS = 0.0055% FLOPs, inplace=True)\n",
            "      (conv2): Conv2d(0 = 0% Params, 9.66 GMACs = 6.3744% MACs, 19.33 GFLOPS = 6.3602% FLOPs, 128, 128, kernel_size=(3, 3), stride=(1, 1), padding=(1, 1), bias=False)\n",
            "      (bn2): BatchNorm2d(0 = 0% Params, 0 MACs = 0% MACs, 16.78 MFLOPS = 0.0055% FLOPs, 128, eps=1e-05, momentum=0.1, affine=True, track_running_stats=True)\n",
            "      (downsample): Sequential(\n",
            "        0 = 0% Params, 536.87 MMACs = 0.3541% MACs, 1.09 GFLOPS = 0.3589% FLOPs\n",
            "        (0): Conv2d(0 = 0% Params, 536.87 MMACs = 0.3541% MACs, 1.07 GFLOPS = 0.3533% FLOPs, 64, 128, kernel_size=(1, 1), stride=(2, 2), bias=False)\n",
            "        (1): BatchNorm2d(0 = 0% Params, 0 MACs = 0% MACs, 16.78 MFLOPS = 0.0055% FLOPs, 128, eps=1e-05, momentum=0.1, affine=True, track_running_stats=True)\n",
            "      )\n",
            "    )\n",
            "    (1): BasicBlock(\n",
            "      0 = 0% Params, 19.33 GMACs = 12.7489% MACs, 38.71 GFLOPS = 12.737% FLOPs\n",
            "      (conv1): Conv2d(0 = 0% Params, 9.66 GMACs = 6.3744% MACs, 19.33 GFLOPS = 6.3602% FLOPs, 128, 128, kernel_size=(3, 3), stride=(1, 1), padding=(1, 1), bias=False)\n",
            "      (bn1): BatchNorm2d(0 = 0% Params, 0 MACs = 0% MACs, 16.78 MFLOPS = 0.0055% FLOPs, 128, eps=1e-05, momentum=0.1, affine=True, track_running_stats=True)\n",
            "      (relu): ReLU(0 = 0% Params, 0 MACs = 0% MACs, 16.78 MFLOPS = 0.0055% FLOPs, inplace=True)\n",
            "      (conv2): Conv2d(0 = 0% Params, 9.66 GMACs = 6.3744% MACs, 19.33 GFLOPS = 6.3602% FLOPs, 128, 128, kernel_size=(3, 3), stride=(1, 1), padding=(1, 1), bias=False)\n",
            "      (bn2): BatchNorm2d(0 = 0% Params, 0 MACs = 0% MACs, 16.78 MFLOPS = 0.0055% FLOPs, 128, eps=1e-05, momentum=0.1, affine=True, track_running_stats=True)\n",
            "    )\n",
            "  )\n",
            "  (layer3): Sequential(\n",
            "    0 = 0% Params, 34.36 GMACs = 22.6647% MACs, 68.78 GFLOPS = 22.6335% FLOPs\n",
            "    (0): BasicBlock(\n",
            "      0 = 0% Params, 15.03 GMACs = 9.9158% MACs, 30.1 GFLOPS = 9.9047% FLOPs\n",
            "      (conv1): Conv2d(0 = 0% Params, 4.83 GMACs = 3.1872% MACs, 9.66 GFLOPS = 3.1801% FLOPs, 128, 256, kernel_size=(3, 3), stride=(2, 2), padding=(1, 1), bias=False)\n",
            "      (bn1): BatchNorm2d(0 = 0% Params, 0 MACs = 0% MACs, 8.39 MFLOPS = 0.0028% FLOPs, 256, eps=1e-05, momentum=0.1, affine=True, track_running_stats=True)\n",
            "      (relu): ReLU(0 = 0% Params, 0 MACs = 0% MACs, 8.39 MFLOPS = 0.0028% FLOPs, inplace=True)\n",
            "      (conv2): Conv2d(0 = 0% Params, 9.66 GMACs = 6.3744% MACs, 19.33 GFLOPS = 6.3602% FLOPs, 256, 256, kernel_size=(3, 3), stride=(1, 1), padding=(1, 1), bias=False)\n",
            "      (bn2): BatchNorm2d(0 = 0% Params, 0 MACs = 0% MACs, 8.39 MFLOPS = 0.0028% FLOPs, 256, eps=1e-05, momentum=0.1, affine=True, track_running_stats=True)\n",
            "      (downsample): Sequential(\n",
            "        0 = 0% Params, 536.87 MMACs = 0.3541% MACs, 1.08 GFLOPS = 0.3561% FLOPs\n",
            "        (0): Conv2d(0 = 0% Params, 536.87 MMACs = 0.3541% MACs, 1.07 GFLOPS = 0.3533% FLOPs, 128, 256, kernel_size=(1, 1), stride=(2, 2), bias=False)\n",
            "        (1): BatchNorm2d(0 = 0% Params, 0 MACs = 0% MACs, 8.39 MFLOPS = 0.0028% FLOPs, 256, eps=1e-05, momentum=0.1, affine=True, track_running_stats=True)\n",
            "      )\n",
            "    )\n",
            "    (1): BasicBlock(\n",
            "      0 = 0% Params, 19.33 GMACs = 12.7489% MACs, 38.68 GFLOPS = 12.7287% FLOPs\n",
            "      (conv1): Conv2d(0 = 0% Params, 9.66 GMACs = 6.3744% MACs, 19.33 GFLOPS = 6.3602% FLOPs, 256, 256, kernel_size=(3, 3), stride=(1, 1), padding=(1, 1), bias=False)\n",
            "      (bn1): BatchNorm2d(0 = 0% Params, 0 MACs = 0% MACs, 8.39 MFLOPS = 0.0028% FLOPs, 256, eps=1e-05, momentum=0.1, affine=True, track_running_stats=True)\n",
            "      (relu): ReLU(0 = 0% Params, 0 MACs = 0% MACs, 8.39 MFLOPS = 0.0028% FLOPs, inplace=True)\n",
            "      (conv2): Conv2d(0 = 0% Params, 9.66 GMACs = 6.3744% MACs, 19.33 GFLOPS = 6.3602% FLOPs, 256, 256, kernel_size=(3, 3), stride=(1, 1), padding=(1, 1), bias=False)\n",
            "      (bn2): BatchNorm2d(0 = 0% Params, 0 MACs = 0% MACs, 8.39 MFLOPS = 0.0028% FLOPs, 256, eps=1e-05, momentum=0.1, affine=True, track_running_stats=True)\n",
            "    )\n",
            "  )\n",
            "  (layer4): Sequential(\n",
            "    0 = 0% Params, 34.36 GMACs = 22.6647% MACs, 68.75 GFLOPS = 22.6238% FLOPs\n",
            "    (0): BasicBlock(\n",
            "      0 = 0% Params, 15.03 GMACs = 9.9158% MACs, 30.08 GFLOPS = 9.8992% FLOPs\n",
            "      (conv1): Conv2d(0 = 0% Params, 4.83 GMACs = 3.1872% MACs, 9.66 GFLOPS = 3.1801% FLOPs, 256, 512, kernel_size=(3, 3), stride=(2, 2), padding=(1, 1), bias=False)\n",
            "      (bn1): BatchNorm2d(0 = 0% Params, 0 MACs = 0% MACs, 4.19 MFLOPS = 0.0014% FLOPs, 512, eps=1e-05, momentum=0.1, affine=True, track_running_stats=True)\n",
            "      (relu): ReLU(0 = 0% Params, 0 MACs = 0% MACs, 4.19 MFLOPS = 0.0014% FLOPs, inplace=True)\n",
            "      (conv2): Conv2d(0 = 0% Params, 9.66 GMACs = 6.3744% MACs, 19.33 GFLOPS = 6.3602% FLOPs, 512, 512, kernel_size=(3, 3), stride=(1, 1), padding=(1, 1), bias=False)\n",
            "      (bn2): BatchNorm2d(0 = 0% Params, 0 MACs = 0% MACs, 4.19 MFLOPS = 0.0014% FLOPs, 512, eps=1e-05, momentum=0.1, affine=True, track_running_stats=True)\n",
            "      (downsample): Sequential(\n",
            "        0 = 0% Params, 536.87 MMACs = 0.3541% MACs, 1.08 GFLOPS = 0.3547% FLOPs\n",
            "        (0): Conv2d(0 = 0% Params, 536.87 MMACs = 0.3541% MACs, 1.07 GFLOPS = 0.3533% FLOPs, 256, 512, kernel_size=(1, 1), stride=(2, 2), bias=False)\n",
            "        (1): BatchNorm2d(0 = 0% Params, 0 MACs = 0% MACs, 4.19 MFLOPS = 0.0014% FLOPs, 512, eps=1e-05, momentum=0.1, affine=True, track_running_stats=True)\n",
            "      )\n",
            "    )\n",
            "    (1): BasicBlock(\n",
            "      0 = 0% Params, 19.33 GMACs = 12.7489% MACs, 38.67 GFLOPS = 12.7246% FLOPs\n",
            "      (conv1): Conv2d(0 = 0% Params, 9.66 GMACs = 6.3744% MACs, 19.33 GFLOPS = 6.3602% FLOPs, 512, 512, kernel_size=(3, 3), stride=(1, 1), padding=(1, 1), bias=False)\n",
            "      (bn1): BatchNorm2d(0 = 0% Params, 0 MACs = 0% MACs, 4.19 MFLOPS = 0.0014% FLOPs, 512, eps=1e-05, momentum=0.1, affine=True, track_running_stats=True)\n",
            "      (relu): ReLU(0 = 0% Params, 0 MACs = 0% MACs, 4.19 MFLOPS = 0.0014% FLOPs, inplace=True)\n",
            "      (conv2): Conv2d(0 = 0% Params, 9.66 GMACs = 6.3744% MACs, 19.33 GFLOPS = 6.3602% FLOPs, 512, 512, kernel_size=(3, 3), stride=(1, 1), padding=(1, 1), bias=False)\n",
            "      (bn2): BatchNorm2d(0 = 0% Params, 0 MACs = 0% MACs, 4.19 MFLOPS = 0.0014% FLOPs, 512, eps=1e-05, momentum=0.1, affine=True, track_running_stats=True)\n",
            "    )\n",
            "  )\n",
            "  (avgpool): AdaptiveAvgPool2d(0 = 0% Params, 0 MACs = 0% MACs, 2.1 MFLOPS = 0.0007% FLOPs, output_size=(1, 1))\n",
            "  (fc): Linear(22.06 K = 100% Params, 1.41 MMACs = 0.0009% MACs, 2.82 MFLOPS = 0.0009% FLOPs, in_features=512, out_features=43, bias=True)\n",
            ")\n",
            "---------------------------------------------------------------------------------------------------\n"
          ]
        },
        {
          "output_type": "stream",
          "name": "stderr",
          "text": [
            "Epoch 1/6: 100%|██████████| 42/42 [00:09<00:00,  4.28it/s]\n",
            "Epoch 1/6: 100%|██████████| 5/5 [00:02<00:00,  2.30it/s]\n"
          ]
        },
        {
          "output_type": "stream",
          "name": "stdout",
          "text": [
            "Epoch 1/6\n",
            "Train Loss: 4.5557 Train Accuracy: 0.0534\n",
            "Val Loss: 4.6042 Val Accuracy: 0.0473\n"
          ]
        },
        {
          "output_type": "stream",
          "name": "stderr",
          "text": [
            "Epoch 2/6: 100%|██████████| 42/42 [00:09<00:00,  4.32it/s]\n",
            "Epoch 2/6: 100%|██████████| 5/5 [00:01<00:00,  3.11it/s]\n"
          ]
        },
        {
          "output_type": "stream",
          "name": "stdout",
          "text": [
            "Epoch 2/6\n",
            "Train Loss: 4.1452 Train Accuracy: 0.0852\n",
            "Val Loss: 3.9871 Val Accuracy: 0.0574\n"
          ]
        },
        {
          "output_type": "stream",
          "name": "stderr",
          "text": [
            "Epoch 3/6: 100%|██████████| 42/42 [00:10<00:00,  3.84it/s]\n",
            "Epoch 3/6: 100%|██████████| 5/5 [00:01<00:00,  3.69it/s]\n"
          ]
        },
        {
          "output_type": "stream",
          "name": "stdout",
          "text": [
            "Epoch 3/6\n",
            "Train Loss: 3.6802 Train Accuracy: 0.1129\n",
            "Val Loss: 3.6780 Val Accuracy: 0.0676\n"
          ]
        },
        {
          "output_type": "stream",
          "name": "stderr",
          "text": [
            "Epoch 4/6: 100%|██████████| 42/42 [00:10<00:00,  3.82it/s]\n",
            "Epoch 4/6: 100%|██████████| 5/5 [00:01<00:00,  3.56it/s]\n"
          ]
        },
        {
          "output_type": "stream",
          "name": "stdout",
          "text": [
            "Epoch 4/6\n",
            "Train Loss: 3.4656 Train Accuracy: 0.1333\n",
            "Val Loss: 3.5587 Val Accuracy: 0.0777\n"
          ]
        },
        {
          "output_type": "stream",
          "name": "stderr",
          "text": [
            "Epoch 5/6: 100%|██████████| 42/42 [00:11<00:00,  3.80it/s]\n",
            "Epoch 5/6: 100%|██████████| 5/5 [00:01<00:00,  3.60it/s]\n"
          ]
        },
        {
          "output_type": "stream",
          "name": "stdout",
          "text": [
            "Epoch 5/6\n",
            "Train Loss: 3.3510 Train Accuracy: 0.1466\n",
            "Val Loss: 3.4947 Val Accuracy: 0.0878\n"
          ]
        },
        {
          "output_type": "stream",
          "name": "stderr",
          "text": [
            "Epoch 6/6: 100%|██████████| 42/42 [00:11<00:00,  3.67it/s]\n",
            "Epoch 6/6: 100%|██████████| 5/5 [00:01<00:00,  3.58it/s]\n"
          ]
        },
        {
          "output_type": "stream",
          "name": "stdout",
          "text": [
            "Epoch 6/6\n",
            "Train Loss: 3.3081 Train Accuracy: 0.1466\n",
            "Val Loss: 3.5091 Val Accuracy: 0.0845\n",
            "\n",
            "------------------------------------- Calculate Flops Results -------------------------------------\n",
            "Notations:\n",
            "number of parameters (Params), number of multiply-accumulate operations(MACs),\n",
            "number of floating-point operations (FLOPs), floating-point operations per second (FLOPS),\n",
            "fwd FLOPs (model forward propagation FLOPs), bwd FLOPs (model backward propagation FLOPs),\n",
            "default model backpropagation takes 2.00 times as much computation as forward propagation.\n",
            "\n",
            "Total Training Params:                                                  11.2 M  \n",
            "fwd MACs:                                                               151.6 GMACs\n",
            "fwd FLOPs:                                                              303.878 GFLOPS\n",
            "fwd+bwd MACs:                                                           454.801 GMACs\n",
            "fwd+bwd FLOPs:                                                          911.634 GFLOPS\n",
            "\n",
            "-------------------------------- Detailed Calculated FLOPs Results --------------------------------\n",
            "Each module caculated is listed after its name in the following order: \n",
            "params, percentage of total params, MACs, percentage of total MACs, FLOPS, percentage of total FLOPs\n",
            "\n",
            "Note: 1. A module can have torch.nn.module or torch.nn.functional to compute logits (e.g. CrossEntropyLoss). \n",
            " They are not counted as submodules in calflops and not to be printed out. However they make up the difference between a parent's MACs and the sum of its submodules'.\n",
            "2. Number of floating-point operations is a theoretical estimation, thus FLOPS computed using that could be larger than the maximum system throughput.\n",
            "\n",
            "ResNet(\n",
            "  11.2 M = 100% Params, 151.6 GMACs = 100% MACs, 303.88 GFLOPS = 100% FLOPs\n",
            "  (conv1): Conv2d(9.41 K = 0.084% Params, 9.87 GMACs = 6.5072% MACs, 19.73 GFLOPS = 6.4927% FLOPs, 3, 64, kernel_size=(7, 7), stride=(2, 2), padding=(3, 3), bias=False)\n",
            "  (bn1): BatchNorm2d(128 = 0.0011% Params, 0 MACs = 0% MACs, 134.22 MFLOPS = 0.0442% FLOPs, 64, eps=1e-05, momentum=0.1, affine=True, track_running_stats=True)\n",
            "  (relu): ReLU(0 = 0% Params, 0 MACs = 0% MACs, 67.11 MFLOPS = 0.0221% FLOPs, inplace=True)\n",
            "  (maxpool): MaxPool2d(0 = 0% Params, 0 MACs = 0% MACs, 67.11 MFLOPS = 0.0221% FLOPs, kernel_size=3, stride=2, padding=1, dilation=1, ceil_mode=False)\n",
            "  (layer1): Sequential(\n",
            "    147.97 K = 1.3213% Params, 38.65 GMACs = 25.4978% MACs, 77.51 GFLOPS = 25.5072% FLOPs\n",
            "    (0): BasicBlock(\n",
            "      73.98 K = 0.6607% Params, 19.33 GMACs = 12.7489% MACs, 38.76 GFLOPS = 12.7536% FLOPs\n",
            "      (conv1): Conv2d(36.86 K = 0.3292% Params, 9.66 GMACs = 6.3744% MACs, 19.33 GFLOPS = 6.3602% FLOPs, 64, 64, kernel_size=(3, 3), stride=(1, 1), padding=(1, 1), bias=False)\n",
            "      (bn1): BatchNorm2d(128 = 0.0011% Params, 0 MACs = 0% MACs, 33.55 MFLOPS = 0.011% FLOPs, 64, eps=1e-05, momentum=0.1, affine=True, track_running_stats=True)\n",
            "      (relu): ReLU(0 = 0% Params, 0 MACs = 0% MACs, 33.55 MFLOPS = 0.011% FLOPs, inplace=True)\n",
            "      (conv2): Conv2d(36.86 K = 0.3292% Params, 9.66 GMACs = 6.3744% MACs, 19.33 GFLOPS = 6.3602% FLOPs, 64, 64, kernel_size=(3, 3), stride=(1, 1), padding=(1, 1), bias=False)\n",
            "      (bn2): BatchNorm2d(128 = 0.0011% Params, 0 MACs = 0% MACs, 33.55 MFLOPS = 0.011% FLOPs, 64, eps=1e-05, momentum=0.1, affine=True, track_running_stats=True)\n",
            "    )\n",
            "    (1): BasicBlock(\n",
            "      73.98 K = 0.6607% Params, 19.33 GMACs = 12.7489% MACs, 38.76 GFLOPS = 12.7536% FLOPs\n",
            "      (conv1): Conv2d(36.86 K = 0.3292% Params, 9.66 GMACs = 6.3744% MACs, 19.33 GFLOPS = 6.3602% FLOPs, 64, 64, kernel_size=(3, 3), stride=(1, 1), padding=(1, 1), bias=False)\n",
            "      (bn1): BatchNorm2d(128 = 0.0011% Params, 0 MACs = 0% MACs, 33.55 MFLOPS = 0.011% FLOPs, 64, eps=1e-05, momentum=0.1, affine=True, track_running_stats=True)\n",
            "      (relu): ReLU(0 = 0% Params, 0 MACs = 0% MACs, 33.55 MFLOPS = 0.011% FLOPs, inplace=True)\n",
            "      (conv2): Conv2d(36.86 K = 0.3292% Params, 9.66 GMACs = 6.3744% MACs, 19.33 GFLOPS = 6.3602% FLOPs, 64, 64, kernel_size=(3, 3), stride=(1, 1), padding=(1, 1), bias=False)\n",
            "      (bn2): BatchNorm2d(128 = 0.0011% Params, 0 MACs = 0% MACs, 33.55 MFLOPS = 0.011% FLOPs, 64, eps=1e-05, momentum=0.1, affine=True, track_running_stats=True)\n",
            "    )\n",
            "  )\n",
            "  (layer2): Sequential(\n",
            "    525.57 K = 4.6932% Params, 34.36 GMACs = 22.6647% MACs, 68.84 GFLOPS = 22.6528% FLOPs\n",
            "    (0): BasicBlock(\n",
            "      230.14 K = 2.0551% Params, 15.03 GMACs = 9.9158% MACs, 30.13 GFLOPS = 9.9158% FLOPs\n",
            "      (conv1): Conv2d(73.73 K = 0.6584% Params, 4.83 GMACs = 3.1872% MACs, 9.66 GFLOPS = 3.1801% FLOPs, 64, 128, kernel_size=(3, 3), stride=(2, 2), padding=(1, 1), bias=False)\n",
            "      (bn1): BatchNorm2d(256 = 0.0023% Params, 0 MACs = 0% MACs, 16.78 MFLOPS = 0.0055% FLOPs, 128, eps=1e-05, momentum=0.1, affine=True, track_running_stats=True)\n",
            "      (relu): ReLU(0 = 0% Params, 0 MACs = 0% MACs, 16.78 MFLOPS = 0.0055% FLOPs, inplace=True)\n",
            "      (conv2): Conv2d(147.46 K = 1.3167% Params, 9.66 GMACs = 6.3744% MACs, 19.33 GFLOPS = 6.3602% FLOPs, 128, 128, kernel_size=(3, 3), stride=(1, 1), padding=(1, 1), bias=False)\n",
            "      (bn2): BatchNorm2d(256 = 0.0023% Params, 0 MACs = 0% MACs, 16.78 MFLOPS = 0.0055% FLOPs, 128, eps=1e-05, momentum=0.1, affine=True, track_running_stats=True)\n",
            "      (downsample): Sequential(\n",
            "        8.45 K = 0.0754% Params, 536.87 MMACs = 0.3541% MACs, 1.09 GFLOPS = 0.3589% FLOPs\n",
            "        (0): Conv2d(8.19 K = 0.0732% Params, 536.87 MMACs = 0.3541% MACs, 1.07 GFLOPS = 0.3533% FLOPs, 64, 128, kernel_size=(1, 1), stride=(2, 2), bias=False)\n",
            "        (1): BatchNorm2d(256 = 0.0023% Params, 0 MACs = 0% MACs, 16.78 MFLOPS = 0.0055% FLOPs, 128, eps=1e-05, momentum=0.1, affine=True, track_running_stats=True)\n",
            "      )\n",
            "    )\n",
            "    (1): BasicBlock(\n",
            "      295.42 K = 2.6381% Params, 19.33 GMACs = 12.7489% MACs, 38.71 GFLOPS = 12.737% FLOPs\n",
            "      (conv1): Conv2d(147.46 K = 1.3167% Params, 9.66 GMACs = 6.3744% MACs, 19.33 GFLOPS = 6.3602% FLOPs, 128, 128, kernel_size=(3, 3), stride=(1, 1), padding=(1, 1), bias=False)\n",
            "      (bn1): BatchNorm2d(256 = 0.0023% Params, 0 MACs = 0% MACs, 16.78 MFLOPS = 0.0055% FLOPs, 128, eps=1e-05, momentum=0.1, affine=True, track_running_stats=True)\n",
            "      (relu): ReLU(0 = 0% Params, 0 MACs = 0% MACs, 16.78 MFLOPS = 0.0055% FLOPs, inplace=True)\n",
            "      (conv2): Conv2d(147.46 K = 1.3167% Params, 9.66 GMACs = 6.3744% MACs, 19.33 GFLOPS = 6.3602% FLOPs, 128, 128, kernel_size=(3, 3), stride=(1, 1), padding=(1, 1), bias=False)\n",
            "      (bn2): BatchNorm2d(256 = 0.0023% Params, 0 MACs = 0% MACs, 16.78 MFLOPS = 0.0055% FLOPs, 128, eps=1e-05, momentum=0.1, affine=True, track_running_stats=True)\n",
            "    )\n",
            "  )\n",
            "  (layer3): Sequential(\n",
            "    2.1 M = 18.7498% Params, 34.36 GMACs = 22.6647% MACs, 68.78 GFLOPS = 22.6335% FLOPs\n",
            "    (0): BasicBlock(\n",
            "      919.04 K = 8.2068% Params, 15.03 GMACs = 9.9158% MACs, 30.1 GFLOPS = 9.9047% FLOPs\n",
            "      (conv1): Conv2d(294.91 K = 2.6335% Params, 4.83 GMACs = 3.1872% MACs, 9.66 GFLOPS = 3.1801% FLOPs, 128, 256, kernel_size=(3, 3), stride=(2, 2), padding=(1, 1), bias=False)\n",
            "      (bn1): BatchNorm2d(512 = 0.0046% Params, 0 MACs = 0% MACs, 8.39 MFLOPS = 0.0028% FLOPs, 256, eps=1e-05, momentum=0.1, affine=True, track_running_stats=True)\n",
            "      (relu): ReLU(0 = 0% Params, 0 MACs = 0% MACs, 8.39 MFLOPS = 0.0028% FLOPs, inplace=True)\n",
            "      (conv2): Conv2d(589.82 K = 5.267% Params, 9.66 GMACs = 6.3744% MACs, 19.33 GFLOPS = 6.3602% FLOPs, 256, 256, kernel_size=(3, 3), stride=(1, 1), padding=(1, 1), bias=False)\n",
            "      (bn2): BatchNorm2d(512 = 0.0046% Params, 0 MACs = 0% MACs, 8.39 MFLOPS = 0.0028% FLOPs, 256, eps=1e-05, momentum=0.1, affine=True, track_running_stats=True)\n",
            "      (downsample): Sequential(\n",
            "        33.28 K = 0.2972% Params, 536.87 MMACs = 0.3541% MACs, 1.08 GFLOPS = 0.3561% FLOPs\n",
            "        (0): Conv2d(32.77 K = 0.2926% Params, 536.87 MMACs = 0.3541% MACs, 1.07 GFLOPS = 0.3533% FLOPs, 128, 256, kernel_size=(1, 1), stride=(2, 2), bias=False)\n",
            "        (1): BatchNorm2d(512 = 0.0046% Params, 0 MACs = 0% MACs, 8.39 MFLOPS = 0.0028% FLOPs, 256, eps=1e-05, momentum=0.1, affine=True, track_running_stats=True)\n",
            "      )\n",
            "    )\n",
            "    (1): BasicBlock(\n",
            "      1.18 M = 10.5431% Params, 19.33 GMACs = 12.7489% MACs, 38.68 GFLOPS = 12.7287% FLOPs\n",
            "      (conv1): Conv2d(589.82 K = 5.267% Params, 9.66 GMACs = 6.3744% MACs, 19.33 GFLOPS = 6.3602% FLOPs, 256, 256, kernel_size=(3, 3), stride=(1, 1), padding=(1, 1), bias=False)\n",
            "      (bn1): BatchNorm2d(512 = 0.0046% Params, 0 MACs = 0% MACs, 8.39 MFLOPS = 0.0028% FLOPs, 256, eps=1e-05, momentum=0.1, affine=True, track_running_stats=True)\n",
            "      (relu): ReLU(0 = 0% Params, 0 MACs = 0% MACs, 8.39 MFLOPS = 0.0028% FLOPs, inplace=True)\n",
            "      (conv2): Conv2d(589.82 K = 5.267% Params, 9.66 GMACs = 6.3744% MACs, 19.33 GFLOPS = 6.3602% FLOPs, 256, 256, kernel_size=(3, 3), stride=(1, 1), padding=(1, 1), bias=False)\n",
            "      (bn2): BatchNorm2d(512 = 0.0046% Params, 0 MACs = 0% MACs, 8.39 MFLOPS = 0.0028% FLOPs, 256, eps=1e-05, momentum=0.1, affine=True, track_running_stats=True)\n",
            "    )\n",
            "  )\n",
            "  (layer4): Sequential(\n",
            "    8.39 M = 74.9536% Params, 34.36 GMACs = 22.6647% MACs, 68.75 GFLOPS = 22.6238% FLOPs\n",
            "    (0): BasicBlock(\n",
            "      3.67 M = 32.7996% Params, 15.03 GMACs = 9.9158% MACs, 30.08 GFLOPS = 9.8992% FLOPs\n",
            "      (conv1): Conv2d(1.18 M = 10.5339% Params, 4.83 GMACs = 3.1872% MACs, 9.66 GFLOPS = 3.1801% FLOPs, 256, 512, kernel_size=(3, 3), stride=(2, 2), padding=(1, 1), bias=False)\n",
            "      (bn1): BatchNorm2d(1.02 K = 0.0091% Params, 0 MACs = 0% MACs, 4.19 MFLOPS = 0.0014% FLOPs, 512, eps=1e-05, momentum=0.1, affine=True, track_running_stats=True)\n",
            "      (relu): ReLU(0 = 0% Params, 0 MACs = 0% MACs, 4.19 MFLOPS = 0.0014% FLOPs, inplace=True)\n",
            "      (conv2): Conv2d(2.36 M = 21.0678% Params, 9.66 GMACs = 6.3744% MACs, 19.33 GFLOPS = 6.3602% FLOPs, 512, 512, kernel_size=(3, 3), stride=(1, 1), padding=(1, 1), bias=False)\n",
            "      (bn2): BatchNorm2d(1.02 K = 0.0091% Params, 0 MACs = 0% MACs, 4.19 MFLOPS = 0.0014% FLOPs, 512, eps=1e-05, momentum=0.1, affine=True, track_running_stats=True)\n",
            "      (downsample): Sequential(\n",
            "        132.1 K = 1.1796% Params, 536.87 MMACs = 0.3541% MACs, 1.08 GFLOPS = 0.3547% FLOPs\n",
            "        (0): Conv2d(131.07 K = 1.1704% Params, 536.87 MMACs = 0.3541% MACs, 1.07 GFLOPS = 0.3533% FLOPs, 256, 512, kernel_size=(1, 1), stride=(2, 2), bias=False)\n",
            "        (1): BatchNorm2d(1.02 K = 0.0091% Params, 0 MACs = 0% MACs, 4.19 MFLOPS = 0.0014% FLOPs, 512, eps=1e-05, momentum=0.1, affine=True, track_running_stats=True)\n",
            "      )\n",
            "    )\n",
            "    (1): BasicBlock(\n",
            "      4.72 M = 42.1539% Params, 19.33 GMACs = 12.7489% MACs, 38.67 GFLOPS = 12.7246% FLOPs\n",
            "      (conv1): Conv2d(2.36 M = 21.0678% Params, 9.66 GMACs = 6.3744% MACs, 19.33 GFLOPS = 6.3602% FLOPs, 512, 512, kernel_size=(3, 3), stride=(1, 1), padding=(1, 1), bias=False)\n",
            "      (bn1): BatchNorm2d(1.02 K = 0.0091% Params, 0 MACs = 0% MACs, 4.19 MFLOPS = 0.0014% FLOPs, 512, eps=1e-05, momentum=0.1, affine=True, track_running_stats=True)\n",
            "      (relu): ReLU(0 = 0% Params, 0 MACs = 0% MACs, 4.19 MFLOPS = 0.0014% FLOPs, inplace=True)\n",
            "      (conv2): Conv2d(2.36 M = 21.0678% Params, 9.66 GMACs = 6.3744% MACs, 19.33 GFLOPS = 6.3602% FLOPs, 512, 512, kernel_size=(3, 3), stride=(1, 1), padding=(1, 1), bias=False)\n",
            "      (bn2): BatchNorm2d(1.02 K = 0.0091% Params, 0 MACs = 0% MACs, 4.19 MFLOPS = 0.0014% FLOPs, 512, eps=1e-05, momentum=0.1, affine=True, track_running_stats=True)\n",
            "    )\n",
            "  )\n",
            "  (avgpool): AdaptiveAvgPool2d(0 = 0% Params, 0 MACs = 0% MACs, 2.1 MFLOPS = 0.0007% FLOPs, output_size=(1, 1))\n",
            "  (fc): Linear(22.06 K = 0.197% Params, 1.41 MMACs = 0.0009% MACs, 2.82 MFLOPS = 0.0009% FLOPs, in_features=512, out_features=43, bias=True)\n",
            ")\n",
            "---------------------------------------------------------------------------------------------------\n"
          ]
        },
        {
          "output_type": "stream",
          "name": "stderr",
          "text": [
            "Epoch 1/24: 100%|██████████| 42/42 [00:14<00:00,  2.97it/s]\n",
            "Epoch 1/24: 100%|██████████| 5/5 [00:01<00:00,  3.56it/s]\n"
          ]
        },
        {
          "output_type": "stream",
          "name": "stdout",
          "text": [
            "Epoch 1/24\n",
            "Train Loss: 2.9960 Train Accuracy: 0.2265\n",
            "Val Loss: 2.8146 Val Accuracy: 0.2872\n"
          ]
        },
        {
          "output_type": "stream",
          "name": "stderr",
          "text": [
            "Epoch 2/24: 100%|██████████| 42/42 [00:14<00:00,  2.99it/s]\n",
            "Epoch 2/24: 100%|██████████| 5/5 [00:01<00:00,  3.62it/s]\n"
          ]
        },
        {
          "output_type": "stream",
          "name": "stdout",
          "text": [
            "Epoch 2/24\n",
            "Train Loss: 2.1551 Train Accuracy: 0.4417\n",
            "Val Loss: 1.9320 Val Accuracy: 0.4628\n"
          ]
        },
        {
          "output_type": "stream",
          "name": "stderr",
          "text": [
            "Epoch 3/24: 100%|██████████| 42/42 [00:13<00:00,  3.00it/s]\n",
            "Epoch 3/24: 100%|██████████| 5/5 [00:01<00:00,  3.23it/s]\n"
          ]
        },
        {
          "output_type": "stream",
          "name": "stdout",
          "text": [
            "Epoch 3/24\n",
            "Train Loss: 1.2421 Train Accuracy: 0.6973\n",
            "Val Loss: 1.1011 Val Accuracy: 0.6993\n"
          ]
        },
        {
          "output_type": "stream",
          "name": "stderr",
          "text": [
            "Epoch 4/24: 100%|██████████| 42/42 [00:14<00:00,  2.92it/s]\n",
            "Epoch 4/24: 100%|██████████| 5/5 [00:02<00:00,  2.32it/s]\n"
          ]
        },
        {
          "output_type": "stream",
          "name": "stdout",
          "text": [
            "Epoch 4/24\n",
            "Train Loss: 0.5990 Train Accuracy: 0.8731\n",
            "Val Loss: 0.7368 Val Accuracy: 0.7601\n"
          ]
        },
        {
          "output_type": "stream",
          "name": "stderr",
          "text": [
            "Epoch 5/24: 100%|██████████| 42/42 [00:13<00:00,  3.04it/s]\n",
            "Epoch 5/24: 100%|██████████| 5/5 [00:01<00:00,  3.63it/s]\n"
          ]
        },
        {
          "output_type": "stream",
          "name": "stdout",
          "text": [
            "Epoch 5/24\n",
            "Train Loss: 0.3411 Train Accuracy: 0.9288\n",
            "Val Loss: 0.5121 Val Accuracy: 0.8446\n"
          ]
        },
        {
          "output_type": "stream",
          "name": "stderr",
          "text": [
            "Epoch 6/24: 100%|██████████| 42/42 [00:14<00:00,  2.99it/s]\n",
            "Epoch 6/24: 100%|██████████| 5/5 [00:01<00:00,  3.75it/s]\n"
          ]
        },
        {
          "output_type": "stream",
          "name": "stdout",
          "text": [
            "Epoch 6/24\n",
            "Train Loss: 0.2260 Train Accuracy: 0.9496\n",
            "Val Loss: 0.4299 Val Accuracy: 0.8716\n"
          ]
        },
        {
          "output_type": "stream",
          "name": "stderr",
          "text": [
            "Epoch 7/24: 100%|██████████| 42/42 [00:13<00:00,  3.06it/s]\n",
            "Epoch 7/24: 100%|██████████| 5/5 [00:01<00:00,  3.62it/s]\n"
          ]
        },
        {
          "output_type": "stream",
          "name": "stdout",
          "text": [
            "Epoch 7/24\n",
            "Train Loss: 0.1676 Train Accuracy: 0.9629\n",
            "Val Loss: 0.5042 Val Accuracy: 0.8311\n"
          ]
        },
        {
          "output_type": "stream",
          "name": "stderr",
          "text": [
            "Epoch 8/24: 100%|██████████| 42/42 [00:14<00:00,  2.97it/s]\n",
            "Epoch 8/24: 100%|██████████| 5/5 [00:01<00:00,  3.65it/s]\n"
          ]
        },
        {
          "output_type": "stream",
          "name": "stdout",
          "text": [
            "Epoch 8/24\n",
            "Train Loss: 0.1574 Train Accuracy: 0.9621\n",
            "Val Loss: 0.3951 Val Accuracy: 0.8885\n"
          ]
        },
        {
          "output_type": "stream",
          "name": "stderr",
          "text": [
            "Epoch 9/24: 100%|██████████| 42/42 [00:13<00:00,  3.05it/s]\n",
            "Epoch 9/24: 100%|██████████| 5/5 [00:01<00:00,  3.59it/s]\n"
          ]
        },
        {
          "output_type": "stream",
          "name": "stdout",
          "text": [
            "Epoch 9/24\n",
            "Train Loss: 0.1197 Train Accuracy: 0.9735\n",
            "Val Loss: 0.3194 Val Accuracy: 0.8818\n"
          ]
        },
        {
          "output_type": "stream",
          "name": "stderr",
          "text": [
            "Epoch 10/24: 100%|██████████| 42/42 [00:13<00:00,  3.01it/s]\n",
            "Epoch 10/24: 100%|██████████| 5/5 [00:01<00:00,  3.70it/s]\n"
          ]
        },
        {
          "output_type": "stream",
          "name": "stdout",
          "text": [
            "Epoch 10/24\n",
            "Train Loss: 0.1182 Train Accuracy: 0.9678\n",
            "Val Loss: 0.3685 Val Accuracy: 0.8716\n"
          ]
        },
        {
          "output_type": "stream",
          "name": "stderr",
          "text": [
            "Epoch 11/24: 100%|██████████| 42/42 [00:14<00:00,  2.97it/s]\n",
            "Epoch 11/24: 100%|██████████| 5/5 [00:01<00:00,  2.73it/s]\n"
          ]
        },
        {
          "output_type": "stream",
          "name": "stdout",
          "text": [
            "Epoch 11/24\n",
            "Train Loss: 0.1072 Train Accuracy: 0.9689\n",
            "Val Loss: 0.3285 Val Accuracy: 0.8784\n"
          ]
        },
        {
          "output_type": "stream",
          "name": "stderr",
          "text": [
            "Epoch 12/24: 100%|██████████| 42/42 [00:14<00:00,  3.00it/s]\n",
            "Epoch 12/24: 100%|██████████| 5/5 [00:02<00:00,  2.48it/s]\n"
          ]
        },
        {
          "output_type": "stream",
          "name": "stdout",
          "text": [
            "Epoch 12/24\n",
            "Train Loss: 0.0948 Train Accuracy: 0.9750\n",
            "Val Loss: 0.3349 Val Accuracy: 0.8818\n"
          ]
        },
        {
          "output_type": "stream",
          "name": "stderr",
          "text": [
            "Epoch 13/24: 100%|██████████| 42/42 [00:13<00:00,  3.09it/s]\n",
            "Epoch 13/24: 100%|██████████| 5/5 [00:01<00:00,  3.52it/s]\n"
          ]
        },
        {
          "output_type": "stream",
          "name": "stdout",
          "text": [
            "Epoch 13/24\n",
            "Train Loss: 0.0905 Train Accuracy: 0.9758\n",
            "Val Loss: 0.3340 Val Accuracy: 0.8953\n"
          ]
        },
        {
          "output_type": "stream",
          "name": "stderr",
          "text": [
            "Epoch 14/24: 100%|██████████| 42/42 [00:13<00:00,  3.07it/s]\n",
            "Epoch 14/24: 100%|██████████| 5/5 [00:01<00:00,  3.73it/s]\n"
          ]
        },
        {
          "output_type": "stream",
          "name": "stdout",
          "text": [
            "Epoch 14/24\n",
            "Train Loss: 0.0721 Train Accuracy: 0.9833\n",
            "Val Loss: 0.4200 Val Accuracy: 0.8547\n"
          ]
        },
        {
          "output_type": "stream",
          "name": "stderr",
          "text": [
            "Epoch 15/24: 100%|██████████| 42/42 [00:13<00:00,  3.06it/s]\n",
            "Epoch 15/24: 100%|██████████| 5/5 [00:01<00:00,  3.44it/s]\n"
          ]
        },
        {
          "output_type": "stream",
          "name": "stdout",
          "text": [
            "Epoch 15/24\n",
            "Train Loss: 0.0900 Train Accuracy: 0.9784\n",
            "Val Loss: 0.2902 Val Accuracy: 0.8953\n"
          ]
        },
        {
          "output_type": "stream",
          "name": "stderr",
          "text": [
            "Epoch 16/24: 100%|██████████| 42/42 [00:13<00:00,  3.06it/s]\n",
            "Epoch 16/24: 100%|██████████| 5/5 [00:01<00:00,  3.67it/s]\n"
          ]
        },
        {
          "output_type": "stream",
          "name": "stdout",
          "text": [
            "Epoch 16/24\n",
            "Train Loss: 0.0687 Train Accuracy: 0.9845\n",
            "Val Loss: 0.3586 Val Accuracy: 0.8716\n"
          ]
        },
        {
          "output_type": "stream",
          "name": "stderr",
          "text": [
            "Epoch 17/24: 100%|██████████| 42/42 [00:13<00:00,  3.03it/s]\n",
            "Epoch 17/24: 100%|██████████| 5/5 [00:01<00:00,  3.49it/s]\n"
          ]
        },
        {
          "output_type": "stream",
          "name": "stdout",
          "text": [
            "Epoch 17/24\n",
            "Train Loss: 0.0595 Train Accuracy: 0.9856\n",
            "Val Loss: 0.3257 Val Accuracy: 0.8784\n"
          ]
        },
        {
          "output_type": "stream",
          "name": "stderr",
          "text": [
            "Epoch 18/24: 100%|██████████| 42/42 [00:14<00:00,  2.99it/s]\n",
            "Epoch 18/24: 100%|██████████| 5/5 [00:01<00:00,  3.59it/s]\n"
          ]
        },
        {
          "output_type": "stream",
          "name": "stdout",
          "text": [
            "Epoch 18/24\n",
            "Train Loss: 0.0596 Train Accuracy: 0.9845\n",
            "Val Loss: 0.3424 Val Accuracy: 0.8885\n"
          ]
        },
        {
          "output_type": "stream",
          "name": "stderr",
          "text": [
            "Epoch 19/24: 100%|██████████| 42/42 [00:14<00:00,  2.98it/s]\n",
            "Epoch 19/24: 100%|██████████| 5/5 [00:01<00:00,  3.28it/s]\n"
          ]
        },
        {
          "output_type": "stream",
          "name": "stdout",
          "text": [
            "Epoch 19/24\n",
            "Train Loss: 0.0520 Train Accuracy: 0.9879\n",
            "Val Loss: 0.3317 Val Accuracy: 0.8851\n"
          ]
        },
        {
          "output_type": "stream",
          "name": "stderr",
          "text": [
            "Epoch 20/24: 100%|██████████| 42/42 [00:14<00:00,  2.95it/s]\n",
            "Epoch 20/24: 100%|██████████| 5/5 [00:02<00:00,  2.27it/s]\n"
          ]
        },
        {
          "output_type": "stream",
          "name": "stdout",
          "text": [
            "Epoch 20/24\n",
            "Train Loss: 0.0482 Train Accuracy: 0.9883\n",
            "Val Loss: 0.3332 Val Accuracy: 0.8885\n"
          ]
        },
        {
          "output_type": "stream",
          "name": "stderr",
          "text": [
            "Epoch 21/24: 100%|██████████| 42/42 [00:13<00:00,  3.07it/s]\n",
            "Epoch 21/24: 100%|██████████| 5/5 [00:01<00:00,  3.46it/s]\n"
          ]
        },
        {
          "output_type": "stream",
          "name": "stdout",
          "text": [
            "Epoch 21/24\n",
            "Train Loss: 0.0263 Train Accuracy: 0.9947\n",
            "Val Loss: 0.3285 Val Accuracy: 0.8818\n"
          ]
        },
        {
          "output_type": "stream",
          "name": "stderr",
          "text": [
            "Epoch 22/24: 100%|██████████| 42/42 [00:13<00:00,  3.04it/s]\n",
            "Epoch 22/24: 100%|██████████| 5/5 [00:01<00:00,  3.57it/s]\n"
          ]
        },
        {
          "output_type": "stream",
          "name": "stdout",
          "text": [
            "Epoch 22/24\n",
            "Train Loss: 0.0588 Train Accuracy: 0.9867\n",
            "Val Loss: 0.3222 Val Accuracy: 0.8953\n"
          ]
        },
        {
          "output_type": "stream",
          "name": "stderr",
          "text": [
            "Epoch 23/24: 100%|██████████| 42/42 [00:13<00:00,  3.01it/s]\n",
            "Epoch 23/24: 100%|██████████| 5/5 [00:01<00:00,  3.54it/s]\n"
          ]
        },
        {
          "output_type": "stream",
          "name": "stdout",
          "text": [
            "Epoch 23/24\n",
            "Train Loss: 0.0554 Train Accuracy: 0.9879\n",
            "Val Loss: 0.3176 Val Accuracy: 0.9122\n"
          ]
        },
        {
          "output_type": "stream",
          "name": "stderr",
          "text": [
            "Epoch 24/24: 100%|██████████| 42/42 [00:13<00:00,  3.02it/s]\n",
            "Epoch 24/24: 100%|██████████| 5/5 [00:01<00:00,  3.62it/s]\n"
          ]
        },
        {
          "output_type": "stream",
          "name": "stdout",
          "text": [
            "Epoch 24/24\n",
            "Train Loss: 0.0493 Train Accuracy: 0.9886\n",
            "Val Loss: 0.3120 Val Accuracy: 0.9020\n",
            "Training and evaluating seq_finetune_resnet model\n",
            "\n",
            "------------------------------------- Calculate Flops Results -------------------------------------\n",
            "Notations:\n",
            "number of parameters (Params), number of multiply-accumulate operations(MACs),\n",
            "number of floating-point operations (FLOPs), floating-point operations per second (FLOPS),\n",
            "fwd FLOPs (model forward propagation FLOPs), bwd FLOPs (model backward propagation FLOPs),\n",
            "default model backpropagation takes 2.00 times as much computation as forward propagation.\n",
            "\n",
            "Total Training Params:                                                  284.71 K\n",
            "fwd MACs:                                                               151.617 GMACs\n",
            "fwd FLOPs:                                                              303.912 GFLOPS\n",
            "fwd+bwd MACs:                                                           454.851 GMACs\n",
            "fwd+bwd FLOPs:                                                          911.735 GFLOPS\n",
            "\n",
            "-------------------------------- Detailed Calculated FLOPs Results --------------------------------\n",
            "Each module caculated is listed after its name in the following order: \n",
            "params, percentage of total params, MACs, percentage of total MACs, FLOPS, percentage of total FLOPs\n",
            "\n",
            "Note: 1. A module can have torch.nn.module or torch.nn.functional to compute logits (e.g. CrossEntropyLoss). \n",
            " They are not counted as submodules in calflops and not to be printed out. However they make up the difference between a parent's MACs and the sum of its submodules'.\n",
            "2. Number of floating-point operations is a theoretical estimation, thus FLOPS computed using that could be larger than the maximum system throughput.\n",
            "\n",
            "ResNet(\n",
            "  284.71 K = 100% Params, 151.62 GMACs = 100% MACs, 303.91 GFLOPS = 100% FLOPs\n",
            "  (conv1): Conv2d(0 = 0% Params, 9.87 GMACs = 6.5065% MACs, 19.73 GFLOPS = 6.492% FLOPs, 3, 64, kernel_size=(7, 7), stride=(2, 2), padding=(3, 3), bias=False)\n",
            "  (bn1): BatchNorm2d(0 = 0% Params, 0 MACs = 0% MACs, 134.22 MFLOPS = 0.0442% FLOPs, 64, eps=1e-05, momentum=0.1, affine=True, track_running_stats=True)\n",
            "  (relu): ReLU(0 = 0% Params, 0 MACs = 0% MACs, 67.11 MFLOPS = 0.0221% FLOPs, inplace=True)\n",
            "  (maxpool): MaxPool2d(0 = 0% Params, 0 MACs = 0% MACs, 67.11 MFLOPS = 0.0221% FLOPs, kernel_size=3, stride=2, padding=1, dilation=1, ceil_mode=False)\n",
            "  (layer1): Sequential(\n",
            "    0 = 0% Params, 38.65 GMACs = 25.4949% MACs, 77.51 GFLOPS = 25.5044% FLOPs\n",
            "    (0): BasicBlock(\n",
            "      0 = 0% Params, 19.33 GMACs = 12.7475% MACs, 38.76 GFLOPS = 12.7522% FLOPs\n",
            "      (conv1): Conv2d(0 = 0% Params, 9.66 GMACs = 6.3737% MACs, 19.33 GFLOPS = 6.3595% FLOPs, 64, 64, kernel_size=(3, 3), stride=(1, 1), padding=(1, 1), bias=False)\n",
            "      (bn1): BatchNorm2d(0 = 0% Params, 0 MACs = 0% MACs, 33.55 MFLOPS = 0.011% FLOPs, 64, eps=1e-05, momentum=0.1, affine=True, track_running_stats=True)\n",
            "      (relu): ReLU(0 = 0% Params, 0 MACs = 0% MACs, 33.55 MFLOPS = 0.011% FLOPs, inplace=True)\n",
            "      (conv2): Conv2d(0 = 0% Params, 9.66 GMACs = 6.3737% MACs, 19.33 GFLOPS = 6.3595% FLOPs, 64, 64, kernel_size=(3, 3), stride=(1, 1), padding=(1, 1), bias=False)\n",
            "      (bn2): BatchNorm2d(0 = 0% Params, 0 MACs = 0% MACs, 33.55 MFLOPS = 0.011% FLOPs, 64, eps=1e-05, momentum=0.1, affine=True, track_running_stats=True)\n",
            "    )\n",
            "    (1): BasicBlock(\n",
            "      0 = 0% Params, 19.33 GMACs = 12.7475% MACs, 38.76 GFLOPS = 12.7522% FLOPs\n",
            "      (conv1): Conv2d(0 = 0% Params, 9.66 GMACs = 6.3737% MACs, 19.33 GFLOPS = 6.3595% FLOPs, 64, 64, kernel_size=(3, 3), stride=(1, 1), padding=(1, 1), bias=False)\n",
            "      (bn1): BatchNorm2d(0 = 0% Params, 0 MACs = 0% MACs, 33.55 MFLOPS = 0.011% FLOPs, 64, eps=1e-05, momentum=0.1, affine=True, track_running_stats=True)\n",
            "      (relu): ReLU(0 = 0% Params, 0 MACs = 0% MACs, 33.55 MFLOPS = 0.011% FLOPs, inplace=True)\n",
            "      (conv2): Conv2d(0 = 0% Params, 9.66 GMACs = 6.3737% MACs, 19.33 GFLOPS = 6.3595% FLOPs, 64, 64, kernel_size=(3, 3), stride=(1, 1), padding=(1, 1), bias=False)\n",
            "      (bn2): BatchNorm2d(0 = 0% Params, 0 MACs = 0% MACs, 33.55 MFLOPS = 0.011% FLOPs, 64, eps=1e-05, momentum=0.1, affine=True, track_running_stats=True)\n",
            "    )\n",
            "  )\n",
            "  (layer2): Sequential(\n",
            "    0 = 0% Params, 34.36 GMACs = 22.6622% MACs, 68.84 GFLOPS = 22.6503% FLOPs\n",
            "    (0): BasicBlock(\n",
            "      0 = 0% Params, 15.03 GMACs = 9.9147% MACs, 30.13 GFLOPS = 9.9147% FLOPs\n",
            "      (conv1): Conv2d(0 = 0% Params, 4.83 GMACs = 3.1869% MACs, 9.66 GFLOPS = 3.1798% FLOPs, 64, 128, kernel_size=(3, 3), stride=(2, 2), padding=(1, 1), bias=False)\n",
            "      (bn1): BatchNorm2d(0 = 0% Params, 0 MACs = 0% MACs, 16.78 MFLOPS = 0.0055% FLOPs, 128, eps=1e-05, momentum=0.1, affine=True, track_running_stats=True)\n",
            "      (relu): ReLU(0 = 0% Params, 0 MACs = 0% MACs, 16.78 MFLOPS = 0.0055% FLOPs, inplace=True)\n",
            "      (conv2): Conv2d(0 = 0% Params, 9.66 GMACs = 6.3737% MACs, 19.33 GFLOPS = 6.3595% FLOPs, 128, 128, kernel_size=(3, 3), stride=(1, 1), padding=(1, 1), bias=False)\n",
            "      (bn2): BatchNorm2d(0 = 0% Params, 0 MACs = 0% MACs, 16.78 MFLOPS = 0.0055% FLOPs, 128, eps=1e-05, momentum=0.1, affine=True, track_running_stats=True)\n",
            "      (downsample): Sequential(\n",
            "        0 = 0% Params, 536.87 MMACs = 0.3541% MACs, 1.09 GFLOPS = 0.3588% FLOPs\n",
            "        (0): Conv2d(0 = 0% Params, 536.87 MMACs = 0.3541% MACs, 1.07 GFLOPS = 0.3533% FLOPs, 64, 128, kernel_size=(1, 1), stride=(2, 2), bias=False)\n",
            "        (1): BatchNorm2d(0 = 0% Params, 0 MACs = 0% MACs, 16.78 MFLOPS = 0.0055% FLOPs, 128, eps=1e-05, momentum=0.1, affine=True, track_running_stats=True)\n",
            "      )\n",
            "    )\n",
            "    (1): BasicBlock(\n",
            "      0 = 0% Params, 19.33 GMACs = 12.7475% MACs, 38.71 GFLOPS = 12.7356% FLOPs\n",
            "      (conv1): Conv2d(0 = 0% Params, 9.66 GMACs = 6.3737% MACs, 19.33 GFLOPS = 6.3595% FLOPs, 128, 128, kernel_size=(3, 3), stride=(1, 1), padding=(1, 1), bias=False)\n",
            "      (bn1): BatchNorm2d(0 = 0% Params, 0 MACs = 0% MACs, 16.78 MFLOPS = 0.0055% FLOPs, 128, eps=1e-05, momentum=0.1, affine=True, track_running_stats=True)\n",
            "      (relu): ReLU(0 = 0% Params, 0 MACs = 0% MACs, 16.78 MFLOPS = 0.0055% FLOPs, inplace=True)\n",
            "      (conv2): Conv2d(0 = 0% Params, 9.66 GMACs = 6.3737% MACs, 19.33 GFLOPS = 6.3595% FLOPs, 128, 128, kernel_size=(3, 3), stride=(1, 1), padding=(1, 1), bias=False)\n",
            "      (bn2): BatchNorm2d(0 = 0% Params, 0 MACs = 0% MACs, 16.78 MFLOPS = 0.0055% FLOPs, 128, eps=1e-05, momentum=0.1, affine=True, track_running_stats=True)\n",
            "    )\n",
            "  )\n",
            "  (layer3): Sequential(\n",
            "    0 = 0% Params, 34.36 GMACs = 22.6622% MACs, 68.78 GFLOPS = 22.631% FLOPs\n",
            "    (0): BasicBlock(\n",
            "      0 = 0% Params, 15.03 GMACs = 9.9147% MACs, 30.1 GFLOPS = 9.9036% FLOPs\n",
            "      (conv1): Conv2d(0 = 0% Params, 4.83 GMACs = 3.1869% MACs, 9.66 GFLOPS = 3.1798% FLOPs, 128, 256, kernel_size=(3, 3), stride=(2, 2), padding=(1, 1), bias=False)\n",
            "      (bn1): BatchNorm2d(0 = 0% Params, 0 MACs = 0% MACs, 8.39 MFLOPS = 0.0028% FLOPs, 256, eps=1e-05, momentum=0.1, affine=True, track_running_stats=True)\n",
            "      (relu): ReLU(0 = 0% Params, 0 MACs = 0% MACs, 8.39 MFLOPS = 0.0028% FLOPs, inplace=True)\n",
            "      (conv2): Conv2d(0 = 0% Params, 9.66 GMACs = 6.3737% MACs, 19.33 GFLOPS = 6.3595% FLOPs, 256, 256, kernel_size=(3, 3), stride=(1, 1), padding=(1, 1), bias=False)\n",
            "      (bn2): BatchNorm2d(0 = 0% Params, 0 MACs = 0% MACs, 8.39 MFLOPS = 0.0028% FLOPs, 256, eps=1e-05, momentum=0.1, affine=True, track_running_stats=True)\n",
            "      (downsample): Sequential(\n",
            "        0 = 0% Params, 536.87 MMACs = 0.3541% MACs, 1.08 GFLOPS = 0.3561% FLOPs\n",
            "        (0): Conv2d(0 = 0% Params, 536.87 MMACs = 0.3541% MACs, 1.07 GFLOPS = 0.3533% FLOPs, 128, 256, kernel_size=(1, 1), stride=(2, 2), bias=False)\n",
            "        (1): BatchNorm2d(0 = 0% Params, 0 MACs = 0% MACs, 8.39 MFLOPS = 0.0028% FLOPs, 256, eps=1e-05, momentum=0.1, affine=True, track_running_stats=True)\n",
            "      )\n",
            "    )\n",
            "    (1): BasicBlock(\n",
            "      0 = 0% Params, 19.33 GMACs = 12.7475% MACs, 38.68 GFLOPS = 12.7273% FLOPs\n",
            "      (conv1): Conv2d(0 = 0% Params, 9.66 GMACs = 6.3737% MACs, 19.33 GFLOPS = 6.3595% FLOPs, 256, 256, kernel_size=(3, 3), stride=(1, 1), padding=(1, 1), bias=False)\n",
            "      (bn1): BatchNorm2d(0 = 0% Params, 0 MACs = 0% MACs, 8.39 MFLOPS = 0.0028% FLOPs, 256, eps=1e-05, momentum=0.1, affine=True, track_running_stats=True)\n",
            "      (relu): ReLU(0 = 0% Params, 0 MACs = 0% MACs, 8.39 MFLOPS = 0.0028% FLOPs, inplace=True)\n",
            "      (conv2): Conv2d(0 = 0% Params, 9.66 GMACs = 6.3737% MACs, 19.33 GFLOPS = 6.3595% FLOPs, 256, 256, kernel_size=(3, 3), stride=(1, 1), padding=(1, 1), bias=False)\n",
            "      (bn2): BatchNorm2d(0 = 0% Params, 0 MACs = 0% MACs, 8.39 MFLOPS = 0.0028% FLOPs, 256, eps=1e-05, momentum=0.1, affine=True, track_running_stats=True)\n",
            "    )\n",
            "  )\n",
            "  (layer4): Sequential(\n",
            "    0 = 0% Params, 34.36 GMACs = 22.6622% MACs, 68.75 GFLOPS = 22.6213% FLOPs\n",
            "    (0): BasicBlock(\n",
            "      0 = 0% Params, 15.03 GMACs = 9.9147% MACs, 30.08 GFLOPS = 9.8981% FLOPs\n",
            "      (conv1): Conv2d(0 = 0% Params, 4.83 GMACs = 3.1869% MACs, 9.66 GFLOPS = 3.1798% FLOPs, 256, 512, kernel_size=(3, 3), stride=(2, 2), padding=(1, 1), bias=False)\n",
            "      (bn1): BatchNorm2d(0 = 0% Params, 0 MACs = 0% MACs, 4.19 MFLOPS = 0.0014% FLOPs, 512, eps=1e-05, momentum=0.1, affine=True, track_running_stats=True)\n",
            "      (relu): ReLU(0 = 0% Params, 0 MACs = 0% MACs, 4.19 MFLOPS = 0.0014% FLOPs, inplace=True)\n",
            "      (conv2): Conv2d(0 = 0% Params, 9.66 GMACs = 6.3737% MACs, 19.33 GFLOPS = 6.3595% FLOPs, 512, 512, kernel_size=(3, 3), stride=(1, 1), padding=(1, 1), bias=False)\n",
            "      (bn2): BatchNorm2d(0 = 0% Params, 0 MACs = 0% MACs, 4.19 MFLOPS = 0.0014% FLOPs, 512, eps=1e-05, momentum=0.1, affine=True, track_running_stats=True)\n",
            "      (downsample): Sequential(\n",
            "        0 = 0% Params, 536.87 MMACs = 0.3541% MACs, 1.08 GFLOPS = 0.3547% FLOPs\n",
            "        (0): Conv2d(0 = 0% Params, 536.87 MMACs = 0.3541% MACs, 1.07 GFLOPS = 0.3533% FLOPs, 256, 512, kernel_size=(1, 1), stride=(2, 2), bias=False)\n",
            "        (1): BatchNorm2d(0 = 0% Params, 0 MACs = 0% MACs, 4.19 MFLOPS = 0.0014% FLOPs, 512, eps=1e-05, momentum=0.1, affine=True, track_running_stats=True)\n",
            "      )\n",
            "    )\n",
            "    (1): BasicBlock(\n",
            "      0 = 0% Params, 19.33 GMACs = 12.7475% MACs, 38.67 GFLOPS = 12.7232% FLOPs\n",
            "      (conv1): Conv2d(0 = 0% Params, 9.66 GMACs = 6.3737% MACs, 19.33 GFLOPS = 6.3595% FLOPs, 512, 512, kernel_size=(3, 3), stride=(1, 1), padding=(1, 1), bias=False)\n",
            "      (bn1): BatchNorm2d(0 = 0% Params, 0 MACs = 0% MACs, 4.19 MFLOPS = 0.0014% FLOPs, 512, eps=1e-05, momentum=0.1, affine=True, track_running_stats=True)\n",
            "      (relu): ReLU(0 = 0% Params, 0 MACs = 0% MACs, 4.19 MFLOPS = 0.0014% FLOPs, inplace=True)\n",
            "      (conv2): Conv2d(0 = 0% Params, 9.66 GMACs = 6.3737% MACs, 19.33 GFLOPS = 6.3595% FLOPs, 512, 512, kernel_size=(3, 3), stride=(1, 1), padding=(1, 1), bias=False)\n",
            "      (bn2): BatchNorm2d(0 = 0% Params, 0 MACs = 0% MACs, 4.19 MFLOPS = 0.0014% FLOPs, 512, eps=1e-05, momentum=0.1, affine=True, track_running_stats=True)\n",
            "    )\n",
            "  )\n",
            "  (avgpool): AdaptiveAvgPool2d(0 = 0% Params, 0 MACs = 0% MACs, 2.1 MFLOPS = 0.0007% FLOPs, output_size=(1, 1))\n",
            "  (fc): Sequential(\n",
            "    284.71 K = 100% Params, 18.19 MMACs = 0.012% MACs, 36.41 MFLOPS = 0.012% FLOPs\n",
            "    (0): Linear(262.66 K = 92.2523% Params, 16.78 MMACs = 0.0111% MACs, 33.55 MFLOPS = 0.011% FLOPs, in_features=512, out_features=512, bias=True)\n",
            "    (1): ReLU(0 = 0% Params, 0 MACs = 0% MACs, 32.77 KFLOPS = 0% FLOPs)\n",
            "    (2): Linear(22.06 K = 7.7477% Params, 1.41 MMACs = 0.0009% MACs, 2.82 MFLOPS = 0.0009% FLOPs, in_features=512, out_features=43, bias=True)\n",
            "  )\n",
            ")\n",
            "---------------------------------------------------------------------------------------------------\n"
          ]
        },
        {
          "output_type": "stream",
          "name": "stderr",
          "text": [
            "Epoch 1/6: 100%|██████████| 42/42 [00:11<00:00,  3.71it/s]\n",
            "Epoch 1/6: 100%|██████████| 5/5 [00:01<00:00,  3.61it/s]\n"
          ]
        },
        {
          "output_type": "stream",
          "name": "stdout",
          "text": [
            "Epoch 1/6\n",
            "Train Loss: 4.0987 Train Accuracy: 0.0515\n",
            "Val Loss: 3.6907 Val Accuracy: 0.1351\n"
          ]
        },
        {
          "output_type": "stream",
          "name": "stderr",
          "text": [
            "Epoch 2/6: 100%|██████████| 42/42 [00:11<00:00,  3.76it/s]\n",
            "Epoch 2/6: 100%|██████████| 5/5 [00:01<00:00,  3.50it/s]\n"
          ]
        },
        {
          "output_type": "stream",
          "name": "stdout",
          "text": [
            "Epoch 2/6\n",
            "Train Loss: 3.1196 Train Accuracy: 0.2170\n",
            "Val Loss: 2.8474 Val Accuracy: 0.2905\n"
          ]
        },
        {
          "output_type": "stream",
          "name": "stderr",
          "text": [
            "Epoch 3/6: 100%|██████████| 42/42 [00:11<00:00,  3.75it/s]\n",
            "Epoch 3/6: 100%|██████████| 5/5 [00:01<00:00,  3.63it/s]\n"
          ]
        },
        {
          "output_type": "stream",
          "name": "stdout",
          "text": [
            "Epoch 3/6\n",
            "Train Loss: 2.4636 Train Accuracy: 0.3773\n",
            "Val Loss: 2.3226 Val Accuracy: 0.3953\n"
          ]
        },
        {
          "output_type": "stream",
          "name": "stderr",
          "text": [
            "Epoch 4/6: 100%|██████████| 42/42 [00:10<00:00,  3.88it/s]\n",
            "Epoch 4/6: 100%|██████████| 5/5 [00:01<00:00,  3.43it/s]\n"
          ]
        },
        {
          "output_type": "stream",
          "name": "stdout",
          "text": [
            "Epoch 4/6\n",
            "Train Loss: 2.0765 Train Accuracy: 0.4742\n",
            "Val Loss: 2.0873 Val Accuracy: 0.4392\n"
          ]
        },
        {
          "output_type": "stream",
          "name": "stderr",
          "text": [
            "Epoch 5/6: 100%|██████████| 42/42 [00:10<00:00,  4.16it/s]\n",
            "Epoch 5/6: 100%|██████████| 5/5 [00:02<00:00,  2.32it/s]\n"
          ]
        },
        {
          "output_type": "stream",
          "name": "stdout",
          "text": [
            "Epoch 5/6\n",
            "Train Loss: 1.8702 Train Accuracy: 0.5523\n",
            "Val Loss: 1.9712 Val Accuracy: 0.4797\n"
          ]
        },
        {
          "output_type": "stream",
          "name": "stderr",
          "text": [
            "Epoch 6/6: 100%|██████████| 42/42 [00:09<00:00,  4.31it/s]\n",
            "Epoch 6/6: 100%|██████████| 5/5 [00:01<00:00,  2.53it/s]\n"
          ]
        },
        {
          "output_type": "stream",
          "name": "stdout",
          "text": [
            "Epoch 6/6\n",
            "Train Loss: 1.8019 Train Accuracy: 0.5545\n",
            "Val Loss: 1.9565 Val Accuracy: 0.4831\n",
            "\n",
            "------------------------------------- Calculate Flops Results -------------------------------------\n",
            "Notations:\n",
            "number of parameters (Params), number of multiply-accumulate operations(MACs),\n",
            "number of floating-point operations (FLOPs), floating-point operations per second (FLOPS),\n",
            "fwd FLOPs (model forward propagation FLOPs), bwd FLOPs (model backward propagation FLOPs),\n",
            "default model backpropagation takes 2.00 times as much computation as forward propagation.\n",
            "\n",
            "Total Training Params:                                                  11.46 M \n",
            "fwd MACs:                                                               151.617 GMACs\n",
            "fwd FLOPs:                                                              303.912 GFLOPS\n",
            "fwd+bwd MACs:                                                           454.851 GMACs\n",
            "fwd+bwd FLOPs:                                                          911.735 GFLOPS\n",
            "\n",
            "-------------------------------- Detailed Calculated FLOPs Results --------------------------------\n",
            "Each module caculated is listed after its name in the following order: \n",
            "params, percentage of total params, MACs, percentage of total MACs, FLOPS, percentage of total FLOPs\n",
            "\n",
            "Note: 1. A module can have torch.nn.module or torch.nn.functional to compute logits (e.g. CrossEntropyLoss). \n",
            " They are not counted as submodules in calflops and not to be printed out. However they make up the difference between a parent's MACs and the sum of its submodules'.\n",
            "2. Number of floating-point operations is a theoretical estimation, thus FLOPS computed using that could be larger than the maximum system throughput.\n",
            "\n",
            "ResNet(\n",
            "  11.46 M = 100% Params, 151.62 GMACs = 100% MACs, 303.91 GFLOPS = 100% FLOPs\n",
            "  (conv1): Conv2d(9.41 K = 0.0821% Params, 9.87 GMACs = 6.5065% MACs, 19.73 GFLOPS = 6.492% FLOPs, 3, 64, kernel_size=(7, 7), stride=(2, 2), padding=(3, 3), bias=False)\n",
            "  (bn1): BatchNorm2d(128 = 0.0011% Params, 0 MACs = 0% MACs, 134.22 MFLOPS = 0.0442% FLOPs, 64, eps=1e-05, momentum=0.1, affine=True, track_running_stats=True)\n",
            "  (relu): ReLU(0 = 0% Params, 0 MACs = 0% MACs, 67.11 MFLOPS = 0.0221% FLOPs, inplace=True)\n",
            "  (maxpool): MaxPool2d(0 = 0% Params, 0 MACs = 0% MACs, 67.11 MFLOPS = 0.0221% FLOPs, kernel_size=3, stride=2, padding=1, dilation=1, ceil_mode=False)\n",
            "  (layer1): Sequential(\n",
            "    147.97 K = 1.291% Params, 38.65 GMACs = 25.4949% MACs, 77.51 GFLOPS = 25.5044% FLOPs\n",
            "    (0): BasicBlock(\n",
            "      73.98 K = 0.6455% Params, 19.33 GMACs = 12.7475% MACs, 38.76 GFLOPS = 12.7522% FLOPs\n",
            "      (conv1): Conv2d(36.86 K = 0.3216% Params, 9.66 GMACs = 6.3737% MACs, 19.33 GFLOPS = 6.3595% FLOPs, 64, 64, kernel_size=(3, 3), stride=(1, 1), padding=(1, 1), bias=False)\n",
            "      (bn1): BatchNorm2d(128 = 0.0011% Params, 0 MACs = 0% MACs, 33.55 MFLOPS = 0.011% FLOPs, 64, eps=1e-05, momentum=0.1, affine=True, track_running_stats=True)\n",
            "      (relu): ReLU(0 = 0% Params, 0 MACs = 0% MACs, 33.55 MFLOPS = 0.011% FLOPs, inplace=True)\n",
            "      (conv2): Conv2d(36.86 K = 0.3216% Params, 9.66 GMACs = 6.3737% MACs, 19.33 GFLOPS = 6.3595% FLOPs, 64, 64, kernel_size=(3, 3), stride=(1, 1), padding=(1, 1), bias=False)\n",
            "      (bn2): BatchNorm2d(128 = 0.0011% Params, 0 MACs = 0% MACs, 33.55 MFLOPS = 0.011% FLOPs, 64, eps=1e-05, momentum=0.1, affine=True, track_running_stats=True)\n",
            "    )\n",
            "    (1): BasicBlock(\n",
            "      73.98 K = 0.6455% Params, 19.33 GMACs = 12.7475% MACs, 38.76 GFLOPS = 12.7522% FLOPs\n",
            "      (conv1): Conv2d(36.86 K = 0.3216% Params, 9.66 GMACs = 6.3737% MACs, 19.33 GFLOPS = 6.3595% FLOPs, 64, 64, kernel_size=(3, 3), stride=(1, 1), padding=(1, 1), bias=False)\n",
            "      (bn1): BatchNorm2d(128 = 0.0011% Params, 0 MACs = 0% MACs, 33.55 MFLOPS = 0.011% FLOPs, 64, eps=1e-05, momentum=0.1, affine=True, track_running_stats=True)\n",
            "      (relu): ReLU(0 = 0% Params, 0 MACs = 0% MACs, 33.55 MFLOPS = 0.011% FLOPs, inplace=True)\n",
            "      (conv2): Conv2d(36.86 K = 0.3216% Params, 9.66 GMACs = 6.3737% MACs, 19.33 GFLOPS = 6.3595% FLOPs, 64, 64, kernel_size=(3, 3), stride=(1, 1), padding=(1, 1), bias=False)\n",
            "      (bn2): BatchNorm2d(128 = 0.0011% Params, 0 MACs = 0% MACs, 33.55 MFLOPS = 0.011% FLOPs, 64, eps=1e-05, momentum=0.1, affine=True, track_running_stats=True)\n",
            "    )\n",
            "  )\n",
            "  (layer2): Sequential(\n",
            "    525.57 K = 4.5856% Params, 34.36 GMACs = 22.6622% MACs, 68.84 GFLOPS = 22.6503% FLOPs\n",
            "    (0): BasicBlock(\n",
            "      230.14 K = 2.008% Params, 15.03 GMACs = 9.9147% MACs, 30.13 GFLOPS = 9.9147% FLOPs\n",
            "      (conv1): Conv2d(73.73 K = 0.6433% Params, 4.83 GMACs = 3.1869% MACs, 9.66 GFLOPS = 3.1798% FLOPs, 64, 128, kernel_size=(3, 3), stride=(2, 2), padding=(1, 1), bias=False)\n",
            "      (bn1): BatchNorm2d(256 = 0.0022% Params, 0 MACs = 0% MACs, 16.78 MFLOPS = 0.0055% FLOPs, 128, eps=1e-05, momentum=0.1, affine=True, track_running_stats=True)\n",
            "      (relu): ReLU(0 = 0% Params, 0 MACs = 0% MACs, 16.78 MFLOPS = 0.0055% FLOPs, inplace=True)\n",
            "      (conv2): Conv2d(147.46 K = 1.2866% Params, 9.66 GMACs = 6.3737% MACs, 19.33 GFLOPS = 6.3595% FLOPs, 128, 128, kernel_size=(3, 3), stride=(1, 1), padding=(1, 1), bias=False)\n",
            "      (bn2): BatchNorm2d(256 = 0.0022% Params, 0 MACs = 0% MACs, 16.78 MFLOPS = 0.0055% FLOPs, 128, eps=1e-05, momentum=0.1, affine=True, track_running_stats=True)\n",
            "      (downsample): Sequential(\n",
            "        8.45 K = 0.0737% Params, 536.87 MMACs = 0.3541% MACs, 1.09 GFLOPS = 0.3588% FLOPs\n",
            "        (0): Conv2d(8.19 K = 0.0715% Params, 536.87 MMACs = 0.3541% MACs, 1.07 GFLOPS = 0.3533% FLOPs, 64, 128, kernel_size=(1, 1), stride=(2, 2), bias=False)\n",
            "        (1): BatchNorm2d(256 = 0.0022% Params, 0 MACs = 0% MACs, 16.78 MFLOPS = 0.0055% FLOPs, 128, eps=1e-05, momentum=0.1, affine=True, track_running_stats=True)\n",
            "      )\n",
            "    )\n",
            "    (1): BasicBlock(\n",
            "      295.42 K = 2.5776% Params, 19.33 GMACs = 12.7475% MACs, 38.71 GFLOPS = 12.7356% FLOPs\n",
            "      (conv1): Conv2d(147.46 K = 1.2866% Params, 9.66 GMACs = 6.3737% MACs, 19.33 GFLOPS = 6.3595% FLOPs, 128, 128, kernel_size=(3, 3), stride=(1, 1), padding=(1, 1), bias=False)\n",
            "      (bn1): BatchNorm2d(256 = 0.0022% Params, 0 MACs = 0% MACs, 16.78 MFLOPS = 0.0055% FLOPs, 128, eps=1e-05, momentum=0.1, affine=True, track_running_stats=True)\n",
            "      (relu): ReLU(0 = 0% Params, 0 MACs = 0% MACs, 16.78 MFLOPS = 0.0055% FLOPs, inplace=True)\n",
            "      (conv2): Conv2d(147.46 K = 1.2866% Params, 9.66 GMACs = 6.3737% MACs, 19.33 GFLOPS = 6.3595% FLOPs, 128, 128, kernel_size=(3, 3), stride=(1, 1), padding=(1, 1), bias=False)\n",
            "      (bn2): BatchNorm2d(256 = 0.0022% Params, 0 MACs = 0% MACs, 16.78 MFLOPS = 0.0055% FLOPs, 128, eps=1e-05, momentum=0.1, affine=True, track_running_stats=True)\n",
            "    )\n",
            "  )\n",
            "  (layer3): Sequential(\n",
            "    2.1 M = 18.3201% Params, 34.36 GMACs = 22.6622% MACs, 68.78 GFLOPS = 22.631% FLOPs\n",
            "    (0): BasicBlock(\n",
            "      919.04 K = 8.0187% Params, 15.03 GMACs = 9.9147% MACs, 30.1 GFLOPS = 9.9036% FLOPs\n",
            "      (conv1): Conv2d(294.91 K = 2.5731% Params, 4.83 GMACs = 3.1869% MACs, 9.66 GFLOPS = 3.1798% FLOPs, 128, 256, kernel_size=(3, 3), stride=(2, 2), padding=(1, 1), bias=False)\n",
            "      (bn1): BatchNorm2d(512 = 0.0045% Params, 0 MACs = 0% MACs, 8.39 MFLOPS = 0.0028% FLOPs, 256, eps=1e-05, momentum=0.1, affine=True, track_running_stats=True)\n",
            "      (relu): ReLU(0 = 0% Params, 0 MACs = 0% MACs, 8.39 MFLOPS = 0.0028% FLOPs, inplace=True)\n",
            "      (conv2): Conv2d(589.82 K = 5.1463% Params, 9.66 GMACs = 6.3737% MACs, 19.33 GFLOPS = 6.3595% FLOPs, 256, 256, kernel_size=(3, 3), stride=(1, 1), padding=(1, 1), bias=False)\n",
            "      (bn2): BatchNorm2d(512 = 0.0045% Params, 0 MACs = 0% MACs, 8.39 MFLOPS = 0.0028% FLOPs, 256, eps=1e-05, momentum=0.1, affine=True, track_running_stats=True)\n",
            "      (downsample): Sequential(\n",
            "        33.28 K = 0.2904% Params, 536.87 MMACs = 0.3541% MACs, 1.08 GFLOPS = 0.3561% FLOPs\n",
            "        (0): Conv2d(32.77 K = 0.2859% Params, 536.87 MMACs = 0.3541% MACs, 1.07 GFLOPS = 0.3533% FLOPs, 128, 256, kernel_size=(1, 1), stride=(2, 2), bias=False)\n",
            "        (1): BatchNorm2d(512 = 0.0045% Params, 0 MACs = 0% MACs, 8.39 MFLOPS = 0.0028% FLOPs, 256, eps=1e-05, momentum=0.1, affine=True, track_running_stats=True)\n",
            "      )\n",
            "    )\n",
            "    (1): BasicBlock(\n",
            "      1.18 M = 10.3014% Params, 19.33 GMACs = 12.7475% MACs, 38.68 GFLOPS = 12.7273% FLOPs\n",
            "      (conv1): Conv2d(589.82 K = 5.1463% Params, 9.66 GMACs = 6.3737% MACs, 19.33 GFLOPS = 6.3595% FLOPs, 256, 256, kernel_size=(3, 3), stride=(1, 1), padding=(1, 1), bias=False)\n",
            "      (bn1): BatchNorm2d(512 = 0.0045% Params, 0 MACs = 0% MACs, 8.39 MFLOPS = 0.0028% FLOPs, 256, eps=1e-05, momentum=0.1, affine=True, track_running_stats=True)\n",
            "      (relu): ReLU(0 = 0% Params, 0 MACs = 0% MACs, 8.39 MFLOPS = 0.0028% FLOPs, inplace=True)\n",
            "      (conv2): Conv2d(589.82 K = 5.1463% Params, 9.66 GMACs = 6.3737% MACs, 19.33 GFLOPS = 6.3595% FLOPs, 256, 256, kernel_size=(3, 3), stride=(1, 1), padding=(1, 1), bias=False)\n",
            "      (bn2): BatchNorm2d(512 = 0.0045% Params, 0 MACs = 0% MACs, 8.39 MFLOPS = 0.0028% FLOPs, 256, eps=1e-05, momentum=0.1, affine=True, track_running_stats=True)\n",
            "    )\n",
            "  )\n",
            "  (layer4): Sequential(\n",
            "    8.39 M = 73.2359% Params, 34.36 GMACs = 22.6622% MACs, 68.75 GFLOPS = 22.6213% FLOPs\n",
            "    (0): BasicBlock(\n",
            "      3.67 M = 32.0479% Params, 15.03 GMACs = 9.9147% MACs, 30.08 GFLOPS = 9.8981% FLOPs\n",
            "      (conv1): Conv2d(1.18 M = 10.2925% Params, 4.83 GMACs = 3.1869% MACs, 9.66 GFLOPS = 3.1798% FLOPs, 256, 512, kernel_size=(3, 3), stride=(2, 2), padding=(1, 1), bias=False)\n",
            "      (bn1): BatchNorm2d(1.02 K = 0.0089% Params, 0 MACs = 0% MACs, 4.19 MFLOPS = 0.0014% FLOPs, 512, eps=1e-05, momentum=0.1, affine=True, track_running_stats=True)\n",
            "      (relu): ReLU(0 = 0% Params, 0 MACs = 0% MACs, 4.19 MFLOPS = 0.0014% FLOPs, inplace=True)\n",
            "      (conv2): Conv2d(2.36 M = 20.585% Params, 9.66 GMACs = 6.3737% MACs, 19.33 GFLOPS = 6.3595% FLOPs, 512, 512, kernel_size=(3, 3), stride=(1, 1), padding=(1, 1), bias=False)\n",
            "      (bn2): BatchNorm2d(1.02 K = 0.0089% Params, 0 MACs = 0% MACs, 4.19 MFLOPS = 0.0014% FLOPs, 512, eps=1e-05, momentum=0.1, affine=True, track_running_stats=True)\n",
            "      (downsample): Sequential(\n",
            "        132.1 K = 1.1525% Params, 536.87 MMACs = 0.3541% MACs, 1.08 GFLOPS = 0.3547% FLOPs\n",
            "        (0): Conv2d(131.07 K = 1.1436% Params, 536.87 MMACs = 0.3541% MACs, 1.07 GFLOPS = 0.3533% FLOPs, 256, 512, kernel_size=(1, 1), stride=(2, 2), bias=False)\n",
            "        (1): BatchNorm2d(1.02 K = 0.0089% Params, 0 MACs = 0% MACs, 4.19 MFLOPS = 0.0014% FLOPs, 512, eps=1e-05, momentum=0.1, affine=True, track_running_stats=True)\n",
            "      )\n",
            "    )\n",
            "    (1): BasicBlock(\n",
            "      4.72 M = 41.1879% Params, 19.33 GMACs = 12.7475% MACs, 38.67 GFLOPS = 12.7232% FLOPs\n",
            "      (conv1): Conv2d(2.36 M = 20.585% Params, 9.66 GMACs = 6.3737% MACs, 19.33 GFLOPS = 6.3595% FLOPs, 512, 512, kernel_size=(3, 3), stride=(1, 1), padding=(1, 1), bias=False)\n",
            "      (bn1): BatchNorm2d(1.02 K = 0.0089% Params, 0 MACs = 0% MACs, 4.19 MFLOPS = 0.0014% FLOPs, 512, eps=1e-05, momentum=0.1, affine=True, track_running_stats=True)\n",
            "      (relu): ReLU(0 = 0% Params, 0 MACs = 0% MACs, 4.19 MFLOPS = 0.0014% FLOPs, inplace=True)\n",
            "      (conv2): Conv2d(2.36 M = 20.585% Params, 9.66 GMACs = 6.3737% MACs, 19.33 GFLOPS = 6.3595% FLOPs, 512, 512, kernel_size=(3, 3), stride=(1, 1), padding=(1, 1), bias=False)\n",
            "      (bn2): BatchNorm2d(1.02 K = 0.0089% Params, 0 MACs = 0% MACs, 4.19 MFLOPS = 0.0014% FLOPs, 512, eps=1e-05, momentum=0.1, affine=True, track_running_stats=True)\n",
            "    )\n",
            "  )\n",
            "  (avgpool): AdaptiveAvgPool2d(0 = 0% Params, 0 MACs = 0% MACs, 2.1 MFLOPS = 0.0007% FLOPs, output_size=(1, 1))\n",
            "  (fc): Sequential(\n",
            "    284.71 K = 2.4842% Params, 18.19 MMACs = 0.012% MACs, 36.41 MFLOPS = 0.012% FLOPs\n",
            "    (0): Linear(262.66 K = 2.2917% Params, 16.78 MMACs = 0.0111% MACs, 33.55 MFLOPS = 0.011% FLOPs, in_features=512, out_features=512, bias=True)\n",
            "    (1): ReLU(0 = 0% Params, 0 MACs = 0% MACs, 32.77 KFLOPS = 0% FLOPs)\n",
            "    (2): Linear(22.06 K = 0.1925% Params, 1.41 MMACs = 0.0009% MACs, 2.82 MFLOPS = 0.0009% FLOPs, in_features=512, out_features=43, bias=True)\n",
            "  )\n",
            ")\n",
            "---------------------------------------------------------------------------------------------------\n"
          ]
        },
        {
          "output_type": "stream",
          "name": "stderr",
          "text": [
            "Epoch 1/24: 100%|██████████| 42/42 [00:14<00:00,  2.95it/s]\n",
            "Epoch 1/24: 100%|██████████| 5/5 [00:01<00:00,  3.32it/s]\n"
          ]
        },
        {
          "output_type": "stream",
          "name": "stdout",
          "text": [
            "Epoch 1/24\n",
            "Train Loss: 1.6664 Train Accuracy: 0.5879\n",
            "Val Loss: 1.6236 Val Accuracy: 0.5777\n"
          ]
        },
        {
          "output_type": "stream",
          "name": "stderr",
          "text": [
            "Epoch 2/24: 100%|██████████| 42/42 [00:13<00:00,  3.01it/s]\n",
            "Epoch 2/24: 100%|██████████| 5/5 [00:01<00:00,  3.60it/s]\n"
          ]
        },
        {
          "output_type": "stream",
          "name": "stdout",
          "text": [
            "Epoch 2/24\n",
            "Train Loss: 1.1555 Train Accuracy: 0.7277\n",
            "Val Loss: 1.1255 Val Accuracy: 0.6453\n"
          ]
        },
        {
          "output_type": "stream",
          "name": "stderr",
          "text": [
            "Epoch 3/24: 100%|██████████| 42/42 [00:13<00:00,  3.05it/s]\n",
            "Epoch 3/24: 100%|██████████| 5/5 [00:01<00:00,  3.66it/s]\n"
          ]
        },
        {
          "output_type": "stream",
          "name": "stdout",
          "text": [
            "Epoch 3/24\n",
            "Train Loss: 0.6232 Train Accuracy: 0.8470\n",
            "Val Loss: 0.7098 Val Accuracy: 0.7703\n"
          ]
        },
        {
          "output_type": "stream",
          "name": "stderr",
          "text": [
            "Epoch 4/24: 100%|██████████| 42/42 [00:13<00:00,  3.03it/s]\n",
            "Epoch 4/24: 100%|██████████| 5/5 [00:01<00:00,  3.63it/s]\n"
          ]
        },
        {
          "output_type": "stream",
          "name": "stdout",
          "text": [
            "Epoch 4/24\n",
            "Train Loss: 0.3170 Train Accuracy: 0.9246\n",
            "Val Loss: 0.5700 Val Accuracy: 0.8108\n"
          ]
        },
        {
          "output_type": "stream",
          "name": "stderr",
          "text": [
            "Epoch 5/24: 100%|██████████| 42/42 [00:13<00:00,  3.01it/s]\n",
            "Epoch 5/24: 100%|██████████| 5/5 [00:01<00:00,  3.59it/s]\n"
          ]
        },
        {
          "output_type": "stream",
          "name": "stdout",
          "text": [
            "Epoch 5/24\n",
            "Train Loss: 0.2466 Train Accuracy: 0.9337\n",
            "Val Loss: 0.4211 Val Accuracy: 0.8547\n"
          ]
        },
        {
          "output_type": "stream",
          "name": "stderr",
          "text": [
            "Epoch 6/24: 100%|██████████| 42/42 [00:13<00:00,  3.01it/s]\n",
            "Epoch 6/24: 100%|██████████| 5/5 [00:01<00:00,  3.57it/s]\n"
          ]
        },
        {
          "output_type": "stream",
          "name": "stdout",
          "text": [
            "Epoch 6/24\n",
            "Train Loss: 0.2179 Train Accuracy: 0.9428\n",
            "Val Loss: 0.5561 Val Accuracy: 0.7939\n"
          ]
        },
        {
          "output_type": "stream",
          "name": "stderr",
          "text": [
            "Epoch 7/24: 100%|██████████| 42/42 [00:14<00:00,  2.96it/s]\n",
            "Epoch 7/24: 100%|██████████| 5/5 [00:01<00:00,  3.15it/s]\n"
          ]
        },
        {
          "output_type": "stream",
          "name": "stdout",
          "text": [
            "Epoch 7/24\n",
            "Train Loss: 0.1860 Train Accuracy: 0.9473\n",
            "Val Loss: 0.5662 Val Accuracy: 0.8209\n"
          ]
        },
        {
          "output_type": "stream",
          "name": "stderr",
          "text": [
            "Epoch 8/24: 100%|██████████| 42/42 [00:14<00:00,  2.98it/s]\n",
            "Epoch 8/24: 100%|██████████| 5/5 [00:02<00:00,  2.35it/s]\n"
          ]
        },
        {
          "output_type": "stream",
          "name": "stdout",
          "text": [
            "Epoch 8/24\n",
            "Train Loss: 0.1840 Train Accuracy: 0.9447\n",
            "Val Loss: 0.7147 Val Accuracy: 0.8108\n"
          ]
        },
        {
          "output_type": "stream",
          "name": "stderr",
          "text": [
            "Epoch 9/24: 100%|██████████| 42/42 [00:13<00:00,  3.13it/s]\n",
            "Epoch 9/24: 100%|██████████| 5/5 [00:01<00:00,  3.61it/s]\n"
          ]
        },
        {
          "output_type": "stream",
          "name": "stdout",
          "text": [
            "Epoch 9/24\n",
            "Train Loss: 0.1222 Train Accuracy: 0.9644\n",
            "Val Loss: 0.6128 Val Accuracy: 0.8176\n"
          ]
        },
        {
          "output_type": "stream",
          "name": "stderr",
          "text": [
            "Epoch 10/24: 100%|██████████| 42/42 [00:13<00:00,  3.06it/s]\n",
            "Epoch 10/24: 100%|██████████| 5/5 [00:01<00:00,  3.58it/s]\n"
          ]
        },
        {
          "output_type": "stream",
          "name": "stdout",
          "text": [
            "Epoch 10/24\n",
            "Train Loss: 0.1120 Train Accuracy: 0.9663\n",
            "Val Loss: 0.5015 Val Accuracy: 0.8378\n"
          ]
        },
        {
          "output_type": "stream",
          "name": "stderr",
          "text": [
            "Epoch 11/24: 100%|██████████| 42/42 [00:13<00:00,  3.06it/s]\n",
            "Epoch 11/24: 100%|██████████| 5/5 [00:01<00:00,  3.62it/s]\n"
          ]
        },
        {
          "output_type": "stream",
          "name": "stdout",
          "text": [
            "Epoch 11/24\n",
            "Train Loss: 0.0902 Train Accuracy: 0.9739\n",
            "Val Loss: 0.3849 Val Accuracy: 0.8784\n"
          ]
        },
        {
          "output_type": "stream",
          "name": "stderr",
          "text": [
            "Epoch 12/24: 100%|██████████| 42/42 [00:13<00:00,  3.04it/s]\n",
            "Epoch 12/24: 100%|██████████| 5/5 [00:01<00:00,  3.62it/s]\n"
          ]
        },
        {
          "output_type": "stream",
          "name": "stdout",
          "text": [
            "Epoch 12/24\n",
            "Train Loss: 0.1073 Train Accuracy: 0.9663\n",
            "Val Loss: 0.4205 Val Accuracy: 0.8750\n"
          ]
        },
        {
          "output_type": "stream",
          "name": "stderr",
          "text": [
            "Epoch 13/24: 100%|██████████| 42/42 [00:13<00:00,  3.03it/s]\n",
            "Epoch 13/24: 100%|██████████| 5/5 [00:01<00:00,  3.59it/s]\n"
          ]
        },
        {
          "output_type": "stream",
          "name": "stdout",
          "text": [
            "Epoch 13/24\n",
            "Train Loss: 0.0939 Train Accuracy: 0.9739\n",
            "Val Loss: 0.3293 Val Accuracy: 0.8885\n"
          ]
        },
        {
          "output_type": "stream",
          "name": "stderr",
          "text": [
            "Epoch 14/24: 100%|██████████| 42/42 [00:13<00:00,  3.03it/s]\n",
            "Epoch 14/24: 100%|██████████| 5/5 [00:01<00:00,  3.67it/s]\n"
          ]
        },
        {
          "output_type": "stream",
          "name": "stdout",
          "text": [
            "Epoch 14/24\n",
            "Train Loss: 0.0715 Train Accuracy: 0.9750\n",
            "Val Loss: 0.5386 Val Accuracy: 0.8615\n"
          ]
        },
        {
          "output_type": "stream",
          "name": "stderr",
          "text": [
            "Epoch 15/24: 100%|██████████| 42/42 [00:14<00:00,  2.97it/s]\n",
            "Epoch 15/24: 100%|██████████| 5/5 [00:01<00:00,  3.40it/s]\n"
          ]
        },
        {
          "output_type": "stream",
          "name": "stdout",
          "text": [
            "Epoch 15/24\n",
            "Train Loss: 0.0725 Train Accuracy: 0.9811\n",
            "Val Loss: 0.3913 Val Accuracy: 0.9020\n"
          ]
        },
        {
          "output_type": "stream",
          "name": "stderr",
          "text": [
            "Epoch 16/24: 100%|██████████| 42/42 [00:14<00:00,  2.98it/s]\n",
            "Epoch 16/24: 100%|██████████| 5/5 [00:02<00:00,  2.34it/s]\n"
          ]
        },
        {
          "output_type": "stream",
          "name": "stdout",
          "text": [
            "Epoch 16/24\n",
            "Train Loss: 0.0744 Train Accuracy: 0.9799\n",
            "Val Loss: 0.4339 Val Accuracy: 0.8716\n"
          ]
        },
        {
          "output_type": "stream",
          "name": "stderr",
          "text": [
            "Epoch 17/24: 100%|██████████| 42/42 [00:13<00:00,  3.05it/s]\n",
            "Epoch 17/24: 100%|██████████| 5/5 [00:01<00:00,  3.68it/s]\n"
          ]
        },
        {
          "output_type": "stream",
          "name": "stdout",
          "text": [
            "Epoch 17/24\n",
            "Train Loss: 0.0686 Train Accuracy: 0.9814\n",
            "Val Loss: 0.3367 Val Accuracy: 0.8885\n"
          ]
        },
        {
          "output_type": "stream",
          "name": "stderr",
          "text": [
            "Epoch 18/24: 100%|██████████| 42/42 [00:13<00:00,  3.03it/s]\n",
            "Epoch 18/24: 100%|██████████| 5/5 [00:01<00:00,  3.59it/s]\n"
          ]
        },
        {
          "output_type": "stream",
          "name": "stdout",
          "text": [
            "Epoch 18/24\n",
            "Train Loss: 0.0508 Train Accuracy: 0.9856\n",
            "Val Loss: 0.2943 Val Accuracy: 0.9155\n"
          ]
        },
        {
          "output_type": "stream",
          "name": "stderr",
          "text": [
            "Epoch 19/24: 100%|██████████| 42/42 [00:13<00:00,  3.05it/s]\n",
            "Epoch 19/24: 100%|██████████| 5/5 [00:01<00:00,  3.55it/s]\n"
          ]
        },
        {
          "output_type": "stream",
          "name": "stdout",
          "text": [
            "Epoch 19/24\n",
            "Train Loss: 0.0530 Train Accuracy: 0.9852\n",
            "Val Loss: 0.2897 Val Accuracy: 0.9020\n"
          ]
        },
        {
          "output_type": "stream",
          "name": "stderr",
          "text": [
            "Epoch 20/24: 100%|██████████| 42/42 [00:13<00:00,  3.06it/s]\n",
            "Epoch 20/24: 100%|██████████| 5/5 [00:01<00:00,  3.62it/s]\n"
          ]
        },
        {
          "output_type": "stream",
          "name": "stdout",
          "text": [
            "Epoch 20/24\n",
            "Train Loss: 0.0505 Train Accuracy: 0.9864\n",
            "Val Loss: 0.2641 Val Accuracy: 0.8986\n"
          ]
        },
        {
          "output_type": "stream",
          "name": "stderr",
          "text": [
            "Epoch 21/24: 100%|██████████| 42/42 [00:13<00:00,  3.05it/s]\n",
            "Epoch 21/24: 100%|██████████| 5/5 [00:01<00:00,  3.61it/s]\n"
          ]
        },
        {
          "output_type": "stream",
          "name": "stdout",
          "text": [
            "Epoch 21/24\n",
            "Train Loss: 0.0339 Train Accuracy: 0.9917\n",
            "Val Loss: 0.2919 Val Accuracy: 0.8953\n"
          ]
        },
        {
          "output_type": "stream",
          "name": "stderr",
          "text": [
            "Epoch 22/24: 100%|██████████| 42/42 [00:13<00:00,  3.03it/s]\n",
            "Epoch 22/24: 100%|██████████| 5/5 [00:01<00:00,  3.70it/s]\n"
          ]
        },
        {
          "output_type": "stream",
          "name": "stdout",
          "text": [
            "Epoch 22/24\n",
            "Train Loss: 0.0286 Train Accuracy: 0.9924\n",
            "Val Loss: 0.2808 Val Accuracy: 0.8953\n"
          ]
        },
        {
          "output_type": "stream",
          "name": "stderr",
          "text": [
            "Epoch 23/24: 100%|██████████| 42/42 [00:13<00:00,  3.02it/s]\n",
            "Epoch 23/24: 100%|██████████| 5/5 [00:01<00:00,  3.45it/s]\n"
          ]
        },
        {
          "output_type": "stream",
          "name": "stdout",
          "text": [
            "Epoch 23/24\n",
            "Train Loss: 0.0378 Train Accuracy: 0.9890\n",
            "Val Loss: 0.2771 Val Accuracy: 0.8953\n"
          ]
        },
        {
          "output_type": "stream",
          "name": "stderr",
          "text": [
            "Epoch 24/24: 100%|██████████| 42/42 [00:14<00:00,  2.94it/s]\n",
            "Epoch 24/24: 100%|██████████| 5/5 [00:02<00:00,  2.37it/s]"
          ]
        },
        {
          "output_type": "stream",
          "name": "stdout",
          "text": [
            "Epoch 24/24\n",
            "Train Loss: 0.0365 Train Accuracy: 0.9894\n",
            "Val Loss: 0.2776 Val Accuracy: 0.9020\n"
          ]
        },
        {
          "output_type": "stream",
          "name": "stderr",
          "text": [
            "\n"
          ]
        }
      ]
    },
    {
      "cell_type": "code",
      "source": [
        "plot_model_histories(resnets_histories, resnets_res['model_name'], resnets_res['best_val_acc'])"
      ],
      "metadata": {
        "colab": {
          "base_uri": "https://localhost:8080/",
          "height": 728
        },
        "id": "g4a9c6Hz9BSk",
        "outputId": "2f5e751a-c886-48e3-8eec-10d28107868a"
      },
      "execution_count": 111,
      "outputs": [
        {
          "output_type": "stream",
          "name": "stderr",
          "text": [
            "<ipython-input-46-3d48084d9135>:5: MatplotlibDeprecationWarning: The get_cmap function was deprecated in Matplotlib 3.7 and will be removed two minor releases later. Use ``matplotlib.colormaps[name]`` or ``matplotlib.colormaps.get_cmap(obj)`` instead.\n",
            "  colors = plt.cm.get_cmap('tab10', len(histories))\n"
          ]
        },
        {
          "output_type": "display_data",
          "data": {
            "text/plain": [
              "<Figure size 2000x1500 with 2 Axes>"
            ],
            "image/png": "[encoded data removed]"
          },
          "metadata": {}
        }
      ]
    }
  ],
  "metadata": {
    "colab": {
      "gpuType": "T4",
      "provenance": []
    },
    "kernelspec": {
      "display_name": "Python 3",
      "name": "python3"
    },
    "language_info": {
      "codemirror_mode": {
        "name": "ipython",
        "version": 3
      },
      "file_extension": ".py",
      "mimetype": "text/x-python",
      "name": "python",
      "nbconvert_exporter": "python",
      "pygments_lexer": "ipython3",
      "version": "3.8.16"
    },
    "accelerator": "GPU"
  },
  "nbformat": 4,
  "nbformat_minor": 0
}